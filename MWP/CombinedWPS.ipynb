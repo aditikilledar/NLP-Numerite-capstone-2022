{
  "nbformat": 4,
  "nbformat_minor": 0,
  "metadata": {
    "colab": {
      "name": "CombinedWPS.ipynb",
      "provenance": [],
      "collapsed_sections": [
        "rTP_5Ch18Otd",
        "uGZeBg8WSbNg",
        "9MNrALoYNDvq"
      ]
    },
    "kernelspec": {
      "name": "python3",
      "display_name": "Python 3"
    },
    "language_info": {
      "name": "python"
    }
  },
  "cells": [
    {
      "cell_type": "markdown",
      "source": [
        "# Import Dataset & Libraries\n",
        "(single operator sentences)"
      ],
      "metadata": {
        "id": "V2l-U36y6ltP"
      }
    },
    {
      "cell_type": "code",
      "source": [
        "import spacy\n",
        "import nltk\n",
        "nltk.download('all')\n",
        "nltk.download('averaged_perceptron_tagger')\n",
        "nltk.download('punkt')"
      ],
      "metadata": {
        "id": "lMKyrW4FYS0f"
      },
      "execution_count": null,
      "outputs": []
    },
    {
      "cell_type": "code",
      "source": [
        "!pip install -U spacy==2.1.0\n",
        "\n",
        "!python -m spacy download en\n",
        "\n",
        "!pip install Cython --install-option=\"–no-cython-compile\"\n",
        "\n",
        "!pip install neuralcoref"
      ],
      "metadata": {
        "colab": {
          "base_uri": "https://localhost:8080/"
        },
        "id": "JdNa74jpV8Wu",
        "outputId": "0aba01f3-d8d7-42ff-9ae0-39c5135b5233"
      },
      "execution_count": 1,
      "outputs": [
        {
          "output_type": "stream",
          "name": "stdout",
          "text": [
            "Requirement already satisfied: spacy==2.1.0 in /usr/local/lib/python3.7/dist-packages (2.1.0)\n",
            "Requirement already satisfied: requests<3.0.0,>=2.13.0 in /usr/local/lib/python3.7/dist-packages (from spacy==2.1.0) (2.23.0)\n",
            "Requirement already satisfied: wasabi<1.1.0,>=0.0.12 in /usr/local/lib/python3.7/dist-packages (from spacy==2.1.0) (0.9.0)\n",
            "Requirement already satisfied: srsly<1.1.0,>=0.0.5 in /usr/local/lib/python3.7/dist-packages (from spacy==2.1.0) (1.0.5)\n",
            "Requirement already satisfied: numpy>=1.15.0 in /usr/local/lib/python3.7/dist-packages (from spacy==2.1.0) (1.21.5)\n",
            "Requirement already satisfied: jsonschema<3.0.0,>=2.6.0 in /usr/local/lib/python3.7/dist-packages (from spacy==2.1.0) (2.6.0)\n",
            "Requirement already satisfied: cymem<2.1.0,>=2.0.2 in /usr/local/lib/python3.7/dist-packages (from spacy==2.1.0) (2.0.6)\n",
            "Requirement already satisfied: blis<0.3.0,>=0.2.2 in /usr/local/lib/python3.7/dist-packages (from spacy==2.1.0) (0.2.4)\n",
            "Requirement already satisfied: murmurhash<1.1.0,>=0.28.0 in /usr/local/lib/python3.7/dist-packages (from spacy==2.1.0) (1.0.6)\n",
            "Requirement already satisfied: preshed<2.1.0,>=2.0.1 in /usr/local/lib/python3.7/dist-packages (from spacy==2.1.0) (2.0.1)\n",
            "Requirement already satisfied: plac<1.0.0,>=0.9.6 in /usr/local/lib/python3.7/dist-packages (from spacy==2.1.0) (0.9.6)\n",
            "Requirement already satisfied: thinc<7.1.0,>=7.0.2 in /usr/local/lib/python3.7/dist-packages (from spacy==2.1.0) (7.0.8)\n",
            "Requirement already satisfied: urllib3!=1.25.0,!=1.25.1,<1.26,>=1.21.1 in /usr/local/lib/python3.7/dist-packages (from requests<3.0.0,>=2.13.0->spacy==2.1.0) (1.25.11)\n",
            "Requirement already satisfied: certifi>=2017.4.17 in /usr/local/lib/python3.7/dist-packages (from requests<3.0.0,>=2.13.0->spacy==2.1.0) (2021.10.8)\n",
            "Requirement already satisfied: idna<3,>=2.5 in /usr/local/lib/python3.7/dist-packages (from requests<3.0.0,>=2.13.0->spacy==2.1.0) (2.10)\n",
            "Requirement already satisfied: chardet<4,>=3.0.2 in /usr/local/lib/python3.7/dist-packages (from requests<3.0.0,>=2.13.0->spacy==2.1.0) (3.0.4)\n",
            "Requirement already satisfied: tqdm<5.0.0,>=4.10.0 in /usr/local/lib/python3.7/dist-packages (from thinc<7.1.0,>=7.0.2->spacy==2.1.0) (4.63.0)\n",
            "Collecting en_core_web_sm==2.1.0\n",
            "  Downloading https://github.com/explosion/spacy-models/releases/download/en_core_web_sm-2.1.0/en_core_web_sm-2.1.0.tar.gz (11.1 MB)\n",
            "\u001b[K     |████████████████████████████████| 11.1 MB 5.1 MB/s \n",
            "\u001b[?25h\u001b[38;5;2m✔ Download and installation successful\u001b[0m\n",
            "You can now load the model via spacy.load('en_core_web_sm')\n",
            "\u001b[38;5;2m✔ Linking successful\u001b[0m\n",
            "/usr/local/lib/python3.7/dist-packages/en_core_web_sm -->\n",
            "/usr/local/lib/python3.7/dist-packages/spacy/data/en\n",
            "You can now load the model via spacy.load('en')\n",
            "/usr/local/lib/python3.7/dist-packages/pip/_internal/commands/install.py:232: UserWarning: Disabling all use of wheels due to the use of --build-option / --global-option / --install-option.\n",
            "  cmdoptions.check_install_build_global(options)\n",
            "Requirement already satisfied: Cython in /usr/local/lib/python3.7/dist-packages (0.29.28)\n",
            "Requirement already satisfied: neuralcoref in /usr/local/lib/python3.7/dist-packages (4.0)\n",
            "Requirement already satisfied: spacy>=2.1.0 in /usr/local/lib/python3.7/dist-packages (from neuralcoref) (2.1.0)\n",
            "Requirement already satisfied: boto3 in /usr/local/lib/python3.7/dist-packages (from neuralcoref) (1.21.13)\n",
            "Requirement already satisfied: requests<3.0.0,>=2.13.0 in /usr/local/lib/python3.7/dist-packages (from neuralcoref) (2.23.0)\n",
            "Requirement already satisfied: numpy>=1.15.0 in /usr/local/lib/python3.7/dist-packages (from neuralcoref) (1.21.5)\n",
            "Requirement already satisfied: chardet<4,>=3.0.2 in /usr/local/lib/python3.7/dist-packages (from requests<3.0.0,>=2.13.0->neuralcoref) (3.0.4)\n",
            "Requirement already satisfied: certifi>=2017.4.17 in /usr/local/lib/python3.7/dist-packages (from requests<3.0.0,>=2.13.0->neuralcoref) (2021.10.8)\n",
            "Requirement already satisfied: idna<3,>=2.5 in /usr/local/lib/python3.7/dist-packages (from requests<3.0.0,>=2.13.0->neuralcoref) (2.10)\n",
            "Requirement already satisfied: urllib3!=1.25.0,!=1.25.1,<1.26,>=1.21.1 in /usr/local/lib/python3.7/dist-packages (from requests<3.0.0,>=2.13.0->neuralcoref) (1.25.11)\n",
            "Requirement already satisfied: murmurhash<1.1.0,>=0.28.0 in /usr/local/lib/python3.7/dist-packages (from spacy>=2.1.0->neuralcoref) (1.0.6)\n",
            "Requirement already satisfied: thinc<7.1.0,>=7.0.2 in /usr/local/lib/python3.7/dist-packages (from spacy>=2.1.0->neuralcoref) (7.0.8)\n",
            "Requirement already satisfied: plac<1.0.0,>=0.9.6 in /usr/local/lib/python3.7/dist-packages (from spacy>=2.1.0->neuralcoref) (0.9.6)\n",
            "Requirement already satisfied: preshed<2.1.0,>=2.0.1 in /usr/local/lib/python3.7/dist-packages (from spacy>=2.1.0->neuralcoref) (2.0.1)\n",
            "Requirement already satisfied: jsonschema<3.0.0,>=2.6.0 in /usr/local/lib/python3.7/dist-packages (from spacy>=2.1.0->neuralcoref) (2.6.0)\n",
            "Requirement already satisfied: cymem<2.1.0,>=2.0.2 in /usr/local/lib/python3.7/dist-packages (from spacy>=2.1.0->neuralcoref) (2.0.6)\n",
            "Requirement already satisfied: wasabi<1.1.0,>=0.0.12 in /usr/local/lib/python3.7/dist-packages (from spacy>=2.1.0->neuralcoref) (0.9.0)\n",
            "Requirement already satisfied: srsly<1.1.0,>=0.0.5 in /usr/local/lib/python3.7/dist-packages (from spacy>=2.1.0->neuralcoref) (1.0.5)\n",
            "Requirement already satisfied: blis<0.3.0,>=0.2.2 in /usr/local/lib/python3.7/dist-packages (from spacy>=2.1.0->neuralcoref) (0.2.4)\n",
            "Requirement already satisfied: tqdm<5.0.0,>=4.10.0 in /usr/local/lib/python3.7/dist-packages (from thinc<7.1.0,>=7.0.2->spacy>=2.1.0->neuralcoref) (4.63.0)\n",
            "Requirement already satisfied: s3transfer<0.6.0,>=0.5.0 in /usr/local/lib/python3.7/dist-packages (from boto3->neuralcoref) (0.5.2)\n",
            "Requirement already satisfied: jmespath<1.0.0,>=0.7.1 in /usr/local/lib/python3.7/dist-packages (from boto3->neuralcoref) (0.10.0)\n",
            "Requirement already satisfied: botocore<1.25.0,>=1.24.13 in /usr/local/lib/python3.7/dist-packages (from boto3->neuralcoref) (1.24.13)\n",
            "Requirement already satisfied: python-dateutil<3.0.0,>=2.1 in /usr/local/lib/python3.7/dist-packages (from botocore<1.25.0,>=1.24.13->boto3->neuralcoref) (2.8.2)\n",
            "Requirement already satisfied: six>=1.5 in /usr/local/lib/python3.7/dist-packages (from python-dateutil<3.0.0,>=2.1->botocore<1.25.0,>=1.24.13->boto3->neuralcoref) (1.15.0)\n"
          ]
        }
      ]
    },
    {
      "cell_type": "code",
      "source": [
        "# for POS Tagging\n",
        "from nltk.tag import DefaultTagger\n"
      ],
      "metadata": {
        "id": "zw_iy57tie55"
      },
      "execution_count": null,
      "outputs": []
    },
    {
      "cell_type": "code",
      "execution_count": 2,
      "metadata": {
        "id": "4IQV5FnF3igB"
      },
      "outputs": [],
      "source": [
        "# entity recognition of sentences\n",
        "# need to be able to identify entities like People or Organisations or Objects\n",
        "# need to figure out relationships bw entities\n",
        "\n",
        "import spacy\n",
        "from spacy import displacy\n",
        "NER = spacy.load(\"en_core_web_sm\")\n",
        "\n",
        "import pandas as pd\n",
        "import numpy as np\n"
      ]
    },
    {
      "cell_type": "code",
      "source": [
        "from google.colab import files\n",
        "uploaded = files.upload()"
      ],
      "metadata": {
        "colab": {
          "resources": {
            "http://localhost:8080/nbextensions/google.colab/files.js": {
              "data": "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",
              "ok": true,
              "headers": [
                [
                  "content-type",
                  "application/javascript"
                ]
              ],
              "status": 200,
              "status_text": ""
            }
          },
          "base_uri": "https://localhost:8080/",
          "height": 74
        },
        "id": "ew01-DNzNGKx",
        "outputId": "338eaaa6-4181-494c-fa64-1fa5129aaf72"
      },
      "execution_count": 3,
      "outputs": [
        {
          "output_type": "display_data",
          "data": {
            "text/html": [
              "\n",
              "     <input type=\"file\" id=\"files-8cf7b3bd-3764-4525-8db8-f7a75790b22a\" name=\"files[]\" multiple disabled\n",
              "        style=\"border:none\" />\n",
              "     <output id=\"result-8cf7b3bd-3764-4525-8db8-f7a75790b22a\">\n",
              "      Upload widget is only available when the cell has been executed in the\n",
              "      current browser session. Please rerun this cell to enable.\n",
              "      </output>\n",
              "      <script src=\"/nbextensions/google.colab/files.js\"></script> "
            ],
            "text/plain": [
              "<IPython.core.display.HTML object>"
            ]
          },
          "metadata": {}
        },
        {
          "output_type": "stream",
          "name": "stdout",
          "text": [
            "Saving singleop.json to singleop (1).json\n"
          ]
        }
      ]
    },
    {
      "cell_type": "code",
      "source": [
        "dset = pd.read_json('/content/singleop.json')\n",
        "print(dset.columns)\n",
        "\n",
        "# make dataframe with just questions\n",
        "dquest = dset['sQuestion'].head(15)\n",
        "# print(dquest)\n",
        "dquest = dquest.to_frame()\n",
        "dquest.rename(columns={'sQuestion': 'questions'}, inplace=True)\n",
        "\n",
        "print(dquest)\n",
        "df = dquest"
      ],
      "metadata": {
        "colab": {
          "base_uri": "https://localhost:8080/"
        },
        "id": "mOvjSR_uNR8v",
        "outputId": "2076b932-9592-4e73-a6fc-ee578c9a6ee5"
      },
      "execution_count": 4,
      "outputs": [
        {
          "output_type": "stream",
          "name": "stdout",
          "text": [
            "Index(['iIndex', 'lAlignments', 'lEquations', 'lSolutions', 'sQuestion'], dtype='object')\n",
            "                                            questions\n",
            "0   If there are 7 bottle caps in a box and Linda ...\n",
            "1   Jose starts with 7 bottle caps. He gets 2 more...\n",
            "2   Bridget has 4 Skittles. Henry has 4 Skittles. ...\n",
            "3   Brenda starts with 7 Skittles. She buys 8 more...\n",
            "4   There are 4 cards. 3 cards more are added. How...\n",
            "5   There are 4 marbles. 7 marbles more are added....\n",
            "6   There are 8 oranges. 8 oranges more are added....\n",
            "7   Carol collects 2 peanuts. Carol's father gives...\n",
            "8   There are 9 cards. 4 cards more are added. How...\n",
            "9   If there are 7 bottle caps in a box and Linda ...\n",
            "10  Bobby collects 2 blocks. Bobby's father gives ...\n",
            "11  Peter starts with 8 erasers. Bridget gives Pet...\n",
            "12  If there are 7 crayons in a box and Gerald put...\n",
            "13  Michelle has 2 crayons. Janet has 2 crayons. I...\n",
            "14  Anna collects 6 blocks. Anna's father gives An...\n"
          ]
        }
      ]
    },
    {
      "cell_type": "markdown",
      "source": [
        "# NER (Named Entity Recognition)"
      ],
      "metadata": {
        "id": "rTP_5Ch18Otd"
      }
    },
    {
      "cell_type": "code",
      "source": [
        "pd.set_option('display.max_columns', None)"
      ],
      "metadata": {
        "id": "eHu1oAGnRGp5"
      },
      "execution_count": 6,
      "outputs": []
    },
    {
      "cell_type": "markdown",
      "source": [
        "Try with Dataset (single Operation)"
      ],
      "metadata": {
        "id": "xGhKG-VsNDCp"
      }
    },
    {
      "cell_type": "code",
      "source": [
        "# raw_text = \"There are 67 bird families living near the mountain. If 32 bird families flew away for winter, how many bird families were left near the mountain?\"\n",
        "raw_text = \"If there are 7 bottle caps in a box and Linda puts 7 more bottle caps inside, how many bottle caps are in the box?\"\n",
        "text1 = NER(raw_text)\n",
        "for word in text1.ents:\n",
        "    print(word.text,word.label_)\n"
      ],
      "metadata": {
        "colab": {
          "base_uri": "https://localhost:8080/"
        },
        "id": "Tu8kLWgP_0Aw",
        "outputId": "36ac9903-91f6-4f75-9f30-649292e19cee"
      },
      "execution_count": 8,
      "outputs": [
        {
          "output_type": "stream",
          "name": "stdout",
          "text": [
            "7 CARDINAL\n",
            "Linda PERSON\n",
            "7 CARDINAL\n"
          ]
        }
      ]
    },
    {
      "cell_type": "code",
      "source": [
        "# challenge: identifies people correctly, but couldn;t identify with birds or \"the box\"\n",
        "\n",
        "raw_text = \"Ram had 3 balloons. Aditi gave him 2 more. How many does he have now?\"\n",
        "text1 = NER(raw_text)\n",
        "for word in text1.ents:\n",
        "    print(word.text,word.label_)\n"
      ],
      "metadata": {
        "colab": {
          "base_uri": "https://localhost:8080/"
        },
        "id": "IANSK49-BvxG",
        "outputId": "485fccec-f326-47c0-8ecc-5f774cb3c0c8"
      },
      "execution_count": 10,
      "outputs": [
        {
          "output_type": "stream",
          "name": "stdout",
          "text": [
            "3 CARDINAL\n",
            "2 CARDINAL\n"
          ]
        }
      ]
    },
    {
      "cell_type": "code",
      "source": [
        "# neuralcoref.add_to_pipe(nlp,greedyness=0.52)\n",
        "# doc = nlp(\"Tell Sam that he will have to leave without Arthur, as he is sick.\")\n",
        "# print(doc._.coref_resolved)"
      ],
      "metadata": {
        "id": "ff2UxmYIIth9"
      },
      "execution_count": 11,
      "outputs": []
    },
    {
      "cell_type": "code",
      "source": [
        "# function to do NER for a raw_text\n",
        "def ner(raw_text):  \n",
        "  text1 = NER(raw_text)\n",
        "  l = []\n",
        "  for word in text1.ents:\n",
        "      l.append([word.text,word.label_])\n",
        "  return l"
      ],
      "metadata": {
        "id": "8WkQ5i0YN87S"
      },
      "execution_count": 12,
      "outputs": []
    },
    {
      "cell_type": "code",
      "source": [
        "dquest['NER_TAG'] = dquest['questions'].apply(lambda q: ner(q))"
      ],
      "metadata": {
        "id": "4QvxkYUXOrC8"
      },
      "execution_count": 13,
      "outputs": []
    },
    {
      "cell_type": "code",
      "source": [
        "print(dquest)"
      ],
      "metadata": {
        "colab": {
          "base_uri": "https://localhost:8080/"
        },
        "id": "uhuxsKH9QxLA",
        "outputId": "0e6de8a7-9e5c-4f3d-afa9-e0ed36811152"
      },
      "execution_count": 14,
      "outputs": [
        {
          "output_type": "stream",
          "name": "stdout",
          "text": [
            "                                            questions  \\\n",
            "0   If there are 7 bottle caps in a box and Linda ...   \n",
            "1   Jose starts with 7 bottle caps. He gets 2 more...   \n",
            "2   Bridget has 4 Skittles. Henry has 4 Skittles. ...   \n",
            "3   Brenda starts with 7 Skittles. She buys 8 more...   \n",
            "4   There are 4 cards. 3 cards more are added. How...   \n",
            "5   There are 4 marbles. 7 marbles more are added....   \n",
            "6   There are 8 oranges. 8 oranges more are added....   \n",
            "7   Carol collects 2 peanuts. Carol's father gives...   \n",
            "8   There are 9 cards. 4 cards more are added. How...   \n",
            "9   If there are 7 bottle caps in a box and Linda ...   \n",
            "10  Bobby collects 2 blocks. Bobby's father gives ...   \n",
            "11  Peter starts with 8 erasers. Bridget gives Pet...   \n",
            "12  If there are 7 crayons in a box and Gerald put...   \n",
            "13  Michelle has 2 crayons. Janet has 2 crayons. I...   \n",
            "14  Anna collects 6 blocks. Anna's father gives An...   \n",
            "\n",
            "                                              NER_TAG  \n",
            "0     [[7, CARDINAL], [Linda, PERSON], [7, CARDINAL]]  \n",
            "1   [[Jose, PERSON], [7, CARDINAL], [2, CARDINAL],...  \n",
            "2   [[Bridget, ORG], [4, CARDINAL], [Henry, PERSON...  \n",
            "3   [[Brenda, PERSON], [7, CARDINAL], [8, CARDINAL...  \n",
            "4                      [[4, CARDINAL], [3, CARDINAL]]  \n",
            "5         [[4 marbles, MONEY], [7 marbles, QUANTITY]]  \n",
            "6                      [[8, CARDINAL], [8, CARDINAL]]  \n",
            "7   [[2, CARDINAL], [Carol, PERSON], [Carol 5, PRO...  \n",
            "8                      [[9, CARDINAL], [4, CARDINAL]]  \n",
            "9     [[7, CARDINAL], [Linda, PERSON], [7, CARDINAL]]  \n",
            "10  [[Bobby, PERSON], [2, CARDINAL], [Bobby, PERSO...  \n",
            "11  [[Peter, PERSON], [8, CARDINAL], [Bridget, ORG...  \n",
            "12   [[7, CARDINAL], [Gerald, PERSON], [6, CARDINAL]]  \n",
            "13  [[Michelle, ORG], [2, CARDINAL], [Janet, ORG],...  \n",
            "14  [[6, CARDINAL], [Anna, ORG], [Anna 8, PERSON],...  \n"
          ]
        }
      ]
    },
    {
      "cell_type": "code",
      "source": [
        "dquest"
      ],
      "metadata": {
        "colab": {
          "base_uri": "https://localhost:8080/",
          "height": 520
        },
        "id": "u7KDYSwKQypC",
        "outputId": "c690316c-f8ea-4b63-e4ca-93346d6a6cb1"
      },
      "execution_count": 16,
      "outputs": [
        {
          "output_type": "execute_result",
          "data": {
            "text/html": [
              "\n",
              "  <div id=\"df-22e50474-a346-483a-aabb-222c2906106b\">\n",
              "    <div class=\"colab-df-container\">\n",
              "      <div>\n",
              "<style scoped>\n",
              "    .dataframe tbody tr th:only-of-type {\n",
              "        vertical-align: middle;\n",
              "    }\n",
              "\n",
              "    .dataframe tbody tr th {\n",
              "        vertical-align: top;\n",
              "    }\n",
              "\n",
              "    .dataframe thead th {\n",
              "        text-align: right;\n",
              "    }\n",
              "</style>\n",
              "<table border=\"1\" class=\"dataframe\">\n",
              "  <thead>\n",
              "    <tr style=\"text-align: right;\">\n",
              "      <th></th>\n",
              "      <th>questions</th>\n",
              "      <th>NER_TAG</th>\n",
              "    </tr>\n",
              "  </thead>\n",
              "  <tbody>\n",
              "    <tr>\n",
              "      <th>0</th>\n",
              "      <td>If there are 7 bottle caps in a box and Linda ...</td>\n",
              "      <td>[[7, CARDINAL], [Linda, PERSON], [7, CARDINAL]]</td>\n",
              "    </tr>\n",
              "    <tr>\n",
              "      <th>1</th>\n",
              "      <td>Jose starts with 7 bottle caps. He gets 2 more...</td>\n",
              "      <td>[[Jose, PERSON], [7, CARDINAL], [2, CARDINAL],...</td>\n",
              "    </tr>\n",
              "    <tr>\n",
              "      <th>2</th>\n",
              "      <td>Bridget has 4 Skittles. Henry has 4 Skittles. ...</td>\n",
              "      <td>[[Bridget, ORG], [4, CARDINAL], [Henry, PERSON...</td>\n",
              "    </tr>\n",
              "    <tr>\n",
              "      <th>3</th>\n",
              "      <td>Brenda starts with 7 Skittles. She buys 8 more...</td>\n",
              "      <td>[[Brenda, PERSON], [7, CARDINAL], [8, CARDINAL...</td>\n",
              "    </tr>\n",
              "    <tr>\n",
              "      <th>4</th>\n",
              "      <td>There are 4 cards. 3 cards more are added. How...</td>\n",
              "      <td>[[4, CARDINAL], [3, CARDINAL]]</td>\n",
              "    </tr>\n",
              "    <tr>\n",
              "      <th>5</th>\n",
              "      <td>There are 4 marbles. 7 marbles more are added....</td>\n",
              "      <td>[[4 marbles, MONEY], [7 marbles, QUANTITY]]</td>\n",
              "    </tr>\n",
              "    <tr>\n",
              "      <th>6</th>\n",
              "      <td>There are 8 oranges. 8 oranges more are added....</td>\n",
              "      <td>[[8, CARDINAL], [8, CARDINAL]]</td>\n",
              "    </tr>\n",
              "    <tr>\n",
              "      <th>7</th>\n",
              "      <td>Carol collects 2 peanuts. Carol's father gives...</td>\n",
              "      <td>[[2, CARDINAL], [Carol, PERSON], [Carol 5, PRO...</td>\n",
              "    </tr>\n",
              "    <tr>\n",
              "      <th>8</th>\n",
              "      <td>There are 9 cards. 4 cards more are added. How...</td>\n",
              "      <td>[[9, CARDINAL], [4, CARDINAL]]</td>\n",
              "    </tr>\n",
              "    <tr>\n",
              "      <th>9</th>\n",
              "      <td>If there are 7 bottle caps in a box and Linda ...</td>\n",
              "      <td>[[7, CARDINAL], [Linda, PERSON], [7, CARDINAL]]</td>\n",
              "    </tr>\n",
              "    <tr>\n",
              "      <th>10</th>\n",
              "      <td>Bobby collects 2 blocks. Bobby's father gives ...</td>\n",
              "      <td>[[Bobby, PERSON], [2, CARDINAL], [Bobby, PERSO...</td>\n",
              "    </tr>\n",
              "    <tr>\n",
              "      <th>11</th>\n",
              "      <td>Peter starts with 8 erasers. Bridget gives Pet...</td>\n",
              "      <td>[[Peter, PERSON], [8, CARDINAL], [Bridget, ORG...</td>\n",
              "    </tr>\n",
              "    <tr>\n",
              "      <th>12</th>\n",
              "      <td>If there are 7 crayons in a box and Gerald put...</td>\n",
              "      <td>[[7, CARDINAL], [Gerald, PERSON], [6, CARDINAL]]</td>\n",
              "    </tr>\n",
              "    <tr>\n",
              "      <th>13</th>\n",
              "      <td>Michelle has 2 crayons. Janet has 2 crayons. I...</td>\n",
              "      <td>[[Michelle, ORG], [2, CARDINAL], [Janet, ORG],...</td>\n",
              "    </tr>\n",
              "    <tr>\n",
              "      <th>14</th>\n",
              "      <td>Anna collects 6 blocks. Anna's father gives An...</td>\n",
              "      <td>[[6, CARDINAL], [Anna, ORG], [Anna 8, PERSON],...</td>\n",
              "    </tr>\n",
              "  </tbody>\n",
              "</table>\n",
              "</div>\n",
              "      <button class=\"colab-df-convert\" onclick=\"convertToInteractive('df-22e50474-a346-483a-aabb-222c2906106b')\"\n",
              "              title=\"Convert this dataframe to an interactive table.\"\n",
              "              style=\"display:none;\">\n",
              "        \n",
              "  <svg xmlns=\"http://www.w3.org/2000/svg\" height=\"24px\"viewBox=\"0 0 24 24\"\n",
              "       width=\"24px\">\n",
              "    <path d=\"M0 0h24v24H0V0z\" fill=\"none\"/>\n",
              "    <path d=\"M18.56 5.44l.94 2.06.94-2.06 2.06-.94-2.06-.94-.94-2.06-.94 2.06-2.06.94zm-11 1L8.5 8.5l.94-2.06 2.06-.94-2.06-.94L8.5 2.5l-.94 2.06-2.06.94zm10 10l.94 2.06.94-2.06 2.06-.94-2.06-.94-.94-2.06-.94 2.06-2.06.94z\"/><path d=\"M17.41 7.96l-1.37-1.37c-.4-.4-.92-.59-1.43-.59-.52 0-1.04.2-1.43.59L10.3 9.45l-7.72 7.72c-.78.78-.78 2.05 0 2.83L4 21.41c.39.39.9.59 1.41.59.51 0 1.02-.2 1.41-.59l7.78-7.78 2.81-2.81c.8-.78.8-2.07 0-2.86zM5.41 20L4 18.59l7.72-7.72 1.47 1.35L5.41 20z\"/>\n",
              "  </svg>\n",
              "      </button>\n",
              "      \n",
              "  <style>\n",
              "    .colab-df-container {\n",
              "      display:flex;\n",
              "      flex-wrap:wrap;\n",
              "      gap: 12px;\n",
              "    }\n",
              "\n",
              "    .colab-df-convert {\n",
              "      background-color: #E8F0FE;\n",
              "      border: none;\n",
              "      border-radius: 50%;\n",
              "      cursor: pointer;\n",
              "      display: none;\n",
              "      fill: #1967D2;\n",
              "      height: 32px;\n",
              "      padding: 0 0 0 0;\n",
              "      width: 32px;\n",
              "    }\n",
              "\n",
              "    .colab-df-convert:hover {\n",
              "      background-color: #E2EBFA;\n",
              "      box-shadow: 0px 1px 2px rgba(60, 64, 67, 0.3), 0px 1px 3px 1px rgba(60, 64, 67, 0.15);\n",
              "      fill: #174EA6;\n",
              "    }\n",
              "\n",
              "    [theme=dark] .colab-df-convert {\n",
              "      background-color: #3B4455;\n",
              "      fill: #D2E3FC;\n",
              "    }\n",
              "\n",
              "    [theme=dark] .colab-df-convert:hover {\n",
              "      background-color: #434B5C;\n",
              "      box-shadow: 0px 1px 3px 1px rgba(0, 0, 0, 0.15);\n",
              "      filter: drop-shadow(0px 1px 2px rgba(0, 0, 0, 0.3));\n",
              "      fill: #FFFFFF;\n",
              "    }\n",
              "  </style>\n",
              "\n",
              "      <script>\n",
              "        const buttonEl =\n",
              "          document.querySelector('#df-22e50474-a346-483a-aabb-222c2906106b button.colab-df-convert');\n",
              "        buttonEl.style.display =\n",
              "          google.colab.kernel.accessAllowed ? 'block' : 'none';\n",
              "\n",
              "        async function convertToInteractive(key) {\n",
              "          const element = document.querySelector('#df-22e50474-a346-483a-aabb-222c2906106b');\n",
              "          const dataTable =\n",
              "            await google.colab.kernel.invokeFunction('convertToInteractive',\n",
              "                                                     [key], {});\n",
              "          if (!dataTable) return;\n",
              "\n",
              "          const docLinkHtml = 'Like what you see? Visit the ' +\n",
              "            '<a target=\"_blank\" href=https://colab.research.google.com/notebooks/data_table.ipynb>data table notebook</a>'\n",
              "            + ' to learn more about interactive tables.';\n",
              "          element.innerHTML = '';\n",
              "          dataTable['output_type'] = 'display_data';\n",
              "          await google.colab.output.renderOutput(dataTable, element);\n",
              "          const docLink = document.createElement('div');\n",
              "          docLink.innerHTML = docLinkHtml;\n",
              "          element.appendChild(docLink);\n",
              "        }\n",
              "      </script>\n",
              "    </div>\n",
              "  </div>\n",
              "  "
            ],
            "text/plain": [
              "                                            questions  \\\n",
              "0   If there are 7 bottle caps in a box and Linda ...   \n",
              "1   Jose starts with 7 bottle caps. He gets 2 more...   \n",
              "2   Bridget has 4 Skittles. Henry has 4 Skittles. ...   \n",
              "3   Brenda starts with 7 Skittles. She buys 8 more...   \n",
              "4   There are 4 cards. 3 cards more are added. How...   \n",
              "5   There are 4 marbles. 7 marbles more are added....   \n",
              "6   There are 8 oranges. 8 oranges more are added....   \n",
              "7   Carol collects 2 peanuts. Carol's father gives...   \n",
              "8   There are 9 cards. 4 cards more are added. How...   \n",
              "9   If there are 7 bottle caps in a box and Linda ...   \n",
              "10  Bobby collects 2 blocks. Bobby's father gives ...   \n",
              "11  Peter starts with 8 erasers. Bridget gives Pet...   \n",
              "12  If there are 7 crayons in a box and Gerald put...   \n",
              "13  Michelle has 2 crayons. Janet has 2 crayons. I...   \n",
              "14  Anna collects 6 blocks. Anna's father gives An...   \n",
              "\n",
              "                                              NER_TAG  \n",
              "0     [[7, CARDINAL], [Linda, PERSON], [7, CARDINAL]]  \n",
              "1   [[Jose, PERSON], [7, CARDINAL], [2, CARDINAL],...  \n",
              "2   [[Bridget, ORG], [4, CARDINAL], [Henry, PERSON...  \n",
              "3   [[Brenda, PERSON], [7, CARDINAL], [8, CARDINAL...  \n",
              "4                      [[4, CARDINAL], [3, CARDINAL]]  \n",
              "5         [[4 marbles, MONEY], [7 marbles, QUANTITY]]  \n",
              "6                      [[8, CARDINAL], [8, CARDINAL]]  \n",
              "7   [[2, CARDINAL], [Carol, PERSON], [Carol 5, PRO...  \n",
              "8                      [[9, CARDINAL], [4, CARDINAL]]  \n",
              "9     [[7, CARDINAL], [Linda, PERSON], [7, CARDINAL]]  \n",
              "10  [[Bobby, PERSON], [2, CARDINAL], [Bobby, PERSO...  \n",
              "11  [[Peter, PERSON], [8, CARDINAL], [Bridget, ORG...  \n",
              "12   [[7, CARDINAL], [Gerald, PERSON], [6, CARDINAL]]  \n",
              "13  [[Michelle, ORG], [2, CARDINAL], [Janet, ORG],...  \n",
              "14  [[6, CARDINAL], [Anna, ORG], [Anna 8, PERSON],...  "
            ]
          },
          "metadata": {},
          "execution_count": 16
        }
      ]
    },
    {
      "cell_type": "markdown",
      "source": [
        "# POS TAGGING"
      ],
      "metadata": {
        "id": "uGZeBg8WSbNg"
      }
    },
    {
      "cell_type": "markdown",
      "source": [
        "Need to build model that can identify PEOPLE + OBJECTS\n",
        "\n",
        "NER is mis-classifying people as orgs, and objects as people.\n",
        "\n",
        "HOW TO DO THAT T_T"
      ],
      "metadata": {
        "id": "7NIHFFSo8V3P"
      }
    },
    {
      "cell_type": "code",
      "source": [
        "# Defining Tag\n",
        "tagging = DefaultTagger('NN')"
      ],
      "metadata": {
        "id": "Tb--cf6ESddI"
      },
      "execution_count": 17,
      "outputs": []
    },
    {
      "cell_type": "code",
      "source": [
        "dquest['POS_TAG'] = dquest['questions'].apply(lambda q: tagging.tag(q))\n",
        "\n",
        "#print(dquest)"
      ],
      "metadata": {
        "id": "LGx22a9wLkGM"
      },
      "execution_count": 18,
      "outputs": []
    },
    {
      "cell_type": "markdown",
      "source": [
        "# Make another dataframe called 'df' from dataset"
      ],
      "metadata": {
        "id": "o2X7V3lviwhH"
      }
    },
    {
      "cell_type": "code",
      "source": [
        "df = pd.read_json('/content/singleop.json')\n",
        "print(dset.columns)\n",
        "\n",
        "# make dataframe with just questions\n",
        "df = df['sQuestion'].tail(50)\n",
        "df = df.head(20)\n",
        "\n",
        "# print(dquest)\n",
        "df = df.to_frame()\n",
        "df.rename(columns={'sQuestion': 'questions'}, inplace=True)"
      ],
      "metadata": {
        "colab": {
          "base_uri": "https://localhost:8080/"
        },
        "id": "5CzsMEJ0OxNR",
        "outputId": "ff003bff-1199-4126-bd63-35bf5b2f040d"
      },
      "execution_count": 7,
      "outputs": [
        {
          "output_type": "stream",
          "name": "stdout",
          "text": [
            "Index(['iIndex', 'lAlignments', 'lEquations', 'lSolutions', 'sQuestion'], dtype='object')\n"
          ]
        }
      ]
    },
    {
      "cell_type": "markdown",
      "source": [
        "# Replace PRONOUN w NOUN"
      ],
      "metadata": {
        "id": "9MNrALoYNDvq"
      }
    },
    {
      "cell_type": "markdown",
      "source": [
        "Coref : PRONOUN ID"
      ],
      "metadata": {
        "id": "qNnRs1xqKQIP"
      }
    },
    {
      "cell_type": "code",
      "source": [
        "# PRONOUN REPLACEMENT : coreference resolution.\n",
        "import spacy\n",
        "nlp = spacy.load('en')\n",
        "import neuralcoref"
      ],
      "metadata": {
        "id": "MRBTGBwkIKe-",
        "colab": {
          "base_uri": "https://localhost:8080/"
        },
        "outputId": "fb0902c8-613b-4166-ba74-5907983f9847"
      },
      "execution_count": 6,
      "outputs": [
        {
          "output_type": "stream",
          "name": "stderr",
          "text": [
            "100%|██████████| 40155833/40155833 [00:01<00:00, 40085149.10B/s]\n"
          ]
        }
      ]
    },
    {
      "cell_type": "code",
      "source": [
        "# executes only once per runtime\n",
        "neuralcoref.add_to_pipe(nlp,greedyness=0.52)\n"
      ],
      "metadata": {
        "id": "kFpwaq2UN5Pf"
      },
      "execution_count": null,
      "outputs": []
    },
    {
      "cell_type": "markdown",
      "source": [
        "#### Function to replace pronouns in a sentence"
      ],
      "metadata": {
        "id": "2_bfrLzQjAIt"
      }
    },
    {
      "cell_type": "code",
      "source": [
        "def replacePronoun(sentence):\n",
        "  doc = nlp(sentence)\n",
        "  return doc._.coref_resolved"
      ],
      "metadata": {
        "id": "3yDiyyb5PNc6"
      },
      "execution_count": 53,
      "outputs": []
    },
    {
      "cell_type": "markdown",
      "source": [
        "#### Test on entire dataset"
      ],
      "metadata": {
        "id": "kMkk-fc5jL4d"
      }
    },
    {
      "cell_type": "code",
      "source": [
        "df['replaced_pronoun'] = df['questions'].apply(lambda a: replace(a))\n",
        "\n",
        "# print(df)"
      ],
      "metadata": {
        "id": "SZHWX69fNhp0"
      },
      "execution_count": 68,
      "outputs": []
    },
    {
      "cell_type": "code",
      "source": [
        "# random test -- PROBLEMATIC\n",
        "# \"Pam bought five apples for Sue. She then gave them to him.\"\n",
        "doc = nlp('Pam bought five apples for Sue. Tim was nearby. She then gave them to him.')\n",
        "print(doc._.coref_resolved)"
      ],
      "metadata": {
        "colab": {
          "base_uri": "https://localhost:8080/"
        },
        "id": "hSBdkJ5wRRLP",
        "outputId": "67ecb801-794f-46d3-83e2-653d7d03bc0f"
      },
      "execution_count": 16,
      "outputs": [
        {
          "output_type": "stream",
          "name": "stdout",
          "text": [
            "Pam bought five apples for Sue. Tim was nearby. Pam then gave five apples to Tim.\n"
          ]
        }
      ]
    },
    {
      "cell_type": "markdown",
      "source": [
        "#### Export as csv (optional)"
      ],
      "metadata": {
        "id": "YjjQM2PCjHG8"
      }
    },
    {
      "cell_type": "code",
      "source": [
        "df.to_csv(\"pronouned.csv\", sep=',', encoding='utf-8')"
      ],
      "metadata": {
        "id": "KlZrvn6nQDRQ"
      },
      "execution_count": 23,
      "outputs": []
    },
    {
      "cell_type": "markdown",
      "source": [
        "# Identify Quantities (using POS TAG & after PRONOUN REPLACEMENT)"
      ],
      "metadata": {
        "id": "8r_OTTIk692R"
      }
    },
    {
      "cell_type": "markdown",
      "source": [
        "#### Import Required Libraries"
      ],
      "metadata": {
        "id": "FEEFoe3ognHU"
      }
    },
    {
      "cell_type": "code",
      "source": [
        "import spacy\n",
        "import nltk\n",
        "nltk.download('all')\n",
        "nltk.download('averaged_perceptron_tagger')\n",
        "nltk.download('punkt')"
      ],
      "metadata": {
        "id": "uqJY31ny7Our"
      },
      "execution_count": null,
      "outputs": []
    },
    {
      "cell_type": "code",
      "source": [
        "from nltk.corpus import stopwords\n",
        "from nltk.tokenize import word_tokenize, sent_tokenize\n",
        "stop_words = set(stopwords.words('english'))"
      ],
      "metadata": {
        "id": "ihaOpXhO7Sbo"
      },
      "execution_count": 18,
      "outputs": []
    },
    {
      "cell_type": "markdown",
      "source": [
        "#### Trial on Single Problem (MWP)"
      ],
      "metadata": {
        "id": "MxvgnbDPXix1"
      }
    },
    {
      "cell_type": "code",
      "source": [
        "txt = \"Andrew spent 3 day working on his Science report. He worked for 2.5 hours each day. How many hours did he work?\"\n",
        "wordsList = nltk.word_tokenize(txt)\n",
        "wordsList = [w for w in wordsList if not w in stop_words]\n",
        "tagged = nltk.pos_tag(wordsList)\n",
        "print(tagged)"
      ],
      "metadata": {
        "id": "Hk6EPHvD7UIo",
        "colab": {
          "base_uri": "https://localhost:8080/"
        },
        "outputId": "b3d7551e-3c6a-4f42-baa4-2e2d15116540"
      },
      "execution_count": 19,
      "outputs": [
        {
          "output_type": "stream",
          "name": "stdout",
          "text": [
            "[('Andrew', 'NNP'), ('spent', 'VBD'), ('3', 'CD'), ('day', 'NN'), ('working', 'VBG'), ('Science', 'NNP'), ('report', 'NN'), ('.', '.'), ('He', 'PRP'), ('worked', 'VBD'), ('2.5', 'CD'), ('hours', 'NNS'), ('day', 'NN'), ('.', '.'), ('How', 'WRB'), ('many', 'JJ'), ('hours', 'NNS'), ('work', 'VB'), ('?', '.')]\n"
          ]
        }
      ]
    },
    {
      "cell_type": "code",
      "source": [
        "NER = spacy.load(\"en_core_web_sm\", disable=[\"tok2vec\", \"tagger\", \"parser\", \"attribute_ruler\", \"lemmatizer\"])\n",
        "text= NER(txt)\n",
        "d={}\n",
        "for w in text.ents:\n",
        "  if w not in d:\n",
        "    d[w.text] = w.label_\n",
        "    \n",
        "print(d)"
      ],
      "metadata": {
        "id": "pRdKNvHz7jVv",
        "colab": {
          "base_uri": "https://localhost:8080/"
        },
        "outputId": "d244b84d-86a5-4502-b3eb-d6137544358d"
      },
      "execution_count": 20,
      "outputs": [
        {
          "output_type": "stream",
          "name": "stdout",
          "text": [
            "{'Andrew': 'PERSON', '3 day': 'DATE', 'Science': 'ORG', '2.5 hours': 'TIME', 'How many hours': 'TIME'}\n"
          ]
        }
      ]
    },
    {
      "cell_type": "code",
      "source": [
        "# call the pronoun replacement function\n",
        "txt = replacePronoun(txt)"
      ],
      "metadata": {
        "id": "c7H6eAOtYdyv"
      },
      "execution_count": 40,
      "outputs": []
    },
    {
      "cell_type": "markdown",
      "source": [
        "---------------------------------------------------------\n",
        "Extract Quantities Function:"
      ],
      "metadata": {
        "id": "5NpqcsDy77s0"
      }
    },
    {
      "cell_type": "code",
      "source": [
        "def getTagged(txt):\n",
        "\n",
        "  # replace pronouns first\n",
        "  txt = replacePronoun(txt)\n",
        "\n",
        "  wordsList = nltk.word_tokenize(txt)\n",
        "  wordsList = [w for w in wordsList if not w in stop_words]\n",
        "  tagged = nltk.pos_tag(wordsList)\n",
        "  text= NER(txt)\n",
        "  d={}\n",
        "  for w in text.ents:\n",
        "    if w not in d:\n",
        "      d[w.text] = w.label_\n",
        "\n",
        "  s =\"\"\n",
        "  for i in tagged:\n",
        "    s=s+\" \"+i[0]  \n",
        "  unit = (\"\",\"\")\n",
        "  for i in range(len(tagged)-2):\n",
        "    \n",
        "    if tagged[i][1] == \"CD\":\n",
        "\n",
        "      if tagged[i+1][1] == \"NN\" or tagged[i+1][1]=='NNP'  or  tagged[i+1][1]=='NNS' :\n",
        "       unit = tagged[i+1]\n",
        "       break;\n",
        "      elif tagged[i+2][1]=='NN' or tagged[i+2][1]=='NNP' or tagged[i+2][1]=='NNS':\n",
        "        unit = tagged[i+2]\n",
        "        break;\n",
        "\n",
        "  for i in range(len(tagged)-2):\n",
        "    if tagged[i][1] == \"CD\":\n",
        "      if tagged[i+1][1] != \"NN\"   or  tagged[i+1][1] !='NNS' :\n",
        "       tagged.insert(i+1,unit)\n",
        "      if tagged[i][1] == \"JJ\":\n",
        "        tagged.insert(i+1,unit)\n",
        "  \n",
        "  return tagged\n",
        "  \n"
      ],
      "metadata": {
        "id": "xcsMo1NdbtAC"
      },
      "execution_count": 54,
      "outputs": []
    },
    {
      "cell_type": "code",
      "source": [
        "def extractQuantity(txt):  \n",
        "  tagged = getTagged(txt)\n",
        "\n",
        "  entities = list()\n",
        "  qty = \"\"\n",
        "\n",
        "  for i in range(len(tagged)-2):\n",
        "    if tagged[i][1] == \"CD\":\n",
        "      if tagged[i+1][1] == \"NN\" or tagged[i+1][1]=='NNP' or tagged[i+2][1]=='NN' or tagged[i+2][1]=='NNP' or  tagged[i+1][1]=='NNS' or tagged[i+2][1]=='NNS' :\n",
        "       qty = tagged[i][0] + \" \"+ tagged[i+1][0]\n",
        "       entities.append(qty)\n",
        "       \n",
        "  return entities\n"
      ],
      "metadata": {
        "id": "2hf0SPfKbcI7"
      },
      "execution_count": 59,
      "outputs": []
    },
    {
      "cell_type": "markdown",
      "source": [
        "TEST IT:"
      ],
      "metadata": {
        "id": "Ks_NqRuggZL1"
      }
    },
    {
      "cell_type": "code",
      "source": [
        "# test it\n",
        "extractQuantity(\"Andrew spent 3 day working on his Science report. He worked for 2.5 hours each day. How many hours did he work?\")"
      ],
      "metadata": {
        "colab": {
          "base_uri": "https://localhost:8080/"
        },
        "outputId": "a4e7e31e-0094-46a6-a7ef-8af152642b70",
        "id": "DOd3qqsScRtS"
      },
      "execution_count": 60,
      "outputs": [
        {
          "output_type": "stream",
          "name": "stdout",
          "text": [
            "[('Andrew', 'NNP'), ('spent', 'VBD'), ('3', 'CD'), ('day', 'NN'), ('day', 'NN'), ('working', 'VBG'), ('Andrew', 'NNP'), ('Science', 'NNP'), ('report', 'NN'), ('.', '.'), ('Andrew', 'NNP'), ('worked', 'VBD'), ('2.5', 'CD'), ('day', 'NN'), ('hours', 'NNS'), ('day', 'NN'), ('.', '.'), ('How', 'WRB'), ('many', 'JJ'), ('hours', 'NNS'), ('Andrew', 'NNP'), ('work', 'NN'), ('?', '.')]\n"
          ]
        },
        {
          "output_type": "execute_result",
          "data": {
            "text/plain": [
              "['3 day', '2.5 day']"
            ]
          },
          "metadata": {},
          "execution_count": 60
        }
      ]
    },
    {
      "cell_type": "markdown",
      "source": [
        "#### ON ENTIRE DATASET; add another column"
      ],
      "metadata": {
        "id": "6zpWNGAngbd2"
      }
    },
    {
      "cell_type": "code",
      "source": [
        "df = pd.read_json('/content/singleop.json')\n",
        "print(dset.columns)\n",
        "\n",
        "# make dataframe with just questions\n",
        "df = df['sQuestion'].tail(50)\n",
        "df = df.head(20)\n",
        "\n",
        "# print(dquest)\n",
        "df = df.to_frame()\n",
        "df.rename(columns={'sQuestion': 'questions'}, inplace=True)"
      ],
      "metadata": {
        "colab": {
          "base_uri": "https://localhost:8080/"
        },
        "id": "EDWzfuG_hFEC",
        "outputId": "3b3b2b6c-1ac8-44fc-ca52-45b323149ae0"
      },
      "execution_count": 64,
      "outputs": [
        {
          "output_type": "stream",
          "name": "stdout",
          "text": [
            "Index(['iIndex', 'lAlignments', 'lEquations', 'lSolutions', 'sQuestion'], dtype='object')\n"
          ]
        }
      ]
    },
    {
      "cell_type": "code",
      "source": [
        "# DO ON ENTIRE DATASET\n",
        "df['qty_identified'] = df['questions'].apply(lambda a: extractQuantity(a))"
      ],
      "metadata": {
        "id": "mNEZe4Pw9dLT"
      },
      "execution_count": 65,
      "outputs": []
    },
    {
      "cell_type": "code",
      "source": [
        "df"
      ],
      "metadata": {
        "colab": {
          "base_uri": "https://localhost:8080/",
          "height": 676
        },
        "id": "Vtf8moPUhH4C",
        "outputId": "f3b6a05f-bf53-4293-aec9-94158b177652"
      },
      "execution_count": 66,
      "outputs": [
        {
          "output_type": "execute_result",
          "data": {
            "text/html": [
              "\n",
              "  <div id=\"df-560d0924-a1e7-4a1d-91a0-430fc1ab8494\">\n",
              "    <div class=\"colab-df-container\">\n",
              "      <div>\n",
              "<style scoped>\n",
              "    .dataframe tbody tr th:only-of-type {\n",
              "        vertical-align: middle;\n",
              "    }\n",
              "\n",
              "    .dataframe tbody tr th {\n",
              "        vertical-align: top;\n",
              "    }\n",
              "\n",
              "    .dataframe thead th {\n",
              "        text-align: right;\n",
              "    }\n",
              "</style>\n",
              "<table border=\"1\" class=\"dataframe\">\n",
              "  <thead>\n",
              "    <tr style=\"text-align: right;\">\n",
              "      <th></th>\n",
              "      <th>questions</th>\n",
              "      <th>qty_identified</th>\n",
              "    </tr>\n",
              "  </thead>\n",
              "  <tbody>\n",
              "    <tr>\n",
              "      <th>512</th>\n",
              "      <td>Marie can bike at a speed of 12 miles an hour...</td>\n",
              "      <td>[12 miles, 31 hours]</td>\n",
              "    </tr>\n",
              "    <tr>\n",
              "      <th>513</th>\n",
              "      <td>Tammy drove 55 miles in one hour. At that rat...</td>\n",
              "      <td>[55 miles, one miles, 36 hours]</td>\n",
              "    </tr>\n",
              "    <tr>\n",
              "      <th>514</th>\n",
              "      <td>It takes 4 apples to make 1 pie. How many app...</td>\n",
              "      <td>[4 apples, 1 apples, 504 pies]</td>\n",
              "    </tr>\n",
              "    <tr>\n",
              "      <th>515</th>\n",
              "      <td>You have 24 cookies and want to share them eq...</td>\n",
              "      <td>[24 cookies, 24 cookies, 6 cookies]</td>\n",
              "    </tr>\n",
              "    <tr>\n",
              "      <th>516</th>\n",
              "      <td>You are reading a book with 120 pages. If you...</td>\n",
              "      <td>[120 pages, 10 days]</td>\n",
              "    </tr>\n",
              "    <tr>\n",
              "      <th>517</th>\n",
              "      <td>A cereal box holds 18 cups of cereal. Each se...</td>\n",
              "      <td>[18 cups, 2 cups]</td>\n",
              "    </tr>\n",
              "    <tr>\n",
              "      <th>518</th>\n",
              "      <td>A box of books weighs 42 pounds. Each book we...</td>\n",
              "      <td>[42 pounds, 3 pounds]</td>\n",
              "    </tr>\n",
              "    <tr>\n",
              "      <th>519</th>\n",
              "      <td>Sue’s mother made 75 cookies. She put the coo...</td>\n",
              "      <td>[75 cookies, 75 cookies, 3 cookies]</td>\n",
              "    </tr>\n",
              "    <tr>\n",
              "      <th>520</th>\n",
              "      <td>Frank worked 8 hours on the first 4 days of t...</td>\n",
              "      <td>[8 hours, 4 hours]</td>\n",
              "    </tr>\n",
              "    <tr>\n",
              "      <th>521</th>\n",
              "      <td>Sue’s family went on vacation. Her mom drove ...</td>\n",
              "      <td>[60 mph, 5 mph]</td>\n",
              "    </tr>\n",
              "    <tr>\n",
              "      <th>522</th>\n",
              "      <td>Brett drove 55 miles every hour. How many mil...</td>\n",
              "      <td>[55 miles, 8 hours]</td>\n",
              "    </tr>\n",
              "    <tr>\n",
              "      <th>523</th>\n",
              "      <td>A perfect score is 21 points. How many points...</td>\n",
              "      <td>[21 points, 3 points]</td>\n",
              "    </tr>\n",
              "    <tr>\n",
              "      <th>524</th>\n",
              "      <td>Brian’s car gets 20 miles per gallon. On his ...</td>\n",
              "      <td>[20 miles, 3 miles]</td>\n",
              "    </tr>\n",
              "    <tr>\n",
              "      <th>525</th>\n",
              "      <td>Bob’s car gets 10 kilometers per gallon. How ...</td>\n",
              "      <td>[10 kilometers, 10 kilometers]</td>\n",
              "    </tr>\n",
              "    <tr>\n",
              "      <th>526</th>\n",
              "      <td>Each cup contains 8 ounces. How many ounces a...</td>\n",
              "      <td>[8 ounces, 33 cups]</td>\n",
              "    </tr>\n",
              "    <tr>\n",
              "      <th>527</th>\n",
              "      <td>A chocolate chip cookie recipe calls for 2 cu...</td>\n",
              "      <td>[2 cups, 23 cups]</td>\n",
              "    </tr>\n",
              "    <tr>\n",
              "      <th>528</th>\n",
              "      <td>I have a pet golden retriever. Each year he g...</td>\n",
              "      <td>[11 pounds, 8 pounds]</td>\n",
              "    </tr>\n",
              "    <tr>\n",
              "      <th>529</th>\n",
              "      <td>Mary’s car gets 20 miles per gallon of gas. H...</td>\n",
              "      <td>[20 miles, 14 miles]</td>\n",
              "    </tr>\n",
              "    <tr>\n",
              "      <th>530</th>\n",
              "      <td>I walked 2 miles in 1 hour for Relay for Life...</td>\n",
              "      <td>[2 miles, 1 miles, 8 miles]</td>\n",
              "    </tr>\n",
              "    <tr>\n",
              "      <th>531</th>\n",
              "      <td>I walk 1 mile every 15 minutes. I walked 3 mi...</td>\n",
              "      <td>[1 mile, 15 mile, 3 mile]</td>\n",
              "    </tr>\n",
              "  </tbody>\n",
              "</table>\n",
              "</div>\n",
              "      <button class=\"colab-df-convert\" onclick=\"convertToInteractive('df-560d0924-a1e7-4a1d-91a0-430fc1ab8494')\"\n",
              "              title=\"Convert this dataframe to an interactive table.\"\n",
              "              style=\"display:none;\">\n",
              "        \n",
              "  <svg xmlns=\"http://www.w3.org/2000/svg\" height=\"24px\"viewBox=\"0 0 24 24\"\n",
              "       width=\"24px\">\n",
              "    <path d=\"M0 0h24v24H0V0z\" fill=\"none\"/>\n",
              "    <path d=\"M18.56 5.44l.94 2.06.94-2.06 2.06-.94-2.06-.94-.94-2.06-.94 2.06-2.06.94zm-11 1L8.5 8.5l.94-2.06 2.06-.94-2.06-.94L8.5 2.5l-.94 2.06-2.06.94zm10 10l.94 2.06.94-2.06 2.06-.94-2.06-.94-.94-2.06-.94 2.06-2.06.94z\"/><path d=\"M17.41 7.96l-1.37-1.37c-.4-.4-.92-.59-1.43-.59-.52 0-1.04.2-1.43.59L10.3 9.45l-7.72 7.72c-.78.78-.78 2.05 0 2.83L4 21.41c.39.39.9.59 1.41.59.51 0 1.02-.2 1.41-.59l7.78-7.78 2.81-2.81c.8-.78.8-2.07 0-2.86zM5.41 20L4 18.59l7.72-7.72 1.47 1.35L5.41 20z\"/>\n",
              "  </svg>\n",
              "      </button>\n",
              "      \n",
              "  <style>\n",
              "    .colab-df-container {\n",
              "      display:flex;\n",
              "      flex-wrap:wrap;\n",
              "      gap: 12px;\n",
              "    }\n",
              "\n",
              "    .colab-df-convert {\n",
              "      background-color: #E8F0FE;\n",
              "      border: none;\n",
              "      border-radius: 50%;\n",
              "      cursor: pointer;\n",
              "      display: none;\n",
              "      fill: #1967D2;\n",
              "      height: 32px;\n",
              "      padding: 0 0 0 0;\n",
              "      width: 32px;\n",
              "    }\n",
              "\n",
              "    .colab-df-convert:hover {\n",
              "      background-color: #E2EBFA;\n",
              "      box-shadow: 0px 1px 2px rgba(60, 64, 67, 0.3), 0px 1px 3px 1px rgba(60, 64, 67, 0.15);\n",
              "      fill: #174EA6;\n",
              "    }\n",
              "\n",
              "    [theme=dark] .colab-df-convert {\n",
              "      background-color: #3B4455;\n",
              "      fill: #D2E3FC;\n",
              "    }\n",
              "\n",
              "    [theme=dark] .colab-df-convert:hover {\n",
              "      background-color: #434B5C;\n",
              "      box-shadow: 0px 1px 3px 1px rgba(0, 0, 0, 0.15);\n",
              "      filter: drop-shadow(0px 1px 2px rgba(0, 0, 0, 0.3));\n",
              "      fill: #FFFFFF;\n",
              "    }\n",
              "  </style>\n",
              "\n",
              "      <script>\n",
              "        const buttonEl =\n",
              "          document.querySelector('#df-560d0924-a1e7-4a1d-91a0-430fc1ab8494 button.colab-df-convert');\n",
              "        buttonEl.style.display =\n",
              "          google.colab.kernel.accessAllowed ? 'block' : 'none';\n",
              "\n",
              "        async function convertToInteractive(key) {\n",
              "          const element = document.querySelector('#df-560d0924-a1e7-4a1d-91a0-430fc1ab8494');\n",
              "          const dataTable =\n",
              "            await google.colab.kernel.invokeFunction('convertToInteractive',\n",
              "                                                     [key], {});\n",
              "          if (!dataTable) return;\n",
              "\n",
              "          const docLinkHtml = 'Like what you see? Visit the ' +\n",
              "            '<a target=\"_blank\" href=https://colab.research.google.com/notebooks/data_table.ipynb>data table notebook</a>'\n",
              "            + ' to learn more about interactive tables.';\n",
              "          element.innerHTML = '';\n",
              "          dataTable['output_type'] = 'display_data';\n",
              "          await google.colab.output.renderOutput(dataTable, element);\n",
              "          const docLink = document.createElement('div');\n",
              "          docLink.innerHTML = docLinkHtml;\n",
              "          element.appendChild(docLink);\n",
              "        }\n",
              "      </script>\n",
              "    </div>\n",
              "  </div>\n",
              "  "
            ],
            "text/plain": [
              "                                             questions  \\\n",
              "512   Marie can bike at a speed of 12 miles an hour...   \n",
              "513   Tammy drove 55 miles in one hour. At that rat...   \n",
              "514   It takes 4 apples to make 1 pie. How many app...   \n",
              "515   You have 24 cookies and want to share them eq...   \n",
              "516   You are reading a book with 120 pages. If you...   \n",
              "517   A cereal box holds 18 cups of cereal. Each se...   \n",
              "518   A box of books weighs 42 pounds. Each book we...   \n",
              "519   Sue’s mother made 75 cookies. She put the coo...   \n",
              "520   Frank worked 8 hours on the first 4 days of t...   \n",
              "521   Sue’s family went on vacation. Her mom drove ...   \n",
              "522   Brett drove 55 miles every hour. How many mil...   \n",
              "523   A perfect score is 21 points. How many points...   \n",
              "524   Brian’s car gets 20 miles per gallon. On his ...   \n",
              "525   Bob’s car gets 10 kilometers per gallon. How ...   \n",
              "526   Each cup contains 8 ounces. How many ounces a...   \n",
              "527   A chocolate chip cookie recipe calls for 2 cu...   \n",
              "528   I have a pet golden retriever. Each year he g...   \n",
              "529   Mary’s car gets 20 miles per gallon of gas. H...   \n",
              "530   I walked 2 miles in 1 hour for Relay for Life...   \n",
              "531   I walk 1 mile every 15 minutes. I walked 3 mi...   \n",
              "\n",
              "                          qty_identified  \n",
              "512                 [12 miles, 31 hours]  \n",
              "513      [55 miles, one miles, 36 hours]  \n",
              "514       [4 apples, 1 apples, 504 pies]  \n",
              "515  [24 cookies, 24 cookies, 6 cookies]  \n",
              "516                 [120 pages, 10 days]  \n",
              "517                    [18 cups, 2 cups]  \n",
              "518                [42 pounds, 3 pounds]  \n",
              "519  [75 cookies, 75 cookies, 3 cookies]  \n",
              "520                   [8 hours, 4 hours]  \n",
              "521                      [60 mph, 5 mph]  \n",
              "522                  [55 miles, 8 hours]  \n",
              "523                [21 points, 3 points]  \n",
              "524                  [20 miles, 3 miles]  \n",
              "525       [10 kilometers, 10 kilometers]  \n",
              "526                  [8 ounces, 33 cups]  \n",
              "527                    [2 cups, 23 cups]  \n",
              "528                [11 pounds, 8 pounds]  \n",
              "529                 [20 miles, 14 miles]  \n",
              "530          [2 miles, 1 miles, 8 miles]  \n",
              "531            [1 mile, 15 mile, 3 mile]  "
            ]
          },
          "metadata": {},
          "execution_count": 66
        }
      ]
    },
    {
      "cell_type": "markdown",
      "source": [
        "# Associate Quantity w/ Actors"
      ],
      "metadata": {
        "id": "UnBt6MQh65rC"
      }
    },
    {
      "cell_type": "markdown",
      "source": [
        "# Identify Relationships bw Actors"
      ],
      "metadata": {
        "id": "_ZkgGxr_7AyP"
      }
    }
  ]
}