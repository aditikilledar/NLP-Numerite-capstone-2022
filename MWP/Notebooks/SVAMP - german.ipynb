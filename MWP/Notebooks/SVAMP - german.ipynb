{
 "cells": [
  {
   "cell_type": "markdown",
   "id": "8de87dbe",
   "metadata": {},
   "source": [
    "Tutorial from: https://machinelearningmastery.com/develop-neural-machine-translation-system-keras/"
   ]
  },
  {
   "cell_type": "markdown",
   "id": "9e5f7e47",
   "metadata": {},
   "source": [
    "# 1 Preparing Text Data\n",
    "mwp - eng\n",
    "eqn - ger"
   ]
  },
  {
   "cell_type": "code",
   "execution_count": 8,
   "id": "8df84963",
   "metadata": {},
   "outputs": [],
   "source": [
    "import pandas as pd\n",
    "import numpy as np"
   ]
  },
  {
   "cell_type": "code",
   "execution_count": 1,
   "id": "b2ae5aee",
   "metadata": {},
   "outputs": [],
   "source": [
    "# clean text\n",
    "def load_doc(fname):\n",
    "    file = open(fname, mode='rt', encoding='utf-8')\n",
    "#     read all text\n",
    "    text = file.read()\n",
    "    file.close()\n",
    "    return text"
   ]
  },
  {
   "cell_type": "code",
   "execution_count": 2,
   "id": "dbb8643a",
   "metadata": {},
   "outputs": [],
   "source": [
    "# split loaded text document into sentences\n",
    "def to_pairs(doc):\n",
    "    lines = doc.strip().split('\\n')\n",
    "    pairs = [line.split('\\t') for line in lines]\n",
    "    return pairs"
   ]
  },
  {
   "cell_type": "code",
   "execution_count": 3,
   "id": "90a672ce",
   "metadata": {},
   "outputs": [],
   "source": [
    "def extract_pairs_csv(fname):\n",
    "#  takes fname and returns src, targ pair in a list of tuples    \n",
    "    with open(fname, 'r') as data_file:\n",
    "        json_data = data_file.read()\n",
    "        \n",
    "    df = pd.read_json(json_data, orient='records')\n",
    "    df[\"q\"] = df[\"Body\"] +\" \"+df[\"Question\"]\n",
    "    lines = list(df.q)\n",
    "    lines2 = list(df.Equation)\n",
    "    pairs = list(zip(lines, lines2))\n",
    "    return pairs"
   ]
  },
  {
   "cell_type": "code",
   "execution_count": 4,
   "id": "6d442d20",
   "metadata": {},
   "outputs": [],
   "source": [
    "import string\n",
    "import re\n",
    "from pickle import dump\n",
    "from unicodedata import normalize\n",
    "from numpy import array"
   ]
  },
  {
   "cell_type": "code",
   "execution_count": 10,
   "id": "1a3a18a6",
   "metadata": {},
   "outputs": [],
   "source": [
    "# clean a list of lines\n",
    "def clean_pairs(lines):\n",
    "    cleaned = list()\n",
    "    # regex for char filtering\n",
    "    re_print = re.compile('[^%s]' % re.escape(string.printable))\n",
    "    # translation table for removing punctuation\n",
    "#     table = str.maketrans('', '', string.punctuation)\n",
    "    \n",
    "    for pair in lines:\n",
    "        clean_pair = list()\n",
    "        for line in pair:\n",
    "            #normalise unicode chars\n",
    "            line = normalize('NFD', line).encode('ascii', 'ignore')\n",
    "            line = line.decode('UTF-8')\n",
    "            \n",
    "            # tokenize based on white spaces\n",
    "            line = line.split()\n",
    "            \n",
    "            # make lower\n",
    "            line = [word.lower() for word in line]\n",
    "            \n",
    "            # remove punctuation using trans table created above\n",
    "#             line = [word.translate(table) for word in line]\n",
    "            \n",
    "            #remove non=printable chars from each token\n",
    "            line = [re_print.sub('', w) for w in line]\n",
    "            \n",
    "            # finally, store as string!\n",
    "            clean_pair.append(' '.join(line))\n",
    "        cleaned.append(clean_pair)\n",
    "    \n",
    "    return array(cleaned)"
   ]
  },
  {
   "cell_type": "code",
   "execution_count": 11,
   "id": "b856234b",
   "metadata": {},
   "outputs": [],
   "source": [
    "# save a list of clean sentences to file\n",
    "def save_clean_data(sentences, fname):\n",
    "    dump(sentences, open(fname, 'wb'))\n",
    "    print(f'saved {fname}')"
   ]
  },
  {
   "cell_type": "markdown",
   "id": "7e778dad",
   "metadata": {},
   "source": [
    "LOAD THE DATASET"
   ]
  },
  {
   "cell_type": "code",
   "execution_count": 12,
   "id": "76226861",
   "metadata": {},
   "outputs": [
    {
     "name": "stdout",
     "output_type": "stream",
     "text": [
      "saved SVAMP.pkl\n",
      "each pack of dvds costs 76 dollars. if there is a discount of 25 dollars on each pack how much do you have to pay to buy each pack? => ( 76.0 - 25.0 )\n",
      "dan had $ 3 left with him after he bought a candy bar. if he had $ 4 at the start how much did the candy bar cost? => ( 4.0 - 3.0 )\n",
      "paco had 26 salty cookies and 17 sweet cookies. he ate 14 sweet cookies and 9 salty cookies. how many salty cookies did paco have left? => ( 26.0 - 9.0 )\n",
      "43 children were riding on the bus. at the bus stop some children got off the bus. then there were 21 children left on the bus. how many children got off the bus at the bus stop? => ( 43.0 - 21.0 )\n",
      "28 children were riding on the bus. at the bus stop 82 children got on the bus while some got off the bus. then there were 30 children altogether on the bus. how many more children got on the bus than those that got off? => ( 30.0 - 28.0 )\n",
      "there were 3 dollars in olivia's wallet. she collected 49 more dollars from an atm. after she visited a supermarket there were 49 dollars left. how much more money did she collect at the atm than she spent at the supermarket? => ( 49.0 - 3.0 )\n",
      "jerry had some action figures on a shelf in his room. later he added 7 more action figures to the shelf. if there are a total of 10 action figures on his shelf now how many action figures did he have initially on the shelf? => ( 10.0 - 7.0 )\n",
      "paco had 41 cookies. he gave 9 cookies to his friend and ate 18 cookies. how many more cookies did he eat than those he gave to his friend? => ( 18.0 - 9.0 )\n",
      "mary is baking a cake. the recipe calls for 3 cups of sugar 10 cups of flour and 15 cups of salt. she already put in 6 cups of flour. how many more cups of flour does she need to add? => ( 10.0 - 6.0 )\n",
      "a waiter had some customers. after 9 customers left he still had 12 customers. how many customers did he have at the start? => ( 9.0 + 12.0 )\n",
      "3 birds were sitting on the fence. 6 more storks and 2 more birds came to join them. how many more storks than birds are sitting on the fence? => ( 6.0 - ( 3.0 + 2.0 ) )\n",
      "they decided to hold the party in their backyard. if they have 11 sets of tables and each set has 13 chairs how many chairs do they have in the backyard? => ( 11.0 * 13.0 )\n",
      "in a school there are 458 more girls than boys. if there are 692 girls how many pupils are there in that school? => ( ( 692.0 + 692.0 ) - 458.0 )\n",
      "after resting they decided to go for a swim. the depth of the water is 15 times dean's height. dean is 4 feet taller than ron. if ron stands at 13 feet how deep was the water? => ( ( 4.0 + 13.0 ) * 15.0 )\n",
      "6 birds were sitting on the fence. 4 more birds and 8 more storks came to join them. how many birds are sitting on the fence? => ( 6.0 + 4.0 )\n",
      "marco and his dad went strawberry picking. together they collected strawberries that weighed 36 pounds. on the way back marco ' dad lost 8 pounds of strawberries. marco's strawberries now weighed 12 pounds. how much did his dad's strawberries weigh now? => ( ( 36.0 - 12.0 ) - 8.0 )\n",
      "in a school there are 697 girls and the rest are boys. if there are 228 more girls than boys how many boys are there in that school? => ( 697.0 - 228.0 )\n",
      "in a school there are 732 girls and 761 boys. 682 more girls and 8 more boys joined the school. how many girls are there in the school now? => ( 732.0 + 682.0 )\n",
      "danny collects bottle caps and wrappers. he found 22 bottle caps and 30 wrappers at the park. now he has 17 bottle caps and 57 wrappers in his collection. how many wrappers did danny have at first? => ( 57.0 - 30.0 )\n",
      "paul got a box of 457 erasers and 617 crayons for his birthday. at the end of the school year he only had 523 crayons left while not having lost a single eraser. how many more crayons than erasers did he have left? => ( 523.0 - 457.0 )\n",
      "baker made 121 cakes. he sold 105 of them and bought 170 new cakes. how many cakes does baker still have? => ( ( 121.0 - 105.0 ) + 170.0 )\n",
      "an industrial machine worked for 5 minutes. it can make 4 shirts a minute. how many shirts did machine make? => ( 4.0 * 5.0 )\n",
      "the bananas in philip's collection are organized into groups of size 18. if there are a total of 180 bananas in philip's banana collection how many groups are there? => ( 180.0 / 18.0 )\n",
      "there were some birds sitting on the fence. 4 more birds came to join them. if there are a total of 5 birds on the fence now how many birds had been sitting on the fence at the start? => ( 5.0 - 4.0 )\n",
      "jerry had 3 action figures on a shelf in his room. later he added 4 more action figures to the shelf and removed some of the old ones. if there are 6 action figures on his shelf now how many action figures did he remove from the shelf? => ( ( 3.0 + 4.0 ) - 6.0 )\n",
      "danny collects bottle caps and wrappers. he found 65 wrappers and 5 bottle caps at the park. now he has 31 bottle caps and 9 wrappers in his collection. how many more wrappers than bottle caps did danny find at the park? => ( 65.0 - 5.0 )\n",
      "because of the decision sofia asked the students to suggest specific types of food from a total of 66 choices. if 450 students suggested adding mashed potatoes 38 suggested adding bacon to the menu and the rest did not participate how many students participated in the suggestion of new food items? => ( 450.0 + 38.0 )\n",
      "matthew gave equal numbers of crackers and cakes to his 28 friends. if he had 13 crackers and 15 cakes initially how many crackers and cakes did each person eat? => ( ( 13.0 + 15.0 ) / 28.0 )\n",
      "a grocery store had 49 bottles of regular soda, 40 bottles of diet soda and 6 bottles of lite soda. how many bottles of regular soda and diet soda did they have altogether? => ( 40.0 + 49.0 )\n",
      "dan has $ 3. he bought 2 candy bar for $ 4, each one costing the same amount of money. how much did each candy bar cost? => ( 4.0 / 2.0 )\n",
      "tiffany was collecting cans for recycling. on monday she had 7 bags of cans. the next day she found 12 more bags worth of cans. how many more bags did she find on the next day than she had on monday? => ( 12.0 - 7.0 )\n",
      "there were 15 roses and 62 orchids in the vase. jessica cut some more roses and orchids from her flower garden. there are now 17 roses and 96 orchids in the vase. how many roses did she cut? => ( 17.0 - 15.0 )\n",
      "there are some baskets of peaches. each basket has 4 red peaches and 3 green peaches. if there are a total of 7 peaches in all baskets how many baskets of peaches are there? => ( 7.0 / ( 4.0 + 3.0 ) )\n",
      "there were 78 dollars in olivia's wallet. she spent 15 dollars at a supermarket. how much money does she have left? => ( 78.0 - 15.0 )\n",
      "jack received 6 emails in the morning, 3 emails in the afternoon and some more in the evening. if he received a total of 10 emails in the day how many emails did jack receive in the afternoon? => ( 10.0 - ( 6.0 + 3.0 ) )\n",
      "dan has $ 4. he bought a candy bar for $ 8. then his friend have him $ 5 how much money is left? => ( ( 4.0 - 8.0 ) + 5.0 )\n",
      "after eating a hearty meal they went to see the buckingham palace. there, rachel learned that 703 visitors came to the buckingham palace on the previous day. if there were 246 visitors on that day how many visited the buckingham palace within 25 days? => ( 246.0 + 703.0 )\n",
      "for gwen's birthday she received 5 dollars from her dad. her mom gave her 7 more dollars. if she spent 4 dollars. how much more money did she receive from her mom than she did from her dad? => ( 7.0 - 5.0 )\n",
      "there are 142 bananas and 356 oranges in philip's collection. if the bananas are organized into 47 groups and oranges are organized into 178 groups how big is each group of oranges? => ( 356.0 / 178.0 )\n",
      "there are 8 different books and 5 different movies in the ' crazy silly school ' series. if you read 19 of the movies and watched 16 of the books how many more movies than books have you read? => ( 19.0 - 16.0 )\n",
      "mary is baking a cake. the recipe calls for 12 cups of flour and 5 cups of sugar. she already put in some cups of flour. if she still needs 2 more cups of flour how many cups of flour did she put in? => ( 12.0 - 2.0 )\n",
      "danny collects bottle caps and wrappers. he found 46 wrappers and 50 bottle caps at the park. now he has 21 bottle caps and 52 wrappers in his collection. how many more bottle caps than wrappers did danny find at the park? => ( 50.0 - 46.0 )\n",
      "luke played 177 rounds of a trivia game. if he gained 46 points in each round how many points did he score in the game? => ( 177.0 * 46.0 )\n",
      "3 birds and 4 storks were sitting on the fence. 2 more birds came to join them. how many more birds than storks are sitting on the fence? => ( ( 3.0 + 2.0 ) - 4.0 )\n",
      "the grasshopper, the frog and the mouse had a jumping contest. the grasshopper jumped 9 inches. the mouse jumped 3 inches lesser than the frog who jumped 33 inches farther than the grasshopper. how far did the mouse jump? => ( ( 9.0 + 33.0 ) - 3.0 )\n",
      "zachary did 35 push-ups and 3 crunches in gym class today. david did 58 more push-ups but 87 less crunches than zachary. how many more push-ups than crunches did zachary do? => ( 35.0 - 3.0 )\n",
      "jack received 4 emails in the morning, 5 emails in the afternoon and 8 emails in the evening. how many emails did jack receive in the afternoon and evening? => ( 5.0 + 8.0 )\n",
      "jerry had 7 action figures on a shelf in his room. later he added some more action figures to the shelf and removed 10 of the old ones. if there are 8 action figures on his shelf now how many action figures did he add to the shelf? => ( ( 8.0 + 10.0 ) - 7.0 )\n",
      "julia played tag with 12 kids on monday. she played tag with 14 kids on tuesday. she spent a total of 34 hours to play tag on both days. how many kids did she play with altogether? => ( 12.0 + 14.0 )\n",
      "nell collects cards. she had 309 baseball cards and 356 ace cards. she gave some of her cards to jeff and now has 415 baseball cards and ace cards left. how many more baseball cards than ace cards does nell have? => ( 415.0 - 149.0 )\n",
      "at the zoo, a cage had 93 snakes and 97 alligators. if 40 alligators were hiding how many alligators were not hiding? => ( 97.0 - 40.0 )\n",
      "you have read 8 books from the ' crazy silly school ' series. if there are a total of 14 different books in the ' crazy silly school ' series how many more do you still have to read? => ( 14.0 - 8.0 )\n",
      "emily is making bead necklaces for her 43 friends. she had 20 beads and she was able to make 5 necklaces. how many beads did each necklace need? => ( 20.0 / 5.0 )\n",
      "frank put 11 pieces of candy in each bag. if he had 22 pieces of candy how many bags would he have? => ( 22.0 / 11.0 )\n",
      "a waiter had 12 customers. after some left he still had 14 customers. then he got 10 new customers how many customers does he have now? => ( 14.0 + 10.0 )\n",
      "a farmer had 90 tomatoes in his garden. if he picked 154 of them yesterday and 50 today. how many tomatoes did he pick in all? => ( 154.0 + 50.0 )\n",
      "5 red peaches, 14 yellow peaches and 6 green peaches are in the basket. how many green and yellow peaches are in the basket? => ( 6.0 + 14.0 )\n",
      "winter is almost here and most animals are migrating to warmer countries. there were 89 bird families living near the mountain. if 60 bird families flew away for winter how many more bird families flew away for the winter than those that stayed behind? => ( 60.0 - ( 89.0 - 60.0 ) )\n",
      "there were 9 roses and 6 orchids in the vase. jessica cut some more roses and orchids from her flower garden. there are now 13 orchids and 3 roses in the vase. how many more orchids than roses are there in the vase now? => ( 13.0 - 3.0 )\n",
      "after eating a hearty meal they went to see the buckingham palace. there were 39 paintings in the buckingham palace. there, rachel learned that 661 visitors came to the buckingham palace that day. if there were 600 visitors the previous day how many more visitors visited the buckingham palace on that day than on the previous day? => ( 661.0 - 600.0 )\n",
      "a waiter had 12 customers. while 15 customers left he got 14 new customers. how many customers does he still have? => ( ( 12.0 - 15.0 ) + 14.0 )\n",
      "emily is making bead necklaces for her 72 friends. she has 6 beads and each necklace takes 3 beads. how many necklaces can emily make? => ( 6.0 / 3.0 )\n",
      "he also had 26 aquariums for saltwater animals. the aquarium had 52 saltwater animals in total and every aquarium had the same number of animals. how many saltwater animals does each aquarium have? => ( 52.0 / 26.0 )\n",
      "mary is baking a cake. the recipe calls for 11 cups of flour and 7 cups of sugar. she already put in some cups of flour. if she still needs 2 more cups of flour than sugar how many cups of flour did she put in? => ( ( 11.0 - 7.0 ) - 2.0 )\n",
      "baker made 149 cakes and 91 pastries. if he sold 10 cakes and 90 pastries how many cakes would baker still have? => ( 149.0 - 10.0 )\n",
      "dave had 24 files and 13 apps on his phone. after deleting some apps and files he had 17 apps and 21 files left. how many files did he delete? => ( 24.0 - 21.0 )\n",
      "an industrial machine made 9 shirts yesterday and 8 shirts today. it can make 2 shirts a minute. how many minutes did the machine work today? => ( 8.0 / 2.0 )\n",
      "rebecca wants to split a collection of eggs into 3 groups. rebecca has 4 marbles and 15 eggs. how many eggs will each group have? => ( 15.0 / 3.0 )\n",
      "matthew had some crackers. if matthew gave 2 crackers to each of his 11 friends how many crackers did matthew have? => ( 11.0 * 2.0 )\n",
      "olivia spent 78 dollars at a supermarket. if she has 33 dollars left with her how much money did she have initially? => ( 78.0 + 33.0 )\n",
      "if lewis earns $ 1357 every week during the 223 weeks of a harvest season. how much money will he earn if he works for 73 harvest seasons? => ( ( 1357.0 * 223.0 ) * 73.0 )\n",
      "because of the decision sofia asked 310 students to suggest specific types of food. 185 students suggested adding mashed potatoes while others suggested adding bacon to the menu. how many students suggested bacon? => ( 310.0 - 185.0 )\n",
      "jack received 3 emails and 64 letters in the morning. he then received 5 emails and 54 letters in the afternoon. how many emails did jack receive in the day? => ( 3.0 + 5.0 )\n",
      "paco had 40 cookies. he ate 2 of them. then he bought 37 more cookies how many cookies did paco have left? => ( ( 40.0 - 2.0 ) + 37.0 )\n",
      "because of the decision sofia asked the students to suggest specific types of food. if 218 students suggested adding mashed potatoes as well as bacon while 351 suggested adding only bacon to the menu how many students suggested adding bacon? => ( 218.0 + 351.0 )\n",
      "if each bag has 41 cookies and you had 53 bags of cookies how many cookies would you have? => ( 53.0 * 41.0 )\n",
      "rachel had to complete 2 pages of reading homework and 4 pages of math homework. how many more pages of math homework than reading homework did she have? => ( 4.0 - 2.0 )\n",
      "allan brought 5 balloons and jake brought 4 balloons to the park. allan then bought 3 more balloons at the park. how many balloons did allan bring to the park? => ( 5.0 + 3.0 )\n",
      "julia played tag with 8 kids on monday, 11 kids on tuesday and 9 kids on wednesday. how many more kids did she play with on tuesday than on wednesday? => ( 11.0 - 9.0 )\n",
      "the razorback shop makes $ 5 dollars off each jersey and $ 215 off each t-shirt. during the arkansas and texas tech game they sold 20 t-shirts and 64 jerseys. how much money did they make from selling the t-shirts? => ( 215.0 * 20.0 )\n",
      "36 children were riding on the bus. at the bus stop 68 children got off the bus while some more got on the bus. then there were 12 children altogether on the bus. how many more children got off the bus than those that got on? => ( 36.0 - 12.0 )\n",
      "brenda's mother made 14 cookies for 2 guests. if each of them had the same number of cookies how many did each of them have? => ( 14.0 / 2.0 )\n",
      "tiffany was collecting cans for recycling. on monday she had 4 bags of cans. the next day she found some more bags worth of cans. if she had a total of 6 bags altogether how many bags did she find on the next day? => ( 6.0 - 4.0 )\n",
      "in a school there are 632 girls and 410 boys. 465 more girls joined the school. how many more girls than boys does the school have? => ( ( 632.0 + 465.0 ) - 410.0 )\n",
      "emily is making bead necklaces for her friends where each necklace takes 5 beads. she made 4 necklaces. how many beads did emily have? => ( 4.0 * 5.0 )\n",
      "randy has 95 blocks. he uses 20 blocks to build a house and 50 blocks to build a tower. how many more blocks did he use to build the tower than he did to build the house? => ( 50.0 - 20.0 )\n",
      "2 birds and 6 storks were sitting on the fence. 3 more birds came to join them. how many more storks than birds are sitting on the fence? => ( 6.0 - ( 2.0 + 3.0 ) )\n",
      "the razorback t-shirt shop made $ 51 dollars from selling 3 t-shirt during the arkansas and texas tech game they. what is the cost of each t-shirt? => ( 51.0 / 3.0 )\n",
      "paco had 12 cookies. he ate 16 cookies and gave 21 of them to his friend. how many more cookies did he give to his friend than those he ate? => ( 21.0 - 16.0 )\n",
      "after eating a hearty meal they went to see the buckingham palace. there, rachel learned that 317 visitors came to the buckingham palace that day. if there were 295 visitors the previous day how many more visitors visited the buckingham palace on that day than on the previous day? => ( 317.0 - 295.0 )\n",
      "josh had 3 marbles in his collection. he found 6 marbles while he lost 5 marbles. how many more marbles did he find than those he lost? => ( 6.0 - 5.0 )\n",
      "because of the decision sofia asked the students to suggest specific types of food. if 408 students suggested adding mashed potatoes while 42 suggested adding bacon to the menu how many more students suggested mashed potatoes than those that suggested bacon? => ( 408.0 - 42.0 )\n",
      "paco had 40 cookies. he ate 5 cookies and gave 13 of them to his friend. how many cookies did paco have left? => ( ( 40.0 - 5.0 ) - 13.0 )\n",
      "paco had 17 cookies. he ate 14 cookies and gave 13 of them to his friend. how many more cookies did he eat than those he gave to his friend? => ( 14.0 - 13.0 )\n",
      "julia played tag with 19 kids on monday. she played tag with 18 kids on tuesday. she spent a total of 38 hours to play tag on both days. how many more kids did she play with on monday than on tuesday? => ( 19.0 - 18.0 )\n",
      "dan has $ 5. he bought a candy bar for $ 2 and a chocolate for $ 3. how much money did he spend to buy chocolate than he did to buy candy bar? => ( 3.0 - 2.0 )\n",
      "ed had 29 more marbles than doug. ed lost 17 of his marbles at the playground. how many more marbles did ed have than doug then? => ( 29.0 - 17.0 )\n",
      "the grasshopper, the frog and the mouse had a jumping contest. the grasshopper jumped 19 inches. the frog jumped 10 inches farther than the grasshopper and the mouse jumped 20 inches farther than the frog. how much farther did the mouse jump than the grasshopper? => ( 10.0 + 20.0 )\n",
      "frank was reading through his favorite book. it took him 16 days to finish the book. if the book had 112 pages how many pages did he read per day? => ( 112.0 / 16.0 )\n",
      "there are 20 different books in the ' crazy silly school ' series. if you are yet to read 5 of the books how many books have you already read? => ( 20.0 - 5.0 )\n"
     ]
    }
   ],
   "source": [
    "filename = '../Datasets/SVAMP.json'\n",
    "pairs = extract_pairs_csv(filename)\n",
    "clean_pairs = clean_pairs(pairs)\n",
    "save_clean_data(clean_pairs, 'SVAMP.pkl')\n",
    "\n",
    "#check\n",
    "for i in range(100):\n",
    "    print(f'{clean_pairs[i,0]} => {clean_pairs[i,1]}')"
   ]
  },
  {
   "cell_type": "markdown",
   "id": "72856717",
   "metadata": {},
   "source": [
    "# 2 Split Text\n",
    "It's very long: 150,000 phrase pairs. Good for small NMT model.\n",
    "We will simplify the problem by reducing the dataset to only the first 10,000 examples in the file; these will be the shortest phrases in the dataset."
   ]
  },
  {
   "cell_type": "code",
   "execution_count": 14,
   "id": "dc81461b",
   "metadata": {},
   "outputs": [
    {
     "data": {
      "text/plain": [
       "1000"
      ]
     },
     "execution_count": 14,
     "metadata": {},
     "output_type": "execute_result"
    }
   ],
   "source": [
    "len(pairs)"
   ]
  },
  {
   "cell_type": "code",
   "execution_count": 16,
   "id": "f86093be",
   "metadata": {},
   "outputs": [
    {
     "name": "stdout",
     "output_type": "stream",
     "text": [
      "Saved: SVAMP.pkl\n",
      "Saved: SVAMPtrain.pkl\n",
      "Saved: SVAMPtest.pkl\n"
     ]
    }
   ],
   "source": [
    "from pickle import load\n",
    "from pickle import dump\n",
    "from numpy.random import rand\n",
    "from numpy.random import shuffle\n",
    "\n",
    "# load a clean dataset\n",
    "def load_clean_sentences(filename):\n",
    "    return load(open(filename, 'rb'))\n",
    " \n",
    "# save a list of clean sentences to file\n",
    "def save_clean_data(sentences, filename):\n",
    "    dump(sentences, open(filename, 'wb'))\n",
    "    print(f'Saved: {filename}')\n",
    " \n",
    "# load dataset\n",
    "raw_dataset = load_clean_sentences('SVAMP.pkl')\n",
    " \n",
    "# reduce dataset size\n",
    "n_sentences = 1000\n",
    "dataset = raw_dataset[:n_sentences, :]\n",
    "# random shuffle\n",
    "shuffle(dataset)\n",
    "# split into train/test\n",
    "train, test = dataset[:900], dataset[900:]\n",
    "# save\n",
    "save_clean_data(dataset, 'SVAMP.pkl')\n",
    "save_clean_data(train, 'SVAMPtrain.pkl')\n",
    "save_clean_data(test, 'SVAMPtest.pkl')"
   ]
  },
  {
   "cell_type": "code",
   "execution_count": 17,
   "id": "546d872c",
   "metadata": {},
   "outputs": [
    {
     "name": "stdout",
     "output_type": "stream",
     "text": [
      "ed had 29 more marbles than doug. ed lost 17 of his marbles at the playground. how many more marbles did ed have than doug then? => ( 29.0 - 17.0 )\n",
      "paige was helping her mom plant flowers and together they planted some seeds. they put 10 seeds in each flower bed. if there are 45 flowerbeds how many seeds did they plant? => ( 10.0 * 45.0 )\n",
      "helen the hippo and her friends are preparing for thanksgiving at helen's house. helen baked 90 chocolate chip cookies yesterday and 51 raisin cookies and 484 chocolate chip cookies this morning. how many chocolate chip cookies did helen bake? => ( 90.0 + 484.0 )\n",
      "helen the hippo and her friends are preparing for thanksgiving at helen's house. helen baked 527 chocolate chip cookies and 86 raisin cookies yesterday. and she baked 86 raisin cookies and 554 chocolate chip cookies this morning. how many chocolate chip cookies did helen bake? => ( 527.0 + 554.0 )\n",
      "they decided to hold the party in their backyard. if they have 11 sets of tables and each set has 13 chairs how many chairs do they have in the backyard? => ( 11.0 * 13.0 )\n",
      "robin's hair was 14 inches long. it grew by 8 inches. then he cut off 20 inches. how long is his hair now? => ( ( 14.0 - 20.0 ) + 8.0 )\n",
      "winter is almost here and most animals are migrating to warmer countries. there were 89 bird families living near the mountain. if 60 bird families flew away for winter how many more bird families flew away for the winter than those that stayed behind? => ( 60.0 - ( 89.0 - 60.0 ) )\n",
      "there were 100 dollars in olivia's wallet. she collected 148 more dollars from an atm. after she visited a supermarket there were 159 dollars left. how much did she spend? => ( ( 100.0 + 148.0 ) - 159.0 )\n",
      "in a school there are 700 girls and the rest are boys. if there are 142 more boys than girls how many pupils are there in that school? => ( ( 700.0 + 700.0 ) + 142.0 )\n",
      "baker made 54 cakes and 143 pastries. if he sold 68 cakes and 92 pastries how many more pastries than cakes did baker sell? => ( 92.0 - 68.0 )\n",
      "jack received 6 emails in the morning, 3 emails in the afternoon and some more in the evening. if he received a total of 10 emails in the day how many emails did jack receive in the afternoon? => ( 10.0 - ( 6.0 + 3.0 ) )\n",
      "after olivia visited a supermarket there were 29 dollars left. if there were 54 dollars in her wallet initially how much did she spend? => ( 54.0 - 29.0 )\n",
      "dave had 11 apps and 3 files on his phone. after deleting some apps and files he had 24 files and 2 apps left. how many more files than apps does he have left on the phone? => ( 24.0 - 2.0 )\n",
      "36 children were riding on the bus. at the bus stop 68 children got off the bus while some more got on the bus. then there were 12 children altogether on the bus. how many more children got off the bus than those that got on? => ( 36.0 - 12.0 )\n",
      "kelly has 20 nintendo games and 70 sony games. how many nintendo games does she need to give away so that she will have 12 nintendo games left? => ( 20.0 - 12.0 )\n",
      "mom buys 70 white t - shirts in total. if white t - shirts can be purchased in packages and mom buys 14 packages how many white t - shirts does each package have? => ( 70.0 / 14.0 )\n",
      "the grasshopper, the frog and the mouse had a jumping contest. the grasshopper jumped 19 inches. the frog jumped 39 inches farther than the grasshopper and the mouse jumped 94 inches lesser than the frog. how far did the frog jump? => ( 19.0 + 39.0 )\n",
      "helen the hippo and her friends are preparing for thanksgiving at helen's house. helen baked 197 chocolate chip cookies and 46 raisin cookies yesterday. and she baked 75 raisin cookies and 66 chocolate chip cookies this morning. how many more chocolate chip cookies did helen bake yesterday compared to today? => ( 197.0 - 66.0 )\n",
      "jerry had 5 action figures and 9 books on a shelf in his room. later he added 7 more action figures to the shelf. how many more action figures than books were on his shelf? => ( ( 5.0 + 7.0 ) - 9.0 )\n",
      "after eating a hearty meal they went to see the buckingham palace. there were 39 paintings in the buckingham palace. there, rachel learned that 661 visitors came to the buckingham palace that day. if there were 600 visitors the previous day how many more visitors visited the buckingham palace on that day than on the previous day? => ( 661.0 - 600.0 )\n",
      "paul had 95 pens and 153 books. after selling some books and pens in a garage sale he had 13 books and 23 pens left. how many books did he sell in the garage sale? => ( 153.0 - 13.0 )\n",
      "dave had 17 apps on his phone. after adding some he had 18 left. how many apps did he add? => ( 18.0 - 17.0 )\n",
      "if you have 14 cookies in total and 7 bags having equal number of cookies how many cookies does each bag have? => ( 14.0 / 7.0 )\n",
      "there are 11 baskets of peaches. each basket has 10 red peaches and 18 green peaches. how many peaches are in the baskets altogether? => ( ( 10.0 + 18.0 ) * 11.0 )\n",
      "faye had 31 packs of pencils each one having 6 pencils. she was placing her pencils into rows with 19 pencils in each row. how many pencils does she have? => ( 31.0 * 6.0 )\n",
      "3 birds were sitting on the fence. 2 more birds and 6 more storks came to join them. how many more storks than birds are sitting on the fence? => ( 6.0 - ( 3.0 + 2.0 ) )\n",
      "the ring toss game at the carnival made 382 dollars in the first 44 days and 374 dollars in the remaining 10 days. how much did they make in all? => ( 382.0 + 374.0 )\n",
      "there were 78 dollars in olivia's wallet. she spent 15 dollars at a supermarket. how much money does she have left? => ( 78.0 - 15.0 )\n",
      "allan brought 2 balloons to the park and then bought 3 more balloons there. if jake brought 6 balloons to the park how many more balloons did jake have than allan in the park? => ( 6.0 - ( 2.0 + 3.0 ) )\n",
      "the cave is 1218 feet deep and they are already at 849 feet. if they are travelling at speed of 17 how much farther until they reach the end of the cave? => ( 1218.0 - 849.0 )\n",
      "frank had 33 pieces of candy. he lost 24 of them. if he put the remaining pieces into bags with 9 pieces in each bag how many bags would he have? => ( ( 33.0 - 24.0 ) / 9.0 )\n",
      "he then went to see the oranges being harvested. he found out that they harvest 41 sacks of unripe oranges and 86 sacks of ripe oranges per day. how many more sacks of ripe oranges than unripe oranges are harvested per day? => ( 86.0 - 41.0 )\n",
      "jack received 6 emails in the morning, 3 emails in the afternoon and 5 emails in the evening. how many emails did jack receive in the day? => ( ( 6.0 + 3.0 ) + 5.0 )\n",
      "he then went to see the oranges being harvested. he found out that they harvest 28 sacks of ripe oranges and 52 sacks of unripe oranges per day. how many sacks of oranges will they have after 26 days of harvest? => ( ( 28.0 + 52.0 ) * 26.0 )\n",
      "paco had 28 cookies. he ate some of them and had 7 cookies left. how many cookies did paco eat? => ( 28.0 - 7.0 )\n",
      "zachary did 51 push-ups and david did 44 push-ups in gym class today. how many more push-ups did zachary do than david? => ( 51.0 - 44.0 )\n",
      "for the walls of the house he would use 13 large planks of wood. if each plank of wood needs 17 pieces of nails to be secured and in addition 8 nails are needed for some smaller planks. how many nails does john need for the house wall? => ( ( 13.0 * 17.0 ) + 8.0 )\n",
      "lewis earns $ 28 every week during the 1091 weeks of harvest. he also earns $ 939 per week for working overtime. if he works overtime every week how much money does he earn during harvest season? => ( ( 28.0 + 939.0 ) * 1091.0 )\n",
      "bryan took a look at his books as well. if he has 34 books distributed equally in 2 bookshelves how many books are there in each bookshelf? => ( 34.0 / 2.0 )\n",
      "matthew gave 6 crackers to each his friends. if he had 36 crackers how many friends did he give crackers to? => ( 36.0 / 6.0 )\n",
      "kelly has 46 nintendo games and 132 sony games. how many sony games does she need to give away so that she will have 31 sony games left? => ( 132.0 - 31.0 )\n",
      "jesse's room is 11 feet long and 15 feet wide. if she already has 16 square feet of carpet how much more carpet does she need to cover the whole floor? => ( ( 11.0 * 15.0 ) - 16.0 )\n",
      "he then went to see the oranges being harvested. he found out that they harvested 54 sacks of oranges. how many days did it take to harvest them if they harvested 18 sacks of oranges per day? => ( 54.0 / 18.0 )\n",
      "during the arkansas and texas tech game the razorback t-shirt shop made $ 60 by selling t-shirts. if they make $ 10 dollars off each t-shirt sold how many t-shirts did they sell? => ( 60.0 / 10.0 )\n",
      "the grasshopper, the frog and the mouse had a jumping contest. the grasshopper jumped 19 inches. the grasshopper jumped 4 inches farther than the frog and the mouse jumped 44 inches lesser than the frog. how far did the frog jump? => ( 19.0 - 4.0 )\n",
      "allan brought 2 balloons and jake brought 6 balloons to the park. allan then bought 3 more balloons at the park. how many more balloons did jake have than allan in the park? => ( 6.0 - ( 2.0 + 3.0 ) )\n",
      "there were 53 dollars in olivia's wallet. she collected 91 more dollars from an atm. after she visited a supermarket there were 14 dollars left. how much more money did she spend at the supermarket than she collected at the atm? => ( 53.0 - 14.0 )\n",
      "paige raised 7 goldfish and 12 catfish in the pond but stray cats loved eating them. now she has 15 left. how many fishes disappeared? => ( ( 7.0 + 12.0 ) - 15.0 )\n",
      "jake has 8 fewer peaches and 10 more apples than steven. steven has 11 apples and 18 peaches. how many more peaches than apples does steven have? => ( 18.0 - 11.0 )\n",
      "dan had $ 3 left with him after he bought a candy bar. if he had $ 4 at the start how much did the candy bar cost? => ( 4.0 - 3.0 )\n"
     ]
    }
   ],
   "source": [
    "for i in range(50):\n",
    "    print(f'{train[i,0]} => {train[i,1]}')"
   ]
  },
  {
   "cell_type": "markdown",
   "id": "617d8854",
   "metadata": {},
   "source": [
    "the english-german-both.pkl that contains all of the train and test examples that we can use to define the parameters of the problem, such as max phrase lengths and the vocabulary, and the english-german-train.pkl and english-german-test.pkl files for the train and test dataset.\n",
    "\n",
    "We are now ready to start developing our translation model."
   ]
  },
  {
   "cell_type": "markdown",
   "id": "e2d12a56",
   "metadata": {},
   "source": [
    "# 3 Train Neural Machine Translation Model"
   ]
  },
  {
   "cell_type": "code",
   "execution_count": 18,
   "id": "fec6e73c",
   "metadata": {},
   "outputs": [],
   "source": [
    "# import necessary modules\n",
    "import tensorflow as tf\n",
    "from keras.preprocessing.text import Tokenizer\n",
    "from keras_preprocessing.sequence import pad_sequences\n",
    "from keras.utils import to_categorical\n",
    "from pickle import load\n",
    "from numpy import array\n",
    "from keras.utils.vis_utils import plot_model\n",
    "from keras.models import Sequential\n",
    "from keras.layers import LSTM\n",
    "from keras.layers import Dense\n",
    "from keras.layers import Embedding\n",
    "from keras.layers import RepeatVector\n",
    "from keras.layers import TimeDistributed\n",
    "from keras.callbacks import ModelCheckpoint"
   ]
  },
  {
   "cell_type": "code",
   "execution_count": 19,
   "id": "d4ee34a0",
   "metadata": {},
   "outputs": [],
   "source": [
    "# load datasets\n",
    "dataset = load_clean_sentences('SVAMP.pkl')\n",
    "train = load_clean_sentences('SVAMPtrain.pkl')\n",
    "test = load_clean_sentences('SVAMPtest.pkl')"
   ]
  },
  {
   "cell_type": "markdown",
   "id": "48455993",
   "metadata": {},
   "source": [
    "We will use separate tokenizer for the English sequences and the German sequences."
   ]
  },
  {
   "cell_type": "code",
   "execution_count": 20,
   "id": "24e0eeca",
   "metadata": {},
   "outputs": [],
   "source": [
    "# fit a tokenizer \n",
    "def create_tokenizer(lines):\n",
    "    tokenizer = Tokenizer()\n",
    "    tokenizer.fit_on_texts(lines)\n",
    "    return tokenizer\n",
    "\n",
    "# max sentence length\n",
    "def max_length(lines):\n",
    "    return max(len(line.split()) for line in lines)"
   ]
  },
  {
   "cell_type": "code",
   "execution_count": 23,
   "id": "94aaabb3",
   "metadata": {
    "scrolled": true
   },
   "outputs": [
    {
     "name": "stdout",
     "output_type": "stream",
     "text": [
      "MWP Vocabulary Size: 1237\n",
      "MWP Max Length: 57\n",
      "Equation Vocabulary Size: 350\n",
      "Equation Max Length: 9\n"
     ]
    }
   ],
   "source": [
    "# prepare english tokenizer\n",
    "mwp_tokenizer = create_tokenizer(dataset[:, 0])\n",
    "mwp_vocab_size = len(mwp_tokenizer.word_index) + 1\n",
    "mwp_length = max_length(dataset[:, 0])\n",
    "print('MWP Vocabulary Size: %d' % mwp_vocab_size)\n",
    "print('MWP Max Length: %d' % (mwp_length))\n",
    "\n",
    "# prepare german tokenizer\n",
    "eqn_tokenizer = create_tokenizer(dataset[:, 1])\n",
    "eqn_vocab_size = len(eqn_tokenizer.word_index) + 1\n",
    "eqn_length = max_length(dataset[:, 1])\n",
    "print('Equation Vocabulary Size: %d' % eqn_vocab_size)\n",
    "print('Equation Max Length: %d' % (eqn_length))"
   ]
  },
  {
   "cell_type": "markdown",
   "id": "bd657824",
   "metadata": {},
   "source": [
    "We are now ready to prepare the training dataset.\n",
    "\n",
    "Each input and output sequence must be encoded to integers and padded to the maximum phrase length. This is because we will use a word embedding for the input sequences and one hot encode the output sequences The function below named encode_sequences() will perform these operations and return the result."
   ]
  },
  {
   "cell_type": "code",
   "execution_count": 24,
   "id": "6cc154bb",
   "metadata": {},
   "outputs": [],
   "source": [
    "def encode_sequences(tokenizer, length, lines):\n",
    "    # encode sequences to integers\n",
    "    X = tokenizer.texts_to_sequences(lines)\n",
    "    # pad sequence with 0's\n",
    "    X = pad_sequences(X, maxlen=length, padding='post')\n",
    "    return X"
   ]
  },
  {
   "cell_type": "markdown",
   "id": "61027883",
   "metadata": {},
   "source": [
    "Now we gotts one hot encode it: cus we'll predict prob of each word in vocab as output.\n",
    "\n",
    "https://www.tensorflow.org/api_docs/python/tf/keras/utils/to_categorical"
   ]
  },
  {
   "cell_type": "code",
   "execution_count": 25,
   "id": "8d26ff41",
   "metadata": {},
   "outputs": [],
   "source": [
    "def encode_output(sequences, vocab_size):\n",
    "    ylist = list()\n",
    "    for sequence in sequences:\n",
    "        encoded = to_categorical(sequence, num_classes=vocab_size)\n",
    "        ylist.append(encoded)\n",
    "    y = array(ylist)\n",
    "    y = y.reshape(sequences.shape[0], sequences.shape[1], vocab_size)\n",
    "    return y"
   ]
  },
  {
   "cell_type": "code",
   "execution_count": 26,
   "id": "6e432679",
   "metadata": {},
   "outputs": [],
   "source": [
    "# prepare training data\n",
    "trainX = encode_sequences(eqn_tokenizer, eqn_length, train[:, 1])\n",
    "trainY = encode_sequences(mwp_tokenizer, mwp_length, train[:, 0])\n",
    "trainY = encode_output(trainY, mwp_vocab_size)\n",
    "\n",
    "# prepare validation data\n",
    "testX = encode_sequences(eqn_tokenizer, eqn_length, test[:, 1])\n",
    "testY = encode_sequences(mwp_tokenizer, mwp_length, test[:, 0])\n",
    "testY = encode_output(testY, mwp_vocab_size)"
   ]
  },
  {
   "cell_type": "markdown",
   "id": "b3a5e2c4",
   "metadata": {},
   "source": [
    "### Let's define model.\n",
    "\n",
    "enc-dec LSTM\n",
    "\n",
    "https://machinelearningmastery.com/configure-encoder-decoder-model-neural-machine-translation/"
   ]
  },
  {
   "cell_type": "code",
   "execution_count": 27,
   "id": "6b4bf4b1",
   "metadata": {},
   "outputs": [],
   "source": [
    "# define NMT model\n",
    "def define_model(src_vocab, tar_vocab, src_timesteps, tar_timesteps, n_units):\n",
    "    model = Sequential()\n",
    "#     SOURCE EMBEDDING\n",
    "    model.add(Embedding(src_vocab, n_units, input_length=src_timesteps, mask_zero=True))\n",
    "#     N UNITS LONG LSTM\n",
    "    model.add(LSTM(n_units))\n",
    "#     REPEAT SAME VAL TAR_STEPS TIMES\n",
    "    model.add(RepeatVector(tar_timesteps))\n",
    "#     ADD DECODER N UNITS, WITH RETURNED SEQUENCES\n",
    "    model.add(LSTM(n_units, return_sequences=True))\n",
    "#     USE SOFTMAX\n",
    "    model.add(TimeDistributed(Dense(tar_vocab, activation='softmax')))\n",
    "    return model\n"
   ]
  },
  {
   "cell_type": "code",
   "execution_count": 28,
   "id": "e33892fb",
   "metadata": {},
   "outputs": [
    {
     "name": "stdout",
     "output_type": "stream",
     "text": [
      "Model: \"sequential\"\n",
      "_________________________________________________________________\n",
      " Layer (type)                Output Shape              Param #   \n",
      "=================================================================\n",
      " embedding (Embedding)       (None, 9, 256)            89600     \n",
      "                                                                 \n",
      " lstm (LSTM)                 (None, 256)               525312    \n",
      "                                                                 \n",
      " repeat_vector (RepeatVector  (None, 57, 256)          0         \n",
      " )                                                               \n",
      "                                                                 \n",
      " lstm_1 (LSTM)               (None, 57, 256)           525312    \n",
      "                                                                 \n",
      " time_distributed (TimeDistr  (None, 57, 1237)         317909    \n",
      " ibuted)                                                         \n",
      "                                                                 \n",
      "=================================================================\n",
      "Total params: 1,458,133\n",
      "Trainable params: 1,458,133\n",
      "Non-trainable params: 0\n",
      "_________________________________________________________________\n",
      "None\n",
      "You must install pydot (`pip install pydot`) and install graphviz (see instructions at https://graphviz.gitlab.io/download/) for plot_model/model_to_dot to work.\n",
      "Epoch 1/30\n",
      "\n",
      "Epoch 1: val_loss improved from inf to 4.27495, saving model to svampsmodel.h5\n",
      "15/15 - 15s - loss: 5.4939 - val_loss: 4.2749 - 15s/epoch - 1s/step\n",
      "Epoch 2/30\n",
      "\n",
      "Epoch 2: val_loss improved from 4.27495 to 4.00595, saving model to svampsmodel.h5\n",
      "15/15 - 6s - loss: 3.9675 - val_loss: 4.0059 - 6s/epoch - 419ms/step\n",
      "Epoch 3/30\n",
      "\n",
      "Epoch 3: val_loss improved from 4.00595 to 3.98459, saving model to svampsmodel.h5\n",
      "15/15 - 6s - loss: 3.8641 - val_loss: 3.9846 - 6s/epoch - 415ms/step\n",
      "Epoch 4/30\n",
      "\n",
      "Epoch 4: val_loss improved from 3.98459 to 3.95329, saving model to svampsmodel.h5\n",
      "15/15 - 6s - loss: 3.8378 - val_loss: 3.9533 - 6s/epoch - 422ms/step\n",
      "Epoch 5/30\n",
      "\n",
      "Epoch 5: val_loss improved from 3.95329 to 3.89321, saving model to svampsmodel.h5\n",
      "15/15 - 6s - loss: 3.7937 - val_loss: 3.8932 - 6s/epoch - 417ms/step\n",
      "Epoch 6/30\n",
      "\n",
      "Epoch 6: val_loss improved from 3.89321 to 3.80750, saving model to svampsmodel.h5\n",
      "15/15 - 6s - loss: 3.7021 - val_loss: 3.8075 - 6s/epoch - 418ms/step\n",
      "Epoch 7/30\n",
      "\n",
      "Epoch 7: val_loss improved from 3.80750 to 3.66493, saving model to svampsmodel.h5\n",
      "15/15 - 6s - loss: 3.5888 - val_loss: 3.6649 - 6s/epoch - 420ms/step\n",
      "Epoch 8/30\n",
      "\n",
      "Epoch 8: val_loss improved from 3.66493 to 3.59928, saving model to svampsmodel.h5\n",
      "15/15 - 6s - loss: 3.4590 - val_loss: 3.5993 - 6s/epoch - 418ms/step\n",
      "Epoch 9/30\n",
      "\n",
      "Epoch 9: val_loss did not improve from 3.59928\n",
      "15/15 - 6s - loss: 3.4595 - val_loss: 3.7726 - 6s/epoch - 408ms/step\n",
      "Epoch 10/30\n",
      "\n",
      "Epoch 10: val_loss improved from 3.59928 to 3.59889, saving model to svampsmodel.h5\n",
      "15/15 - 6s - loss: 3.4646 - val_loss: 3.5989 - 6s/epoch - 408ms/step\n",
      "Epoch 11/30\n",
      "\n",
      "Epoch 11: val_loss improved from 3.59889 to 3.55754, saving model to svampsmodel.h5\n",
      "15/15 - 6s - loss: 3.3877 - val_loss: 3.5575 - 6s/epoch - 413ms/step\n",
      "Epoch 12/30\n",
      "\n",
      "Epoch 12: val_loss improved from 3.55754 to 3.55069, saving model to svampsmodel.h5\n",
      "15/15 - 6s - loss: 3.3566 - val_loss: 3.5507 - 6s/epoch - 415ms/step\n",
      "Epoch 13/30\n",
      "\n",
      "Epoch 13: val_loss improved from 3.55069 to 3.54009, saving model to svampsmodel.h5\n",
      "15/15 - 6s - loss: 3.3273 - val_loss: 3.5401 - 6s/epoch - 420ms/step\n",
      "Epoch 14/30\n",
      "\n",
      "Epoch 14: val_loss improved from 3.54009 to 3.53305, saving model to svampsmodel.h5\n",
      "15/15 - 6s - loss: 3.3088 - val_loss: 3.5331 - 6s/epoch - 414ms/step\n",
      "Epoch 15/30\n",
      "\n",
      "Epoch 15: val_loss improved from 3.53305 to 3.52320, saving model to svampsmodel.h5\n",
      "15/15 - 6s - loss: 3.2902 - val_loss: 3.5232 - 6s/epoch - 415ms/step\n",
      "Epoch 16/30\n",
      "\n",
      "Epoch 16: val_loss did not improve from 3.52320\n",
      "15/15 - 6s - loss: 3.2811 - val_loss: 3.5360 - 6s/epoch - 409ms/step\n",
      "Epoch 17/30\n",
      "\n",
      "Epoch 17: val_loss did not improve from 3.52320\n",
      "15/15 - 6s - loss: 3.2833 - val_loss: 3.5244 - 6s/epoch - 396ms/step\n",
      "Epoch 18/30\n",
      "\n",
      "Epoch 18: val_loss did not improve from 3.52320\n",
      "15/15 - 6s - loss: 3.2646 - val_loss: 3.5327 - 6s/epoch - 409ms/step\n",
      "Epoch 19/30\n",
      "\n",
      "Epoch 19: val_loss did not improve from 3.52320\n",
      "15/15 - 6s - loss: 3.2576 - val_loss: 3.5301 - 6s/epoch - 418ms/step\n",
      "Epoch 20/30\n",
      "\n",
      "Epoch 20: val_loss did not improve from 3.52320\n",
      "15/15 - 6s - loss: 3.2496 - val_loss: 3.5856 - 6s/epoch - 421ms/step\n",
      "Epoch 21/30\n",
      "\n",
      "Epoch 21: val_loss improved from 3.52320 to 3.51316, saving model to svampsmodel.h5\n",
      "15/15 - 7s - loss: 3.2618 - val_loss: 3.5132 - 7s/epoch - 444ms/step\n",
      "Epoch 22/30\n",
      "\n",
      "Epoch 22: val_loss did not improve from 3.51316\n",
      "15/15 - 7s - loss: 3.2637 - val_loss: 3.5309 - 7s/epoch - 435ms/step\n",
      "Epoch 23/30\n",
      "\n",
      "Epoch 23: val_loss did not improve from 3.51316\n",
      "15/15 - 6s - loss: 3.2439 - val_loss: 3.5178 - 6s/epoch - 421ms/step\n",
      "Epoch 24/30\n",
      "\n",
      "Epoch 24: val_loss did not improve from 3.51316\n",
      "15/15 - 6s - loss: 3.2292 - val_loss: 3.5410 - 6s/epoch - 415ms/step\n",
      "Epoch 25/30\n",
      "\n",
      "Epoch 25: val_loss did not improve from 3.51316\n",
      "15/15 - 6s - loss: 3.2327 - val_loss: 3.5286 - 6s/epoch - 421ms/step\n",
      "Epoch 26/30\n",
      "\n",
      "Epoch 26: val_loss did not improve from 3.51316\n",
      "15/15 - 6s - loss: 3.2216 - val_loss: 3.5210 - 6s/epoch - 414ms/step\n",
      "Epoch 27/30\n",
      "\n",
      "Epoch 27: val_loss improved from 3.51316 to 3.49872, saving model to svampsmodel.h5\n",
      "15/15 - 6s - loss: 3.2135 - val_loss: 3.4987 - 6s/epoch - 429ms/step\n",
      "Epoch 28/30\n",
      "\n",
      "Epoch 28: val_loss improved from 3.49872 to 3.49859, saving model to svampsmodel.h5\n",
      "15/15 - 7s - loss: 3.2078 - val_loss: 3.4986 - 7s/epoch - 437ms/step\n",
      "Epoch 29/30\n",
      "\n",
      "Epoch 29: val_loss did not improve from 3.49859\n",
      "15/15 - 6s - loss: 3.2043 - val_loss: 3.5478 - 6s/epoch - 424ms/step\n",
      "Epoch 30/30\n",
      "\n",
      "Epoch 30: val_loss improved from 3.49859 to 3.48836, saving model to svampsmodel.h5\n",
      "15/15 - 6s - loss: 3.2068 - val_loss: 3.4884 - 6s/epoch - 427ms/step\n"
     ]
    },
    {
     "data": {
      "text/plain": [
       "<keras.callbacks.History at 0x25b2c62b490>"
      ]
     },
     "execution_count": 28,
     "metadata": {},
     "output_type": "execute_result"
    }
   ],
   "source": [
    "# define model\n",
    "model = define_model(eqn_vocab_size, mwp_vocab_size, eqn_length, mwp_length, 256)\n",
    "model.compile(optimizer='adam', loss='categorical_crossentropy')\n",
    "\n",
    "# summarize defined model\n",
    "print(model.summary())\n",
    "plot_model(model, to_file='model.png', show_shapes=True)\n",
    "\n",
    "# fit model\n",
    "filename = 'svampsmodel.h5'\n",
    "checkpoint = ModelCheckpoint(filename, monitor='val_loss', verbose=1, save_best_only=True, mode='min')\n",
    "model.fit(trainX, trainY, epochs=30, batch_size=64, validation_data=(testX, testY), callbacks=[checkpoint], verbose=2)"
   ]
  },
  {
   "cell_type": "markdown",
   "id": "360c9ee1",
   "metadata": {},
   "source": [
    "#  4 Evaluate Model"
   ]
  },
  {
   "cell_type": "code",
   "execution_count": 29,
   "id": "9d690951",
   "metadata": {},
   "outputs": [],
   "source": [
    "from pickle import load\n",
    "from numpy import array\n",
    "from numpy import argmax\n",
    "from keras.models import load_model\n",
    "from nltk.translate.bleu_score import corpus_bleu\n",
    "\n",
    "# map an integer to a word\n",
    "def word_for_id(integer, tokenizer):\n",
    "    for word, index in tokenizer.word_index.items():\n",
    "        if index == integer:\n",
    "            return word\n",
    "    return None\n",
    "\n",
    "# generate target given source sequence\n",
    "def predict_sequence(model, tokenizer, source):\n",
    "    prediction = model.predict(source, verbose=0)[0]\n",
    "    integers = [argmax(vector) for vector in prediction]\n",
    "    target = list()\n",
    "    for i in integers:\n",
    "        word = word_for_id(i, tokenizer)\n",
    "        if word is None:\n",
    "            break\n",
    "        target.append(word)\n",
    "    return ' '.join(target)"
   ]
  },
  {
   "cell_type": "code",
   "execution_count": 30,
   "id": "ae9627e4",
   "metadata": {},
   "outputs": [],
   "source": [
    "# evaluate the skill of the model\n",
    "def evaluate_model(model, tokenizer, sources, raw_dataset):\n",
    "    actual, predicted = list(), list()\n",
    "    for i, source in enumerate(sources):\n",
    "        # translate encoded source text\n",
    "        source = source.reshape((1, source.shape[0]))\n",
    "        translation = predict_sequence(model, mwp_tokenizer, source)\n",
    "        raw_target, raw_src = raw_dataset[i]\n",
    "        if i < 10:\n",
    "            print('src=[%s], target=[%s], predicted=[%s]' % (raw_src, raw_target, translation))\n",
    "        actual.append([raw_target.split()])\n",
    "        predicted.append(translation.split())\n",
    "    # calculate BLEU score\n",
    "    print('BLEU-1: %f' % corpus_bleu(actual, predicted, weights=(1.0, 0, 0, 0)))\n",
    "    print('BLEU-2: %f' % corpus_bleu(actual, predicted, weights=(0.5, 0.5, 0, 0)))\n",
    "    print('BLEU-3: %f' % corpus_bleu(actual, predicted, weights=(0.3, 0.3, 0.3, 0)))\n",
    "    print('BLEU-4: %f' % corpus_bleu(actual, predicted, weights=(0.25, 0.25, 0.25, 0.25)))"
   ]
  },
  {
   "cell_type": "code",
   "execution_count": null,
   "id": "5ed28a76",
   "metadata": {},
   "outputs": [
    {
     "name": "stdout",
     "output_type": "stream",
     "text": [
      "train\n",
      "src=[( 29.0 - 17.0 )], target=[ed had 29 more marbles than doug. ed lost 17 of his marbles at the playground. how many more marbles did ed have than doug then?], predicted=[had had had the the the the the the the and and and and how how how how how how]\n",
      "src=[( 10.0 * 45.0 )], target=[paige was helping her mom plant flowers and together they planted some seeds. they put 10 seeds in each flower bed. if there are 45 flowerbeds how many seeds did they plant?], predicted=[had had had the and the the the the the the the the the and and and and and how how how how how how how how]\n",
      "src=[( 90.0 + 484.0 )], target=[helen the hippo and her friends are preparing for thanksgiving at helen's house. helen baked 90 chocolate chip cookies yesterday and 51 raisin cookies and 484 chocolate chip cookies this morning. how many chocolate chip cookies did helen bake?], predicted=[had had had the and and the the the the the the the the the the and and and and and and how how how how how how how how how]\n",
      "src=[( 527.0 + 554.0 )], target=[helen the hippo and her friends are preparing for thanksgiving at helen's house. helen baked 527 chocolate chip cookies and 86 raisin cookies yesterday. and she baked 86 raisin cookies and 554 chocolate chip cookies this morning. how many chocolate chip cookies did helen bake?], predicted=[had had had the and and the the the the the the the the the the the and and and and and and how how how how how how how how how]\n",
      "src=[( 11.0 * 13.0 )], target=[they decided to hold the party in their backyard. if they have 11 sets of tables and each set has 13 chairs how many chairs do they have in the backyard?], predicted=[had had had the and the the the the the the and and and and how how how how how how]\n",
      "src=[( ( 14.0 - 20.0 ) + 8.0 )], target=[robin's hair was 14 inches long. it grew by 8 inches. then he cut off 20 inches. how long is his hair now?], predicted=[had had had had and and and the the the the and and and and and and how how how how how how]\n",
      "src=[( 60.0 - ( 89.0 - 60.0 ) )], target=[winter is almost here and most animals are migrating to warmer countries. there were 89 bird families living near the mountain. if 60 bird families flew away for winter how many more bird families flew away for the winter than those that stayed behind?], predicted=[had had had had and and the the the the the the the the and and and and and and and how how how how how how how how]\n",
      "src=[( ( 100.0 + 148.0 ) - 159.0 )], target=[there were 100 dollars in olivia's wallet. she collected 148 more dollars from an atm. after she visited a supermarket there were 159 dollars left. how much did she spend?], predicted=[had had had had and and and the the the the and and and and and and how how how how how how]\n",
      "src=[( ( 700.0 + 700.0 ) + 142.0 )], target=[in a school there are 700 girls and the rest are boys. if there are 142 more boys than girls how many pupils are there in that school?], predicted=[had had had had and and and the the and and and and and how how how how how how]\n",
      "src=[( 92.0 - 68.0 )], target=[baker made 54 cakes and 143 pastries. if he sold 68 cakes and 92 pastries how many more pastries than cakes did baker sell?], predicted=[had had the the the the the the the the and and and how how how how how how]\n"
     ]
    }
   ],
   "source": [
    "# load datasets\n",
    "dataset = load_clean_sentences('SVAMP.pkl')\n",
    "train = load_clean_sentences('SVAMPtrain.pkl')\n",
    "test = load_clean_sentences('SVAMPtest.pkl')\n",
    "# prepare mwp tokenizer\n",
    "mwp_tokenizer = create_tokenizer(dataset[:, 0])\n",
    "mwp_vocab_size = len(mwp_tokenizer.word_index) + 1\n",
    "mwp_length = max_length(dataset[:, 0])\n",
    "# prepare eqn tokenizer\n",
    "eqn_tokenizer = create_tokenizer(dataset[:, 1])\n",
    "eqn_vocab_size = len(eqn_tokenizer.word_index) + 1\n",
    "eqn_length = max_length(dataset[:, 1])\n",
    "\n",
    "# prepare data\n",
    "trainX = encode_sequences(eqn_tokenizer, eqn_length, train[:, 1])\n",
    "testX = encode_sequences(eqn_tokenizer, eqn_length, test[:, 1])\n",
    "\n",
    "# load model\n",
    "model = load_model('svampsmodel.h5')\n",
    "# test on some training sequences\n",
    "print('train')\n",
    "evaluate_model(model, mwp_tokenizer, trainX, train)\n",
    "# test on some test sequences\n",
    "print('test')\n",
    "evaluate_model(model, mwp_tokenizer, testX, test)"
   ]
  },
  {
   "cell_type": "code",
   "execution_count": null,
   "id": "70a70685",
   "metadata": {},
   "outputs": [],
   "source": []
  }
 ],
 "metadata": {
  "kernelspec": {
   "display_name": "Python 3 (ipykernel)",
   "language": "python",
   "name": "python3"
  },
  "language_info": {
   "codemirror_mode": {
    "name": "ipython",
    "version": 3
   },
   "file_extension": ".py",
   "mimetype": "text/x-python",
   "name": "python",
   "nbconvert_exporter": "python",
   "pygments_lexer": "ipython3",
   "version": "3.10.6"
  }
 },
 "nbformat": 4,
 "nbformat_minor": 5
}
