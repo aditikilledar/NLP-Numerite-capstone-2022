{
 "cells": [
  {
   "cell_type": "code",
   "execution_count": 1,
   "metadata": {
    "id": "xnDtElUQ2t1W"
   },
   "outputs": [],
   "source": [
    "from typing import List"
   ]
  },
  {
   "cell_type": "code",
   "execution_count": 3,
   "metadata": {},
   "outputs": [],
   "source": [
    "def knowledge_base_quantity_extraction(statement:tuple ,question:tuple):\n",
    "    #assuming that the knowledge base is of the form (entity, [actor list], numerical valule)\n",
    "    #for question -> (entity,actor)\n",
    "    if statement[0] == question[0]: #checks if same entity as question\n",
    "        for i in statement[1]:\n",
    "            if i == question[1]: #checks if even one actor matches with the question \n",
    "                return statement[2] #returns the numerical value of the microstatement\n",
    "    return \"irrelevant\""
   ]
  },
  {
   "cell_type": "code",
   "execution_count": null,
   "metadata": {},
   "outputs": [],
   "source": [
    "question = input()\n",
    "list_microstatements = microstatements(question) #microstatement module, dont know name, this is placeholder\n",
    "statements = []\n",
    "quantities = []\n",
    "for i in list_microstatements:\n",
    "    if isQuestion_DL(i) == 1: #question identifier module, needs to be imported\n",
    "        questions = i\n",
    "    else:\n",
    "        statements.append(i)\n",
    "knowledge_base_statement = knowledge_base(statements) #list of all statement breakdowns     --->knowledge_base module to be imported\n",
    "question_breakdown = knowledge_base(questions) #a single tuple of (one entity, one actor)\n",
    "for statement in knowledge_base_statements:\n",
    "    quant = knowledge_base_quantity_extraction(statement, question_breakdown)\n",
    "    if quant  != \"irrelevant\":\n",
    "        quantities.append(quant)"
   ]
  },
  {
   "cell_type": "code",
   "execution_count": 10,
   "metadata": {
    "id": "e8uHYVkhoY9i"
   },
   "outputs": [],
   "source": [
    "def equation_generation(operation:str, quantities):\n",
    "    \"\"\"\n",
    "    input: operation from op classifier, list of quantities from KB\n",
    "    output: an equation represented as a string\n",
    "    \"\"\"\n",
    "    equation =\"\"\n",
    "    ordered = True #implies that the order of the quantities would remain same in equation, False for divison and subtraction to prevent decimals/negatives\n",
    "    if operation=='Addition':\n",
    "        operator = \"+\"\n",
    "    if operation=='Multiplication':\n",
    "        operator = \"*\"\n",
    "    if operation=='Division':\n",
    "        operator = \"/\"\n",
    "        ordered = False\n",
    "    if operation=='Subtraction':\n",
    "        operator = \"-\"\n",
    "        ordered = False\n",
    "\n",
    "    if ordered==False:\n",
    "        quantities.sort(reverse=True)\n",
    "    \n",
    "    for i in quantities:\n",
    "        equation = equation+i+operator\n",
    "\n",
    "    return equation[:-1]\n",
    "\n"
   ]
  },
  {
   "cell_type": "code",
   "execution_count": 13,
   "metadata": {
    "colab": {
     "base_uri": "https://localhost:8080/",
     "height": 35
    },
    "id": "rG22WqkwqknR",
    "outputId": "4b7b62a5-e0ab-4f6a-cc05-5fb2878f3720"
   },
   "outputs": [
    {
     "data": {
      "text/plain": [
       "'1*9'"
      ]
     },
     "execution_count": 13,
     "metadata": {},
     "output_type": "execute_result"
    }
   ],
   "source": [
    "equation_generation(\"Multiplication\",[\"1\",\"9\"])"
   ]
  },
  {
   "cell_type": "code",
   "execution_count": 16,
   "metadata": {
    "id": "F8YgvG-a05c0"
   },
   "outputs": [],
   "source": [
    "def solver(operation, quantities):\n",
    "    \"\"\"\n",
    "    solves an equation of the format \"x=quantity<op>quantity<op>...\"\n",
    "    Eg. x=3-2-1-5-3\n",
    "        x=1+3+5+7+0\n",
    "    \"\"\"\n",
    "    solution = int(quantities.pop(0))\n",
    "    if operation == 'Addition':\n",
    "        while quantities:\n",
    "            solution += int(quantities.pop(0))\n",
    "    if operation == 'Subtraction':\n",
    "        while quantities:\n",
    "            solution -= int(quantities.pop(0))\n",
    "    if operation == 'Division':\n",
    "        while quantities:\n",
    "            solution /= int(quantities.pop(0))\n",
    "    if operation == 'Multiplication':\n",
    "        while quantities:\n",
    "            solution *= int(quantities.pop(0))\n",
    "  \n",
    "    return solution\n",
    "  "
   ]
  },
  {
   "cell_type": "code",
   "execution_count": 17,
   "metadata": {
    "colab": {
     "base_uri": "https://localhost:8080/"
    },
    "id": "OlsOETuI7jiB",
    "outputId": "bbcdf6fe-a676-4920-859f-dd07dee919bd"
   },
   "outputs": [
    {
     "data": {
      "text/plain": [
       "25"
      ]
     },
     "execution_count": 17,
     "metadata": {},
     "output_type": "execute_result"
    }
   ],
   "source": [
    "solver('Addition', [\"10\", \"9\", \"6\"])"
   ]
  },
  {
   "cell_type": "code",
   "execution_count": null,
   "metadata": {
    "id": "kWBN0x1172iz"
   },
   "outputs": [],
   "source": []
  }
 ],
 "metadata": {
  "colab": {
   "provenance": []
  },
  "kernelspec": {
   "display_name": "Python 3",
   "language": "python",
   "name": "python3"
  }
 },
 "nbformat": 4,
 "nbformat_minor": 1
}
