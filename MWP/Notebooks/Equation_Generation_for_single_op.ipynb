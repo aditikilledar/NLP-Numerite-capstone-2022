{
  "nbformat": 4,
  "nbformat_minor": 0,
  "metadata": {
    "colab": {
      "provenance": []
    },
    "kernelspec": {
      "name": "python3",
      "display_name": "Python 3"
    },
    "language_info": {
      "name": "python"
    }
  },
  "cells": [
    {
      "cell_type": "code",
      "execution_count": 2,
      "metadata": {
        "id": "e8uHYVkhoY9i"
      },
      "outputs": [],
      "source": [
        "def equation_generation(operator:str, quantities:str):\n",
        "  equation =\"\"\n",
        "  for i in quantities:\n",
        "    equation = equation+i+operator\n",
        "\n",
        "  return equation[:-1]\n",
        "\n"
      ]
    },
    {
      "cell_type": "code",
      "source": [
        "equation_generation(\"+\",[\"10\",\"9\",\"6\"])"
      ],
      "metadata": {
        "colab": {
          "base_uri": "https://localhost:8080/",
          "height": 35
        },
        "id": "rG22WqkwqknR",
        "outputId": "12541acd-fe08-4a0f-e628-ca134183d1f2"
      },
      "execution_count": 3,
      "outputs": [
        {
          "output_type": "execute_result",
          "data": {
            "text/plain": [
              "'10+9+6'"
            ],
            "application/vnd.google.colaboratory.intrinsic+json": {
              "type": "string"
            }
          },
          "metadata": {},
          "execution_count": 3
        }
      ]
    }
  ]
}