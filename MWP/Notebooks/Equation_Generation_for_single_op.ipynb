{
  "nbformat": 4,
  "nbformat_minor": 0,
  "metadata": {
    "colab": {
      "provenance": []
    },
    "kernelspec": {
      "name": "python3",
      "display_name": "Python 3"
    },
    "language_info": {
      "name": "python"
    }
  },
  "cells": [
    {
      "cell_type": "code",
      "source": [
        "from typing import List"
      ],
      "metadata": {
        "id": "xnDtElUQ2t1W"
      },
      "execution_count": 1,
      "outputs": []
    },
    {
      "cell_type": "code",
      "execution_count": 2,
      "metadata": {
        "id": "e8uHYVkhoY9i"
      },
      "outputs": [],
      "source": [
        "def equation_generation(operation:str, quantities:List):\n",
        "  \"\"\"\n",
        "  input: operation from op classifier, list of quantities from KB\n",
        "  output: an equation represented as a string\n",
        "  \"\"\"\n",
        "  equation =\"\"\n",
        "  \n",
        "  if operation=='Addition':\n",
        "    operator = \"+\"\n",
        "  if operation=='Multiplication':\n",
        "    operator = \"*\"\n",
        "  if operation=='Division':\n",
        "    operator = \"/\"\n",
        "  if operation=='Subtraction':\n",
        "    operator = \"-\"\n",
        "  for i in quantities:\n",
        "    equation = equation+i+operator\n",
        "\n",
        "  return equation[:-1]\n",
        "\n"
      ]
    },
    {
      "cell_type": "code",
      "source": [
        "equation_generation(\"Addition\",[\"10\",\"9\",\"6\"])"
      ],
      "metadata": {
        "colab": {
          "base_uri": "https://localhost:8080/",
          "height": 35
        },
        "id": "rG22WqkwqknR",
        "outputId": "4b7b62a5-e0ab-4f6a-cc05-5fb2878f3720"
      },
      "execution_count": 3,
      "outputs": [
        {
          "output_type": "execute_result",
          "data": {
            "text/plain": [
              "'10+9+6'"
            ],
            "application/vnd.google.colaboratory.intrinsic+json": {
              "type": "string"
            }
          },
          "metadata": {},
          "execution_count": 3
        }
      ]
    },
    {
      "cell_type": "code",
      "source": [
        "def solver(operation, quantities):\n",
        "  \"\"\"\n",
        "  solves an equation of the format \"x=quantity<op>quantity<op>...\"\n",
        "  Eg. x=3-2-1-5-3\n",
        "      x=1+3+5+7+0\n",
        "  \"\"\"\n",
        "  solution = int(quantities.pop(0))\n",
        "  if operation == 'Addition':\n",
        "    while quantities:\n",
        "      solution += int(quantities.pop(0))\n",
        "  if operation == 'Subtraction':\n",
        "    while quantities:\n",
        "      solution -= int(quantities.pop(0))\n",
        "  if operation == 'Division':\n",
        "    while quantities:\n",
        "      solution /= int(quantities.pop(0))\n",
        "  if operation == 'Multiplication':\n",
        "    while quantities:\n",
        "      solution *= int(quantities.pop(0))\n",
        "  \n",
        "  return solution\n",
        "  "
      ],
      "metadata": {
        "id": "F8YgvG-a05c0"
      },
      "execution_count": 4,
      "outputs": []
    },
    {
      "cell_type": "code",
      "source": [
        "solver('Addition', [\"10\", \"9\", \"6\"])"
      ],
      "metadata": {
        "colab": {
          "base_uri": "https://localhost:8080/"
        },
        "id": "OlsOETuI7jiB",
        "outputId": "bbcdf6fe-a676-4920-859f-dd07dee919bd"
      },
      "execution_count": 5,
      "outputs": [
        {
          "output_type": "execute_result",
          "data": {
            "text/plain": [
              "25"
            ]
          },
          "metadata": {},
          "execution_count": 5
        }
      ]
    },
    {
      "cell_type": "code",
      "source": [],
      "metadata": {
        "id": "kWBN0x1172iz"
      },
      "execution_count": null,
      "outputs": []
    }
  ]
}