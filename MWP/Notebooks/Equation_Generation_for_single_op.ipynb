{
  "nbformat": 4,
  "nbformat_minor": 0,
  "metadata": {
    "colab": {
      "provenance": []
    },
    "kernelspec": {
      "name": "python3",
      "display_name": "Python 3"
    },
    "language_info": {
      "name": "python"
    }
  },
  "cells": [
    {
      "cell_type": "code",
      "execution_count": 5,
      "metadata": {
        "id": "e8uHYVkhoY9i"
      },
      "outputs": [],
      "source": [
        "def equation_generation(operation:str, quantities:str):\n",
        "  equation =\"\"\n",
        "  if operation=='Addition':\n",
        "    operator = \"+\"\n",
        "  if operation=='Multiplication':\n",
        "    operator = \"*\"\n",
        "  if operation=='Division':\n",
        "    operator = \"/\"\n",
        "  if operation=='Subtraction':\n",
        "    operator = \"-\"\n",
        "  for i in quantities:\n",
        "    equation = equation+i+operator\n",
        "\n",
        "  return equation[:-1]\n",
        "\n"
      ]
    },
    {
      "cell_type": "code",
      "source": [
        "equation_generation(\"Addition\",[\"10\",\"9\",\"6\"])"
      ],
      "metadata": {
        "colab": {
          "base_uri": "https://localhost:8080/",
          "height": 35
        },
        "id": "rG22WqkwqknR",
        "outputId": "afd12234-792f-47f0-fbee-8b47b5d1b5c3"
      },
      "execution_count": 6,
      "outputs": [
        {
          "output_type": "execute_result",
          "data": {
            "text/plain": [
              "'10+9+6'"
            ],
            "application/vnd.google.colaboratory.intrinsic+json": {
              "type": "string"
            }
          },
          "metadata": {},
          "execution_count": 6
        }
      ]
    }
  ]
}