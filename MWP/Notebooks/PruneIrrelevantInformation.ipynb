{
  "nbformat": 4,
  "nbformat_minor": 0,
  "metadata": {
    "colab": {
      "provenance": [],
      "collapsed_sections": []
    },
    "kernelspec": {
      "name": "python3",
      "display_name": "Python 3"
    },
    "language_info": {
      "name": "python"
    }
  },
  "cells": [
    {
      "cell_type": "markdown",
      "source": [
        "get micro statements - resolve conjunctions\n",
        "extract similarities between the question and the subject verb objects of the microstatements - prune the microstatements with similarity less than threshold\n",
        "\n",
        "OR\n",
        "\n",
        "look for matching entities using NER"
      ],
      "metadata": {
        "id": "oEF2vS8fUXGy"
      }
    },
    {
      "cell_type": "code",
      "execution_count": null,
      "metadata": {
        "id": "lX5RA1DaUGen"
      },
      "outputs": [],
      "source": [
        "!pip install -U spacy==2.1.0\n",
        "!python -m spacy download en\n",
        "\n",
        "!pip install Cython --install-option=\"–no-cython-compile\"\n",
        "\n",
        "!pip install neuralcoref"
      ]
    },
    {
      "cell_type": "code",
      "source": [
        "pip install benepar"
      ],
      "metadata": {
        "id": "_cUCcpu0UfsY"
      },
      "execution_count": null,
      "outputs": []
    },
    {
      "cell_type": "code",
      "source": [
        "!python -m spacy download en_core_web_md"
      ],
      "metadata": {
        "id": "92CssyPsUiWO"
      },
      "execution_count": null,
      "outputs": []
    },
    {
      "cell_type": "code",
      "source": [
        "import nltk\n",
        "nltk.download('punkt')"
      ],
      "metadata": {
        "id": "b6ARZlecUku6"
      },
      "execution_count": null,
      "outputs": []
    },
    {
      "cell_type": "code",
      "source": [
        "import pandas as pd\n"
      ],
      "metadata": {
        "id": "KfWz0HMuUnOe"
      },
      "execution_count": 31,
      "outputs": []
    },
    {
      "cell_type": "code",
      "source": [
        "import spacy\n",
        "nlp_pronoun = spacy.load('en')\n",
        "import neuralcoref"
      ],
      "metadata": {
        "id": "lArMM2LhUqom"
      },
      "execution_count": 32,
      "outputs": []
    },
    {
      "cell_type": "code",
      "source": [
        "neuralcoref.add_to_pipe(nlp_pronoun,greedyness=0.52)"
      ],
      "metadata": {
        "id": "v8z5Pdz6UvgK"
      },
      "execution_count": null,
      "outputs": []
    },
    {
      "cell_type": "code",
      "source": [
        "def replace(sentence):\n",
        "  doc = nlp_pronoun(sentence)\n",
        "  return doc._.coref_resolved\n",
        "\n",
        "replace(\"john had 2 apples, he ate 1\")"
      ],
      "metadata": {
        "colab": {
          "base_uri": "https://localhost:8080/",
          "height": 36
        },
        "id": "S6HHhcCwUyI-",
        "outputId": "5f0a2128-dc4f-4b65-be10-871e8d5bca21"
      },
      "execution_count": 34,
      "outputs": [
        {
          "output_type": "execute_result",
          "data": {
            "text/plain": [
              "'john had 2 apples, john ate 1'"
            ],
            "application/vnd.google.colaboratory.intrinsic+json": {
              "type": "string"
            }
          },
          "metadata": {},
          "execution_count": 34
        }
      ]
    },
    {
      "cell_type": "code",
      "source": [
        "from google.colab import files\n",
        "uploaded = files.upload()"
      ],
      "metadata": {
        "colab": {
          "resources": {
            "http://localhost:8080/nbextensions/google.colab/files.js": {
              "data": "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",
              "ok": true,
              "headers": [
                [
                  "content-type",
                  "application/javascript"
                ]
              ],
              "status": 200,
              "status_text": ""
            }
          },
          "base_uri": "https://localhost:8080/",
          "height": 74
        },
        "id": "n9nDbfUCVak9",
        "outputId": "277dfd76-aa17-4a08-837b-0a0e702b29bf"
      },
      "execution_count": 35,
      "outputs": [
        {
          "output_type": "display_data",
          "data": {
            "text/plain": [
              "<IPython.core.display.HTML object>"
            ],
            "text/html": [
              "\n",
              "     <input type=\"file\" id=\"files-008cafc7-c372-48c8-9f04-7f6bd1c6699b\" name=\"files[]\" multiple disabled\n",
              "        style=\"border:none\" />\n",
              "     <output id=\"result-008cafc7-c372-48c8-9f04-7f6bd1c6699b\">\n",
              "      Upload widget is only available when the cell has been executed in the\n",
              "      current browser session. Please rerun this cell to enable.\n",
              "      </output>\n",
              "      <script src=\"/nbextensions/google.colab/files.js\"></script> "
            ]
          },
          "metadata": {}
        },
        {
          "output_type": "stream",
          "name": "stdout",
          "text": [
            "Saving SVAMP.json to SVAMP (1).json\n"
          ]
        }
      ]
    },
    {
      "cell_type": "code",
      "source": [
        "df = pd.read_json(\"SVAMP.json\")\n",
        "df"
      ],
      "metadata": {
        "colab": {
          "base_uri": "https://localhost:8080/",
          "height": 424
        },
        "id": "t6JITKyVU0ZX",
        "outputId": "0354354b-5e61-4993-9366-94363941ccd9"
      },
      "execution_count": 36,
      "outputs": [
        {
          "output_type": "execute_result",
          "data": {
            "text/plain": [
              "            ID                                               Body  \\\n",
              "0       chal-1  Each pack of dvds costs 76 dollars. If there i...   \n",
              "1       chal-2  Dan had $ 3 left with him after he bought a ca...   \n",
              "2       chal-3  Paco had 26 salty cookies and 17 sweet cookies...   \n",
              "3       chal-4  43 children were riding on the bus. At the bus...   \n",
              "4       chal-5  28 children were riding on the bus. At the bus...   \n",
              "..         ...                                                ...   \n",
              "995   chal-996  Paige was helping her mom plant flowers and to...   \n",
              "996   chal-997  At the zoo, a cage had 3 snakes and 75 alligat...   \n",
              "997   chal-998  Paige was helping her mom plant flowers and to...   \n",
              "998   chal-999  Mary is baking a cake. The recipe calls for 7 ...   \n",
              "999  chal-1000  The grasshopper and the frog had a jumping con...   \n",
              "\n",
              "                                              Question  \\\n",
              "0        How much do you have to pay to buy each pack?   \n",
              "1                     How much did the candy bar cost?   \n",
              "2           How many salty cookies did Paco have left?   \n",
              "3    How many children got off the bus at the bus s...   \n",
              "4    How many more children got on the bus than tho...   \n",
              "..                                                 ...   \n",
              "995                How many flower beds did they have?   \n",
              "996               How many alligators were not hiding?   \n",
              "997                    How many flowers did they grow?   \n",
              "998  How many more cups of sugar does she need to add?   \n",
              "999                         How far did the frog jump?   \n",
              "\n",
              "                       Equation  Answer             Type  \n",
              "0               ( 76.0 - 25.0 )      51      Subtraction  \n",
              "1                 ( 4.0 - 3.0 )       1      Subtraction  \n",
              "2                ( 26.0 - 9.0 )      17      Subtraction  \n",
              "3               ( 43.0 - 21.0 )      22      Subtraction  \n",
              "4               ( 30.0 - 28.0 )       2      Subtraction  \n",
              "..                          ...     ...              ...  \n",
              "995             ( 36.0 / 12.0 )       3  Common-Division  \n",
              "996             ( 75.0 - 19.0 )      56      Subtraction  \n",
              "997  ( 60.0 * ( 55.0 / 15.0 ) )     220   Multiplication  \n",
              "998               ( 7.0 - 4.0 )       3      Subtraction  \n",
              "999              ( 13.0 - 2.0 )      11      Subtraction  \n",
              "\n",
              "[1000 rows x 6 columns]"
            ],
            "text/html": [
              "\n",
              "  <div id=\"df-e4e8c761-290d-47d7-b5a1-a9799579590c\">\n",
              "    <div class=\"colab-df-container\">\n",
              "      <div>\n",
              "<style scoped>\n",
              "    .dataframe tbody tr th:only-of-type {\n",
              "        vertical-align: middle;\n",
              "    }\n",
              "\n",
              "    .dataframe tbody tr th {\n",
              "        vertical-align: top;\n",
              "    }\n",
              "\n",
              "    .dataframe thead th {\n",
              "        text-align: right;\n",
              "    }\n",
              "</style>\n",
              "<table border=\"1\" class=\"dataframe\">\n",
              "  <thead>\n",
              "    <tr style=\"text-align: right;\">\n",
              "      <th></th>\n",
              "      <th>ID</th>\n",
              "      <th>Body</th>\n",
              "      <th>Question</th>\n",
              "      <th>Equation</th>\n",
              "      <th>Answer</th>\n",
              "      <th>Type</th>\n",
              "    </tr>\n",
              "  </thead>\n",
              "  <tbody>\n",
              "    <tr>\n",
              "      <th>0</th>\n",
              "      <td>chal-1</td>\n",
              "      <td>Each pack of dvds costs 76 dollars. If there i...</td>\n",
              "      <td>How much do you have to pay to buy each pack?</td>\n",
              "      <td>( 76.0 - 25.0 )</td>\n",
              "      <td>51</td>\n",
              "      <td>Subtraction</td>\n",
              "    </tr>\n",
              "    <tr>\n",
              "      <th>1</th>\n",
              "      <td>chal-2</td>\n",
              "      <td>Dan had $ 3 left with him after he bought a ca...</td>\n",
              "      <td>How much did the candy bar cost?</td>\n",
              "      <td>( 4.0 - 3.0 )</td>\n",
              "      <td>1</td>\n",
              "      <td>Subtraction</td>\n",
              "    </tr>\n",
              "    <tr>\n",
              "      <th>2</th>\n",
              "      <td>chal-3</td>\n",
              "      <td>Paco had 26 salty cookies and 17 sweet cookies...</td>\n",
              "      <td>How many salty cookies did Paco have left?</td>\n",
              "      <td>( 26.0 - 9.0 )</td>\n",
              "      <td>17</td>\n",
              "      <td>Subtraction</td>\n",
              "    </tr>\n",
              "    <tr>\n",
              "      <th>3</th>\n",
              "      <td>chal-4</td>\n",
              "      <td>43 children were riding on the bus. At the bus...</td>\n",
              "      <td>How many children got off the bus at the bus s...</td>\n",
              "      <td>( 43.0 - 21.0 )</td>\n",
              "      <td>22</td>\n",
              "      <td>Subtraction</td>\n",
              "    </tr>\n",
              "    <tr>\n",
              "      <th>4</th>\n",
              "      <td>chal-5</td>\n",
              "      <td>28 children were riding on the bus. At the bus...</td>\n",
              "      <td>How many more children got on the bus than tho...</td>\n",
              "      <td>( 30.0 - 28.0 )</td>\n",
              "      <td>2</td>\n",
              "      <td>Subtraction</td>\n",
              "    </tr>\n",
              "    <tr>\n",
              "      <th>...</th>\n",
              "      <td>...</td>\n",
              "      <td>...</td>\n",
              "      <td>...</td>\n",
              "      <td>...</td>\n",
              "      <td>...</td>\n",
              "      <td>...</td>\n",
              "    </tr>\n",
              "    <tr>\n",
              "      <th>995</th>\n",
              "      <td>chal-996</td>\n",
              "      <td>Paige was helping her mom plant flowers and to...</td>\n",
              "      <td>How many flower beds did they have?</td>\n",
              "      <td>( 36.0 / 12.0 )</td>\n",
              "      <td>3</td>\n",
              "      <td>Common-Division</td>\n",
              "    </tr>\n",
              "    <tr>\n",
              "      <th>996</th>\n",
              "      <td>chal-997</td>\n",
              "      <td>At the zoo, a cage had 3 snakes and 75 alligat...</td>\n",
              "      <td>How many alligators were not hiding?</td>\n",
              "      <td>( 75.0 - 19.0 )</td>\n",
              "      <td>56</td>\n",
              "      <td>Subtraction</td>\n",
              "    </tr>\n",
              "    <tr>\n",
              "      <th>997</th>\n",
              "      <td>chal-998</td>\n",
              "      <td>Paige was helping her mom plant flowers and to...</td>\n",
              "      <td>How many flowers did they grow?</td>\n",
              "      <td>( 60.0 * ( 55.0 / 15.0 ) )</td>\n",
              "      <td>220</td>\n",
              "      <td>Multiplication</td>\n",
              "    </tr>\n",
              "    <tr>\n",
              "      <th>998</th>\n",
              "      <td>chal-999</td>\n",
              "      <td>Mary is baking a cake. The recipe calls for 7 ...</td>\n",
              "      <td>How many more cups of sugar does she need to add?</td>\n",
              "      <td>( 7.0 - 4.0 )</td>\n",
              "      <td>3</td>\n",
              "      <td>Subtraction</td>\n",
              "    </tr>\n",
              "    <tr>\n",
              "      <th>999</th>\n",
              "      <td>chal-1000</td>\n",
              "      <td>The grasshopper and the frog had a jumping con...</td>\n",
              "      <td>How far did the frog jump?</td>\n",
              "      <td>( 13.0 - 2.0 )</td>\n",
              "      <td>11</td>\n",
              "      <td>Subtraction</td>\n",
              "    </tr>\n",
              "  </tbody>\n",
              "</table>\n",
              "<p>1000 rows × 6 columns</p>\n",
              "</div>\n",
              "      <button class=\"colab-df-convert\" onclick=\"convertToInteractive('df-e4e8c761-290d-47d7-b5a1-a9799579590c')\"\n",
              "              title=\"Convert this dataframe to an interactive table.\"\n",
              "              style=\"display:none;\">\n",
              "        \n",
              "  <svg xmlns=\"http://www.w3.org/2000/svg\" height=\"24px\"viewBox=\"0 0 24 24\"\n",
              "       width=\"24px\">\n",
              "    <path d=\"M0 0h24v24H0V0z\" fill=\"none\"/>\n",
              "    <path d=\"M18.56 5.44l.94 2.06.94-2.06 2.06-.94-2.06-.94-.94-2.06-.94 2.06-2.06.94zm-11 1L8.5 8.5l.94-2.06 2.06-.94-2.06-.94L8.5 2.5l-.94 2.06-2.06.94zm10 10l.94 2.06.94-2.06 2.06-.94-2.06-.94-.94-2.06-.94 2.06-2.06.94z\"/><path d=\"M17.41 7.96l-1.37-1.37c-.4-.4-.92-.59-1.43-.59-.52 0-1.04.2-1.43.59L10.3 9.45l-7.72 7.72c-.78.78-.78 2.05 0 2.83L4 21.41c.39.39.9.59 1.41.59.51 0 1.02-.2 1.41-.59l7.78-7.78 2.81-2.81c.8-.78.8-2.07 0-2.86zM5.41 20L4 18.59l7.72-7.72 1.47 1.35L5.41 20z\"/>\n",
              "  </svg>\n",
              "      </button>\n",
              "      \n",
              "  <style>\n",
              "    .colab-df-container {\n",
              "      display:flex;\n",
              "      flex-wrap:wrap;\n",
              "      gap: 12px;\n",
              "    }\n",
              "\n",
              "    .colab-df-convert {\n",
              "      background-color: #E8F0FE;\n",
              "      border: none;\n",
              "      border-radius: 50%;\n",
              "      cursor: pointer;\n",
              "      display: none;\n",
              "      fill: #1967D2;\n",
              "      height: 32px;\n",
              "      padding: 0 0 0 0;\n",
              "      width: 32px;\n",
              "    }\n",
              "\n",
              "    .colab-df-convert:hover {\n",
              "      background-color: #E2EBFA;\n",
              "      box-shadow: 0px 1px 2px rgba(60, 64, 67, 0.3), 0px 1px 3px 1px rgba(60, 64, 67, 0.15);\n",
              "      fill: #174EA6;\n",
              "    }\n",
              "\n",
              "    [theme=dark] .colab-df-convert {\n",
              "      background-color: #3B4455;\n",
              "      fill: #D2E3FC;\n",
              "    }\n",
              "\n",
              "    [theme=dark] .colab-df-convert:hover {\n",
              "      background-color: #434B5C;\n",
              "      box-shadow: 0px 1px 3px 1px rgba(0, 0, 0, 0.15);\n",
              "      filter: drop-shadow(0px 1px 2px rgba(0, 0, 0, 0.3));\n",
              "      fill: #FFFFFF;\n",
              "    }\n",
              "  </style>\n",
              "\n",
              "      <script>\n",
              "        const buttonEl =\n",
              "          document.querySelector('#df-e4e8c761-290d-47d7-b5a1-a9799579590c button.colab-df-convert');\n",
              "        buttonEl.style.display =\n",
              "          google.colab.kernel.accessAllowed ? 'block' : 'none';\n",
              "\n",
              "        async function convertToInteractive(key) {\n",
              "          const element = document.querySelector('#df-e4e8c761-290d-47d7-b5a1-a9799579590c');\n",
              "          const dataTable =\n",
              "            await google.colab.kernel.invokeFunction('convertToInteractive',\n",
              "                                                     [key], {});\n",
              "          if (!dataTable) return;\n",
              "\n",
              "          const docLinkHtml = 'Like what you see? Visit the ' +\n",
              "            '<a target=\"_blank\" href=https://colab.research.google.com/notebooks/data_table.ipynb>data table notebook</a>'\n",
              "            + ' to learn more about interactive tables.';\n",
              "          element.innerHTML = '';\n",
              "          dataTable['output_type'] = 'display_data';\n",
              "          await google.colab.output.renderOutput(dataTable, element);\n",
              "          const docLink = document.createElement('div');\n",
              "          docLink.innerHTML = docLinkHtml;\n",
              "          element.appendChild(docLink);\n",
              "        }\n",
              "      </script>\n",
              "    </div>\n",
              "  </div>\n",
              "  "
            ]
          },
          "metadata": {},
          "execution_count": 36
        }
      ]
    },
    {
      "cell_type": "code",
      "source": [
        "df['Body'] = [df['Body'][i] + \". \" + df['Question'][i] for i in range(len(df))]\n",
        "df['replaced_pronoun'] = df['Body'].apply(lambda a: replace(a))\n",
        "\n",
        "df"
      ],
      "metadata": {
        "colab": {
          "base_uri": "https://localhost:8080/",
          "height": 1601
        },
        "id": "srwR90jWU37K",
        "outputId": "41152811-b158-4fb9-f5a0-2acb9623b545"
      },
      "execution_count": 37,
      "outputs": [
        {
          "output_type": "execute_result",
          "data": {
            "text/plain": [
              "            ID                                               Body  \\\n",
              "0       chal-1  Each pack of dvds costs 76 dollars. If there i...   \n",
              "1       chal-2  Dan had $ 3 left with him after he bought a ca...   \n",
              "2       chal-3  Paco had 26 salty cookies and 17 sweet cookies...   \n",
              "3       chal-4  43 children were riding on the bus. At the bus...   \n",
              "4       chal-5  28 children were riding on the bus. At the bus...   \n",
              "..         ...                                                ...   \n",
              "995   chal-996  Paige was helping her mom plant flowers and to...   \n",
              "996   chal-997  At the zoo, a cage had 3 snakes and 75 alligat...   \n",
              "997   chal-998  Paige was helping her mom plant flowers and to...   \n",
              "998   chal-999  Mary is baking a cake. The recipe calls for 7 ...   \n",
              "999  chal-1000  The grasshopper and the frog had a jumping con...   \n",
              "\n",
              "                                              Question  \\\n",
              "0        How much do you have to pay to buy each pack?   \n",
              "1                     How much did the candy bar cost?   \n",
              "2           How many salty cookies did Paco have left?   \n",
              "3    How many children got off the bus at the bus s...   \n",
              "4    How many more children got on the bus than tho...   \n",
              "..                                                 ...   \n",
              "995                How many flower beds did they have?   \n",
              "996               How many alligators were not hiding?   \n",
              "997                    How many flowers did they grow?   \n",
              "998  How many more cups of sugar does she need to add?   \n",
              "999                         How far did the frog jump?   \n",
              "\n",
              "                       Equation  Answer             Type  \\\n",
              "0               ( 76.0 - 25.0 )      51      Subtraction   \n",
              "1                 ( 4.0 - 3.0 )       1      Subtraction   \n",
              "2                ( 26.0 - 9.0 )      17      Subtraction   \n",
              "3               ( 43.0 - 21.0 )      22      Subtraction   \n",
              "4               ( 30.0 - 28.0 )       2      Subtraction   \n",
              "..                          ...     ...              ...   \n",
              "995             ( 36.0 / 12.0 )       3  Common-Division   \n",
              "996             ( 75.0 - 19.0 )      56      Subtraction   \n",
              "997  ( 60.0 * ( 55.0 / 15.0 ) )     220   Multiplication   \n",
              "998               ( 7.0 - 4.0 )       3      Subtraction   \n",
              "999              ( 13.0 - 2.0 )      11      Subtraction   \n",
              "\n",
              "                                      replaced_pronoun  \n",
              "0    Each pack of dvds costs 76 dollars. If there i...  \n",
              "1    Dan had $ 3 left with Dan after Dan bought a c...  \n",
              "2    Paco had 26 salty cookies and 17 sweet cookies...  \n",
              "3    43 children were riding on the bus. At the bus...  \n",
              "4    28 children were riding on the bus. At the bus...  \n",
              "..                                                 ...  \n",
              "995  Paige was helping Paige mom plant flowers and ...  \n",
              "996  At the zoo, a cage had 3 snakes and 75 alligat...  \n",
              "997  Paige was helping Paige mom plant flowers and ...  \n",
              "998  Mary is baking a cake. The recipe calls for 7 ...  \n",
              "999  The grasshopper and the frog had a jumping con...  \n",
              "\n",
              "[1000 rows x 7 columns]"
            ],
            "text/html": [
              "\n",
              "  <div id=\"df-2ed7ae93-f348-4a36-80ef-469189298ec9\">\n",
              "    <div class=\"colab-df-container\">\n",
              "      <div>\n",
              "<style scoped>\n",
              "    .dataframe tbody tr th:only-of-type {\n",
              "        vertical-align: middle;\n",
              "    }\n",
              "\n",
              "    .dataframe tbody tr th {\n",
              "        vertical-align: top;\n",
              "    }\n",
              "\n",
              "    .dataframe thead th {\n",
              "        text-align: right;\n",
              "    }\n",
              "</style>\n",
              "<table border=\"1\" class=\"dataframe\">\n",
              "  <thead>\n",
              "    <tr style=\"text-align: right;\">\n",
              "      <th></th>\n",
              "      <th>ID</th>\n",
              "      <th>Body</th>\n",
              "      <th>Question</th>\n",
              "      <th>Equation</th>\n",
              "      <th>Answer</th>\n",
              "      <th>Type</th>\n",
              "      <th>replaced_pronoun</th>\n",
              "    </tr>\n",
              "  </thead>\n",
              "  <tbody>\n",
              "    <tr>\n",
              "      <th>0</th>\n",
              "      <td>chal-1</td>\n",
              "      <td>Each pack of dvds costs 76 dollars. If there i...</td>\n",
              "      <td>How much do you have to pay to buy each pack?</td>\n",
              "      <td>( 76.0 - 25.0 )</td>\n",
              "      <td>51</td>\n",
              "      <td>Subtraction</td>\n",
              "      <td>Each pack of dvds costs 76 dollars. If there i...</td>\n",
              "    </tr>\n",
              "    <tr>\n",
              "      <th>1</th>\n",
              "      <td>chal-2</td>\n",
              "      <td>Dan had $ 3 left with him after he bought a ca...</td>\n",
              "      <td>How much did the candy bar cost?</td>\n",
              "      <td>( 4.0 - 3.0 )</td>\n",
              "      <td>1</td>\n",
              "      <td>Subtraction</td>\n",
              "      <td>Dan had $ 3 left with Dan after Dan bought a c...</td>\n",
              "    </tr>\n",
              "    <tr>\n",
              "      <th>2</th>\n",
              "      <td>chal-3</td>\n",
              "      <td>Paco had 26 salty cookies and 17 sweet cookies...</td>\n",
              "      <td>How many salty cookies did Paco have left?</td>\n",
              "      <td>( 26.0 - 9.0 )</td>\n",
              "      <td>17</td>\n",
              "      <td>Subtraction</td>\n",
              "      <td>Paco had 26 salty cookies and 17 sweet cookies...</td>\n",
              "    </tr>\n",
              "    <tr>\n",
              "      <th>3</th>\n",
              "      <td>chal-4</td>\n",
              "      <td>43 children were riding on the bus. At the bus...</td>\n",
              "      <td>How many children got off the bus at the bus s...</td>\n",
              "      <td>( 43.0 - 21.0 )</td>\n",
              "      <td>22</td>\n",
              "      <td>Subtraction</td>\n",
              "      <td>43 children were riding on the bus. At the bus...</td>\n",
              "    </tr>\n",
              "    <tr>\n",
              "      <th>4</th>\n",
              "      <td>chal-5</td>\n",
              "      <td>28 children were riding on the bus. At the bus...</td>\n",
              "      <td>How many more children got on the bus than tho...</td>\n",
              "      <td>( 30.0 - 28.0 )</td>\n",
              "      <td>2</td>\n",
              "      <td>Subtraction</td>\n",
              "      <td>28 children were riding on the bus. At the bus...</td>\n",
              "    </tr>\n",
              "    <tr>\n",
              "      <th>...</th>\n",
              "      <td>...</td>\n",
              "      <td>...</td>\n",
              "      <td>...</td>\n",
              "      <td>...</td>\n",
              "      <td>...</td>\n",
              "      <td>...</td>\n",
              "      <td>...</td>\n",
              "    </tr>\n",
              "    <tr>\n",
              "      <th>995</th>\n",
              "      <td>chal-996</td>\n",
              "      <td>Paige was helping her mom plant flowers and to...</td>\n",
              "      <td>How many flower beds did they have?</td>\n",
              "      <td>( 36.0 / 12.0 )</td>\n",
              "      <td>3</td>\n",
              "      <td>Common-Division</td>\n",
              "      <td>Paige was helping Paige mom plant flowers and ...</td>\n",
              "    </tr>\n",
              "    <tr>\n",
              "      <th>996</th>\n",
              "      <td>chal-997</td>\n",
              "      <td>At the zoo, a cage had 3 snakes and 75 alligat...</td>\n",
              "      <td>How many alligators were not hiding?</td>\n",
              "      <td>( 75.0 - 19.0 )</td>\n",
              "      <td>56</td>\n",
              "      <td>Subtraction</td>\n",
              "      <td>At the zoo, a cage had 3 snakes and 75 alligat...</td>\n",
              "    </tr>\n",
              "    <tr>\n",
              "      <th>997</th>\n",
              "      <td>chal-998</td>\n",
              "      <td>Paige was helping her mom plant flowers and to...</td>\n",
              "      <td>How many flowers did they grow?</td>\n",
              "      <td>( 60.0 * ( 55.0 / 15.0 ) )</td>\n",
              "      <td>220</td>\n",
              "      <td>Multiplication</td>\n",
              "      <td>Paige was helping Paige mom plant flowers and ...</td>\n",
              "    </tr>\n",
              "    <tr>\n",
              "      <th>998</th>\n",
              "      <td>chal-999</td>\n",
              "      <td>Mary is baking a cake. The recipe calls for 7 ...</td>\n",
              "      <td>How many more cups of sugar does she need to add?</td>\n",
              "      <td>( 7.0 - 4.0 )</td>\n",
              "      <td>3</td>\n",
              "      <td>Subtraction</td>\n",
              "      <td>Mary is baking a cake. The recipe calls for 7 ...</td>\n",
              "    </tr>\n",
              "    <tr>\n",
              "      <th>999</th>\n",
              "      <td>chal-1000</td>\n",
              "      <td>The grasshopper and the frog had a jumping con...</td>\n",
              "      <td>How far did the frog jump?</td>\n",
              "      <td>( 13.0 - 2.0 )</td>\n",
              "      <td>11</td>\n",
              "      <td>Subtraction</td>\n",
              "      <td>The grasshopper and the frog had a jumping con...</td>\n",
              "    </tr>\n",
              "  </tbody>\n",
              "</table>\n",
              "<p>1000 rows × 7 columns</p>\n",
              "</div>\n",
              "      <button class=\"colab-df-convert\" onclick=\"convertToInteractive('df-2ed7ae93-f348-4a36-80ef-469189298ec9')\"\n",
              "              title=\"Convert this dataframe to an interactive table.\"\n",
              "              style=\"display:none;\">\n",
              "        \n",
              "  <svg xmlns=\"http://www.w3.org/2000/svg\" height=\"24px\"viewBox=\"0 0 24 24\"\n",
              "       width=\"24px\">\n",
              "    <path d=\"M0 0h24v24H0V0z\" fill=\"none\"/>\n",
              "    <path d=\"M18.56 5.44l.94 2.06.94-2.06 2.06-.94-2.06-.94-.94-2.06-.94 2.06-2.06.94zm-11 1L8.5 8.5l.94-2.06 2.06-.94-2.06-.94L8.5 2.5l-.94 2.06-2.06.94zm10 10l.94 2.06.94-2.06 2.06-.94-2.06-.94-.94-2.06-.94 2.06-2.06.94z\"/><path d=\"M17.41 7.96l-1.37-1.37c-.4-.4-.92-.59-1.43-.59-.52 0-1.04.2-1.43.59L10.3 9.45l-7.72 7.72c-.78.78-.78 2.05 0 2.83L4 21.41c.39.39.9.59 1.41.59.51 0 1.02-.2 1.41-.59l7.78-7.78 2.81-2.81c.8-.78.8-2.07 0-2.86zM5.41 20L4 18.59l7.72-7.72 1.47 1.35L5.41 20z\"/>\n",
              "  </svg>\n",
              "      </button>\n",
              "      \n",
              "  <style>\n",
              "    .colab-df-container {\n",
              "      display:flex;\n",
              "      flex-wrap:wrap;\n",
              "      gap: 12px;\n",
              "    }\n",
              "\n",
              "    .colab-df-convert {\n",
              "      background-color: #E8F0FE;\n",
              "      border: none;\n",
              "      border-radius: 50%;\n",
              "      cursor: pointer;\n",
              "      display: none;\n",
              "      fill: #1967D2;\n",
              "      height: 32px;\n",
              "      padding: 0 0 0 0;\n",
              "      width: 32px;\n",
              "    }\n",
              "\n",
              "    .colab-df-convert:hover {\n",
              "      background-color: #E2EBFA;\n",
              "      box-shadow: 0px 1px 2px rgba(60, 64, 67, 0.3), 0px 1px 3px 1px rgba(60, 64, 67, 0.15);\n",
              "      fill: #174EA6;\n",
              "    }\n",
              "\n",
              "    [theme=dark] .colab-df-convert {\n",
              "      background-color: #3B4455;\n",
              "      fill: #D2E3FC;\n",
              "    }\n",
              "\n",
              "    [theme=dark] .colab-df-convert:hover {\n",
              "      background-color: #434B5C;\n",
              "      box-shadow: 0px 1px 3px 1px rgba(0, 0, 0, 0.15);\n",
              "      filter: drop-shadow(0px 1px 2px rgba(0, 0, 0, 0.3));\n",
              "      fill: #FFFFFF;\n",
              "    }\n",
              "  </style>\n",
              "\n",
              "      <script>\n",
              "        const buttonEl =\n",
              "          document.querySelector('#df-2ed7ae93-f348-4a36-80ef-469189298ec9 button.colab-df-convert');\n",
              "        buttonEl.style.display =\n",
              "          google.colab.kernel.accessAllowed ? 'block' : 'none';\n",
              "\n",
              "        async function convertToInteractive(key) {\n",
              "          const element = document.querySelector('#df-2ed7ae93-f348-4a36-80ef-469189298ec9');\n",
              "          const dataTable =\n",
              "            await google.colab.kernel.invokeFunction('convertToInteractive',\n",
              "                                                     [key], {});\n",
              "          if (!dataTable) return;\n",
              "\n",
              "          const docLinkHtml = 'Like what you see? Visit the ' +\n",
              "            '<a target=\"_blank\" href=https://colab.research.google.com/notebooks/data_table.ipynb>data table notebook</a>'\n",
              "            + ' to learn more about interactive tables.';\n",
              "          element.innerHTML = '';\n",
              "          dataTable['output_type'] = 'display_data';\n",
              "          await google.colab.output.renderOutput(dataTable, element);\n",
              "          const docLink = document.createElement('div');\n",
              "          docLink.innerHTML = docLinkHtml;\n",
              "          element.appendChild(docLink);\n",
              "        }\n",
              "      </script>\n",
              "    </div>\n",
              "  </div>\n",
              "  "
            ]
          },
          "metadata": {},
          "execution_count": 37
        },
        {
          "output_type": "stream",
          "name": "stdout",
          "text": [
            "Error: Runtime no longer has a reference to this dataframe, please re-run this cell and try again.\n"
          ]
        }
      ]
    },
    {
      "cell_type": "code",
      "source": [
        "!spacy download en"
      ],
      "metadata": {
        "id": "tBvI3o5jXT5W"
      },
      "execution_count": null,
      "outputs": []
    },
    {
      "cell_type": "code",
      "source": [
        "import benepar\n",
        "import spacy\n",
        "benepar.download('benepar_en3')\n",
        "nlp = spacy.load('en_core_web_sm')\n",
        "if spacy.__version__.startswith('2'):\n",
        "        nlp.add_pipe(benepar.BeneparComponent(\"benepar_en3\"))\n",
        "else:\n",
        "        nlp.add_pipe(\"benepar\", config={\"model\": \"benepar_en3\"})"
      ],
      "metadata": {
        "id": "LPgS5qQtVsbM"
      },
      "execution_count": null,
      "outputs": []
    },
    {
      "cell_type": "code",
      "source": [
        "def extract_sub_verb_object(sentence):\n",
        "    subject = \"\"\n",
        "    verb_phrase = \"\"\n",
        "    preposition_phrase = \"\"\n",
        "    #dependency_tree = sent1._.parse_string\n",
        "    doc = nlp(sentence)\n",
        "    sent = list(doc.sents)[0]\n",
        "    dependency_tree = sent._.parse_string\n",
        "    sb = 1\n",
        "    vb = 0\n",
        "    pb = 0\n",
        "\n",
        "    for i in range(len(dependency_tree)):\n",
        "      ch = dependency_tree[i]\n",
        "\n",
        "      if sb == 1:\n",
        "        if (ch.islower()==True or ch.isdigit()==True or ch==\" \" or ch==\",\" ):\n",
        "          if( (subject[:-1]!=\" \" and ch==\" \") or ch!=\" \"):\n",
        "              subject = subject+ch\n",
        "\n",
        "        \n",
        "      \n",
        "        elif ch==\"V\":\n",
        "          sb = 0\n",
        "          vb = 1\n",
        "          continue\n",
        "\n",
        "        \n",
        "      if vb == 1:\n",
        "        if (ch.islower()==True or ch.isdigit()==True or ch==\" \" or ch==\",\"):\n",
        "          if( (verb_phrase[:-1]!=\" \" and ch==\" \") or ch!=\" \"):\n",
        "            verb_phrase = verb_phrase+ch\n",
        "          \n",
        "        elif ch==\"N\" and dependency_tree[i+1] == \"P\":\n",
        "          vb = 0\n",
        "          pb = 1\n",
        "          continue\n",
        "\n",
        "      if pb == 1:\n",
        "          if (ch.islower()==True or ch.isdigit()==True or ch==\" \" or ch==\",\"):\n",
        "            if( (preposition_phrase[:-1]!=\" \" and ch==\" \") or ch!=\" \"):\n",
        "              preposition_phrase = preposition_phrase+ch\n",
        "          \n",
        "        \n",
        "         \n",
        "      \n",
        "    return {\"subject\":subject.strip(), \"verb\":verb_phrase.strip(), \"object\":preposition_phrase.strip()}"
      ],
      "metadata": {
        "id": "d94YssnjWahe"
      },
      "execution_count": 40,
      "outputs": []
    },
    {
      "cell_type": "code",
      "source": [
        "def split_conj(sent_list):\n",
        "\n",
        "  sub = \"\"\n",
        "  l = list()\n",
        "\n",
        "  for i in sent_list:\n",
        "    \n",
        "    if i!=\"and\":\n",
        "      \n",
        "        sub = sub+\" \"+i\n",
        "       \n",
        " \n",
        "    else:\n",
        "      if sub!=\"\":\n",
        "        l.append(sub)\n",
        "    \n",
        "        sub = \"\"\n",
        "\n",
        "  l.append(sub)\n",
        "\n",
        "\n",
        "  return l"
      ],
      "metadata": {
        "id": "M35bV385Y102"
      },
      "execution_count": 41,
      "outputs": []
    },
    {
      "cell_type": "code",
      "source": [
        "def handle_conjunction(sentence):\n",
        "  d = extract_sub_verb_object(sentence)\n",
        "\n",
        "  subject = d[\"subject\"].replace(\",\",\"and\")\n",
        "  verb = d[\"verb\"].replace(\",\",\"and\")\n",
        "  obj = d[\"object\"].replace(\",\",\"and\")\n",
        "  subject_tokens = [i for i in subject.split(' ') if i != ' ']\n",
        "  verb_tokens = [i for i in verb.split(' ') if i!= ' ']\n",
        "  obj_tokens = [i for i in obj.split(' ') if i!=''] \n",
        "  sentences = list()\n",
        "  if \"and\" in subject_tokens:\n",
        "    split_subject = split_conj(subject_tokens)\n",
        "    \n",
        "    for i in split_subject:\n",
        "      sentences.append(i+\" \"+verb+\" \"+obj)\n",
        "    return sentences\n",
        "  if \"and\" in obj_tokens:\n",
        "    \n",
        "    split_obj = split_conj(obj_tokens)\n",
        "  \n",
        "    \n",
        "    for i in split_obj:\n",
        "      sentences.append(subject+\" \" + verb+\" \"+ i)\n",
        "  \n",
        "    return sentences\n",
        "  else:\n",
        "    sentences.append(subject+\" \"+verb+\" \"+obj)\n",
        "    return sentences"
      ],
      "metadata": {
        "id": "ExeVHMHnY5Yv"
      },
      "execution_count": 42,
      "outputs": []
    },
    {
      "cell_type": "code",
      "source": [
        "from nltk.tokenize import sent_tokenize\n",
        "def split_mwp(mwp):\n",
        "  \n",
        "  mwp_split_temp = sent_tokenize(mwp)\n",
        "  mwp_split = list()\n",
        "  for i in mwp_split_temp:\n",
        "    temp = handle_conjunction(i)\n",
        "    for j in temp:\n",
        "      mwp_split.append(j.strip())\n",
        "  return mwp_split"
      ],
      "metadata": {
        "id": "e3JLzEKMY9ec"
      },
      "execution_count": 43,
      "outputs": []
    },
    {
      "cell_type": "code",
      "source": [
        "mwp = df['replaced_pronoun'][0]\n",
        "question = df['Question'][0]\n",
        "print(split_mwp(mwp))\n"
      ],
      "metadata": {
        "colab": {
          "base_uri": "https://localhost:8080/"
        },
        "id": "udpTCr8bZAKL",
        "outputId": "fba2ac78-238e-4a09-d71e-cf6796d09b7c"
      },
      "execution_count": 44,
      "outputs": [
        {
          "output_type": "stream",
          "name": "stderr",
          "text": [
            "/usr/local/lib/python3.7/dist-packages/torch/distributions/distribution.py:46: UserWarning: <class 'torch_struct.distributions.TreeCRF'> does not define `arg_constraints`. Please set `arg_constraints = {}` or initialize the distribution with `validate_args=False` to turn off validation.\n",
            "  'with `validate_args=False` to turn off validation.')\n"
          ]
        },
        {
          "output_type": "stream",
          "name": "stdout",
          "text": [
            "['ach  pack   of   dvds costs 76  dollars', 'f    there is a  discount   of   25  dollars   on   each  pack', 'ow  much do you   have    to   pay    to   buy   each  pack']\n"
          ]
        }
      ]
    },
    {
      "cell_type": "code",
      "source": [
        "extract_sub_verb_object(question)"
      ],
      "metadata": {
        "colab": {
          "base_uri": "https://localhost:8080/"
        },
        "id": "ZLqO8suqaL1Q",
        "outputId": "e5b5aa3b-3ee1-4e6c-a4fa-f6ef0c182366"
      },
      "execution_count": 45,
      "outputs": [
        {
          "output_type": "execute_result",
          "data": {
            "text/plain": [
              "{'subject': 'ow  much',\n",
              " 'verb': 'do',\n",
              " 'object': 'you   have    to   pay    to   buy   each  pack'}"
            ]
          },
          "metadata": {},
          "execution_count": 45
        }
      ]
    },
    {
      "cell_type": "code",
      "source": [
        "!spacy download en_core_web_lg"
      ],
      "metadata": {
        "id": "ZmRO6_cQ9ioo"
      },
      "execution_count": null,
      "outputs": []
    },
    {
      "cell_type": "code",
      "source": [
        "def prune(microstatements, threshold=0.5):\n",
        "  \"\"\"\n",
        "  @param microstatements: list(str)\n",
        "  @return pruned: list(str) subset of microstatements\n",
        "  \"\"\"\n",
        "  #print(extract_sub_verb_object(microstatements[-1]))\n",
        "\n",
        "  import en_core_web_lg\n",
        "  nlp = en_core_web_lg.load()\n",
        "  q = nlp(microstatements[-1])\n",
        "  Q = extract_sub_verb_object(microstatements[-1])\n",
        "  microstatements.pop()\n",
        "  q_s = nlp(Q['subject'])\n",
        "  q_v = nlp(Q['verb'])\n",
        "  q_o = nlp(Q['object'])\n",
        "  res = []\n",
        "  # extract similarity\n",
        "  for statement in microstatements:\n",
        "    ms_svo = extract_sub_verb_object(statement)\n",
        "    #print(ms_svo)\n",
        "    ms_s = nlp(ms_svo['subject'])\n",
        "    ms_v = nlp(ms_svo['verb'])\n",
        "    ms_o = nlp(ms_svo['object'])\n",
        "    #print(extract_sub_verb_object(statement))\n",
        "    similarities = {}\n",
        "    similarities['subject'] = q_s.similarity(ms_s)\n",
        "    similarities['verb'] = q_v.similarity(ms_v)\n",
        "    similarities['object'] = q_o.similarity(ms_o)\n",
        "    #print(similarities)\n",
        "    ms = nlp(statement)\n",
        "    sim = q.similarity(ms)\n",
        "    if sim > threshold: \n",
        "      res.append(statement)\n",
        "  return res\n",
        "\n",
        "prune(split_mwp(mwp))"
      ],
      "metadata": {
        "colab": {
          "base_uri": "https://localhost:8080/"
        },
        "id": "5VW-G9uPbEq5",
        "outputId": "f03ec569-ba43-4c9c-b175-ce4f4bb26b25"
      },
      "execution_count": 60,
      "outputs": [
        {
          "output_type": "execute_result",
          "data": {
            "text/plain": [
              "['ach  pack   of   dvds costs 76  dollars',\n",
              " 'f    there is a  discount   of   25  dollars   on   each  pack']"
            ]
          },
          "metadata": {},
          "execution_count": 60
        }
      ]
    },
    {
      "cell_type": "code",
      "source": [],
      "metadata": {
        "id": "1vHTb7nuA3Np"
      },
      "execution_count": null,
      "outputs": []
    }
  ]
}