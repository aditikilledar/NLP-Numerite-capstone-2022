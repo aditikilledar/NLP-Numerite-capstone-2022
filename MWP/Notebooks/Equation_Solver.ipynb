{
 "cells": [
  {
   "cell_type": "code",
   "execution_count": 64,
   "id": "4ccfba6f",
   "metadata": {},
   "outputs": [],
   "source": [
    "def explain(op1, op2, operator):\n",
    "    \"\"\" generates explanation \"\"\"\n",
    "    newline = '\\n'\n",
    "    opnames = {'+': 'addition', '-': 'subtraction', '*': 'multiplication', '/':'division'}\n",
    "    expression = f\"{op1} {operator} {op2}\"\n",
    "    result = int(eval(expression))\n",
    "    anstr = f\"The unknown, can be calculated using the equation:{newline}x = {op1} {operator} {op2}{newline}Which is then simplified using the properties of the {opnames[operator]} operator to get:{newline}x = {result}\" \n",
    "    return anstr"
   ]
  },
  {
   "cell_type": "code",
   "execution_count": 65,
   "id": "6d3f5820",
   "metadata": {},
   "outputs": [],
   "source": [
    "def parse_eqn(eqn):\n",
    "    eqn = eqn.split()\n",
    "    op1 = eqn[0]\n",
    "    op2 = eqn[2]\n",
    "    if '+' in eqn:\n",
    "        print(explain(op1, op2, '+'))\n",
    "    elif '-' in eqn:\n",
    "        print(explain(op1, op2, '-'))\n",
    "    elif '*' in eqn:\n",
    "        print(explain(op1, op2, '*'))\n",
    "    elif '/' in eqn:\n",
    "        print(explain(op1, op2, '/'))"
   ]
  },
  {
   "cell_type": "code",
   "execution_count": 66,
   "id": "8e0efeeb",
   "metadata": {},
   "outputs": [
    {
     "name": "stdout",
     "output_type": "stream",
     "text": [
      "The unknown, can be calculated using the equation:\n",
      "x = 44 + 3\n",
      "Which is then simplified using the properties of the addition operator to get:\n",
      "x = 47\n"
     ]
    }
   ],
   "source": [
    "parse_eqn(' 44 + 3')"
   ]
  },
  {
   "cell_type": "code",
   "execution_count": 70,
   "id": "46b3e2fc",
   "metadata": {
    "scrolled": true
   },
   "outputs": [
    {
     "name": "stdout",
     "output_type": "stream",
     "text": [
      "The unknown, can be calculated using the equation:\n",
      "x = 87 - 7\n",
      "Which is then simplified using the properties of the subtraction operator to get:\n",
      "x = 80\n"
     ]
    }
   ],
   "source": [
    "parse_eqn('87 - 7')"
   ]
  },
  {
   "cell_type": "code",
   "execution_count": 68,
   "id": "22df2bf2",
   "metadata": {},
   "outputs": [
    {
     "name": "stdout",
     "output_type": "stream",
     "text": [
      "The unknown, can be calculated using the equation:\n",
      "x = 4 * 7\n",
      "Which is then simplified using the properties of the multiplication operator to get:\n",
      "x = 28\n"
     ]
    }
   ],
   "source": [
    "parse_eqn('4 * 7')"
   ]
  },
  {
   "cell_type": "code",
   "execution_count": 69,
   "id": "e1e374e0",
   "metadata": {},
   "outputs": [
    {
     "name": "stdout",
     "output_type": "stream",
     "text": [
      "The unknown, can be calculated using the equation:\n",
      "x = 63 / 7\n",
      "Which is then simplified using the properties of the division operator to get:\n",
      "x = 9\n"
     ]
    }
   ],
   "source": [
    "parse_eqn('63 / 7')"
   ]
  }
 ],
 "metadata": {
  "kernelspec": {
   "display_name": "Python 3 (ipykernel)",
   "language": "python",
   "name": "python3"
  },
  "language_info": {
   "codemirror_mode": {
    "name": "ipython",
    "version": 3
   },
   "file_extension": ".py",
   "mimetype": "text/x-python",
   "name": "python",
   "nbconvert_exporter": "python",
   "pygments_lexer": "ipython3",
   "version": "3.10.6"
  }
 },
 "nbformat": 4,
 "nbformat_minor": 5
}
