{
 "cells": [
  {
   "cell_type": "code",
   "execution_count": null,
   "id": "4ccfba6f",
   "metadata": {},
   "outputs": [],
   "source": [
    "def explain(op1, op2, operator):\n",
    "    \"\"\" generates explanation \"\"\"\n",
    "    newline = '\\n'\n",
    "    opnames = {'+': 'addition', '-': 'subtraction', '*': 'multiplication', '/':'division'}\n",
    "    expression = f\"{op1} {operator} {op2}\"\n",
    "    result = int(eval(expression))\n",
    "    anstr = f\"The unknown, can be calculated using the equation:{newline}x = {op1} {operator} {op2}{newline}Which is then simplified using the properties of the {opnames[operator]} operator to get:{newline}x = {result}\" \n",
    "    return anstr"
   ]
  },
  {
   "cell_type": "code",
   "execution_count": null,
   "id": "6d3f5820",
   "metadata": {},
   "outputs": [],
   "source": [
    "def parse_eqn(eqn):\n",
    "    eqn = eqn.split()\n",
    "    op1 = eqn[0]\n",
    "    op2 = eqn[2]\n",
    "    if '+' in eqn:\n",
    "        print(explain(op1, op2, '+'))\n",
    "    elif '-' in eqn:\n",
    "        print(explain(op1, op2, '-'))\n",
    "    elif '*' in eqn:\n",
    "        print(explain(op1, op2, '*'))\n",
    "    elif '/' in eqn:\n",
    "        print(explain(op1, op2, '/'))"
   ]
  },
  {
   "cell_type": "code",
   "execution_count": null,
   "id": "8ac1a5de",
   "metadata": {},
   "outputs": [],
   "source": [
    "parse_eqn('44 + 3')"
   ]
  },
  {
   "cell_type": "code",
   "execution_count": null,
   "id": "46b3e2fc",
   "metadata": {
    "scrolled": true
   },
   "outputs": [],
   "source": [
    "parse_eqn('44 - 7')"
   ]
  },
  {
   "cell_type": "code",
   "execution_count": null,
   "id": "22e2b689",
   "metadata": {},
   "outputs": [],
   "source": [
    "parse_eqn('4 * 7')"
   ]
  },
  {
   "cell_type": "code",
   "execution_count": null,
   "id": "54b460c9",
   "metadata": {},
   "outputs": [],
   "source": [
    "parse_eqn('99 / 7')"
   ]
  }
 ],
 "metadata": {
  "kernelspec": {
   "display_name": "Python 3 (ipykernel)",
   "language": "python",
   "name": "python3"
  },
  "language_info": {
   "codemirror_mode": {
    "name": "ipython",
    "version": 3
   },
   "file_extension": ".py",
   "mimetype": "text/x-python",
   "name": "python",
   "nbconvert_exporter": "python",
   "pygments_lexer": "ipython3",
   "version": "3.10.6"
  }
 },
 "nbformat": 4,
 "nbformat_minor": 5
}
