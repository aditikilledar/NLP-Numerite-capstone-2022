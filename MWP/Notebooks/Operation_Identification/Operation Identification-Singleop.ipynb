{
 "cells": [
  {
   "cell_type": "markdown",
   "id": "8cb1f357",
   "metadata": {},
   "source": [
    "# Operation Identification using Deep Learning (Bi-LSTM w/ Softmax)\n",
    "Each record in our dataset, SVAMP.json will be preprocessed.\n",
    "The preprocessed records will be fed to a model which then identifies which one of the four operations is expected of the answer to that question. \n",
    "\n",
    "Since this deals only with elemnetary school level math problems, we assume that the only 4 operations are (ASMD) addition, subtraction, multiplication and division. There is no possibility of getting negative, decimal, fractional or profit loss questions."
   ]
  },
  {
   "cell_type": "markdown",
   "id": "c2b7ebc3",
   "metadata": {},
   "source": [
    "I think I need a bigger dataset to train the operation identification."
   ]
  },
  {
   "cell_type": "markdown",
   "id": "f0156932",
   "metadata": {},
   "source": [
    "## 1. Pre-Process SingleOp Dataset"
   ]
  },
  {
   "cell_type": "markdown",
   "id": "acc4185a",
   "metadata": {},
   "source": [
    "1.1 Import Statements"
   ]
  },
  {
   "cell_type": "code",
   "execution_count": 2,
   "id": "dd315219",
   "metadata": {},
   "outputs": [],
   "source": [
    "import pandas as pd\n",
    "import numpy as np\n",
    "from nltk.corpus import stopwords\n",
    "import string\n",
    "import re\n",
    "import nltk\n",
    "import gensim\n",
    "\n",
    "import matplotlib.pyplot as plt"
   ]
  },
  {
   "cell_type": "markdown",
   "id": "4d1d9137",
   "metadata": {},
   "source": [
    "1.2 Import JSON dataset into Dataframe"
   ]
  },
  {
   "cell_type": "code",
   "execution_count": 3,
   "id": "bed54e5f",
   "metadata": {},
   "outputs": [],
   "source": [
    "def readJsonToDf(path):\n",
    "    df = pd.read_json(path)\n",
    "    return df"
   ]
  },
  {
   "cell_type": "code",
   "execution_count": 4,
   "id": "f1dc7706",
   "metadata": {
    "scrolled": false
   },
   "outputs": [
    {
     "name": "stdout",
     "output_type": "stream",
     "text": [
      "['iIndex', 'lAlignments', 'lEquations', 'lSolutions', 'sQuestion']\n"
     ]
    },
    {
     "data": {
      "text/html": [
       "<div>\n",
       "<style scoped>\n",
       "    .dataframe tbody tr th:only-of-type {\n",
       "        vertical-align: middle;\n",
       "    }\n",
       "\n",
       "    .dataframe tbody tr th {\n",
       "        vertical-align: top;\n",
       "    }\n",
       "\n",
       "    .dataframe thead th {\n",
       "        text-align: right;\n",
       "    }\n",
       "</style>\n",
       "<table border=\"1\" class=\"dataframe\">\n",
       "  <thead>\n",
       "    <tr style=\"text-align: right;\">\n",
       "      <th></th>\n",
       "      <th>iIndex</th>\n",
       "      <th>lAlignments</th>\n",
       "      <th>lEquations</th>\n",
       "      <th>lSolutions</th>\n",
       "      <th>sQuestion</th>\n",
       "    </tr>\n",
       "  </thead>\n",
       "  <tbody>\n",
       "    <tr>\n",
       "      <th>0</th>\n",
       "      <td>0</td>\n",
       "      <td>[13, 51]</td>\n",
       "      <td>[X=(7.0+7.0)]</td>\n",
       "      <td>[14.0]</td>\n",
       "      <td>If there are 7 bottle caps in a box and Linda ...</td>\n",
       "    </tr>\n",
       "    <tr>\n",
       "      <th>1</th>\n",
       "      <td>1</td>\n",
       "      <td>[17, 40]</td>\n",
       "      <td>[X=(7.0+2.0)]</td>\n",
       "      <td>[9.0]</td>\n",
       "      <td>Jose starts with 7 bottle caps. He gets 2 more...</td>\n",
       "    </tr>\n",
       "    <tr>\n",
       "      <th>2</th>\n",
       "      <td>2</td>\n",
       "      <td>[12, 34]</td>\n",
       "      <td>[X=(4.0+4.0)]</td>\n",
       "      <td>[8.0]</td>\n",
       "      <td>Bridget has 4 Skittles. Henry has 4 Skittles. ...</td>\n",
       "    </tr>\n",
       "    <tr>\n",
       "      <th>3</th>\n",
       "      <td>3</td>\n",
       "      <td>[19, 40]</td>\n",
       "      <td>[X=(7.0+8.0)]</td>\n",
       "      <td>[15.0]</td>\n",
       "      <td>Brenda starts with 7 Skittles. She buys 8 more...</td>\n",
       "    </tr>\n",
       "    <tr>\n",
       "      <th>4</th>\n",
       "      <td>4</td>\n",
       "      <td>[10, 19]</td>\n",
       "      <td>[X=(4.0+3.0)]</td>\n",
       "      <td>[7.0]</td>\n",
       "      <td>There are 4 cards. 3 cards more are added. How...</td>\n",
       "    </tr>\n",
       "  </tbody>\n",
       "</table>\n",
       "</div>"
      ],
      "text/plain": [
       "   iIndex lAlignments     lEquations lSolutions  \\\n",
       "0       0    [13, 51]  [X=(7.0+7.0)]     [14.0]   \n",
       "1       1    [17, 40]  [X=(7.0+2.0)]      [9.0]   \n",
       "2       2    [12, 34]  [X=(4.0+4.0)]      [8.0]   \n",
       "3       3    [19, 40]  [X=(7.0+8.0)]     [15.0]   \n",
       "4       4    [10, 19]  [X=(4.0+3.0)]      [7.0]   \n",
       "\n",
       "                                           sQuestion  \n",
       "0  If there are 7 bottle caps in a box and Linda ...  \n",
       "1  Jose starts with 7 bottle caps. He gets 2 more...  \n",
       "2  Bridget has 4 Skittles. Henry has 4 Skittles. ...  \n",
       "3  Brenda starts with 7 Skittles. She buys 8 more...  \n",
       "4  There are 4 cards. 3 cards more are added. How...  "
      ]
     },
     "execution_count": 4,
     "metadata": {},
     "output_type": "execute_result"
    }
   ],
   "source": [
    "# dataframe of SVAMP dataset\n",
    "df = readJsonToDf('../../Datasets/singleop.json')\n",
    "\n",
    "# columns of dataframe\n",
    "print(list(df.columns))\n",
    "df.head()"
   ]
  },
  {
   "cell_type": "markdown",
   "id": "25f7a395",
   "metadata": {},
   "source": [
    "1.3.1 extract operation from equation into column \"Type\""
   ]
  },
  {
   "cell_type": "code",
   "execution_count": 5,
   "id": "5e73836c",
   "metadata": {},
   "outputs": [
    {
     "data": {
      "text/plain": [
       "list"
      ]
     },
     "execution_count": 5,
     "metadata": {},
     "output_type": "execute_result"
    }
   ],
   "source": [
    "type(df['lEquations'][0])"
   ]
  },
  {
   "cell_type": "code",
   "execution_count": 6,
   "id": "04f25624",
   "metadata": {
    "scrolled": true
   },
   "outputs": [],
   "source": [
    "# assumes SINGLE OP\n",
    "def extract_op(row):\n",
    "    if \"+\" in row['lEquations'][0]:\n",
    "        return 'Addition'\n",
    "    elif \"-\" in row['lEquations'][0]:\n",
    "        return 'Subtraction'\n",
    "    elif \"*\" in row['lEquations'][0]:\n",
    "        return 'Multiplication'\n",
    "    elif \"/\" in row['lEquations'][0]:\n",
    "        return 'Division'"
   ]
  },
  {
   "cell_type": "code",
   "execution_count": 7,
   "id": "dedd9833",
   "metadata": {},
   "outputs": [],
   "source": [
    "# apply func to df creating new column\n",
    "df['Type'] = df.apply(lambda row: extract_op(row), axis=1)"
   ]
  },
  {
   "cell_type": "markdown",
   "id": "e55e387f",
   "metadata": {},
   "source": [
    "1.3.1.1 Modify Columns, Drop Redundant Index"
   ]
  },
  {
   "cell_type": "code",
   "execution_count": 15,
   "id": "ff230de1",
   "metadata": {},
   "outputs": [
    {
     "data": {
      "text/html": [
       "<div>\n",
       "<style scoped>\n",
       "    .dataframe tbody tr th:only-of-type {\n",
       "        vertical-align: middle;\n",
       "    }\n",
       "\n",
       "    .dataframe tbody tr th {\n",
       "        vertical-align: top;\n",
       "    }\n",
       "\n",
       "    .dataframe thead th {\n",
       "        text-align: right;\n",
       "    }\n",
       "</style>\n",
       "<table border=\"1\" class=\"dataframe\">\n",
       "  <thead>\n",
       "    <tr style=\"text-align: right;\">\n",
       "      <th></th>\n",
       "      <th>lAlignments</th>\n",
       "      <th>lEquations</th>\n",
       "      <th>lSolutions</th>\n",
       "      <th>sQuestion</th>\n",
       "      <th>Type</th>\n",
       "    </tr>\n",
       "  </thead>\n",
       "  <tbody>\n",
       "    <tr>\n",
       "      <th>0</th>\n",
       "      <td>[13, 51]</td>\n",
       "      <td>[X=(7.0+7.0)]</td>\n",
       "      <td>[14.0]</td>\n",
       "      <td>If there are 7 bottle caps in a box and Linda ...</td>\n",
       "      <td>Addition</td>\n",
       "    </tr>\n",
       "    <tr>\n",
       "      <th>1</th>\n",
       "      <td>[17, 40]</td>\n",
       "      <td>[X=(7.0+2.0)]</td>\n",
       "      <td>[9.0]</td>\n",
       "      <td>Jose starts with 7 bottle caps. He gets 2 more...</td>\n",
       "      <td>Addition</td>\n",
       "    </tr>\n",
       "    <tr>\n",
       "      <th>2</th>\n",
       "      <td>[12, 34]</td>\n",
       "      <td>[X=(4.0+4.0)]</td>\n",
       "      <td>[8.0]</td>\n",
       "      <td>Bridget has 4 Skittles. Henry has 4 Skittles. ...</td>\n",
       "      <td>Addition</td>\n",
       "    </tr>\n",
       "    <tr>\n",
       "      <th>3</th>\n",
       "      <td>[19, 40]</td>\n",
       "      <td>[X=(7.0+8.0)]</td>\n",
       "      <td>[15.0]</td>\n",
       "      <td>Brenda starts with 7 Skittles. She buys 8 more...</td>\n",
       "      <td>Addition</td>\n",
       "    </tr>\n",
       "    <tr>\n",
       "      <th>4</th>\n",
       "      <td>[10, 19]</td>\n",
       "      <td>[X=(4.0+3.0)]</td>\n",
       "      <td>[7.0]</td>\n",
       "      <td>There are 4 cards. 3 cards more are added. How...</td>\n",
       "      <td>Addition</td>\n",
       "    </tr>\n",
       "    <tr>\n",
       "      <th>...</th>\n",
       "      <td>...</td>\n",
       "      <td>...</td>\n",
       "      <td>...</td>\n",
       "      <td>...</td>\n",
       "      <td>...</td>\n",
       "    </tr>\n",
       "    <tr>\n",
       "      <th>557</th>\n",
       "      <td>[13, 27]</td>\n",
       "      <td>[X=(2.5-0.75)]</td>\n",
       "      <td>[1.75]</td>\n",
       "      <td>John needs $2.50. He has $0.75. How much more...</td>\n",
       "      <td>Subtraction</td>\n",
       "    </tr>\n",
       "    <tr>\n",
       "      <th>558</th>\n",
       "      <td>[47, 25]</td>\n",
       "      <td>[X=(5.0-0.75)]</td>\n",
       "      <td>[4.25]</td>\n",
       "      <td>Jane buys an apple for $0.75 and pays with a ...</td>\n",
       "      <td>Subtraction</td>\n",
       "    </tr>\n",
       "    <tr>\n",
       "      <th>559</th>\n",
       "      <td>[12, 47]</td>\n",
       "      <td>[X=(0.7-0.4)]</td>\n",
       "      <td>[0.30000000000000004]</td>\n",
       "      <td>John walks 0.7 miles to school and Nina walks...</td>\n",
       "      <td>Subtraction</td>\n",
       "    </tr>\n",
       "    <tr>\n",
       "      <th>560</th>\n",
       "      <td>[19, 43]</td>\n",
       "      <td>[X=(28.3*5.0)]</td>\n",
       "      <td>[141.5]</td>\n",
       "      <td>One pencil weighs 28.3 grams. How much do 5 p...</td>\n",
       "      <td>Multiplication</td>\n",
       "    </tr>\n",
       "    <tr>\n",
       "      <th>561</th>\n",
       "      <td>[14, 65]</td>\n",
       "      <td>[X=(3.0*2.5)]</td>\n",
       "      <td>[7.5]</td>\n",
       "      <td>Andrew spent 3 day working on his Science rep...</td>\n",
       "      <td>Multiplication</td>\n",
       "    </tr>\n",
       "  </tbody>\n",
       "</table>\n",
       "<p>562 rows × 5 columns</p>\n",
       "</div>"
      ],
      "text/plain": [
       "    lAlignments      lEquations             lSolutions  \\\n",
       "0      [13, 51]   [X=(7.0+7.0)]                 [14.0]   \n",
       "1      [17, 40]   [X=(7.0+2.0)]                  [9.0]   \n",
       "2      [12, 34]   [X=(4.0+4.0)]                  [8.0]   \n",
       "3      [19, 40]   [X=(7.0+8.0)]                 [15.0]   \n",
       "4      [10, 19]   [X=(4.0+3.0)]                  [7.0]   \n",
       "..          ...             ...                    ...   \n",
       "557    [13, 27]  [X=(2.5-0.75)]                 [1.75]   \n",
       "558    [47, 25]  [X=(5.0-0.75)]                 [4.25]   \n",
       "559    [12, 47]   [X=(0.7-0.4)]  [0.30000000000000004]   \n",
       "560    [19, 43]  [X=(28.3*5.0)]                [141.5]   \n",
       "561    [14, 65]   [X=(3.0*2.5)]                  [7.5]   \n",
       "\n",
       "                                             sQuestion            Type  \n",
       "0    If there are 7 bottle caps in a box and Linda ...        Addition  \n",
       "1    Jose starts with 7 bottle caps. He gets 2 more...        Addition  \n",
       "2    Bridget has 4 Skittles. Henry has 4 Skittles. ...        Addition  \n",
       "3    Brenda starts with 7 Skittles. She buys 8 more...        Addition  \n",
       "4    There are 4 cards. 3 cards more are added. How...        Addition  \n",
       "..                                                 ...             ...  \n",
       "557   John needs $2.50. He has $0.75. How much more...     Subtraction  \n",
       "558   Jane buys an apple for $0.75 and pays with a ...     Subtraction  \n",
       "559   John walks 0.7 miles to school and Nina walks...     Subtraction  \n",
       "560   One pencil weighs 28.3 grams. How much do 5 p...  Multiplication  \n",
       "561   Andrew spent 3 day working on his Science rep...  Multiplication  \n",
       "\n",
       "[562 rows x 5 columns]"
      ]
     },
     "execution_count": 15,
     "metadata": {},
     "output_type": "execute_result"
    }
   ],
   "source": [
    "df.drop(['iIndex'], axis=1)"
   ]
  },
  {
   "cell_type": "code",
   "execution_count": 20,
   "id": "61c0d8d5",
   "metadata": {},
   "outputs": [],
   "source": [
    "df.columns = ['index', 'alignment', 'equation', 'solutions', 'question', 'Type']"
   ]
  },
  {
   "cell_type": "code",
   "execution_count": 21,
   "id": "dcd9baab",
   "metadata": {},
   "outputs": [
    {
     "data": {
      "text/plain": [
       "<AxesSubplot:>"
      ]
     },
     "execution_count": 21,
     "metadata": {},
     "output_type": "execute_result"
    },
    {
     "data": {
      "image/png": "[encoded data removed]",
      "text/plain": [
       "<Figure size 432x288 with 1 Axes>"
      ]
     },
     "metadata": {
      "needs_background": "light"
     },
     "output_type": "display_data"
    }
   ],
   "source": [
    "df.Type.value_counts().sort_values().plot(kind = 'bar')"
   ]
  },
  {
   "cell_type": "markdown",
   "id": "a5d9a21f",
   "metadata": {},
   "source": [
    "#### 1.3.2 Remove Punctuation\n",
    "\n",
    "I am removing all punctuation AND numbers from the body cuz I think it's irrelevent to my task of multi-class text classification.\n",
    "If something's not working, toggle:\n",
    "- the numbers\n",
    "- ~~Stopwords~~"
   ]
  },
  {
   "cell_type": "code",
   "execution_count": 22,
   "id": "015af03a",
   "metadata": {},
   "outputs": [],
   "source": [
    "REPLACE_BY_SPACE_RE = re.compile('[/(){}\\[\\]\\|@,;]')\n",
    "BAD_SYMBOLS_RE = re.compile('[^0-9a-z #+_]')\n",
    "STOPWORDS = set(stopwords.words('english'))"
   ]
  },
  {
   "cell_type": "code",
   "execution_count": 23,
   "id": "c16b51db",
   "metadata": {},
   "outputs": [],
   "source": [
    "def clean_text(text):\n",
    "    \"\"\"\n",
    "    text: a string\n",
    "\n",
    "    return: modified initial string\n",
    "    \"\"\"\n",
    "    text = text.lower() # lowercase text\n",
    "    text = REPLACE_BY_SPACE_RE.sub('', text) # replace REPLACE_BY_SPACE_RE symbols by space in text. substitute the matched string in REPLACE_BY_SPACE_RE with space.\n",
    "    text = BAD_SYMBOLS_RE.sub('', text) # remove symbols which are in BAD_SYMBOLS_RE from text. substitute the matched string in BAD_SYMBOLS_RE with nothing. \n",
    "    text = ''.join([i for i in text if not i.isdigit()])\n",
    "    text = \" \".join(text.split())\n",
    "    return text"
   ]
  },
  {
   "cell_type": "code",
   "execution_count": 24,
   "id": "38c31a0b",
   "metadata": {},
   "outputs": [
    {
     "data": {
      "text/plain": [
       "'jose starts with bottle caps he gets more from rebecca how many bottle caps does jose end with'"
      ]
     },
     "execution_count": 24,
     "metadata": {},
     "output_type": "execute_result"
    }
   ],
   "source": [
    "#storing the punctuation free text\n",
    "df['Clean']= df['question'].apply(lambda x:clean_text(x))\n",
    "\n",
    "df['Clean'][1]"
   ]
  },
  {
   "cell_type": "code",
   "execution_count": 25,
   "id": "ee7c2533",
   "metadata": {
    "scrolled": true
   },
   "outputs": [
    {
     "data": {
      "text/html": [
       "<div>\n",
       "<style scoped>\n",
       "    .dataframe tbody tr th:only-of-type {\n",
       "        vertical-align: middle;\n",
       "    }\n",
       "\n",
       "    .dataframe tbody tr th {\n",
       "        vertical-align: top;\n",
       "    }\n",
       "\n",
       "    .dataframe thead th {\n",
       "        text-align: right;\n",
       "    }\n",
       "</style>\n",
       "<table border=\"1\" class=\"dataframe\">\n",
       "  <thead>\n",
       "    <tr style=\"text-align: right;\">\n",
       "      <th></th>\n",
       "      <th>index</th>\n",
       "      <th>alignment</th>\n",
       "      <th>equation</th>\n",
       "      <th>solutions</th>\n",
       "      <th>question</th>\n",
       "      <th>Type</th>\n",
       "      <th>Clean</th>\n",
       "    </tr>\n",
       "  </thead>\n",
       "  <tbody>\n",
       "    <tr>\n",
       "      <th>0</th>\n",
       "      <td>0</td>\n",
       "      <td>[13, 51]</td>\n",
       "      <td>[X=(7.0+7.0)]</td>\n",
       "      <td>[14.0]</td>\n",
       "      <td>If there are 7 bottle caps in a box and Linda ...</td>\n",
       "      <td>Addition</td>\n",
       "      <td>if there are bottle caps in a box and linda pu...</td>\n",
       "    </tr>\n",
       "    <tr>\n",
       "      <th>1</th>\n",
       "      <td>1</td>\n",
       "      <td>[17, 40]</td>\n",
       "      <td>[X=(7.0+2.0)]</td>\n",
       "      <td>[9.0]</td>\n",
       "      <td>Jose starts with 7 bottle caps. He gets 2 more...</td>\n",
       "      <td>Addition</td>\n",
       "      <td>jose starts with bottle caps he gets more from...</td>\n",
       "    </tr>\n",
       "    <tr>\n",
       "      <th>2</th>\n",
       "      <td>2</td>\n",
       "      <td>[12, 34]</td>\n",
       "      <td>[X=(4.0+4.0)]</td>\n",
       "      <td>[8.0]</td>\n",
       "      <td>Bridget has 4 Skittles. Henry has 4 Skittles. ...</td>\n",
       "      <td>Addition</td>\n",
       "      <td>bridget has skittles henry has skittles if hen...</td>\n",
       "    </tr>\n",
       "    <tr>\n",
       "      <th>3</th>\n",
       "      <td>3</td>\n",
       "      <td>[19, 40]</td>\n",
       "      <td>[X=(7.0+8.0)]</td>\n",
       "      <td>[15.0]</td>\n",
       "      <td>Brenda starts with 7 Skittles. She buys 8 more...</td>\n",
       "      <td>Addition</td>\n",
       "      <td>brenda starts with skittles she buys more how ...</td>\n",
       "    </tr>\n",
       "    <tr>\n",
       "      <th>4</th>\n",
       "      <td>4</td>\n",
       "      <td>[10, 19]</td>\n",
       "      <td>[X=(4.0+3.0)]</td>\n",
       "      <td>[7.0]</td>\n",
       "      <td>There are 4 cards. 3 cards more are added. How...</td>\n",
       "      <td>Addition</td>\n",
       "      <td>there are cards cards more are added how many ...</td>\n",
       "    </tr>\n",
       "  </tbody>\n",
       "</table>\n",
       "</div>"
      ],
      "text/plain": [
       "   index alignment       equation solutions  \\\n",
       "0      0  [13, 51]  [X=(7.0+7.0)]    [14.0]   \n",
       "1      1  [17, 40]  [X=(7.0+2.0)]     [9.0]   \n",
       "2      2  [12, 34]  [X=(4.0+4.0)]     [8.0]   \n",
       "3      3  [19, 40]  [X=(7.0+8.0)]    [15.0]   \n",
       "4      4  [10, 19]  [X=(4.0+3.0)]     [7.0]   \n",
       "\n",
       "                                            question      Type  \\\n",
       "0  If there are 7 bottle caps in a box and Linda ...  Addition   \n",
       "1  Jose starts with 7 bottle caps. He gets 2 more...  Addition   \n",
       "2  Bridget has 4 Skittles. Henry has 4 Skittles. ...  Addition   \n",
       "3  Brenda starts with 7 Skittles. She buys 8 more...  Addition   \n",
       "4  There are 4 cards. 3 cards more are added. How...  Addition   \n",
       "\n",
       "                                               Clean  \n",
       "0  if there are bottle caps in a box and linda pu...  \n",
       "1  jose starts with bottle caps he gets more from...  \n",
       "2  bridget has skittles henry has skittles if hen...  \n",
       "3  brenda starts with skittles she buys more how ...  \n",
       "4  there are cards cards more are added how many ...  "
      ]
     },
     "execution_count": 25,
     "metadata": {},
     "output_type": "execute_result"
    }
   ],
   "source": [
    "df.head()"
   ]
  },
  {
   "cell_type": "markdown",
   "id": "fd45992e",
   "metadata": {},
   "source": [
    "### Save Data to CSV File"
   ]
  },
  {
   "cell_type": "code",
   "execution_count": 62,
   "id": "f688aa11",
   "metadata": {},
   "outputs": [],
   "source": [
    "df.to_csv('cleaned_singleop.csv', sep=',', encoding='utf-8')"
   ]
  },
  {
   "cell_type": "markdown",
   "id": "2a0a286e",
   "metadata": {},
   "source": [
    "## 2. Build Model\n",
    "4 classes are ['Addition','Division', 'Multiplication', 'Subtraction']"
   ]
  },
  {
   "cell_type": "code",
   "execution_count": 30,
   "id": "512b3023",
   "metadata": {},
   "outputs": [],
   "source": [
    "from keras.models import Sequential\n",
    "from keras.preprocessing import sequence\n",
    "from keras.layers import Dropout\n",
    "from keras.layers import  Dense, Embedding, LSTM, Bidirectional\n",
    "\n",
    "from keras.preprocessing.text import Tokenizer\n",
    "from keras.utils import pad_sequences\n",
    "from keras.models import Sequential\n",
    "from keras.layers import Dense, Embedding, LSTM, SpatialDropout1D\n",
    "from sklearn.model_selection import train_test_split\n",
    "from keras.utils.np_utils import to_categorical\n",
    "from keras.callbacks import EarlyStopping\n",
    "from keras.layers import Dropout\n",
    "import re\n",
    "from bs4 import BeautifulSoup"
   ]
  },
  {
   "cell_type": "markdown",
   "id": "8c142aa9",
   "metadata": {},
   "source": [
    "2.1 Define the Classes of the Multi-class Text Classification"
   ]
  },
  {
   "cell_type": "code",
   "execution_count": 28,
   "id": "cb09312a",
   "metadata": {},
   "outputs": [],
   "source": [
    "# df['Type'].values"
   ]
  },
  {
   "cell_type": "code",
   "execution_count": 29,
   "id": "21e541df",
   "metadata": {},
   "outputs": [],
   "source": [
    "#  in ALPHABETICAL ORDER\n",
    "operations = ['Addition','Division', 'Multiplication', 'Subtraction']"
   ]
  },
  {
   "cell_type": "markdown",
   "id": "db6deb5d",
   "metadata": {},
   "source": [
    "### 2.2 Vectorize our MWP"
   ]
  },
  {
   "cell_type": "code",
   "execution_count": 32,
   "id": "6de229e3",
   "metadata": {},
   "outputs": [
    {
     "name": "stdout",
     "output_type": "stream",
     "text": [
      "Found 1093 unique tokens.\n"
     ]
    }
   ],
   "source": [
    "# The maximum number of words to be used. (most frequent)\n",
    "MAX_NB_WORDS = 900\n",
    "# Max number of words in each word problem.\n",
    "MAX_SEQUENCE_LENGTH = 100\n",
    "# This is fixed.\n",
    "\n",
    "EMBEDDING_DIM = 150\n",
    "tokenizer = Tokenizer(num_words=MAX_NB_WORDS, filters='!\"#$%&()*+,-./:;<=>?@[\\]^_`{|}~', lower=True)\n",
    "tokenizer.fit_on_texts(df['Clean'].values)\n",
    "word_index = tokenizer.word_index\n",
    "print('Found %s unique tokens.' % len(word_index))"
   ]
  },
  {
   "cell_type": "code",
   "execution_count": 33,
   "id": "7ba9e1a8",
   "metadata": {
    "scrolled": true
   },
   "outputs": [
    {
     "name": "stdout",
     "output_type": "stream",
     "text": [
      "Shape of data tensor: (562, 100)\n"
     ]
    }
   ],
   "source": [
    "# Truncate and pad the input sequences so that they \n",
    "# are all in the same length for modeling.\n",
    "\n",
    "X = tokenizer.texts_to_sequences(df['Clean'].values)\n",
    "X = pad_sequences(X, maxlen=MAX_SEQUENCE_LENGTH)\n",
    "print('Shape of data tensor:', X.shape)"
   ]
  },
  {
   "cell_type": "markdown",
   "id": "fcdfd1ca",
   "metadata": {},
   "source": [
    "### Convert Categorical Labels to Numbers"
   ]
  },
  {
   "cell_type": "markdown",
   "id": "fb2a7a1e",
   "metadata": {},
   "source": [
    "Looks like get_dummies IS same OHE to category always. ORDER NOT MATTERS."
   ]
  },
  {
   "cell_type": "code",
   "execution_count": 34,
   "id": "6d4af21a",
   "metadata": {},
   "outputs": [
    {
     "name": "stdout",
     "output_type": "stream",
     "text": [
      "     Addition  Division  Multiplication  Subtraction\n",
      "0           1         0               0            0\n",
      "1           1         0               0            0\n",
      "2           1         0               0            0\n",
      "3           1         0               0            0\n",
      "4           1         0               0            0\n",
      "..        ...       ...             ...          ...\n",
      "557         0         0               0            1\n",
      "558         0         0               0            1\n",
      "559         0         0               0            1\n",
      "560         0         0               1            0\n",
      "561         0         0               1            0\n",
      "\n",
      "[562 rows x 4 columns]\n"
     ]
    }
   ],
   "source": [
    "print(pd.get_dummies(df['Type']))"
   ]
  },
  {
   "cell_type": "code",
   "execution_count": 35,
   "id": "b374d3fb",
   "metadata": {},
   "outputs": [
    {
     "name": "stdout",
     "output_type": "stream",
     "text": [
      "Shape of label tensor: (562, 4)\n"
     ]
    }
   ],
   "source": [
    "Y = pd.get_dummies(df['Type']).values\n",
    "print('Shape of label tensor:', Y.shape)"
   ]
  },
  {
   "cell_type": "markdown",
   "id": "fa937834",
   "metadata": {},
   "source": [
    "### 2.3 Train-Test Split"
   ]
  },
  {
   "cell_type": "code",
   "execution_count": 37,
   "id": "0560b588",
   "metadata": {},
   "outputs": [
    {
     "name": "stdout",
     "output_type": "stream",
     "text": [
      "(545, 100) (545, 4)\n",
      "(17, 100) (17, 4)\n"
     ]
    }
   ],
   "source": [
    "X_train, X_test, Y_train, Y_test = train_test_split(X,Y, test_size = 0.03, random_state = 42)\n",
    "print(X_train.shape,Y_train.shape)\n",
    "print(X_test.shape,Y_test.shape)"
   ]
  },
  {
   "cell_type": "markdown",
   "id": "513c167c",
   "metadata": {},
   "source": [
    "### 2.4 Model\n",
    "\n",
    "The first layer is the embedded layer that uses 100 length vectors to represent each word.\n",
    "SpatialDropout1D performs variational dropout in NLP models.\n",
    "The next layer is the LSTM layer with 100 memory units.\n",
    "The output layer must create 4 output values, one for each class.\n",
    "Activation function is softmax for multi-class classification.\n",
    "Because it is a multi-class classification problem, categorical_crossentropy is used as the loss function."
   ]
  },
  {
   "cell_type": "code",
   "execution_count": 38,
   "id": "dd213ce9",
   "metadata": {},
   "outputs": [],
   "source": [
    "model = Sequential()\n",
    "model.add(Embedding(MAX_NB_WORDS, EMBEDDING_DIM, input_length=X.shape[1]))\n",
    "model.add(SpatialDropout1D(0.2))\n",
    "model.add(LSTM(100, dropout=0.2, recurrent_dropout=0.2))\n",
    "model.add(Dense(4, activation='softmax'))\n",
    "model.compile(loss='categorical_crossentropy', optimizer='adam', metrics=['accuracy'])"
   ]
  },
  {
   "cell_type": "code",
   "execution_count": 31,
   "id": "77808001",
   "metadata": {},
   "outputs": [],
   "source": [
    "# model = Sequential()\n",
    "# model.add(Embedding(MAX_NB_WORDS, EMBEDDING_DIM, input_length=X.shape[1]))\n",
    "# model.add(Bidirectional(LSTM(64)))\n",
    "# model.add(Dense(4, activation='softmax'))\n",
    "# model.compile(loss='categorical_crossentropy', optimizer='adam', metrics=['accuracy'])"
   ]
  },
  {
   "cell_type": "code",
   "execution_count": 59,
   "id": "2b6e5d80",
   "metadata": {
    "scrolled": true
   },
   "outputs": [
    {
     "ename": "ValueError",
     "evalue": "`validation_split` is only supported for Tensors or NumPy arrays, found following types in the input: [<class 'str'>, <class 'str'>, <class 'str'>, <class 'str'>, <class 'str'>, <class 'str'>, <class 'str'>, <class 'str'>, <class 'str'>, <class 'str'>, <class 'str'>, <class 'str'>, <class 'str'>, <class 'str'>, <class 'str'>, <class 'str'>, <class 'str'>, <class 'str'>, <class 'str'>, <class 'str'>, <class 'str'>, <class 'str'>, <class 'str'>, <class 'str'>, <class 'str'>, <class 'str'>, <class 'str'>, <class 'str'>, <class 'str'>, <class 'str'>, <class 'str'>, <class 'str'>, <class 'str'>, <class 'str'>, <class 'str'>, <class 'str'>, <class 'str'>, <class 'str'>, <class 'str'>, <class 'str'>, <class 'str'>, <class 'str'>, <class 'str'>, <class 'str'>, <class 'str'>, <class 'str'>, <class 'str'>, <class 'str'>, <class 'str'>, <class 'str'>, <class 'str'>, <class 'str'>, <class 'str'>, <class 'str'>, <class 'str'>, <class 'str'>, <class 'str'>, <class 'str'>, <class 'str'>, <class 'str'>, <class 'str'>, <class 'str'>, <class 'str'>, <class 'str'>, <class 'str'>, <class 'str'>, <class 'str'>, <class 'str'>, <class 'str'>, <class 'str'>, <class 'str'>, <class 'str'>, <class 'str'>, <class 'str'>, <class 'str'>, <class 'str'>, <class 'str'>, <class 'str'>, <class 'str'>, <class 'str'>, <class 'str'>, <class 'str'>, <class 'str'>, <class 'str'>, <class 'str'>, <class 'str'>, <class 'str'>, <class 'str'>, <class 'str'>, <class 'str'>, <class 'str'>, <class 'str'>, <class 'str'>, <class 'str'>, <class 'str'>, <class 'str'>, <class 'str'>, <class 'str'>, <class 'str'>, <class 'str'>, <class 'str'>, <class 'str'>, <class 'str'>, <class 'str'>, <class 'str'>, <class 'str'>, <class 'str'>, <class 'str'>, <class 'str'>, <class 'str'>, <class 'str'>, <class 'str'>, <class 'str'>, <class 'str'>, <class 'str'>, <class 'str'>, <class 'str'>, <class 'str'>, <class 'str'>, <class 'str'>, <class 'str'>, <class 'str'>, <class 'str'>, <class 'str'>, <class 'str'>, <class 'str'>, <class 'str'>, <class 'str'>, <class 'str'>, <class 'str'>, <class 'str'>, <class 'str'>, <class 'str'>, <class 'str'>, <class 'str'>, <class 'str'>, <class 'str'>, <class 'str'>, <class 'str'>, <class 'str'>, <class 'str'>, <class 'str'>, <class 'str'>, <class 'str'>, <class 'str'>, <class 'str'>, <class 'str'>, <class 'str'>, <class 'str'>, <class 'str'>, <class 'str'>, <class 'str'>, <class 'str'>, <class 'str'>, <class 'str'>, <class 'str'>, <class 'str'>, <class 'str'>, <class 'str'>, <class 'str'>, <class 'str'>, <class 'str'>, <class 'str'>, <class 'str'>, <class 'str'>, <class 'str'>, <class 'str'>, <class 'str'>, <class 'str'>, <class 'str'>, <class 'str'>, <class 'str'>, <class 'str'>, <class 'str'>, <class 'str'>, <class 'str'>, <class 'str'>, <class 'str'>, <class 'str'>, <class 'str'>, <class 'str'>, <class 'str'>, <class 'str'>, <class 'str'>, <class 'str'>, <class 'str'>, <class 'str'>, <class 'str'>, <class 'str'>, <class 'str'>, <class 'str'>, <class 'str'>, <class 'str'>, <class 'str'>, <class 'str'>, <class 'str'>, <class 'str'>, <class 'str'>, <class 'str'>, <class 'str'>, <class 'str'>, <class 'str'>, <class 'str'>, <class 'str'>, <class 'str'>, <class 'str'>, <class 'str'>, <class 'str'>, <class 'str'>, <class 'str'>, <class 'str'>, <class 'str'>, <class 'str'>, <class 'str'>, <class 'str'>, <class 'str'>, <class 'str'>, <class 'str'>, <class 'str'>, <class 'str'>, <class 'str'>, <class 'str'>, <class 'str'>, <class 'str'>, <class 'str'>, <class 'str'>, <class 'str'>, <class 'str'>, <class 'str'>, <class 'str'>, <class 'str'>, <class 'str'>, <class 'str'>, <class 'str'>, <class 'str'>, <class 'str'>, <class 'str'>, <class 'str'>, <class 'str'>, <class 'str'>, <class 'str'>, <class 'str'>, <class 'str'>, <class 'str'>, <class 'str'>, <class 'str'>, <class 'str'>, <class 'str'>, <class 'str'>, <class 'str'>, <class 'str'>, <class 'str'>, <class 'str'>, <class 'str'>, <class 'str'>, <class 'str'>, <class 'str'>, <class 'str'>, <class 'str'>, <class 'str'>, <class 'str'>, <class 'str'>, <class 'str'>, <class 'str'>, <class 'str'>, <class 'str'>, <class 'str'>, <class 'str'>, <class 'str'>, <class 'str'>, <class 'str'>, <class 'str'>, <class 'str'>, <class 'str'>, <class 'str'>, <class 'str'>, <class 'str'>, <class 'str'>, <class 'str'>, <class 'str'>, <class 'str'>, <class 'str'>, <class 'str'>, <class 'str'>, <class 'str'>, <class 'str'>, <class 'str'>, <class 'str'>, <class 'str'>, <class 'str'>, <class 'str'>, <class 'str'>, <class 'str'>, <class 'str'>, <class 'str'>, <class 'str'>, <class 'str'>, <class 'str'>, <class 'str'>, <class 'str'>, <class 'str'>, <class 'str'>, <class 'str'>, <class 'str'>, <class 'str'>, <class 'str'>, <class 'str'>, <class 'str'>, <class 'str'>, <class 'str'>, <class 'str'>, <class 'str'>, <class 'str'>, <class 'str'>, <class 'str'>, <class 'str'>, <class 'str'>, <class 'str'>, <class 'str'>, <class 'str'>, <class 'str'>, <class 'str'>, <class 'str'>, <class 'str'>, <class 'str'>, <class 'str'>, <class 'str'>, <class 'str'>, <class 'str'>, <class 'str'>, <class 'str'>, <class 'str'>, <class 'str'>, <class 'str'>, <class 'str'>, <class 'str'>, <class 'str'>, <class 'str'>, <class 'str'>, <class 'str'>, <class 'str'>, <class 'str'>, <class 'str'>, <class 'str'>, <class 'str'>, <class 'str'>, <class 'str'>, <class 'str'>, <class 'str'>, <class 'str'>, <class 'str'>, <class 'str'>, <class 'str'>, <class 'str'>, <class 'str'>, <class 'str'>, <class 'str'>, <class 'str'>, <class 'str'>, <class 'str'>, <class 'str'>, <class 'str'>, <class 'str'>, <class 'str'>, <class 'str'>, <class 'str'>, <class 'str'>, <class 'str'>, <class 'str'>, <class 'str'>, <class 'str'>, <class 'str'>, <class 'str'>, <class 'str'>, <class 'str'>, <class 'str'>, <class 'str'>, <class 'str'>, <class 'str'>, <class 'str'>, <class 'str'>, <class 'str'>, <class 'str'>, <class 'str'>, <class 'str'>, <class 'str'>, <class 'str'>, <class 'str'>, <class 'str'>, <class 'str'>, <class 'str'>, <class 'str'>, <class 'str'>, <class 'str'>, <class 'str'>, <class 'str'>, <class 'str'>, <class 'str'>, <class 'str'>, <class 'str'>, <class 'str'>, <class 'str'>, <class 'str'>, <class 'str'>, <class 'str'>, <class 'str'>, <class 'str'>, <class 'str'>, <class 'str'>, <class 'str'>, <class 'str'>, <class 'str'>, <class 'str'>, <class 'str'>, <class 'str'>, <class 'str'>, <class 'str'>, <class 'str'>, <class 'str'>, <class 'str'>, <class 'str'>, <class 'str'>, <class 'str'>, <class 'str'>, <class 'str'>, <class 'str'>, <class 'str'>, <class 'str'>, <class 'str'>, <class 'str'>, <class 'str'>, <class 'str'>, <class 'str'>, <class 'str'>, <class 'str'>, <class 'str'>, <class 'str'>, <class 'str'>, <class 'str'>, <class 'str'>, <class 'str'>, <class 'str'>, <class 'str'>, <class 'str'>, <class 'str'>, <class 'str'>, <class 'str'>, <class 'str'>, <class 'str'>, <class 'str'>, <class 'str'>, <class 'str'>, <class 'str'>, <class 'str'>, <class 'str'>, <class 'str'>, <class 'str'>, <class 'str'>, <class 'str'>, <class 'str'>, <class 'str'>, <class 'str'>, <class 'str'>, <class 'str'>, <class 'str'>, <class 'str'>, <class 'str'>, <class 'str'>, <class 'str'>, <class 'str'>, <class 'str'>, <class 'str'>, <class 'str'>, <class 'str'>, <class 'str'>, <class 'str'>, <class 'str'>, <class 'str'>, <class 'str'>, <class 'str'>, <class 'str'>, <class 'str'>, <class 'str'>, <class 'str'>, <class 'str'>, <class 'str'>, <class 'str'>, <class 'str'>, <class 'str'>, <class 'str'>, <class 'str'>, <class 'str'>, <class 'str'>, <class 'str'>, <class 'str'>, <class 'str'>, <class 'str'>, <class 'str'>, <class 'str'>, <class 'str'>, <class 'str'>, <class 'str'>, <class 'str'>, <class 'str'>, <class 'str'>, <class 'str'>, <class 'str'>, <class 'str'>, <class 'str'>, <class 'str'>, <class 'str'>, <class 'str'>, <class 'str'>, <class 'str'>, <class 'str'>, <class 'str'>, <class 'str'>, <class 'str'>, <class 'str'>, <class 'str'>, <class 'str'>, <class 'str'>, <class 'str'>, <class 'str'>, <class 'str'>, <class 'str'>, <class 'str'>, <class 'str'>, <class 'str'>, <class 'str'>, <class 'str'>, <class 'str'>, <class 'str'>, <class 'str'>, <class 'str'>, <class 'str'>, <class 'str'>, <class 'str'>, <class 'str'>, <class 'str'>, <class 'str'>, <class 'str'>, <class 'str'>, <class 'str'>, <class 'str'>, <class 'str'>, <class 'str'>, <class 'str'>, <class 'str'>, <class 'str'>, <class 'str'>, <class 'str'>, <class 'str'>, <class 'str'>, <class 'str'>, <class 'str'>, <class 'str'>, <class 'str'>, <class 'str'>, <class 'str'>, <class 'str'>, <class 'str'>]",
     "output_type": "error",
     "traceback": [
      "\u001b[1;31m---------------------------------------------------------------------------\u001b[0m",
      "\u001b[1;31mValueError\u001b[0m                                Traceback (most recent call last)",
      "Input \u001b[1;32mIn [59]\u001b[0m, in \u001b[0;36m<cell line: 5>\u001b[1;34m()\u001b[0m\n\u001b[0;32m      2\u001b[0m batch_size \u001b[38;5;241m=\u001b[39m \u001b[38;5;241m32\u001b[39m\n\u001b[0;32m      4\u001b[0m \u001b[38;5;66;03m# train on whole X and Y\u001b[39;00m\n\u001b[1;32m----> 5\u001b[0m history \u001b[38;5;241m=\u001b[39m \u001b[43mmodel\u001b[49m\u001b[38;5;241;43m.\u001b[39;49m\u001b[43mfit\u001b[49m\u001b[43m(\u001b[49m\u001b[43mX\u001b[49m\u001b[43m,\u001b[49m\u001b[43m \u001b[49m\u001b[43mY\u001b[49m\u001b[43m,\u001b[49m\u001b[43m \u001b[49m\u001b[43mepochs\u001b[49m\u001b[38;5;241;43m=\u001b[39;49m\u001b[43mepochs\u001b[49m\u001b[43m,\u001b[49m\u001b[43m \u001b[49m\u001b[43mbatch_size\u001b[49m\u001b[38;5;241;43m=\u001b[39;49m\u001b[43mbatch_size\u001b[49m\u001b[43m,\u001b[49m\u001b[43mvalidation_split\u001b[49m\u001b[38;5;241;43m=\u001b[39;49m\u001b[38;5;241;43m0.1\u001b[39;49m\u001b[43m,\u001b[49m\u001b[43mcallbacks\u001b[49m\u001b[38;5;241;43m=\u001b[39;49m\u001b[43m[\u001b[49m\u001b[43mEarlyStopping\u001b[49m\u001b[43m(\u001b[49m\u001b[43mmonitor\u001b[49m\u001b[38;5;241;43m=\u001b[39;49m\u001b[38;5;124;43m'\u001b[39;49m\u001b[38;5;124;43mval_loss\u001b[39;49m\u001b[38;5;124;43m'\u001b[39;49m\u001b[43m,\u001b[49m\u001b[43m \u001b[49m\u001b[43mpatience\u001b[49m\u001b[38;5;241;43m=\u001b[39;49m\u001b[38;5;241;43m3\u001b[39;49m\u001b[43m,\u001b[49m\u001b[43m \u001b[49m\u001b[43mmin_delta\u001b[49m\u001b[38;5;241;43m=\u001b[39;49m\u001b[38;5;241;43m0.0001\u001b[39;49m\u001b[43m)\u001b[49m\u001b[43m]\u001b[49m\u001b[43m)\u001b[49m\n",
      "File \u001b[1;32m~\\AppData\\Local\\Programs\\Python\\Python310\\lib\\site-packages\\keras\\utils\\traceback_utils.py:67\u001b[0m, in \u001b[0;36mfilter_traceback.<locals>.error_handler\u001b[1;34m(*args, **kwargs)\u001b[0m\n\u001b[0;32m     65\u001b[0m \u001b[38;5;28;01mexcept\u001b[39;00m \u001b[38;5;167;01mException\u001b[39;00m \u001b[38;5;28;01mas\u001b[39;00m e:  \u001b[38;5;66;03m# pylint: disable=broad-except\u001b[39;00m\n\u001b[0;32m     66\u001b[0m   filtered_tb \u001b[38;5;241m=\u001b[39m _process_traceback_frames(e\u001b[38;5;241m.\u001b[39m__traceback__)\n\u001b[1;32m---> 67\u001b[0m   \u001b[38;5;28;01mraise\u001b[39;00m e\u001b[38;5;241m.\u001b[39mwith_traceback(filtered_tb) \u001b[38;5;28;01mfrom\u001b[39;00m \u001b[38;5;28mNone\u001b[39m\n\u001b[0;32m     68\u001b[0m \u001b[38;5;28;01mfinally\u001b[39;00m:\n\u001b[0;32m     69\u001b[0m   \u001b[38;5;28;01mdel\u001b[39;00m filtered_tb\n",
      "File \u001b[1;32m~\\AppData\\Local\\Programs\\Python\\Python310\\lib\\site-packages\\keras\\engine\\data_adapter.py:1480\u001b[0m, in \u001b[0;36mtrain_validation_split\u001b[1;34m(arrays, validation_split)\u001b[0m\n\u001b[0;32m   1478\u001b[0m unsplitable \u001b[38;5;241m=\u001b[39m [\u001b[38;5;28mtype\u001b[39m(t) \u001b[38;5;28;01mfor\u001b[39;00m t \u001b[38;5;129;01min\u001b[39;00m flat_arrays \u001b[38;5;28;01mif\u001b[39;00m \u001b[38;5;129;01mnot\u001b[39;00m _can_split(t)]\n\u001b[0;32m   1479\u001b[0m \u001b[38;5;28;01mif\u001b[39;00m unsplitable:\n\u001b[1;32m-> 1480\u001b[0m   \u001b[38;5;28;01mraise\u001b[39;00m \u001b[38;5;167;01mValueError\u001b[39;00m(\n\u001b[0;32m   1481\u001b[0m       \u001b[38;5;124m\"\u001b[39m\u001b[38;5;124m`validation_split` is only supported for Tensors or NumPy \u001b[39m\u001b[38;5;124m\"\u001b[39m\n\u001b[0;32m   1482\u001b[0m       \u001b[38;5;124m\"\u001b[39m\u001b[38;5;124marrays, found following types in the input: \u001b[39m\u001b[38;5;132;01m{}\u001b[39;00m\u001b[38;5;124m\"\u001b[39m\u001b[38;5;241m.\u001b[39mformat(unsplitable))\n\u001b[0;32m   1484\u001b[0m \u001b[38;5;28;01mif\u001b[39;00m \u001b[38;5;28mall\u001b[39m(t \u001b[38;5;129;01mis\u001b[39;00m \u001b[38;5;28;01mNone\u001b[39;00m \u001b[38;5;28;01mfor\u001b[39;00m t \u001b[38;5;129;01min\u001b[39;00m flat_arrays):\n\u001b[0;32m   1485\u001b[0m   \u001b[38;5;28;01mreturn\u001b[39;00m arrays, arrays\n",
      "\u001b[1;31mValueError\u001b[0m: `validation_split` is only supported for Tensors or NumPy arrays, found following types in the input: [<class 'str'>, <class 'str'>, <class 'str'>, <class 'str'>, <class 'str'>, <class 'str'>, <class 'str'>, <class 'str'>, <class 'str'>, <class 'str'>, <class 'str'>, <class 'str'>, <class 'str'>, <class 'str'>, <class 'str'>, <class 'str'>, <class 'str'>, <class 'str'>, <class 'str'>, <class 'str'>, <class 'str'>, <class 'str'>, <class 'str'>, <class 'str'>, <class 'str'>, <class 'str'>, <class 'str'>, <class 'str'>, <class 'str'>, <class 'str'>, <class 'str'>, <class 'str'>, <class 'str'>, <class 'str'>, <class 'str'>, <class 'str'>, <class 'str'>, <class 'str'>, <class 'str'>, <class 'str'>, <class 'str'>, <class 'str'>, <class 'str'>, <class 'str'>, <class 'str'>, <class 'str'>, <class 'str'>, <class 'str'>, <class 'str'>, <class 'str'>, <class 'str'>, <class 'str'>, <class 'str'>, <class 'str'>, <class 'str'>, <class 'str'>, <class 'str'>, <class 'str'>, <class 'str'>, <class 'str'>, <class 'str'>, <class 'str'>, <class 'str'>, <class 'str'>, <class 'str'>, <class 'str'>, <class 'str'>, <class 'str'>, <class 'str'>, <class 'str'>, <class 'str'>, <class 'str'>, <class 'str'>, <class 'str'>, <class 'str'>, <class 'str'>, <class 'str'>, <class 'str'>, <class 'str'>, <class 'str'>, <class 'str'>, <class 'str'>, <class 'str'>, <class 'str'>, <class 'str'>, <class 'str'>, <class 'str'>, <class 'str'>, <class 'str'>, <class 'str'>, <class 'str'>, <class 'str'>, <class 'str'>, <class 'str'>, <class 'str'>, <class 'str'>, <class 'str'>, <class 'str'>, <class 'str'>, <class 'str'>, <class 'str'>, <class 'str'>, <class 'str'>, <class 'str'>, <class 'str'>, <class 'str'>, <class 'str'>, <class 'str'>, <class 'str'>, <class 'str'>, <class 'str'>, <class 'str'>, <class 'str'>, <class 'str'>, <class 'str'>, <class 'str'>, <class 'str'>, <class 'str'>, <class 'str'>, <class 'str'>, <class 'str'>, <class 'str'>, <class 'str'>, <class 'str'>, <class 'str'>, <class 'str'>, <class 'str'>, <class 'str'>, <class 'str'>, <class 'str'>, <class 'str'>, <class 'str'>, <class 'str'>, <class 'str'>, <class 'str'>, <class 'str'>, <class 'str'>, <class 'str'>, <class 'str'>, <class 'str'>, <class 'str'>, <class 'str'>, <class 'str'>, <class 'str'>, <class 'str'>, <class 'str'>, <class 'str'>, <class 'str'>, <class 'str'>, <class 'str'>, <class 'str'>, <class 'str'>, <class 'str'>, <class 'str'>, <class 'str'>, <class 'str'>, <class 'str'>, <class 'str'>, <class 'str'>, <class 'str'>, <class 'str'>, <class 'str'>, <class 'str'>, <class 'str'>, <class 'str'>, <class 'str'>, <class 'str'>, <class 'str'>, <class 'str'>, <class 'str'>, <class 'str'>, <class 'str'>, <class 'str'>, <class 'str'>, <class 'str'>, <class 'str'>, <class 'str'>, <class 'str'>, <class 'str'>, <class 'str'>, <class 'str'>, <class 'str'>, <class 'str'>, <class 'str'>, <class 'str'>, <class 'str'>, <class 'str'>, <class 'str'>, <class 'str'>, <class 'str'>, <class 'str'>, <class 'str'>, <class 'str'>, <class 'str'>, <class 'str'>, <class 'str'>, <class 'str'>, <class 'str'>, <class 'str'>, <class 'str'>, <class 'str'>, <class 'str'>, <class 'str'>, <class 'str'>, <class 'str'>, <class 'str'>, <class 'str'>, <class 'str'>, <class 'str'>, <class 'str'>, <class 'str'>, <class 'str'>, <class 'str'>, <class 'str'>, <class 'str'>, <class 'str'>, <class 'str'>, <class 'str'>, <class 'str'>, <class 'str'>, <class 'str'>, <class 'str'>, <class 'str'>, <class 'str'>, <class 'str'>, <class 'str'>, <class 'str'>, <class 'str'>, <class 'str'>, <class 'str'>, <class 'str'>, <class 'str'>, <class 'str'>, <class 'str'>, <class 'str'>, <class 'str'>, <class 'str'>, <class 'str'>, <class 'str'>, <class 'str'>, <class 'str'>, <class 'str'>, <class 'str'>, <class 'str'>, <class 'str'>, <class 'str'>, <class 'str'>, <class 'str'>, <class 'str'>, <class 'str'>, <class 'str'>, <class 'str'>, <class 'str'>, <class 'str'>, <class 'str'>, <class 'str'>, <class 'str'>, <class 'str'>, <class 'str'>, <class 'str'>, <class 'str'>, <class 'str'>, <class 'str'>, <class 'str'>, <class 'str'>, <class 'str'>, <class 'str'>, <class 'str'>, <class 'str'>, <class 'str'>, <class 'str'>, <class 'str'>, <class 'str'>, <class 'str'>, <class 'str'>, <class 'str'>, <class 'str'>, <class 'str'>, <class 'str'>, <class 'str'>, <class 'str'>, <class 'str'>, <class 'str'>, <class 'str'>, <class 'str'>, <class 'str'>, <class 'str'>, <class 'str'>, <class 'str'>, <class 'str'>, <class 'str'>, <class 'str'>, <class 'str'>, <class 'str'>, <class 'str'>, <class 'str'>, <class 'str'>, <class 'str'>, <class 'str'>, <class 'str'>, <class 'str'>, <class 'str'>, <class 'str'>, <class 'str'>, <class 'str'>, <class 'str'>, <class 'str'>, <class 'str'>, <class 'str'>, <class 'str'>, <class 'str'>, <class 'str'>, <class 'str'>, <class 'str'>, <class 'str'>, <class 'str'>, <class 'str'>, <class 'str'>, <class 'str'>, <class 'str'>, <class 'str'>, <class 'str'>, <class 'str'>, <class 'str'>, <class 'str'>, <class 'str'>, <class 'str'>, <class 'str'>, <class 'str'>, <class 'str'>, <class 'str'>, <class 'str'>, <class 'str'>, <class 'str'>, <class 'str'>, <class 'str'>, <class 'str'>, <class 'str'>, <class 'str'>, <class 'str'>, <class 'str'>, <class 'str'>, <class 'str'>, <class 'str'>, <class 'str'>, <class 'str'>, <class 'str'>, <class 'str'>, <class 'str'>, <class 'str'>, <class 'str'>, <class 'str'>, <class 'str'>, <class 'str'>, <class 'str'>, <class 'str'>, <class 'str'>, <class 'str'>, <class 'str'>, <class 'str'>, <class 'str'>, <class 'str'>, <class 'str'>, <class 'str'>, <class 'str'>, <class 'str'>, <class 'str'>, <class 'str'>, <class 'str'>, <class 'str'>, <class 'str'>, <class 'str'>, <class 'str'>, <class 'str'>, <class 'str'>, <class 'str'>, <class 'str'>, <class 'str'>, <class 'str'>, <class 'str'>, <class 'str'>, <class 'str'>, <class 'str'>, <class 'str'>, <class 'str'>, <class 'str'>, <class 'str'>, <class 'str'>, <class 'str'>, <class 'str'>, <class 'str'>, <class 'str'>, <class 'str'>, <class 'str'>, <class 'str'>, <class 'str'>, <class 'str'>, <class 'str'>, <class 'str'>, <class 'str'>, <class 'str'>, <class 'str'>, <class 'str'>, <class 'str'>, <class 'str'>, <class 'str'>, <class 'str'>, <class 'str'>, <class 'str'>, <class 'str'>, <class 'str'>, <class 'str'>, <class 'str'>, <class 'str'>, <class 'str'>, <class 'str'>, <class 'str'>, <class 'str'>, <class 'str'>, <class 'str'>, <class 'str'>, <class 'str'>, <class 'str'>, <class 'str'>, <class 'str'>, <class 'str'>, <class 'str'>, <class 'str'>, <class 'str'>, <class 'str'>, <class 'str'>, <class 'str'>, <class 'str'>, <class 'str'>, <class 'str'>, <class 'str'>, <class 'str'>, <class 'str'>, <class 'str'>, <class 'str'>, <class 'str'>, <class 'str'>, <class 'str'>, <class 'str'>, <class 'str'>, <class 'str'>, <class 'str'>, <class 'str'>, <class 'str'>, <class 'str'>, <class 'str'>, <class 'str'>, <class 'str'>, <class 'str'>, <class 'str'>, <class 'str'>, <class 'str'>, <class 'str'>, <class 'str'>, <class 'str'>, <class 'str'>, <class 'str'>, <class 'str'>, <class 'str'>, <class 'str'>, <class 'str'>, <class 'str'>, <class 'str'>, <class 'str'>, <class 'str'>, <class 'str'>, <class 'str'>, <class 'str'>, <class 'str'>, <class 'str'>, <class 'str'>, <class 'str'>, <class 'str'>, <class 'str'>, <class 'str'>, <class 'str'>, <class 'str'>, <class 'str'>, <class 'str'>, <class 'str'>, <class 'str'>, <class 'str'>, <class 'str'>, <class 'str'>, <class 'str'>, <class 'str'>, <class 'str'>, <class 'str'>, <class 'str'>, <class 'str'>, <class 'str'>, <class 'str'>, <class 'str'>, <class 'str'>, <class 'str'>, <class 'str'>, <class 'str'>, <class 'str'>, <class 'str'>, <class 'str'>, <class 'str'>, <class 'str'>, <class 'str'>, <class 'str'>, <class 'str'>, <class 'str'>, <class 'str'>, <class 'str'>, <class 'str'>, <class 'str'>, <class 'str'>, <class 'str'>, <class 'str'>, <class 'str'>, <class 'str'>, <class 'str'>, <class 'str'>, <class 'str'>, <class 'str'>, <class 'str'>, <class 'str'>, <class 'str'>, <class 'str'>, <class 'str'>, <class 'str'>, <class 'str'>, <class 'str'>, <class 'str'>, <class 'str'>, <class 'str'>, <class 'str'>, <class 'str'>, <class 'str'>, <class 'str'>, <class 'str'>, <class 'str'>, <class 'str'>, <class 'str'>, <class 'str'>, <class 'str'>, <class 'str'>, <class 'str'>, <class 'str'>, <class 'str'>, <class 'str'>, <class 'str'>, <class 'str'>, <class 'str'>, <class 'str'>, <class 'str'>, <class 'str'>, <class 'str'>, <class 'str'>, <class 'str'>, <class 'str'>, <class 'str'>, <class 'str'>]"
     ]
    }
   ],
   "source": [
    "epochs = 10\n",
    "batch_size = 32\n",
    "\n",
    "history = model.fit(X_train, Y_train, epochs=epochs, batch_size=batch_size,validation_split=0.1,callbacks=[EarlyStopping(monitor='val_loss', patience=3, min_delta=0.0001)])"
   ]
  },
  {
   "cell_type": "markdown",
   "id": "e186a48f",
   "metadata": {},
   "source": [
    "## 3. Evaluate Results\n",
    "\n",
    "https://towardsdatascience.com/useful-plots-to-diagnose-your-neural-network-521907fa2f45"
   ]
  },
  {
   "cell_type": "code",
   "execution_count": 80,
   "id": "c3b229ea",
   "metadata": {},
   "outputs": [
    {
     "data": {
      "text/plain": [
       "numpy.ndarray"
      ]
     },
     "execution_count": 80,
     "metadata": {},
     "output_type": "execute_result"
    }
   ],
   "source": [
    "type(Y_test)"
   ]
  },
  {
   "cell_type": "markdown",
   "id": "144ac3eb",
   "metadata": {},
   "source": [
    "### 3.1 Accuracy on Test Data"
   ]
  },
  {
   "cell_type": "code",
   "execution_count": 43,
   "id": "e3a9465c",
   "metadata": {
    "scrolled": true
   },
   "outputs": [
    {
     "name": "stdout",
     "output_type": "stream",
     "text": [
      "1/1 [==============================] - 0s 35ms/step - loss: 0.7038 - accuracy: 0.8235\n",
      "Test set\n",
      "  Loss: 0.704\n",
      "  Accuracy: 0.824\n"
     ]
    }
   ],
   "source": [
    "accuracy = model.evaluate(X_test,Y_test)\n",
    "print('Test set\\n  Loss: {:0.3f}\\n  Accuracy: {:0.3f}'.format(accuracy[0],accuracy[1]))"
   ]
  },
  {
   "cell_type": "markdown",
   "id": "294efc63",
   "metadata": {},
   "source": [
    "### 3.2 Plots for Diagnosis"
   ]
  },
  {
   "cell_type": "code",
   "execution_count": 44,
   "id": "1dcc71c3",
   "metadata": {
    "scrolled": true
   },
   "outputs": [
    {
     "data": {
      "image/png": "[encoded data removed]",
      "text/plain": [
       "<Figure size 432x288 with 1 Axes>"
      ]
     },
     "metadata": {
      "needs_background": "light"
     },
     "output_type": "display_data"
    }
   ],
   "source": [
    "plt.title('Loss')\n",
    "plt.plot(history.history['loss'], label='train')\n",
    "plt.plot(history.history['val_loss'], label='test')\n",
    "plt.legend()\n",
    "plt.show();"
   ]
  },
  {
   "cell_type": "code",
   "execution_count": 45,
   "id": "2e7a3f61",
   "metadata": {
    "scrolled": true
   },
   "outputs": [
    {
     "data": {
      "image/png": "[encoded data removed]",
      "text/plain": [
       "<Figure size 432x288 with 1 Axes>"
      ]
     },
     "metadata": {
      "needs_background": "light"
     },
     "output_type": "display_data"
    }
   ],
   "source": [
    "plt.title('Accuracy')\n",
    "plt.plot(history.history['accuracy'], label='train')\n",
    "plt.plot(history.history['val_accuracy'], label='test')\n",
    "plt.legend()\n",
    "plt.show();"
   ]
  },
  {
   "cell_type": "markdown",
   "id": "97e3955f",
   "metadata": {},
   "source": [
    "### 3.3 Test on Custom Data"
   ]
  },
  {
   "cell_type": "code",
   "execution_count": 46,
   "id": "fdece6be",
   "metadata": {},
   "outputs": [
    {
     "name": "stdout",
     "output_type": "stream",
     "text": [
      "1/1 [==============================] - 0s 239ms/step\n",
      "[[6.4944640e-02 8.2299218e-04 2.7190943e-03 9.3151331e-01]] Subtraction\n"
     ]
    }
   ],
   "source": [
    "new_mwp = ['If Aditi has 2 toys, and he gives away 3. How many toys does he have now?']\n",
    "new_mwp = [clean_text(x) for x in new_mwp]\n",
    "seq = tokenizer.texts_to_sequences(new_mwp)\n",
    "padded = pad_sequences(seq, maxlen=MAX_SEQUENCE_LENGTH)\n",
    "\n",
    "pred = model.predict(padded)\n",
    "\n",
    "print(pred, operations[np.argmax(pred)])"
   ]
  },
  {
   "cell_type": "markdown",
   "id": "eb25321c",
   "metadata": {},
   "source": [
    "Hmm. Looks like it's biased toward subtraction.\n",
    "\n",
    "Why don't i try changing dataset? :\n",
    "- make and use dataset with equal number of samples for each operation\n",
    "- use a bigger dataset like m23 or dolphin ?"
   ]
  },
  {
   "cell_type": "code",
   "execution_count": 48,
   "id": "78a2137e",
   "metadata": {
    "scrolled": true
   },
   "outputs": [
    {
     "name": "stdout",
     "output_type": "stream",
     "text": [
      "18/18 [==============================] - 0s 18ms/step\n"
     ]
    }
   ],
   "source": [
    "Y = [operations[np.argmax(x)] for x in model.predict(X)]"
   ]
  },
  {
   "cell_type": "code",
   "execution_count": 58,
   "id": "b1bf9ba1",
   "metadata": {
    "scrolled": false
   },
   "outputs": [],
   "source": [
    "df['pred'] = Y\n",
    "# df[['question', 'Type', 'pred']].tail(17)"
   ]
  },
  {
   "cell_type": "code",
   "execution_count": 52,
   "id": "7443056b",
   "metadata": {
    "scrolled": false
   },
   "outputs": [
    {
     "name": "stdout",
     "output_type": "stream",
     "text": [
      "Subtraction       8\n",
      "Addition          4\n",
      "Multiplication    4\n",
      "Division          1\n",
      "Name: pred, dtype: int64\n"
     ]
    },
    {
     "data": {
      "text/plain": [
       "Subtraction       8\n",
       "Addition          6\n",
       "Multiplication    2\n",
       "Division          1\n",
       "Name: Type, dtype: int64"
      ]
     },
     "execution_count": 52,
     "metadata": {},
     "output_type": "execute_result"
    }
   ],
   "source": [
    "pred = df[['question', 'Type', 'pred']].tail(17)\n",
    "print(pred['pred'].value_counts())\n",
    "pred['Type'].value_counts()"
   ]
  },
  {
   "cell_type": "markdown",
   "id": "61b9115b",
   "metadata": {},
   "source": [
    "## Test with SVAMP data"
   ]
  },
  {
   "cell_type": "code",
   "execution_count": 72,
   "id": "d951de9b",
   "metadata": {},
   "outputs": [],
   "source": [
    "svampdf = pd.read_csv('cleaned_svamp.csv')"
   ]
  },
  {
   "cell_type": "code",
   "execution_count": 73,
   "id": "ce6e651c",
   "metadata": {},
   "outputs": [
    {
     "data": {
      "text/html": [
       "<div>\n",
       "<style scoped>\n",
       "    .dataframe tbody tr th:only-of-type {\n",
       "        vertical-align: middle;\n",
       "    }\n",
       "\n",
       "    .dataframe tbody tr th {\n",
       "        vertical-align: top;\n",
       "    }\n",
       "\n",
       "    .dataframe thead th {\n",
       "        text-align: right;\n",
       "    }\n",
       "</style>\n",
       "<table border=\"1\" class=\"dataframe\">\n",
       "  <thead>\n",
       "    <tr style=\"text-align: right;\">\n",
       "      <th></th>\n",
       "      <th>Unnamed: 0</th>\n",
       "      <th>ID</th>\n",
       "      <th>Body</th>\n",
       "      <th>Question</th>\n",
       "      <th>Equation</th>\n",
       "      <th>Answer</th>\n",
       "      <th>Type</th>\n",
       "      <th>BQ</th>\n",
       "      <th>Clean</th>\n",
       "    </tr>\n",
       "  </thead>\n",
       "  <tbody>\n",
       "    <tr>\n",
       "      <th>0</th>\n",
       "      <td>0</td>\n",
       "      <td>chal-1</td>\n",
       "      <td>Each pack of dvds costs 76 dollars. If there i...</td>\n",
       "      <td>How much do you have to pay to buy each pack?</td>\n",
       "      <td>( 76.0 - 25.0 )</td>\n",
       "      <td>51</td>\n",
       "      <td>Subtraction</td>\n",
       "      <td>Each pack of dvds costs 76 dollars. If there i...</td>\n",
       "      <td>each pack of dvds costs dollars if there is a ...</td>\n",
       "    </tr>\n",
       "    <tr>\n",
       "      <th>1</th>\n",
       "      <td>1</td>\n",
       "      <td>chal-2</td>\n",
       "      <td>Dan had $ 3 left with him after he bought a ca...</td>\n",
       "      <td>How much did the candy bar cost?</td>\n",
       "      <td>( 4.0 - 3.0 )</td>\n",
       "      <td>1</td>\n",
       "      <td>Subtraction</td>\n",
       "      <td>Dan had $ 3 left with him after he bought a ca...</td>\n",
       "      <td>dan had left with him after he bought a candy ...</td>\n",
       "    </tr>\n",
       "    <tr>\n",
       "      <th>2</th>\n",
       "      <td>2</td>\n",
       "      <td>chal-3</td>\n",
       "      <td>Paco had 26 salty cookies and 17 sweet cookies...</td>\n",
       "      <td>How many salty cookies did Paco have left?</td>\n",
       "      <td>( 26.0 - 9.0 )</td>\n",
       "      <td>17</td>\n",
       "      <td>Subtraction</td>\n",
       "      <td>Paco had 26 salty cookies and 17 sweet cookies...</td>\n",
       "      <td>paco had salty cookies and sweet cookies he at...</td>\n",
       "    </tr>\n",
       "    <tr>\n",
       "      <th>3</th>\n",
       "      <td>3</td>\n",
       "      <td>chal-4</td>\n",
       "      <td>43 children were riding on the bus. At the bus...</td>\n",
       "      <td>How many children got off the bus at the bus s...</td>\n",
       "      <td>( 43.0 - 21.0 )</td>\n",
       "      <td>22</td>\n",
       "      <td>Subtraction</td>\n",
       "      <td>43 children were riding on the bus. At the bus...</td>\n",
       "      <td>children were riding on the bus at the bus sto...</td>\n",
       "    </tr>\n",
       "    <tr>\n",
       "      <th>4</th>\n",
       "      <td>4</td>\n",
       "      <td>chal-5</td>\n",
       "      <td>28 children were riding on the bus. At the bus...</td>\n",
       "      <td>How many more children got on the bus than tho...</td>\n",
       "      <td>( 30.0 - 28.0 )</td>\n",
       "      <td>2</td>\n",
       "      <td>Subtraction</td>\n",
       "      <td>28 children were riding on the bus. At the bus...</td>\n",
       "      <td>children were riding on the bus at the bus sto...</td>\n",
       "    </tr>\n",
       "    <tr>\n",
       "      <th>...</th>\n",
       "      <td>...</td>\n",
       "      <td>...</td>\n",
       "      <td>...</td>\n",
       "      <td>...</td>\n",
       "      <td>...</td>\n",
       "      <td>...</td>\n",
       "      <td>...</td>\n",
       "      <td>...</td>\n",
       "      <td>...</td>\n",
       "    </tr>\n",
       "    <tr>\n",
       "      <th>995</th>\n",
       "      <td>995</td>\n",
       "      <td>chal-996</td>\n",
       "      <td>Paige was helping her mom plant flowers and to...</td>\n",
       "      <td>How many flower beds did they have?</td>\n",
       "      <td>( 36.0 / 12.0 )</td>\n",
       "      <td>3</td>\n",
       "      <td>Division</td>\n",
       "      <td>Paige was helping her mom plant flowers and to...</td>\n",
       "      <td>paige was helping her mom plant flowers and to...</td>\n",
       "    </tr>\n",
       "    <tr>\n",
       "      <th>996</th>\n",
       "      <td>996</td>\n",
       "      <td>chal-997</td>\n",
       "      <td>At the zoo, a cage had 3 snakes and 75 alligat...</td>\n",
       "      <td>How many alligators were not hiding?</td>\n",
       "      <td>( 75.0 - 19.0 )</td>\n",
       "      <td>56</td>\n",
       "      <td>Subtraction</td>\n",
       "      <td>At the zoo, a cage had 3 snakes and 75 alligat...</td>\n",
       "      <td>at the zoo a cage had snakes and alligators if...</td>\n",
       "    </tr>\n",
       "    <tr>\n",
       "      <th>997</th>\n",
       "      <td>997</td>\n",
       "      <td>chal-998</td>\n",
       "      <td>Paige was helping her mom plant flowers and to...</td>\n",
       "      <td>How many flowers did they grow?</td>\n",
       "      <td>( 60.0 * ( 55.0 / 15.0 ) )</td>\n",
       "      <td>220</td>\n",
       "      <td>Multiplication</td>\n",
       "      <td>Paige was helping her mom plant flowers and to...</td>\n",
       "      <td>paige was helping her mom plant flowers and to...</td>\n",
       "    </tr>\n",
       "    <tr>\n",
       "      <th>998</th>\n",
       "      <td>998</td>\n",
       "      <td>chal-999</td>\n",
       "      <td>Mary is baking a cake. The recipe calls for 7 ...</td>\n",
       "      <td>How many more cups of sugar does she need to add?</td>\n",
       "      <td>( 7.0 - 4.0 )</td>\n",
       "      <td>3</td>\n",
       "      <td>Subtraction</td>\n",
       "      <td>Mary is baking a cake. The recipe calls for 7 ...</td>\n",
       "      <td>mary is baking a cake the recipe calls for cup...</td>\n",
       "    </tr>\n",
       "    <tr>\n",
       "      <th>999</th>\n",
       "      <td>999</td>\n",
       "      <td>chal-1000</td>\n",
       "      <td>The grasshopper and the frog had a jumping con...</td>\n",
       "      <td>How far did the frog jump?</td>\n",
       "      <td>( 13.0 - 2.0 )</td>\n",
       "      <td>11</td>\n",
       "      <td>Subtraction</td>\n",
       "      <td>The grasshopper and the frog had a jumping con...</td>\n",
       "      <td>the grasshopper and the frog had a jumping con...</td>\n",
       "    </tr>\n",
       "  </tbody>\n",
       "</table>\n",
       "<p>1000 rows × 9 columns</p>\n",
       "</div>"
      ],
      "text/plain": [
       "     Unnamed: 0         ID                                               Body  \\\n",
       "0             0     chal-1  Each pack of dvds costs 76 dollars. If there i...   \n",
       "1             1     chal-2  Dan had $ 3 left with him after he bought a ca...   \n",
       "2             2     chal-3  Paco had 26 salty cookies and 17 sweet cookies...   \n",
       "3             3     chal-4  43 children were riding on the bus. At the bus...   \n",
       "4             4     chal-5  28 children were riding on the bus. At the bus...   \n",
       "..          ...        ...                                                ...   \n",
       "995         995   chal-996  Paige was helping her mom plant flowers and to...   \n",
       "996         996   chal-997  At the zoo, a cage had 3 snakes and 75 alligat...   \n",
       "997         997   chal-998  Paige was helping her mom plant flowers and to...   \n",
       "998         998   chal-999  Mary is baking a cake. The recipe calls for 7 ...   \n",
       "999         999  chal-1000  The grasshopper and the frog had a jumping con...   \n",
       "\n",
       "                                              Question  \\\n",
       "0        How much do you have to pay to buy each pack?   \n",
       "1                     How much did the candy bar cost?   \n",
       "2           How many salty cookies did Paco have left?   \n",
       "3    How many children got off the bus at the bus s...   \n",
       "4    How many more children got on the bus than tho...   \n",
       "..                                                 ...   \n",
       "995                How many flower beds did they have?   \n",
       "996               How many alligators were not hiding?   \n",
       "997                    How many flowers did they grow?   \n",
       "998  How many more cups of sugar does she need to add?   \n",
       "999                         How far did the frog jump?   \n",
       "\n",
       "                       Equation  Answer            Type  \\\n",
       "0               ( 76.0 - 25.0 )      51     Subtraction   \n",
       "1                 ( 4.0 - 3.0 )       1     Subtraction   \n",
       "2                ( 26.0 - 9.0 )      17     Subtraction   \n",
       "3               ( 43.0 - 21.0 )      22     Subtraction   \n",
       "4               ( 30.0 - 28.0 )       2     Subtraction   \n",
       "..                          ...     ...             ...   \n",
       "995             ( 36.0 / 12.0 )       3        Division   \n",
       "996             ( 75.0 - 19.0 )      56     Subtraction   \n",
       "997  ( 60.0 * ( 55.0 / 15.0 ) )     220  Multiplication   \n",
       "998               ( 7.0 - 4.0 )       3     Subtraction   \n",
       "999              ( 13.0 - 2.0 )      11     Subtraction   \n",
       "\n",
       "                                                    BQ  \\\n",
       "0    Each pack of dvds costs 76 dollars. If there i...   \n",
       "1    Dan had $ 3 left with him after he bought a ca...   \n",
       "2    Paco had 26 salty cookies and 17 sweet cookies...   \n",
       "3    43 children were riding on the bus. At the bus...   \n",
       "4    28 children were riding on the bus. At the bus...   \n",
       "..                                                 ...   \n",
       "995  Paige was helping her mom plant flowers and to...   \n",
       "996  At the zoo, a cage had 3 snakes and 75 alligat...   \n",
       "997  Paige was helping her mom plant flowers and to...   \n",
       "998  Mary is baking a cake. The recipe calls for 7 ...   \n",
       "999  The grasshopper and the frog had a jumping con...   \n",
       "\n",
       "                                                 Clean  \n",
       "0    each pack of dvds costs dollars if there is a ...  \n",
       "1    dan had left with him after he bought a candy ...  \n",
       "2    paco had salty cookies and sweet cookies he at...  \n",
       "3    children were riding on the bus at the bus sto...  \n",
       "4    children were riding on the bus at the bus sto...  \n",
       "..                                                 ...  \n",
       "995  paige was helping her mom plant flowers and to...  \n",
       "996  at the zoo a cage had snakes and alligators if...  \n",
       "997  paige was helping her mom plant flowers and to...  \n",
       "998  mary is baking a cake the recipe calls for cup...  \n",
       "999  the grasshopper and the frog had a jumping con...  \n",
       "\n",
       "[1000 rows x 9 columns]"
      ]
     },
     "execution_count": 73,
     "metadata": {},
     "output_type": "execute_result"
    }
   ],
   "source": [
    "svampdf"
   ]
  },
  {
   "cell_type": "code",
   "execution_count": 74,
   "id": "69d102da",
   "metadata": {
    "scrolled": false
   },
   "outputs": [
    {
     "name": "stdout",
     "output_type": "stream",
     "text": [
      "Shape of data tensor: (1000, 100)\n"
     ]
    }
   ],
   "source": [
    "# Truncate and pad the input sequences so that they \n",
    "# are all in the same length for modeling.\n",
    "\n",
    "XS = tokenizer.texts_to_sequences(svampdf['Clean'].values)\n",
    "XS = pad_sequences(XS, maxlen=MAX_SEQUENCE_LENGTH)\n",
    "print('Shape of data tensor:', XS.shape)"
   ]
  },
  {
   "cell_type": "code",
   "execution_count": 75,
   "id": "164145ad",
   "metadata": {},
   "outputs": [
    {
     "name": "stdout",
     "output_type": "stream",
     "text": [
      "32/32 [==============================] - 1s 17ms/step\n"
     ]
    }
   ],
   "source": [
    "YS = [operations[np.argmax(x)] for x in model.predict(XS)]"
   ]
  },
  {
   "cell_type": "code",
   "execution_count": 76,
   "id": "bacd93d5",
   "metadata": {},
   "outputs": [
    {
     "name": "stdout",
     "output_type": "stream",
     "text": [
      "Subtraction       6\n",
      "Multiplication    6\n",
      "Addition          5\n",
      "Name: pred, dtype: int64\n"
     ]
    },
    {
     "data": {
      "text/plain": [
       "Subtraction       8\n",
       "Multiplication    4\n",
       "Division          3\n",
       "Addition          2\n",
       "Name: Type, dtype: int64"
      ]
     },
     "execution_count": 76,
     "metadata": {},
     "output_type": "execute_result"
    }
   ],
   "source": [
    "svampdf['pred'] = YS\n",
    "pred = svampdf[['Question', 'Type', 'pred']].tail(17)\n",
    "print(pred['pred'].value_counts())\n",
    "pred['Type'].value_counts()"
   ]
  },
  {
   "cell_type": "code",
   "execution_count": 81,
   "id": "74d86f8f",
   "metadata": {},
   "outputs": [],
   "source": [
    "YS = pd.get_dummies(svampdf['Type']).values"
   ]
  },
  {
   "cell_type": "code",
   "execution_count": 82,
   "id": "cb500e96",
   "metadata": {},
   "outputs": [
    {
     "name": "stdout",
     "output_type": "stream",
     "text": [
      "32/32 [==============================] - 1s 17ms/step - loss: 1.8780 - accuracy: 0.4860\n"
     ]
    }
   ],
   "source": [
    "accuracy = model.evaluate(XS,YS)"
   ]
  },
  {
   "cell_type": "code",
   "execution_count": 83,
   "id": "47a8b2a2",
   "metadata": {
    "scrolled": false
   },
   "outputs": [
    {
     "data": {
      "image/png": "[encoded data removed]",
      "text/plain": [
       "<Figure size 432x288 with 1 Axes>"
      ]
     },
     "metadata": {
      "needs_background": "light"
     },
     "output_type": "display_data"
    }
   ],
   "source": [
    "plt.title('Loss')\n",
    "plt.plot(history.history['loss'], label='train')\n",
    "plt.plot(history.history['val_loss'], label='test')\n",
    "plt.legend()\n",
    "plt.show();"
   ]
  },
  {
   "cell_type": "code",
   "execution_count": 84,
   "id": "3f32d388",
   "metadata": {
    "scrolled": false
   },
   "outputs": [
    {
     "data": {
      "image/png": "[encoded data removed]",
      "text/plain": [
       "<Figure size 432x288 with 1 Axes>"
      ]
     },
     "metadata": {
      "needs_background": "light"
     },
     "output_type": "display_data"
    }
   ],
   "source": [
    "plt.title('Accuracy')\n",
    "plt.plot(history.history['accuracy'], label='train')\n",
    "plt.plot(history.history['val_accuracy'], label='test')\n",
    "plt.legend()\n",
    "plt.show();"
   ]
  },
  {
   "cell_type": "markdown",
   "id": "48327b01",
   "metadata": {},
   "source": [
    "^^ TERRIBLE RESULTS\n",
    "combine datasets and run ?"
   ]
  }
 ],
 "metadata": {
  "kernelspec": {
   "display_name": "Python 3 (ipykernel)",
   "language": "python",
   "name": "python3"
  },
  "language_info": {
   "codemirror_mode": {
    "name": "ipython",
    "version": 3
   },
   "file_extension": ".py",
   "mimetype": "text/x-python",
   "name": "python",
   "nbconvert_exporter": "python",
   "pygments_lexer": "ipython3",
   "version": "3.10.6"
  }
 },
 "nbformat": 4,
 "nbformat_minor": 5
}
