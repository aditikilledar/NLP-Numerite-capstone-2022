{
 "cells": [
  {
   "cell_type": "markdown",
   "id": "8cb1f357",
   "metadata": {},
   "source": [
    "# Operation Identification using Deep Learning (Bi-LSTM w/ Softmax)\n",
    "Each record in our dataset, SVAMP.json will be preprocessed.\n",
    "The preprocessed records will be fed to a model which then identifies which one of the four operations is expected of the answer to that question. \n",
    "\n",
    "Since this deals only with elemnetary school level math problems, we assume that the only 4 operations are (ASMD) addition, subtraction, multiplication and division. There is no possibility of getting negative, decimal, fractional or profit loss questions."
   ]
  },
  {
   "cell_type": "markdown",
   "id": "c2b7ebc3",
   "metadata": {},
   "source": [
    "I think I need a bigger dataset to train the operation identification."
   ]
  },
  {
   "cell_type": "markdown",
   "id": "f0156932",
   "metadata": {},
   "source": [
    "## 1. Pre-Process SVAMP Dataset"
   ]
  },
  {
   "cell_type": "markdown",
   "id": "acc4185a",
   "metadata": {},
   "source": [
    "1.1 Import Statements"
   ]
  },
  {
   "cell_type": "code",
   "execution_count": 2,
   "id": "dd315219",
   "metadata": {},
   "outputs": [],
   "source": [
    "import pandas as pd\n",
    "import numpy as np\n",
    "from nltk.corpus import stopwords\n",
    "import string\n",
    "import re\n",
    "import nltk\n",
    "import gensim\n",
    "\n",
    "import matplotlib.pyplot as plt"
   ]
  },
  {
   "cell_type": "markdown",
   "id": "4d1d9137",
   "metadata": {},
   "source": [
    "1.2 Import JSON dataset into Dataframe"
   ]
  },
  {
   "cell_type": "code",
   "execution_count": 3,
   "id": "bed54e5f",
   "metadata": {},
   "outputs": [],
   "source": [
    "def readJsonToDf(path):\n",
    "    df = pd.read_json(path)\n",
    "    return df"
   ]
  },
  {
   "cell_type": "code",
   "execution_count": 4,
   "id": "f1dc7706",
   "metadata": {},
   "outputs": [
    {
     "name": "stdout",
     "output_type": "stream",
     "text": [
      "['ID', 'Body', 'Question', 'Equation', 'Answer', 'Type']\n"
     ]
    },
    {
     "data": {
      "text/html": [
       "<div>\n",
       "<style scoped>\n",
       "    .dataframe tbody tr th:only-of-type {\n",
       "        vertical-align: middle;\n",
       "    }\n",
       "\n",
       "    .dataframe tbody tr th {\n",
       "        vertical-align: top;\n",
       "    }\n",
       "\n",
       "    .dataframe thead th {\n",
       "        text-align: right;\n",
       "    }\n",
       "</style>\n",
       "<table border=\"1\" class=\"dataframe\">\n",
       "  <thead>\n",
       "    <tr style=\"text-align: right;\">\n",
       "      <th></th>\n",
       "      <th>ID</th>\n",
       "      <th>Body</th>\n",
       "      <th>Question</th>\n",
       "      <th>Equation</th>\n",
       "      <th>Answer</th>\n",
       "      <th>Type</th>\n",
       "    </tr>\n",
       "  </thead>\n",
       "  <tbody>\n",
       "    <tr>\n",
       "      <th>0</th>\n",
       "      <td>chal-1</td>\n",
       "      <td>Each pack of dvds costs 76 dollars. If there i...</td>\n",
       "      <td>How much do you have to pay to buy each pack?</td>\n",
       "      <td>( 76.0 - 25.0 )</td>\n",
       "      <td>51</td>\n",
       "      <td>Subtraction</td>\n",
       "    </tr>\n",
       "    <tr>\n",
       "      <th>1</th>\n",
       "      <td>chal-2</td>\n",
       "      <td>Dan had $ 3 left with him after he bought a ca...</td>\n",
       "      <td>How much did the candy bar cost?</td>\n",
       "      <td>( 4.0 - 3.0 )</td>\n",
       "      <td>1</td>\n",
       "      <td>Subtraction</td>\n",
       "    </tr>\n",
       "    <tr>\n",
       "      <th>2</th>\n",
       "      <td>chal-3</td>\n",
       "      <td>Paco had 26 salty cookies and 17 sweet cookies...</td>\n",
       "      <td>How many salty cookies did Paco have left?</td>\n",
       "      <td>( 26.0 - 9.0 )</td>\n",
       "      <td>17</td>\n",
       "      <td>Subtraction</td>\n",
       "    </tr>\n",
       "    <tr>\n",
       "      <th>3</th>\n",
       "      <td>chal-4</td>\n",
       "      <td>43 children were riding on the bus. At the bus...</td>\n",
       "      <td>How many children got off the bus at the bus s...</td>\n",
       "      <td>( 43.0 - 21.0 )</td>\n",
       "      <td>22</td>\n",
       "      <td>Subtraction</td>\n",
       "    </tr>\n",
       "    <tr>\n",
       "      <th>4</th>\n",
       "      <td>chal-5</td>\n",
       "      <td>28 children were riding on the bus. At the bus...</td>\n",
       "      <td>How many more children got on the bus than tho...</td>\n",
       "      <td>( 30.0 - 28.0 )</td>\n",
       "      <td>2</td>\n",
       "      <td>Subtraction</td>\n",
       "    </tr>\n",
       "  </tbody>\n",
       "</table>\n",
       "</div>"
      ],
      "text/plain": [
       "       ID                                               Body  \\\n",
       "0  chal-1  Each pack of dvds costs 76 dollars. If there i...   \n",
       "1  chal-2  Dan had $ 3 left with him after he bought a ca...   \n",
       "2  chal-3  Paco had 26 salty cookies and 17 sweet cookies...   \n",
       "3  chal-4  43 children were riding on the bus. At the bus...   \n",
       "4  chal-5  28 children were riding on the bus. At the bus...   \n",
       "\n",
       "                                            Question         Equation  Answer  \\\n",
       "0      How much do you have to pay to buy each pack?  ( 76.0 - 25.0 )      51   \n",
       "1                   How much did the candy bar cost?    ( 4.0 - 3.0 )       1   \n",
       "2         How many salty cookies did Paco have left?   ( 26.0 - 9.0 )      17   \n",
       "3  How many children got off the bus at the bus s...  ( 43.0 - 21.0 )      22   \n",
       "4  How many more children got on the bus than tho...  ( 30.0 - 28.0 )       2   \n",
       "\n",
       "          Type  \n",
       "0  Subtraction  \n",
       "1  Subtraction  \n",
       "2  Subtraction  \n",
       "3  Subtraction  \n",
       "4  Subtraction  "
      ]
     },
     "execution_count": 4,
     "metadata": {},
     "output_type": "execute_result"
    }
   ],
   "source": [
    "# dataframe of SVAMP dataset\n",
    "df = readJsonToDf('../../Datasets/SVAMP.json')\n",
    "\n",
    "# columns of dataframe\n",
    "print(list(df.columns))\n",
    "df.head()"
   ]
  },
  {
   "cell_type": "code",
   "execution_count": 5,
   "id": "5df37d6d",
   "metadata": {},
   "outputs": [
    {
     "data": {
      "text/plain": [
       "'Each pack of dvds costs 76 dollars. If there is a discount of 25 dollars on each pack How much do you have to pay to buy each pack?'"
      ]
     },
     "execution_count": 5,
     "metadata": {},
     "output_type": "execute_result"
    }
   ],
   "source": [
    "# Make new column combining body and question.\n",
    "df[\"BQ\"] = df[\"Body\"]+ ' ' + df[\"Question\"]\n",
    "df[\"BQ\"][0]"
   ]
  },
  {
   "cell_type": "markdown",
   "id": "25f7a395",
   "metadata": {},
   "source": [
    "1.3.1 change typo Divison to Division"
   ]
  },
  {
   "cell_type": "code",
   "execution_count": 6,
   "id": "04f25624",
   "metadata": {
    "scrolled": true
   },
   "outputs": [
    {
     "data": {
      "text/plain": [
       "array(['Subtraction', 'Addition', 'Multiplication', 'Division'],\n",
       "      dtype=object)"
      ]
     },
     "execution_count": 6,
     "metadata": {},
     "output_type": "execute_result"
    }
   ],
   "source": [
    "df.loc[ df[\"Type\"] == \"Common-Divison\", \"Type\"] = \"Common-Division\"\n",
    "df.loc[ df[\"Type\"] == \"Common-Division\", \"Type\"] = \"Division\"\n",
    "df.Type.unique()"
   ]
  },
  {
   "cell_type": "code",
   "execution_count": 7,
   "id": "dcd9baab",
   "metadata": {
    "scrolled": true
   },
   "outputs": [
    {
     "data": {
      "text/plain": [
       "<AxesSubplot:>"
      ]
     },
     "execution_count": 7,
     "metadata": {},
     "output_type": "execute_result"
    },
    {
     "data": {
      "image/png": "[encoded data removed]",
      "text/plain": [
       "<Figure size 432x288 with 1 Axes>"
      ]
     },
     "metadata": {
      "needs_background": "light"
     },
     "output_type": "display_data"
    }
   ],
   "source": [
    "df.Type.value_counts().sort_values().plot(kind = 'bar')"
   ]
  },
  {
   "cell_type": "markdown",
   "id": "a5d9a21f",
   "metadata": {},
   "source": [
    "#### 1.3.2 Remove Punctuation\n",
    "\n",
    "I am removing all punctuation AND numbers from the body cuz I think it's irrelevent to my task of multi-class text classification.\n",
    "If something's not working, toggle:\n",
    "- the numbers\n",
    "- ~~Stopwords~~"
   ]
  },
  {
   "cell_type": "code",
   "execution_count": 8,
   "id": "015af03a",
   "metadata": {},
   "outputs": [],
   "source": [
    "REPLACE_BY_SPACE_RE = re.compile('[/(){}\\[\\]\\|@,;]')\n",
    "BAD_SYMBOLS_RE = re.compile('[^0-9a-z #+_]')\n",
    "STOPWORDS = set(stopwords.words('english'))"
   ]
  },
  {
   "cell_type": "code",
   "execution_count": 9,
   "id": "c16b51db",
   "metadata": {},
   "outputs": [],
   "source": [
    "def clean_text(text):\n",
    "    \"\"\"\n",
    "    text: a string\n",
    "\n",
    "    return: modified initial string\n",
    "    \"\"\"\n",
    "    text = text.lower() # lowercase text\n",
    "    text = REPLACE_BY_SPACE_RE.sub('', text) # replace REPLACE_BY_SPACE_RE symbols by space in text. substitute the matched string in REPLACE_BY_SPACE_RE with space.\n",
    "    text = BAD_SYMBOLS_RE.sub('', text) # remove symbols which are in BAD_SYMBOLS_RE from text. substitute the matched string in BAD_SYMBOLS_RE with nothing. \n",
    "    text = ''.join([i for i in text if not i.isdigit()])\n",
    "    text = \" \".join(text.split())\n",
    "    return text"
   ]
  },
  {
   "cell_type": "code",
   "execution_count": 10,
   "id": "38c31a0b",
   "metadata": {},
   "outputs": [
    {
     "data": {
      "text/plain": [
       "'dan had left with him after he bought a candy bar if he had at the start how much did the candy bar cost'"
      ]
     },
     "execution_count": 10,
     "metadata": {},
     "output_type": "execute_result"
    }
   ],
   "source": [
    "#storing the punctuation free text\n",
    "df['Clean']= df['BQ'].apply(lambda x:clean_text(x))\n",
    "\n",
    "df['Clean'][1]"
   ]
  },
  {
   "cell_type": "code",
   "execution_count": 11,
   "id": "ee7c2533",
   "metadata": {
    "scrolled": false
   },
   "outputs": [
    {
     "data": {
      "text/html": [
       "<div>\n",
       "<style scoped>\n",
       "    .dataframe tbody tr th:only-of-type {\n",
       "        vertical-align: middle;\n",
       "    }\n",
       "\n",
       "    .dataframe tbody tr th {\n",
       "        vertical-align: top;\n",
       "    }\n",
       "\n",
       "    .dataframe thead th {\n",
       "        text-align: right;\n",
       "    }\n",
       "</style>\n",
       "<table border=\"1\" class=\"dataframe\">\n",
       "  <thead>\n",
       "    <tr style=\"text-align: right;\">\n",
       "      <th></th>\n",
       "      <th>ID</th>\n",
       "      <th>Body</th>\n",
       "      <th>Question</th>\n",
       "      <th>Equation</th>\n",
       "      <th>Answer</th>\n",
       "      <th>Type</th>\n",
       "      <th>BQ</th>\n",
       "      <th>Clean</th>\n",
       "    </tr>\n",
       "  </thead>\n",
       "  <tbody>\n",
       "    <tr>\n",
       "      <th>0</th>\n",
       "      <td>chal-1</td>\n",
       "      <td>Each pack of dvds costs 76 dollars. If there i...</td>\n",
       "      <td>How much do you have to pay to buy each pack?</td>\n",
       "      <td>( 76.0 - 25.0 )</td>\n",
       "      <td>51</td>\n",
       "      <td>Subtraction</td>\n",
       "      <td>Each pack of dvds costs 76 dollars. If there i...</td>\n",
       "      <td>each pack of dvds costs dollars if there is a ...</td>\n",
       "    </tr>\n",
       "    <tr>\n",
       "      <th>1</th>\n",
       "      <td>chal-2</td>\n",
       "      <td>Dan had $ 3 left with him after he bought a ca...</td>\n",
       "      <td>How much did the candy bar cost?</td>\n",
       "      <td>( 4.0 - 3.0 )</td>\n",
       "      <td>1</td>\n",
       "      <td>Subtraction</td>\n",
       "      <td>Dan had $ 3 left with him after he bought a ca...</td>\n",
       "      <td>dan had left with him after he bought a candy ...</td>\n",
       "    </tr>\n",
       "    <tr>\n",
       "      <th>2</th>\n",
       "      <td>chal-3</td>\n",
       "      <td>Paco had 26 salty cookies and 17 sweet cookies...</td>\n",
       "      <td>How many salty cookies did Paco have left?</td>\n",
       "      <td>( 26.0 - 9.0 )</td>\n",
       "      <td>17</td>\n",
       "      <td>Subtraction</td>\n",
       "      <td>Paco had 26 salty cookies and 17 sweet cookies...</td>\n",
       "      <td>paco had salty cookies and sweet cookies he at...</td>\n",
       "    </tr>\n",
       "    <tr>\n",
       "      <th>3</th>\n",
       "      <td>chal-4</td>\n",
       "      <td>43 children were riding on the bus. At the bus...</td>\n",
       "      <td>How many children got off the bus at the bus s...</td>\n",
       "      <td>( 43.0 - 21.0 )</td>\n",
       "      <td>22</td>\n",
       "      <td>Subtraction</td>\n",
       "      <td>43 children were riding on the bus. At the bus...</td>\n",
       "      <td>children were riding on the bus at the bus sto...</td>\n",
       "    </tr>\n",
       "    <tr>\n",
       "      <th>4</th>\n",
       "      <td>chal-5</td>\n",
       "      <td>28 children were riding on the bus. At the bus...</td>\n",
       "      <td>How many more children got on the bus than tho...</td>\n",
       "      <td>( 30.0 - 28.0 )</td>\n",
       "      <td>2</td>\n",
       "      <td>Subtraction</td>\n",
       "      <td>28 children were riding on the bus. At the bus...</td>\n",
       "      <td>children were riding on the bus at the bus sto...</td>\n",
       "    </tr>\n",
       "  </tbody>\n",
       "</table>\n",
       "</div>"
      ],
      "text/plain": [
       "       ID                                               Body  \\\n",
       "0  chal-1  Each pack of dvds costs 76 dollars. If there i...   \n",
       "1  chal-2  Dan had $ 3 left with him after he bought a ca...   \n",
       "2  chal-3  Paco had 26 salty cookies and 17 sweet cookies...   \n",
       "3  chal-4  43 children were riding on the bus. At the bus...   \n",
       "4  chal-5  28 children were riding on the bus. At the bus...   \n",
       "\n",
       "                                            Question         Equation  Answer  \\\n",
       "0      How much do you have to pay to buy each pack?  ( 76.0 - 25.0 )      51   \n",
       "1                   How much did the candy bar cost?    ( 4.0 - 3.0 )       1   \n",
       "2         How many salty cookies did Paco have left?   ( 26.0 - 9.0 )      17   \n",
       "3  How many children got off the bus at the bus s...  ( 43.0 - 21.0 )      22   \n",
       "4  How many more children got on the bus than tho...  ( 30.0 - 28.0 )       2   \n",
       "\n",
       "          Type                                                 BQ  \\\n",
       "0  Subtraction  Each pack of dvds costs 76 dollars. If there i...   \n",
       "1  Subtraction  Dan had $ 3 left with him after he bought a ca...   \n",
       "2  Subtraction  Paco had 26 salty cookies and 17 sweet cookies...   \n",
       "3  Subtraction  43 children were riding on the bus. At the bus...   \n",
       "4  Subtraction  28 children were riding on the bus. At the bus...   \n",
       "\n",
       "                                               Clean  \n",
       "0  each pack of dvds costs dollars if there is a ...  \n",
       "1  dan had left with him after he bought a candy ...  \n",
       "2  paco had salty cookies and sweet cookies he at...  \n",
       "3  children were riding on the bus at the bus sto...  \n",
       "4  children were riding on the bus at the bus sto...  "
      ]
     },
     "execution_count": 11,
     "metadata": {},
     "output_type": "execute_result"
    }
   ],
   "source": [
    "df.head()"
   ]
  },
  {
   "cell_type": "code",
   "execution_count": 13,
   "id": "0ec48b41",
   "metadata": {},
   "outputs": [],
   "source": [
    "df.to_csv('cleaned_svamp.csv', sep=',', encoding='utf-8')"
   ]
  },
  {
   "cell_type": "markdown",
   "id": "2a0a286e",
   "metadata": {},
   "source": [
    "## 2. Build Model\n",
    "4 classes are ['Addition','Division', 'Multiplication', 'Subtraction']"
   ]
  },
  {
   "cell_type": "code",
   "execution_count": 11,
   "id": "512b3023",
   "metadata": {},
   "outputs": [],
   "source": [
    "from keras.models import Sequential\n",
    "from keras.preprocessing import sequence\n",
    "from keras.layers import Dropout\n",
    "from keras.layers import  Dense, Embedding, LSTM, Bidirectional\n",
    "\n",
    "from keras.preprocessing.text import Tokenizer\n",
    "from keras.utils import pad_sequences\n",
    "from keras.models import Sequential\n",
    "from keras.layers import Dense, Embedding, LSTM, SpatialDropout1D\n",
    "from sklearn.model_selection import train_test_split\n",
    "from keras.utils.np_utils import to_categorical\n",
    "from keras.callbacks import EarlyStopping\n",
    "from keras.layers import Dropout\n",
    "import re\n",
    "from bs4 import BeautifulSoup"
   ]
  },
  {
   "cell_type": "markdown",
   "id": "8c142aa9",
   "metadata": {},
   "source": [
    "2.1 Define the Classes of the Multi-class Text Classification"
   ]
  },
  {
   "cell_type": "code",
   "execution_count": 12,
   "id": "cb09312a",
   "metadata": {},
   "outputs": [],
   "source": [
    "# df['Type'].values"
   ]
  },
  {
   "cell_type": "code",
   "execution_count": 13,
   "id": "21e541df",
   "metadata": {},
   "outputs": [],
   "source": [
    "#  in ALPHABETICAL ORDER\n",
    "operations = ['Addition','Division', 'Multiplication', 'Subtraction']"
   ]
  },
  {
   "cell_type": "markdown",
   "id": "db6deb5d",
   "metadata": {},
   "source": [
    "### 2.2 Vectorize our MWP"
   ]
  },
  {
   "cell_type": "code",
   "execution_count": 14,
   "id": "6de229e3",
   "metadata": {},
   "outputs": [
    {
     "name": "stdout",
     "output_type": "stream",
     "text": [
      "Found 845 unique tokens.\n"
     ]
    }
   ],
   "source": [
    "# The maximum number of words to be used. (most frequent)\n",
    "MAX_NB_WORDS = 845\n",
    "# Max number of words in each word problem.\n",
    "MAX_SEQUENCE_LENGTH = 100\n",
    "# This is fixed.\n",
    "\n",
    "EMBEDDING_DIM = 100\n",
    "tokenizer = Tokenizer(num_words=MAX_NB_WORDS, filters='!\"#$%&()*+,-./:;<=>?@[\\]^_`{|}~', lower=True)\n",
    "tokenizer.fit_on_texts(df['Clean'].values)\n",
    "word_index = tokenizer.word_index\n",
    "print('Found %s unique tokens.' % len(word_index))"
   ]
  },
  {
   "cell_type": "code",
   "execution_count": 15,
   "id": "7ba9e1a8",
   "metadata": {
    "scrolled": true
   },
   "outputs": [
    {
     "name": "stdout",
     "output_type": "stream",
     "text": [
      "Shape of data tensor: (1000, 100)\n"
     ]
    }
   ],
   "source": [
    "# Truncate and pad the input sequences so that they \n",
    "# are all in the same length for modeling.\n",
    "\n",
    "X = tokenizer.texts_to_sequences(df['Clean'].values)\n",
    "X = pad_sequences(X, maxlen=MAX_SEQUENCE_LENGTH)\n",
    "print('Shape of data tensor:', X.shape)"
   ]
  },
  {
   "cell_type": "markdown",
   "id": "fcdfd1ca",
   "metadata": {},
   "source": [
    "### Convert Categorical Labels to Numbers"
   ]
  },
  {
   "cell_type": "markdown",
   "id": "fb2a7a1e",
   "metadata": {},
   "source": [
    "Looks like get_dummies IS same OHE to category always. ORDER NOT MATTERS."
   ]
  },
  {
   "cell_type": "code",
   "execution_count": 16,
   "id": "6d4af21a",
   "metadata": {},
   "outputs": [
    {
     "name": "stdout",
     "output_type": "stream",
     "text": [
      "     Addition  Division  Multiplication  Subtraction\n",
      "0           0         0               0            1\n",
      "1           0         0               0            1\n",
      "2           0         0               0            1\n",
      "3           0         0               0            1\n",
      "4           0         0               0            1\n",
      "..        ...       ...             ...          ...\n",
      "995         0         1               0            0\n",
      "996         0         0               0            1\n",
      "997         0         0               1            0\n",
      "998         0         0               0            1\n",
      "999         0         0               0            1\n",
      "\n",
      "[1000 rows x 4 columns]\n"
     ]
    }
   ],
   "source": [
    "print(pd.get_dummies(df['Type']))"
   ]
  },
  {
   "cell_type": "code",
   "execution_count": 17,
   "id": "b374d3fb",
   "metadata": {},
   "outputs": [
    {
     "name": "stdout",
     "output_type": "stream",
     "text": [
      "Shape of label tensor: (1000, 4)\n"
     ]
    }
   ],
   "source": [
    "Y = pd.get_dummies(df['Type']).values\n",
    "print('Shape of label tensor:', Y.shape)"
   ]
  },
  {
   "cell_type": "markdown",
   "id": "fa937834",
   "metadata": {},
   "source": [
    "### 2.3 Train-Test Split"
   ]
  },
  {
   "cell_type": "code",
   "execution_count": 1,
   "id": "0560b588",
   "metadata": {
    "scrolled": true
   },
   "outputs": [
    {
     "ename": "NameError",
     "evalue": "name 'train_test_split' is not defined",
     "output_type": "error",
     "traceback": [
      "\u001b[1;31m---------------------------------------------------------------------------\u001b[0m",
      "\u001b[1;31mNameError\u001b[0m                                 Traceback (most recent call last)",
      "Input \u001b[1;32mIn [1]\u001b[0m, in \u001b[0;36m<cell line: 1>\u001b[1;34m()\u001b[0m\n\u001b[1;32m----> 1\u001b[0m X_train, X_test, Y_train, Y_test \u001b[38;5;241m=\u001b[39m \u001b[43mtrain_test_split\u001b[49m(X,Y, test_size \u001b[38;5;241m=\u001b[39m \u001b[38;5;241m0.10\u001b[39m, random_state \u001b[38;5;241m=\u001b[39m \u001b[38;5;241m42\u001b[39m)\n\u001b[0;32m      2\u001b[0m \u001b[38;5;28mprint\u001b[39m(X_train\u001b[38;5;241m.\u001b[39mshape,Y_train\u001b[38;5;241m.\u001b[39mshape)\n\u001b[0;32m      3\u001b[0m \u001b[38;5;28mprint\u001b[39m(X_test\u001b[38;5;241m.\u001b[39mshape,Y_test\u001b[38;5;241m.\u001b[39mshape)\n",
      "\u001b[1;31mNameError\u001b[0m: name 'train_test_split' is not defined"
     ]
    }
   ],
   "source": [
    "X_train, X_test, Y_train, Y_test = train_test_split(X,Y, test_size = 0.10, random_state = 42)\n",
    "print(X_train.shape,Y_train.shape)\n",
    "print(X_test.shape,Y_test.shape)"
   ]
  },
  {
   "cell_type": "markdown",
   "id": "513c167c",
   "metadata": {},
   "source": [
    "### 2.4 Model\n",
    "\n",
    "The first layer is the embedded layer that uses 100 length vectors to represent each word.\n",
    "SpatialDropout1D performs variational dropout in NLP models.\n",
    "The next layer is the LSTM layer with 100 memory units.\n",
    "The output layer must create 4 output values, one for each class.\n",
    "Activation function is softmax for multi-class classification.\n",
    "Because it is a multi-class classification problem, categorical_crossentropy is used as the loss function."
   ]
  },
  {
   "cell_type": "code",
   "execution_count": 30,
   "id": "dd213ce9",
   "metadata": {},
   "outputs": [],
   "source": [
    "model = Sequential()\n",
    "model.add(Embedding(MAX_NB_WORDS, EMBEDDING_DIM, input_length=X.shape[1]))\n",
    "model.add(SpatialDropout1D(0.2))\n",
    "model.add(LSTM(100, dropout=0.2, recurrent_dropout=0.2))\n",
    "model.add(Dense(4, activation='softmax'))\n",
    "model.compile(loss='categorical_crossentropy', optimizer='adam', metrics=['accuracy'])"
   ]
  },
  {
   "cell_type": "code",
   "execution_count": 31,
   "id": "77808001",
   "metadata": {},
   "outputs": [],
   "source": [
    "# model = Sequential()\n",
    "# model.add(Embedding(MAX_NB_WORDS, EMBEDDING_DIM, input_length=X.shape[1]))\n",
    "# model.add(Bidirectional(LSTM(64)))\n",
    "# model.add(Dense(4, activation='softmax'))\n",
    "# model.compile(loss='categorical_crossentropy', optimizer='adam', metrics=['accuracy'])"
   ]
  },
  {
   "cell_type": "code",
   "execution_count": 32,
   "id": "2b6e5d80",
   "metadata": {
    "scrolled": false
   },
   "outputs": [
    {
     "name": "stdout",
     "output_type": "stream",
     "text": [
      "Epoch 1/10\n",
      "26/26 [==============================] - 5s 90ms/step - loss: 1.2364 - accuracy: 0.5148 - val_loss: 1.1168 - val_accuracy: 0.5222\n",
      "Epoch 2/10\n",
      "26/26 [==============================] - 2s 76ms/step - loss: 0.9385 - accuracy: 0.5951 - val_loss: 0.7750 - val_accuracy: 0.6889\n",
      "Epoch 3/10\n",
      "26/26 [==============================] - 2s 78ms/step - loss: 0.6664 - accuracy: 0.7012 - val_loss: 0.6708 - val_accuracy: 0.6778\n",
      "Epoch 4/10\n",
      "26/26 [==============================] - 2s 77ms/step - loss: 0.5645 - accuracy: 0.7432 - val_loss: 0.6426 - val_accuracy: 0.6889\n",
      "Epoch 5/10\n",
      "26/26 [==============================] - 2s 78ms/step - loss: 0.4978 - accuracy: 0.7790 - val_loss: 0.6116 - val_accuracy: 0.7333\n",
      "Epoch 6/10\n",
      "26/26 [==============================] - 2s 80ms/step - loss: 0.4606 - accuracy: 0.8037 - val_loss: 0.6337 - val_accuracy: 0.7111\n",
      "Epoch 7/10\n",
      "26/26 [==============================] - 2s 81ms/step - loss: 0.4055 - accuracy: 0.8605 - val_loss: 0.5929 - val_accuracy: 0.7222\n",
      "Epoch 8/10\n",
      "26/26 [==============================] - 2s 82ms/step - loss: 0.3443 - accuracy: 0.8889 - val_loss: 0.5919 - val_accuracy: 0.7000\n",
      "Epoch 9/10\n",
      "26/26 [==============================] - 2s 87ms/step - loss: 0.3029 - accuracy: 0.8901 - val_loss: 0.5702 - val_accuracy: 0.7667\n",
      "Epoch 10/10\n",
      "26/26 [==============================] - 3s 100ms/step - loss: 0.2830 - accuracy: 0.8951 - val_loss: 0.5689 - val_accuracy: 0.7667\n"
     ]
    }
   ],
   "source": [
    "epochs = 10\n",
    "batch_size = 32\n",
    "\n",
    "history = model.fit(X_train, Y_train, epochs=epochs, batch_size=batch_size,validation_split=0.1,callbacks=[EarlyStopping(monitor='val_loss', patience=3, min_delta=0.0001)])"
   ]
  },
  {
   "cell_type": "markdown",
   "id": "e186a48f",
   "metadata": {},
   "source": [
    "## 3. Evaluate Results\n",
    "\n",
    "https://towardsdatascience.com/useful-plots-to-diagnose-your-neural-network-521907fa2f45"
   ]
  },
  {
   "cell_type": "markdown",
   "id": "144ac3eb",
   "metadata": {},
   "source": [
    "### 3.1 Accuracy on Test Data"
   ]
  },
  {
   "cell_type": "code",
   "execution_count": 33,
   "id": "e3a9465c",
   "metadata": {
    "scrolled": true
   },
   "outputs": [
    {
     "name": "stdout",
     "output_type": "stream",
     "text": [
      "4/4 [==============================] - 0s 18ms/step - loss: 0.4996 - accuracy: 0.8100\n",
      "Test set\n",
      "  Loss: 0.500\n",
      "  Accuracy: 0.810\n"
     ]
    }
   ],
   "source": [
    "accuracy = model.evaluate(X_test,Y_test)\n",
    "print('Test set\\n  Loss: {:0.3f}\\n  Accuracy: {:0.3f}'.format(accuracy[0],accuracy[1]))"
   ]
  },
  {
   "cell_type": "markdown",
   "id": "294efc63",
   "metadata": {},
   "source": [
    "### 3.2 Plots for Diagnosis"
   ]
  },
  {
   "cell_type": "code",
   "execution_count": 34,
   "id": "1dcc71c3",
   "metadata": {
    "scrolled": true
   },
   "outputs": [
    {
     "data": {
      "image/png": "[encoded data removed]",
      "text/plain": [
       "<Figure size 432x288 with 1 Axes>"
      ]
     },
     "metadata": {
      "needs_background": "light"
     },
     "output_type": "display_data"
    }
   ],
   "source": [
    "plt.title('Loss')\n",
    "plt.plot(history.history['loss'], label='train')\n",
    "plt.plot(history.history['val_loss'], label='test')\n",
    "plt.legend()\n",
    "plt.show();"
   ]
  },
  {
   "cell_type": "code",
   "execution_count": 35,
   "id": "2e7a3f61",
   "metadata": {
    "scrolled": true
   },
   "outputs": [
    {
     "data": {
      "image/png": "[encoded data removed]",
      "text/plain": [
       "<Figure size 432x288 with 1 Axes>"
      ]
     },
     "metadata": {
      "needs_background": "light"
     },
     "output_type": "display_data"
    }
   ],
   "source": [
    "plt.title('Accuracy')\n",
    "plt.plot(history.history['accuracy'], label='train')\n",
    "plt.plot(history.history['val_accuracy'], label='test')\n",
    "plt.legend()\n",
    "plt.show();"
   ]
  },
  {
   "cell_type": "markdown",
   "id": "97e3955f",
   "metadata": {},
   "source": [
    "### 3.3 Test on Custom Data"
   ]
  },
  {
   "cell_type": "code",
   "execution_count": 36,
   "id": "fdece6be",
   "metadata": {},
   "outputs": [
    {
     "name": "stdout",
     "output_type": "stream",
     "text": [
      "1/1 [==============================] - 0s 198ms/step\n",
      "[[0.18063378 0.05910265 0.08380862 0.67645496]] Subtraction\n"
     ]
    }
   ],
   "source": [
    "new_mwp = ['If Aditi has 2 toys, and he gives away 3. How many toys does he have now?']\n",
    "new_mwp = [clean_text(x) for x in new_mwp]\n",
    "seq = tokenizer.texts_to_sequences(new_mwp)\n",
    "padded = pad_sequences(seq, maxlen=MAX_SEQUENCE_LENGTH)\n",
    "\n",
    "pred = model.predict(padded)\n",
    "\n",
    "print(pred, operations[np.argmax(pred)])"
   ]
  },
  {
   "cell_type": "code",
   "execution_count": 37,
   "id": "8ba48c73",
   "metadata": {},
   "outputs": [
    {
     "name": "stdout",
     "output_type": "stream",
     "text": [
      "1/1 [==============================] - 0s 23ms/step\n",
      "[[0.23019136 0.00287296 0.00260931 0.76432645]] Subtraction\n"
     ]
    }
   ],
   "source": [
    "new_mwp = ['Raze had 5 books. She got 3 more. How many does she have now?']\n",
    "new_mwp = [clean_text(x) for x in new_mwp]\n",
    "seq = tokenizer.texts_to_sequences(new_mwp)\n",
    "padded = pad_sequences(seq, maxlen=MAX_SEQUENCE_LENGTH)\n",
    "\n",
    "pred = model.predict(padded)\n",
    "\n",
    "print(pred, operations[np.argmax(pred)])"
   ]
  },
  {
   "cell_type": "markdown",
   "id": "eb25321c",
   "metadata": {},
   "source": [
    "Hmm. Looks like it's biased toward subtraction.\n",
    "\n",
    "Why don't i try changing dataset? :\n",
    "- make and use dataset with equal number of samples for each operation\n",
    "- use a bigger dataset like m23 or dolphin ?"
   ]
  },
  {
   "cell_type": "code",
   "execution_count": 38,
   "id": "78a2137e",
   "metadata": {},
   "outputs": [
    {
     "name": "stdout",
     "output_type": "stream",
     "text": [
      "32/32 [==============================] - 1s 17ms/step\n"
     ]
    }
   ],
   "source": [
    "Y = [operations[np.argmax(x)] for x in model.predict(X)]"
   ]
  },
  {
   "cell_type": "code",
   "execution_count": 39,
   "id": "b1bf9ba1",
   "metadata": {
    "scrolled": true
   },
   "outputs": [
    {
     "data": {
      "text/html": [
       "<div>\n",
       "<style scoped>\n",
       "    .dataframe tbody tr th:only-of-type {\n",
       "        vertical-align: middle;\n",
       "    }\n",
       "\n",
       "    .dataframe tbody tr th {\n",
       "        vertical-align: top;\n",
       "    }\n",
       "\n",
       "    .dataframe thead th {\n",
       "        text-align: right;\n",
       "    }\n",
       "</style>\n",
       "<table border=\"1\" class=\"dataframe\">\n",
       "  <thead>\n",
       "    <tr style=\"text-align: right;\">\n",
       "      <th></th>\n",
       "      <th>BQ</th>\n",
       "      <th>Type</th>\n",
       "      <th>pred</th>\n",
       "    </tr>\n",
       "  </thead>\n",
       "  <tbody>\n",
       "    <tr>\n",
       "      <th>900</th>\n",
       "      <td>Marco and his dad went strawberry picking. Tog...</td>\n",
       "      <td>Subtraction</td>\n",
       "      <td>Subtraction</td>\n",
       "    </tr>\n",
       "    <tr>\n",
       "      <th>901</th>\n",
       "      <td>Haley grew 9 trees in her backyard. After a ty...</td>\n",
       "      <td>Addition</td>\n",
       "      <td>Subtraction</td>\n",
       "    </tr>\n",
       "    <tr>\n",
       "      <th>902</th>\n",
       "      <td>Stray cats loved eating goldfish in the pond l...</td>\n",
       "      <td>Subtraction</td>\n",
       "      <td>Subtraction</td>\n",
       "    </tr>\n",
       "    <tr>\n",
       "      <th>903</th>\n",
       "      <td>Danny collects bottle caps and wrappers. He fo...</td>\n",
       "      <td>Subtraction</td>\n",
       "      <td>Subtraction</td>\n",
       "    </tr>\n",
       "    <tr>\n",
       "      <th>904</th>\n",
       "      <td>Mary is baking a cake. The recipe calls for 9 ...</td>\n",
       "      <td>Subtraction</td>\n",
       "      <td>Subtraction</td>\n",
       "    </tr>\n",
       "    <tr>\n",
       "      <th>...</th>\n",
       "      <td>...</td>\n",
       "      <td>...</td>\n",
       "      <td>...</td>\n",
       "    </tr>\n",
       "    <tr>\n",
       "      <th>995</th>\n",
       "      <td>Paige was helping her mom plant flowers and to...</td>\n",
       "      <td>Division</td>\n",
       "      <td>Division</td>\n",
       "    </tr>\n",
       "    <tr>\n",
       "      <th>996</th>\n",
       "      <td>At the zoo, a cage had 3 snakes and 75 alligat...</td>\n",
       "      <td>Subtraction</td>\n",
       "      <td>Subtraction</td>\n",
       "    </tr>\n",
       "    <tr>\n",
       "      <th>997</th>\n",
       "      <td>Paige was helping her mom plant flowers and to...</td>\n",
       "      <td>Multiplication</td>\n",
       "      <td>Multiplication</td>\n",
       "    </tr>\n",
       "    <tr>\n",
       "      <th>998</th>\n",
       "      <td>Mary is baking a cake. The recipe calls for 7 ...</td>\n",
       "      <td>Subtraction</td>\n",
       "      <td>Subtraction</td>\n",
       "    </tr>\n",
       "    <tr>\n",
       "      <th>999</th>\n",
       "      <td>The grasshopper and the frog had a jumping con...</td>\n",
       "      <td>Subtraction</td>\n",
       "      <td>Subtraction</td>\n",
       "    </tr>\n",
       "  </tbody>\n",
       "</table>\n",
       "<p>100 rows × 3 columns</p>\n",
       "</div>"
      ],
      "text/plain": [
       "                                                    BQ            Type  \\\n",
       "900  Marco and his dad went strawberry picking. Tog...     Subtraction   \n",
       "901  Haley grew 9 trees in her backyard. After a ty...        Addition   \n",
       "902  Stray cats loved eating goldfish in the pond l...     Subtraction   \n",
       "903  Danny collects bottle caps and wrappers. He fo...     Subtraction   \n",
       "904  Mary is baking a cake. The recipe calls for 9 ...     Subtraction   \n",
       "..                                                 ...             ...   \n",
       "995  Paige was helping her mom plant flowers and to...        Division   \n",
       "996  At the zoo, a cage had 3 snakes and 75 alligat...     Subtraction   \n",
       "997  Paige was helping her mom plant flowers and to...  Multiplication   \n",
       "998  Mary is baking a cake. The recipe calls for 7 ...     Subtraction   \n",
       "999  The grasshopper and the frog had a jumping con...     Subtraction   \n",
       "\n",
       "               pred  \n",
       "900     Subtraction  \n",
       "901     Subtraction  \n",
       "902     Subtraction  \n",
       "903     Subtraction  \n",
       "904     Subtraction  \n",
       "..              ...  \n",
       "995        Division  \n",
       "996     Subtraction  \n",
       "997  Multiplication  \n",
       "998     Subtraction  \n",
       "999     Subtraction  \n",
       "\n",
       "[100 rows x 3 columns]"
      ]
     },
     "execution_count": 39,
     "metadata": {},
     "output_type": "execute_result"
    }
   ],
   "source": [
    "df['pred'] = Y\n",
    "df[['BQ', 'Type', 'pred']].tail(15)"
   ]
  },
  {
   "cell_type": "code",
   "execution_count": 45,
   "id": "7443056b",
   "metadata": {
    "scrolled": false
   },
   "outputs": [
    {
     "name": "stdout",
     "output_type": "stream",
     "text": [
      "Subtraction       57\n",
      "Division          19\n",
      "Addition          15\n",
      "Multiplication     9\n",
      "Name: pred, dtype: int64\n"
     ]
    },
    {
     "data": {
      "text/plain": [
       "Subtraction       56\n",
       "Division          17\n",
       "Addition          16\n",
       "Multiplication    11\n",
       "Name: Type, dtype: int64"
      ]
     },
     "execution_count": 45,
     "metadata": {},
     "output_type": "execute_result"
    }
   ],
   "source": [
    "pred = df[['BQ', 'Type', 'pred']].tail(100)\n",
    "print(pred['pred'].value_counts())\n",
    "pred['Type'].value_counts()"
   ]
  },
  {
   "cell_type": "markdown",
   "id": "8808ab4e",
   "metadata": {},
   "source": [
    "# 4. Try Model on different dataset\n",
    "\n",
    "I'm picking singleop.json (cus m23 isn't just singlop)"
   ]
  }
 ],
 "metadata": {
  "kernelspec": {
   "display_name": "Python 3 (ipykernel)",
   "language": "python",
   "name": "python3"
  },
  "language_info": {
   "codemirror_mode": {
    "name": "ipython",
    "version": 3
   },
   "file_extension": ".py",
   "mimetype": "text/x-python",
   "name": "python",
   "nbconvert_exporter": "python",
   "pygments_lexer": "ipython3",
   "version": "3.10.6"
  }
 },
 "nbformat": 4,
 "nbformat_minor": 5
}
