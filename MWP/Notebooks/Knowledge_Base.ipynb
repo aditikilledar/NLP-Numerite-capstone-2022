{
  "nbformat": 4,
  "nbformat_minor": 0,
  "metadata": {
    "colab": {
      "provenance": []
    },
    "kernelspec": {
      "name": "python3",
      "display_name": "Python 3"
    },
    "language_info": {
      "name": "python"
    }
  },
  "cells": [
    {
      "cell_type": "code",
      "source": [
        "from typing import List\n",
        "import spacy\n",
        "import nltk\n",
        "nltk.download('punkt')\n",
        "import re"
      ],
      "metadata": {
        "colab": {
          "base_uri": "https://localhost:8080/"
        },
        "id": "xnDtElUQ2t1W",
        "outputId": "b6a5aa80-e01c-45e5-c4aa-33752de6e005"
      },
      "execution_count": null,
      "outputs": [
        {
          "output_type": "stream",
          "name": "stderr",
          "text": [
            "[nltk_data] Downloading package punkt to /root/nltk_data...\n",
            "[nltk_data]   Unzipping tokenizers/punkt.zip.\n"
          ]
        }
      ]
    },
    {
      "cell_type": "code",
      "source": [
        "ner = spacy.load(\"en_core_web_sm\")\n",
        "\n",
        "def knowledge_base(microstatements: List):\n",
        "  res = []\n",
        "  for statement in microstatements: # ignore question microstatement\n",
        "    \"\"\"\n",
        "    extract <object, owner, quantity>\n",
        "    from statements of the form\n",
        "    'john had 2 apples' -> <apples, john, 2>\n",
        "\n",
        "    \"\"\"\n",
        "    parsed = ner(statement)\n",
        "    owner = ''\n",
        "    quantity = ''\n",
        "    obj = ''\n",
        "    \n",
        "    for word in parsed.ents:\n",
        "      #print(word.label_, word.text, i)\n",
        "      if word.label_ == \"CARDINAL\":\n",
        "        quantity = word.text\n",
        "      elif word.label_ == \"PERSON\" or word.label == \"ORG\":\n",
        "        owner = word.text\n",
        "    \n",
        "    words = nltk.word_tokenize(statement)\n",
        "    for i, w in enumerate(words):\n",
        "      if w.isnumeric():\n",
        "        obj = words[i + 1]\n",
        "\n",
        "    res.append((obj, owner, quantity))\n",
        "  \n",
        "  return res\n",
        "\n"
      ],
      "metadata": {
        "id": "kWBN0x1172iz"
      },
      "execution_count": null,
      "outputs": []
    },
    {
      "cell_type": "code",
      "source": [
        "knowledge_base(['john had 2 apples', 'rebecca had 3 oranges'])"
      ],
      "metadata": {
        "colab": {
          "base_uri": "https://localhost:8080/"
        },
        "id": "Uy4PhJXBBbHy",
        "outputId": "03ff5420-e4bf-4d67-a924-56f012e9378e"
      },
      "execution_count": null,
      "outputs": [
        {
          "output_type": "execute_result",
          "data": {
            "text/plain": [
              "[('apples', 'john', '2'), ('oranges', '', '3')]"
            ]
          },
          "metadata": {},
          "execution_count": 45
        }
      ]
    }
  ]
}