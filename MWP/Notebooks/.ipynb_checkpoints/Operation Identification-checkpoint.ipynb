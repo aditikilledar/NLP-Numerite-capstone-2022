{
 "cells": [
  {
   "cell_type": "markdown",
   "id": "8cb1f357",
   "metadata": {},
   "source": [
    "# Operation Identification using Deep Learning\n",
    "Each record in our dataset, SVAMP.json will be preprocessed.\n",
    "The preprocessed records will be fed to a model which then identifies which one of the four operations is expected of the answer to that question. \n",
    "\n",
    "Since this deals only with elemnetary school level math problems, we assume that the only 4 operations are addition, subtraction, multiplication and division. There is no possibility of getting negative, decimal, fractional or profit loss questions."
   ]
  },
  {
   "cell_type": "markdown",
   "id": "f0156932",
   "metadata": {},
   "source": [
    "## 1. Pre-Process SVAMP Dataset"
   ]
  },
  {
   "cell_type": "markdown",
   "id": "acc4185a",
   "metadata": {},
   "source": [
    "1.1 Import Statements"
   ]
  },
  {
   "cell_type": "code",
   "execution_count": 13,
   "id": "dd315219",
   "metadata": {},
   "outputs": [],
   "source": [
    "import pandas as pd\n",
    "\n",
    "import string"
   ]
  },
  {
   "cell_type": "markdown",
   "id": "4d1d9137",
   "metadata": {},
   "source": [
    "1.2 Import JSON dataset into Dataframe"
   ]
  },
  {
   "cell_type": "code",
   "execution_count": 3,
   "id": "bed54e5f",
   "metadata": {},
   "outputs": [],
   "source": [
    "def readJsonToDf(path):\n",
    "    df = pd.read_json(path)\n",
    "    return df"
   ]
  },
  {
   "cell_type": "code",
   "execution_count": 14,
   "id": "f1dc7706",
   "metadata": {},
   "outputs": [
    {
     "name": "stdout",
     "output_type": "stream",
     "text": [
      "['ID', 'Body', 'Question', 'Equation', 'Answer', 'Type']\n"
     ]
    },
    {
     "data": {
      "text/html": [
       "<div>\n",
       "<style scoped>\n",
       "    .dataframe tbody tr th:only-of-type {\n",
       "        vertical-align: middle;\n",
       "    }\n",
       "\n",
       "    .dataframe tbody tr th {\n",
       "        vertical-align: top;\n",
       "    }\n",
       "\n",
       "    .dataframe thead th {\n",
       "        text-align: right;\n",
       "    }\n",
       "</style>\n",
       "<table border=\"1\" class=\"dataframe\">\n",
       "  <thead>\n",
       "    <tr style=\"text-align: right;\">\n",
       "      <th></th>\n",
       "      <th>ID</th>\n",
       "      <th>Body</th>\n",
       "      <th>Question</th>\n",
       "      <th>Equation</th>\n",
       "      <th>Answer</th>\n",
       "      <th>Type</th>\n",
       "    </tr>\n",
       "  </thead>\n",
       "  <tbody>\n",
       "    <tr>\n",
       "      <th>0</th>\n",
       "      <td>chal-1</td>\n",
       "      <td>Each pack of dvds costs 76 dollars. If there i...</td>\n",
       "      <td>How much do you have to pay to buy each pack?</td>\n",
       "      <td>( 76.0 - 25.0 )</td>\n",
       "      <td>51</td>\n",
       "      <td>Subtraction</td>\n",
       "    </tr>\n",
       "    <tr>\n",
       "      <th>1</th>\n",
       "      <td>chal-2</td>\n",
       "      <td>Dan had $ 3 left with him after he bought a ca...</td>\n",
       "      <td>How much did the candy bar cost?</td>\n",
       "      <td>( 4.0 - 3.0 )</td>\n",
       "      <td>1</td>\n",
       "      <td>Subtraction</td>\n",
       "    </tr>\n",
       "    <tr>\n",
       "      <th>2</th>\n",
       "      <td>chal-3</td>\n",
       "      <td>Paco had 26 salty cookies and 17 sweet cookies...</td>\n",
       "      <td>How many salty cookies did Paco have left?</td>\n",
       "      <td>( 26.0 - 9.0 )</td>\n",
       "      <td>17</td>\n",
       "      <td>Subtraction</td>\n",
       "    </tr>\n",
       "    <tr>\n",
       "      <th>3</th>\n",
       "      <td>chal-4</td>\n",
       "      <td>43 children were riding on the bus. At the bus...</td>\n",
       "      <td>How many children got off the bus at the bus s...</td>\n",
       "      <td>( 43.0 - 21.0 )</td>\n",
       "      <td>22</td>\n",
       "      <td>Subtraction</td>\n",
       "    </tr>\n",
       "    <tr>\n",
       "      <th>4</th>\n",
       "      <td>chal-5</td>\n",
       "      <td>28 children were riding on the bus. At the bus...</td>\n",
       "      <td>How many more children got on the bus than tho...</td>\n",
       "      <td>( 30.0 - 28.0 )</td>\n",
       "      <td>2</td>\n",
       "      <td>Subtraction</td>\n",
       "    </tr>\n",
       "  </tbody>\n",
       "</table>\n",
       "</div>"
      ],
      "text/plain": [
       "       ID                                               Body  \\\n",
       "0  chal-1  Each pack of dvds costs 76 dollars. If there i...   \n",
       "1  chal-2  Dan had $ 3 left with him after he bought a ca...   \n",
       "2  chal-3  Paco had 26 salty cookies and 17 sweet cookies...   \n",
       "3  chal-4  43 children were riding on the bus. At the bus...   \n",
       "4  chal-5  28 children were riding on the bus. At the bus...   \n",
       "\n",
       "                                            Question         Equation  Answer  \\\n",
       "0      How much do you have to pay to buy each pack?  ( 76.0 - 25.0 )      51   \n",
       "1                   How much did the candy bar cost?    ( 4.0 - 3.0 )       1   \n",
       "2         How many salty cookies did Paco have left?   ( 26.0 - 9.0 )      17   \n",
       "3  How many children got off the bus at the bus s...  ( 43.0 - 21.0 )      22   \n",
       "4  How many more children got on the bus than tho...  ( 30.0 - 28.0 )       2   \n",
       "\n",
       "          Type  \n",
       "0  Subtraction  \n",
       "1  Subtraction  \n",
       "2  Subtraction  \n",
       "3  Subtraction  \n",
       "4  Subtraction  "
      ]
     },
     "execution_count": 14,
     "metadata": {},
     "output_type": "execute_result"
    }
   ],
   "source": [
    "# dataframe of SVAMP dataset\n",
    "df = readJsonToDf('../Datasets/SVAMP.json')\n",
    "\n",
    "# columns of dataframe\n",
    "print(list(df.columns))\n",
    "df.head()"
   ]
  },
  {
   "cell_type": "code",
   "execution_count": 20,
   "id": "5df37d6d",
   "metadata": {},
   "outputs": [
    {
     "data": {
      "text/plain": [
       "'Allan brought 3 balloons and Jake brought 5 balloons to the park. Allan then bought 2 more balloons at the park. How many balloons did Allan and Jake have in the park?'"
      ]
     },
     "execution_count": 20,
     "metadata": {},
     "output_type": "execute_result"
    }
   ],
   "source": [
    "# Make new column combining body and question.\n",
    "df[\"BQ\"] = df[\"Body\"]+ ' ' + df[\"Question\"]\n",
    "df[\"BQ\"][100]"
   ]
  },
  {
   "cell_type": "markdown",
   "id": "25f7a395",
   "metadata": {},
   "source": [
    "1.3.1 change typo Divison to Division"
   ]
  },
  {
   "cell_type": "code",
   "execution_count": 21,
   "id": "04f25624",
   "metadata": {
    "scrolled": true
   },
   "outputs": [
    {
     "data": {
      "text/plain": [
       "array(['Subtraction', 'Addition', 'Multiplication', 'Division'],\n",
       "      dtype=object)"
      ]
     },
     "execution_count": 21,
     "metadata": {},
     "output_type": "execute_result"
    }
   ],
   "source": [
    "df.loc[ df[\"Type\"] == \"Common-Divison\", \"Type\"] = \"Common-Division\"\n",
    "df.loc[ df[\"Type\"] == \"Common-Division\", \"Type\"] = \"Division\"\n",
    "df.Type.unique()"
   ]
  },
  {
   "cell_type": "markdown",
   "id": "a5d9a21f",
   "metadata": {},
   "source": [
    "1.3.2 Remove Punctuation except \"?\"  "
   ]
  },
  {
   "cell_type": "code",
   "execution_count": 25,
   "id": "6eb28519",
   "metadata": {},
   "outputs": [],
   "source": [
    "punct_toRemove = '!\"#$%&\\'()*+,-./:;<=>@[\\\\]^_`{|}~'"
   ]
  },
  {
   "cell_type": "code",
   "execution_count": 29,
   "id": "38c31a0b",
   "metadata": {},
   "outputs": [
    {
     "data": {
      "text/plain": [
       "'Dan had  3 left with him after he bought a candy bar If he had  4 at the start'"
      ]
     },
     "execution_count": 29,
     "metadata": {},
     "output_type": "execute_result"
    }
   ],
   "source": [
    "def remove_punctuation(text):\n",
    "    punctuationfree=\"\".join([i for i in text if i not in string.punctuation])\n",
    "    return punctuationfree\n",
    "\n",
    "#storing the puntuation free text\n",
    "df['Body']= df['Body'].apply(lambda x:remove_punctuation(x))\n",
    "df['Body'][1]"
   ]
  },
  {
   "cell_type": "markdown",
   "id": "c14a49cc",
   "metadata": {},
   "source": [
    "1.3.3 Make all numbers uniform\n",
    "\n",
    "\"Thirty Five\" -> \"35\""
   ]
  },
  {
   "cell_type": "markdown",
   "id": "2a0a286e",
   "metadata": {},
   "source": [
    "1.4 Tokenize"
   ]
  }
 ],
 "metadata": {
  "kernelspec": {
   "display_name": "Python 3 (ipykernel)",
   "language": "python",
   "name": "python3"
  },
  "language_info": {
   "codemirror_mode": {
    "name": "ipython",
    "version": 3
   },
   "file_extension": ".py",
   "mimetype": "text/x-python",
   "name": "python",
   "nbconvert_exporter": "python",
   "pygments_lexer": "ipython3",
   "version": "3.10.6"
  }
 },
 "nbformat": 4,
 "nbformat_minor": 5
}
