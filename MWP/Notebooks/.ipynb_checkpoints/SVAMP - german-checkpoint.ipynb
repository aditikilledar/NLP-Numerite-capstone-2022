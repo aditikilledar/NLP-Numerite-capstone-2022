{
 "cells": [
  {
   "cell_type": "markdown",
   "id": "8de87dbe",
   "metadata": {},
   "source": [
    "Tutorial from: https://machinelearningmastery.com/develop-neural-machine-translation-system-keras/"
   ]
  },
  {
   "cell_type": "markdown",
   "id": "9e5f7e47",
   "metadata": {},
   "source": [
    "# 1 Preparing Text Data\n",
    "mwp - eng\n",
    "eqn - ger"
   ]
  },
  {
   "cell_type": "code",
   "execution_count": 1,
   "id": "39d6ece8",
   "metadata": {},
   "outputs": [],
   "source": [
    "import pandas as pd\n",
    "import numpy as np"
   ]
  },
  {
   "cell_type": "code",
   "execution_count": 2,
   "id": "b2ae5aee",
   "metadata": {},
   "outputs": [],
   "source": [
    "# clean text\n",
    "def load_doc(fname):\n",
    "    file = open(fname, mode='rt', encoding='utf-8')\n",
    "#     read all text\n",
    "    text = file.read()\n",
    "    file.close()\n",
    "    return text"
   ]
  },
  {
   "cell_type": "code",
   "execution_count": 3,
   "id": "dbb8643a",
   "metadata": {},
   "outputs": [],
   "source": [
    "# split loaded text document into sentences\n",
    "def to_pairs(doc):\n",
    "    lines = doc.strip().split('\\n')\n",
    "    pairs = [line.split('\\t') for line in lines]\n",
    "    return pairs"
   ]
  },
  {
   "cell_type": "code",
   "execution_count": 4,
   "id": "7668419f",
   "metadata": {},
   "outputs": [],
   "source": [
    "def extract_pairs_csv(fname):\n",
    "#  takes fname and returns src, targ pair in a list of tuples    \n",
    "    with open(fname, 'r') as data_file:\n",
    "        json_data = data_file.read()\n",
    "        \n",
    "    df = pd.read_json(json_data, orient='records')\n",
    "    df[\"q\"] = df[\"Body\"] +\" \"+df[\"Question\"]\n",
    "    lines2 = list(df.Equation)\n",
    "    lines = list(df.q)\n",
    "    pairs = list(zip(lines, lines2))\n",
    "    return pairs"
   ]
  },
  {
   "cell_type": "code",
   "execution_count": 5,
   "id": "6d442d20",
   "metadata": {},
   "outputs": [],
   "source": [
    "import string\n",
    "import re\n",
    "from pickle import dump\n",
    "from unicodedata import normalize\n",
    "from numpy import array"
   ]
  },
  {
   "cell_type": "code",
   "execution_count": 6,
   "id": "1a3a18a6",
   "metadata": {},
   "outputs": [],
   "source": [
    "# clean a list of lines\n",
    "def clean_pairs(lines):\n",
    "    cleaned = list()\n",
    "    # regex for char filtering\n",
    "    re_print = re.compile('[^%s]' % re.escape(string.printable))\n",
    "    # translation table for removing punctuation\n",
    "#     table = str.maketrans('', '', string.punctuation)\n",
    "    \n",
    "    for pair in lines:\n",
    "        clean_pair = list()\n",
    "        for line in pair:\n",
    "            #normalise unicode chars\n",
    "            line = normalize('NFD', line).encode('ascii', 'ignore')\n",
    "            line = line.decode('UTF-8')\n",
    "            \n",
    "            # tokenize based on white spaces\n",
    "            line = line.split()\n",
    "            \n",
    "            # make lower\n",
    "            line = [word.lower() for word in line]\n",
    "            \n",
    "            # remove punctuation using trans table created above\n",
    "#             line = [word.translate(table) for word in line]\n",
    "            \n",
    "            #remove non=printable chars from each token\n",
    "            line = [re_print.sub('', w) for w in line]\n",
    "            \n",
    "            # finally, store as string!\n",
    "            clean_pair.append(' '.join(line))\n",
    "        cleaned.append(clean_pair)\n",
    "    \n",
    "    return array(cleaned)"
   ]
  },
  {
   "cell_type": "code",
   "execution_count": 7,
   "id": "b856234b",
   "metadata": {},
   "outputs": [],
   "source": [
    "# save a list of clean sentences to file\n",
    "def save_clean_data(sentences, fname):\n",
    "    dump(sentences, open(fname, 'wb'))\n",
    "    print(f'saved {fname}')"
   ]
  },
  {
   "cell_type": "markdown",
   "id": "7e778dad",
   "metadata": {},
   "source": [
    "LOAD THE DATASET"
   ]
  },
  {
   "cell_type": "code",
   "execution_count": 8,
   "id": "76226861",
   "metadata": {},
   "outputs": [
    {
     "name": "stdout",
     "output_type": "stream",
     "text": [
      "saved SVAMP.pkl\n",
      "( 76.0 - 25.0 ) => each pack of dvds costs 76 dollars. if there is a discount of 25 dollars on each pack how much do you have to pay to buy each pack?\n",
      "( 4.0 - 3.0 ) => dan had $ 3 left with him after he bought a candy bar. if he had $ 4 at the start how much did the candy bar cost?\n",
      "( 26.0 - 9.0 ) => paco had 26 salty cookies and 17 sweet cookies. he ate 14 sweet cookies and 9 salty cookies. how many salty cookies did paco have left?\n",
      "( 43.0 - 21.0 ) => 43 children were riding on the bus. at the bus stop some children got off the bus. then there were 21 children left on the bus. how many children got off the bus at the bus stop?\n",
      "( 30.0 - 28.0 ) => 28 children were riding on the bus. at the bus stop 82 children got on the bus while some got off the bus. then there were 30 children altogether on the bus. how many more children got on the bus than those that got off?\n",
      "( 49.0 - 3.0 ) => there were 3 dollars in olivia's wallet. she collected 49 more dollars from an atm. after she visited a supermarket there were 49 dollars left. how much more money did she collect at the atm than she spent at the supermarket?\n",
      "( 10.0 - 7.0 ) => jerry had some action figures on a shelf in his room. later he added 7 more action figures to the shelf. if there are a total of 10 action figures on his shelf now how many action figures did he have initially on the shelf?\n",
      "( 18.0 - 9.0 ) => paco had 41 cookies. he gave 9 cookies to his friend and ate 18 cookies. how many more cookies did he eat than those he gave to his friend?\n",
      "( 10.0 - 6.0 ) => mary is baking a cake. the recipe calls for 3 cups of sugar 10 cups of flour and 15 cups of salt. she already put in 6 cups of flour. how many more cups of flour does she need to add?\n",
      "( 9.0 + 12.0 ) => a waiter had some customers. after 9 customers left he still had 12 customers. how many customers did he have at the start?\n",
      "( 6.0 - ( 3.0 + 2.0 ) ) => 3 birds were sitting on the fence. 6 more storks and 2 more birds came to join them. how many more storks than birds are sitting on the fence?\n",
      "( 11.0 * 13.0 ) => they decided to hold the party in their backyard. if they have 11 sets of tables and each set has 13 chairs how many chairs do they have in the backyard?\n",
      "( ( 692.0 + 692.0 ) - 458.0 ) => in a school there are 458 more girls than boys. if there are 692 girls how many pupils are there in that school?\n",
      "( ( 4.0 + 13.0 ) * 15.0 ) => after resting they decided to go for a swim. the depth of the water is 15 times dean's height. dean is 4 feet taller than ron. if ron stands at 13 feet how deep was the water?\n",
      "( 6.0 + 4.0 ) => 6 birds were sitting on the fence. 4 more birds and 8 more storks came to join them. how many birds are sitting on the fence?\n",
      "( ( 36.0 - 12.0 ) - 8.0 ) => marco and his dad went strawberry picking. together they collected strawberries that weighed 36 pounds. on the way back marco ' dad lost 8 pounds of strawberries. marco's strawberries now weighed 12 pounds. how much did his dad's strawberries weigh now?\n",
      "( 697.0 - 228.0 ) => in a school there are 697 girls and the rest are boys. if there are 228 more girls than boys how many boys are there in that school?\n",
      "( 732.0 + 682.0 ) => in a school there are 732 girls and 761 boys. 682 more girls and 8 more boys joined the school. how many girls are there in the school now?\n",
      "( 57.0 - 30.0 ) => danny collects bottle caps and wrappers. he found 22 bottle caps and 30 wrappers at the park. now he has 17 bottle caps and 57 wrappers in his collection. how many wrappers did danny have at first?\n",
      "( 523.0 - 457.0 ) => paul got a box of 457 erasers and 617 crayons for his birthday. at the end of the school year he only had 523 crayons left while not having lost a single eraser. how many more crayons than erasers did he have left?\n",
      "( ( 121.0 - 105.0 ) + 170.0 ) => baker made 121 cakes. he sold 105 of them and bought 170 new cakes. how many cakes does baker still have?\n",
      "( 4.0 * 5.0 ) => an industrial machine worked for 5 minutes. it can make 4 shirts a minute. how many shirts did machine make?\n",
      "( 180.0 / 18.0 ) => the bananas in philip's collection are organized into groups of size 18. if there are a total of 180 bananas in philip's banana collection how many groups are there?\n",
      "( 5.0 - 4.0 ) => there were some birds sitting on the fence. 4 more birds came to join them. if there are a total of 5 birds on the fence now how many birds had been sitting on the fence at the start?\n",
      "( ( 3.0 + 4.0 ) - 6.0 ) => jerry had 3 action figures on a shelf in his room. later he added 4 more action figures to the shelf and removed some of the old ones. if there are 6 action figures on his shelf now how many action figures did he remove from the shelf?\n",
      "( 65.0 - 5.0 ) => danny collects bottle caps and wrappers. he found 65 wrappers and 5 bottle caps at the park. now he has 31 bottle caps and 9 wrappers in his collection. how many more wrappers than bottle caps did danny find at the park?\n",
      "( 450.0 + 38.0 ) => because of the decision sofia asked the students to suggest specific types of food from a total of 66 choices. if 450 students suggested adding mashed potatoes 38 suggested adding bacon to the menu and the rest did not participate how many students participated in the suggestion of new food items?\n",
      "( ( 13.0 + 15.0 ) / 28.0 ) => matthew gave equal numbers of crackers and cakes to his 28 friends. if he had 13 crackers and 15 cakes initially how many crackers and cakes did each person eat?\n",
      "( 40.0 + 49.0 ) => a grocery store had 49 bottles of regular soda, 40 bottles of diet soda and 6 bottles of lite soda. how many bottles of regular soda and diet soda did they have altogether?\n",
      "( 4.0 / 2.0 ) => dan has $ 3. he bought 2 candy bar for $ 4, each one costing the same amount of money. how much did each candy bar cost?\n",
      "( 12.0 - 7.0 ) => tiffany was collecting cans for recycling. on monday she had 7 bags of cans. the next day she found 12 more bags worth of cans. how many more bags did she find on the next day than she had on monday?\n",
      "( 17.0 - 15.0 ) => there were 15 roses and 62 orchids in the vase. jessica cut some more roses and orchids from her flower garden. there are now 17 roses and 96 orchids in the vase. how many roses did she cut?\n",
      "( 7.0 / ( 4.0 + 3.0 ) ) => there are some baskets of peaches. each basket has 4 red peaches and 3 green peaches. if there are a total of 7 peaches in all baskets how many baskets of peaches are there?\n",
      "( 78.0 - 15.0 ) => there were 78 dollars in olivia's wallet. she spent 15 dollars at a supermarket. how much money does she have left?\n",
      "( 10.0 - ( 6.0 + 3.0 ) ) => jack received 6 emails in the morning, 3 emails in the afternoon and some more in the evening. if he received a total of 10 emails in the day how many emails did jack receive in the afternoon?\n",
      "( ( 4.0 - 8.0 ) + 5.0 ) => dan has $ 4. he bought a candy bar for $ 8. then his friend have him $ 5 how much money is left?\n",
      "( 246.0 + 703.0 ) => after eating a hearty meal they went to see the buckingham palace. there, rachel learned that 703 visitors came to the buckingham palace on the previous day. if there were 246 visitors on that day how many visited the buckingham palace within 25 days?\n",
      "( 7.0 - 5.0 ) => for gwen's birthday she received 5 dollars from her dad. her mom gave her 7 more dollars. if she spent 4 dollars. how much more money did she receive from her mom than she did from her dad?\n",
      "( 356.0 / 178.0 ) => there are 142 bananas and 356 oranges in philip's collection. if the bananas are organized into 47 groups and oranges are organized into 178 groups how big is each group of oranges?\n",
      "( 19.0 - 16.0 ) => there are 8 different books and 5 different movies in the ' crazy silly school ' series. if you read 19 of the movies and watched 16 of the books how many more movies than books have you read?\n",
      "( 12.0 - 2.0 ) => mary is baking a cake. the recipe calls for 12 cups of flour and 5 cups of sugar. she already put in some cups of flour. if she still needs 2 more cups of flour how many cups of flour did she put in?\n",
      "( 50.0 - 46.0 ) => danny collects bottle caps and wrappers. he found 46 wrappers and 50 bottle caps at the park. now he has 21 bottle caps and 52 wrappers in his collection. how many more bottle caps than wrappers did danny find at the park?\n",
      "( 177.0 * 46.0 ) => luke played 177 rounds of a trivia game. if he gained 46 points in each round how many points did he score in the game?\n",
      "( ( 3.0 + 2.0 ) - 4.0 ) => 3 birds and 4 storks were sitting on the fence. 2 more birds came to join them. how many more birds than storks are sitting on the fence?\n",
      "( ( 9.0 + 33.0 ) - 3.0 ) => the grasshopper, the frog and the mouse had a jumping contest. the grasshopper jumped 9 inches. the mouse jumped 3 inches lesser than the frog who jumped 33 inches farther than the grasshopper. how far did the mouse jump?\n",
      "( 35.0 - 3.0 ) => zachary did 35 push-ups and 3 crunches in gym class today. david did 58 more push-ups but 87 less crunches than zachary. how many more push-ups than crunches did zachary do?\n",
      "( 5.0 + 8.0 ) => jack received 4 emails in the morning, 5 emails in the afternoon and 8 emails in the evening. how many emails did jack receive in the afternoon and evening?\n",
      "( ( 8.0 + 10.0 ) - 7.0 ) => jerry had 7 action figures on a shelf in his room. later he added some more action figures to the shelf and removed 10 of the old ones. if there are 8 action figures on his shelf now how many action figures did he add to the shelf?\n",
      "( 12.0 + 14.0 ) => julia played tag with 12 kids on monday. she played tag with 14 kids on tuesday. she spent a total of 34 hours to play tag on both days. how many kids did she play with altogether?\n",
      "( 415.0 - 149.0 ) => nell collects cards. she had 309 baseball cards and 356 ace cards. she gave some of her cards to jeff and now has 415 baseball cards and ace cards left. how many more baseball cards than ace cards does nell have?\n",
      "( 97.0 - 40.0 ) => at the zoo, a cage had 93 snakes and 97 alligators. if 40 alligators were hiding how many alligators were not hiding?\n",
      "( 14.0 - 8.0 ) => you have read 8 books from the ' crazy silly school ' series. if there are a total of 14 different books in the ' crazy silly school ' series how many more do you still have to read?\n",
      "( 20.0 / 5.0 ) => emily is making bead necklaces for her 43 friends. she had 20 beads and she was able to make 5 necklaces. how many beads did each necklace need?\n",
      "( 22.0 / 11.0 ) => frank put 11 pieces of candy in each bag. if he had 22 pieces of candy how many bags would he have?\n",
      "( 14.0 + 10.0 ) => a waiter had 12 customers. after some left he still had 14 customers. then he got 10 new customers how many customers does he have now?\n",
      "( 154.0 + 50.0 ) => a farmer had 90 tomatoes in his garden. if he picked 154 of them yesterday and 50 today. how many tomatoes did he pick in all?\n",
      "( 6.0 + 14.0 ) => 5 red peaches, 14 yellow peaches and 6 green peaches are in the basket. how many green and yellow peaches are in the basket?\n",
      "( 60.0 - ( 89.0 - 60.0 ) ) => winter is almost here and most animals are migrating to warmer countries. there were 89 bird families living near the mountain. if 60 bird families flew away for winter how many more bird families flew away for the winter than those that stayed behind?\n",
      "( 13.0 - 3.0 ) => there were 9 roses and 6 orchids in the vase. jessica cut some more roses and orchids from her flower garden. there are now 13 orchids and 3 roses in the vase. how many more orchids than roses are there in the vase now?\n",
      "( 661.0 - 600.0 ) => after eating a hearty meal they went to see the buckingham palace. there were 39 paintings in the buckingham palace. there, rachel learned that 661 visitors came to the buckingham palace that day. if there were 600 visitors the previous day how many more visitors visited the buckingham palace on that day than on the previous day?\n",
      "( ( 12.0 - 15.0 ) + 14.0 ) => a waiter had 12 customers. while 15 customers left he got 14 new customers. how many customers does he still have?\n",
      "( 6.0 / 3.0 ) => emily is making bead necklaces for her 72 friends. she has 6 beads and each necklace takes 3 beads. how many necklaces can emily make?\n",
      "( 52.0 / 26.0 ) => he also had 26 aquariums for saltwater animals. the aquarium had 52 saltwater animals in total and every aquarium had the same number of animals. how many saltwater animals does each aquarium have?\n",
      "( ( 11.0 - 7.0 ) - 2.0 ) => mary is baking a cake. the recipe calls for 11 cups of flour and 7 cups of sugar. she already put in some cups of flour. if she still needs 2 more cups of flour than sugar how many cups of flour did she put in?\n",
      "( 149.0 - 10.0 ) => baker made 149 cakes and 91 pastries. if he sold 10 cakes and 90 pastries how many cakes would baker still have?\n",
      "( 24.0 - 21.0 ) => dave had 24 files and 13 apps on his phone. after deleting some apps and files he had 17 apps and 21 files left. how many files did he delete?\n",
      "( 8.0 / 2.0 ) => an industrial machine made 9 shirts yesterday and 8 shirts today. it can make 2 shirts a minute. how many minutes did the machine work today?\n",
      "( 15.0 / 3.0 ) => rebecca wants to split a collection of eggs into 3 groups. rebecca has 4 marbles and 15 eggs. how many eggs will each group have?\n",
      "( 11.0 * 2.0 ) => matthew had some crackers. if matthew gave 2 crackers to each of his 11 friends how many crackers did matthew have?\n",
      "( 78.0 + 33.0 ) => olivia spent 78 dollars at a supermarket. if she has 33 dollars left with her how much money did she have initially?\n",
      "( ( 1357.0 * 223.0 ) * 73.0 ) => if lewis earns $ 1357 every week during the 223 weeks of a harvest season. how much money will he earn if he works for 73 harvest seasons?\n",
      "( 310.0 - 185.0 ) => because of the decision sofia asked 310 students to suggest specific types of food. 185 students suggested adding mashed potatoes while others suggested adding bacon to the menu. how many students suggested bacon?\n",
      "( 3.0 + 5.0 ) => jack received 3 emails and 64 letters in the morning. he then received 5 emails and 54 letters in the afternoon. how many emails did jack receive in the day?\n",
      "( ( 40.0 - 2.0 ) + 37.0 ) => paco had 40 cookies. he ate 2 of them. then he bought 37 more cookies how many cookies did paco have left?\n",
      "( 218.0 + 351.0 ) => because of the decision sofia asked the students to suggest specific types of food. if 218 students suggested adding mashed potatoes as well as bacon while 351 suggested adding only bacon to the menu how many students suggested adding bacon?\n",
      "( 53.0 * 41.0 ) => if each bag has 41 cookies and you had 53 bags of cookies how many cookies would you have?\n",
      "( 4.0 - 2.0 ) => rachel had to complete 2 pages of reading homework and 4 pages of math homework. how many more pages of math homework than reading homework did she have?\n",
      "( 5.0 + 3.0 ) => allan brought 5 balloons and jake brought 4 balloons to the park. allan then bought 3 more balloons at the park. how many balloons did allan bring to the park?\n",
      "( 11.0 - 9.0 ) => julia played tag with 8 kids on monday, 11 kids on tuesday and 9 kids on wednesday. how many more kids did she play with on tuesday than on wednesday?\n",
      "( 215.0 * 20.0 ) => the razorback shop makes $ 5 dollars off each jersey and $ 215 off each t-shirt. during the arkansas and texas tech game they sold 20 t-shirts and 64 jerseys. how much money did they make from selling the t-shirts?\n",
      "( 36.0 - 12.0 ) => 36 children were riding on the bus. at the bus stop 68 children got off the bus while some more got on the bus. then there were 12 children altogether on the bus. how many more children got off the bus than those that got on?\n",
      "( 14.0 / 2.0 ) => brenda's mother made 14 cookies for 2 guests. if each of them had the same number of cookies how many did each of them have?\n",
      "( 6.0 - 4.0 ) => tiffany was collecting cans for recycling. on monday she had 4 bags of cans. the next day she found some more bags worth of cans. if she had a total of 6 bags altogether how many bags did she find on the next day?\n",
      "( ( 632.0 + 465.0 ) - 410.0 ) => in a school there are 632 girls and 410 boys. 465 more girls joined the school. how many more girls than boys does the school have?\n",
      "( 4.0 * 5.0 ) => emily is making bead necklaces for her friends where each necklace takes 5 beads. she made 4 necklaces. how many beads did emily have?\n",
      "( 50.0 - 20.0 ) => randy has 95 blocks. he uses 20 blocks to build a house and 50 blocks to build a tower. how many more blocks did he use to build the tower than he did to build the house?\n",
      "( 6.0 - ( 2.0 + 3.0 ) ) => 2 birds and 6 storks were sitting on the fence. 3 more birds came to join them. how many more storks than birds are sitting on the fence?\n",
      "( 51.0 / 3.0 ) => the razorback t-shirt shop made $ 51 dollars from selling 3 t-shirt during the arkansas and texas tech game they. what is the cost of each t-shirt?\n",
      "( 21.0 - 16.0 ) => paco had 12 cookies. he ate 16 cookies and gave 21 of them to his friend. how many more cookies did he give to his friend than those he ate?\n",
      "( 317.0 - 295.0 ) => after eating a hearty meal they went to see the buckingham palace. there, rachel learned that 317 visitors came to the buckingham palace that day. if there were 295 visitors the previous day how many more visitors visited the buckingham palace on that day than on the previous day?\n",
      "( 6.0 - 5.0 ) => josh had 3 marbles in his collection. he found 6 marbles while he lost 5 marbles. how many more marbles did he find than those he lost?\n",
      "( 408.0 - 42.0 ) => because of the decision sofia asked the students to suggest specific types of food. if 408 students suggested adding mashed potatoes while 42 suggested adding bacon to the menu how many more students suggested mashed potatoes than those that suggested bacon?\n",
      "( ( 40.0 - 5.0 ) - 13.0 ) => paco had 40 cookies. he ate 5 cookies and gave 13 of them to his friend. how many cookies did paco have left?\n",
      "( 14.0 - 13.0 ) => paco had 17 cookies. he ate 14 cookies and gave 13 of them to his friend. how many more cookies did he eat than those he gave to his friend?\n",
      "( 19.0 - 18.0 ) => julia played tag with 19 kids on monday. she played tag with 18 kids on tuesday. she spent a total of 38 hours to play tag on both days. how many more kids did she play with on monday than on tuesday?\n",
      "( 3.0 - 2.0 ) => dan has $ 5. he bought a candy bar for $ 2 and a chocolate for $ 3. how much money did he spend to buy chocolate than he did to buy candy bar?\n",
      "( 29.0 - 17.0 ) => ed had 29 more marbles than doug. ed lost 17 of his marbles at the playground. how many more marbles did ed have than doug then?\n",
      "( 10.0 + 20.0 ) => the grasshopper, the frog and the mouse had a jumping contest. the grasshopper jumped 19 inches. the frog jumped 10 inches farther than the grasshopper and the mouse jumped 20 inches farther than the frog. how much farther did the mouse jump than the grasshopper?\n",
      "( 112.0 / 16.0 ) => frank was reading through his favorite book. it took him 16 days to finish the book. if the book had 112 pages how many pages did he read per day?\n",
      "( 20.0 - 5.0 ) => there are 20 different books in the ' crazy silly school ' series. if you are yet to read 5 of the books how many books have you already read?\n"
     ]
    }
   ],
   "source": [
    "filename = '../Datasets/SVAMP.json'\n",
    "pairs = extract_pairs_csv(filename)\n",
    "clean_pairs = clean_pairs(pairs)\n",
    "save_clean_data(clean_pairs, 'SVAMP.pkl')\n",
    "\n",
    "#check\n",
    "for i in range(100):\n",
    "    print(f'{clean_pairs[i,0]} => {clean_pairs[i,1]}')"
   ]
  },
  {
   "cell_type": "markdown",
   "id": "72856717",
   "metadata": {},
   "source": [
    "# 2 Split Text\n",
    "It's very long: 150,000 phrase pairs. Good for small NMT model.\n",
    "We will simplify the problem by reducing the dataset to only the first 10,000 examples in the file; these will be the shortest phrases in the dataset."
   ]
  },
  {
   "cell_type": "code",
   "execution_count": 9,
   "id": "7e590d5c",
   "metadata": {},
   "outputs": [
    {
     "data": {
      "text/plain": [
       "1000"
      ]
     },
     "execution_count": 9,
     "metadata": {},
     "output_type": "execute_result"
    }
   ],
   "source": [
    "len(pairs)"
   ]
  },
  {
   "cell_type": "code",
   "execution_count": 10,
   "id": "f86093be",
   "metadata": {},
   "outputs": [
    {
     "name": "stdout",
     "output_type": "stream",
     "text": [
      "Saved: SVAMP.pkl\n",
      "Saved: SVAMPtrain.pkl\n",
      "Saved: SVAMPtest.pkl\n"
     ]
    }
   ],
   "source": [
    "from pickle import load\n",
    "from pickle import dump\n",
    "from numpy.random import rand\n",
    "from numpy.random import shuffle\n",
    "\n",
    "# load a clean dataset\n",
    "def load_clean_sentences(filename):\n",
    "    return load(open(filename, 'rb'))\n",
    " \n",
    "# save a list of clean sentences to file\n",
    "def save_clean_data(sentences, filename):\n",
    "    dump(sentences, open(filename, 'wb'))\n",
    "    print(f'Saved: {filename}')\n",
    " \n",
    "# load dataset\n",
    "raw_dataset = load_clean_sentences('SVAMP.pkl')\n",
    " \n",
    "# reduce dataset size\n",
    "n_sentences = 1000\n",
    "dataset = raw_dataset[:n_sentences, :]\n",
    "# random shuffle\n",
    "shuffle(dataset)\n",
    "# split into train/test\n",
    "train, test = dataset[:900], dataset[900:]\n",
    "# save\n",
    "save_clean_data(dataset, 'SVAMP.pkl')\n",
    "save_clean_data(train, 'SVAMPtrain.pkl')\n",
    "save_clean_data(test, 'SVAMPtest.pkl')"
   ]
  },
  {
   "cell_type": "code",
   "execution_count": 11,
   "id": "546d872c",
   "metadata": {},
   "outputs": [
    {
     "name": "stdout",
     "output_type": "stream",
     "text": [
      "( 41.0 - 18.0 ) => 41 children were riding on the bus. at the bus stop some children got off the bus. then there were 18 children left on the bus. how many more children were on the bus before the bus stop than there are now?\n",
      "( 14.0 - 13.0 ) => robin cut off 13 inches of his hair. if his hair was 14 inches long initially how long is his hair now?\n",
      "( 60.0 * ( 55.0 / 15.0 ) ) => paige was helping her mom plant flowers and together they planted 55 seeds. they put 15 seeds in each flower bed and only 60 seeds grew into flowers in each flower bed. how many flowers did they grow?\n",
      "( ( 171.0 - 134.0 ) - 30.0 ) => a farmer had 171 tomatoes in his garden. if he picked 134 of them yesterday and 30 today. how many will he have left after today?\n",
      "( 40.0 - 19.0 ) => last week fred had 19 dollars and jason had 16 dollars. they washed cars over the weekend and now fred has 40 dollars and jason has 69 dollars. how much money did fred earn over the weekend?\n",
      "( 51.0 - 44.0 ) => zachary did 51 push-ups and david did 44 push-ups in gym class today. how many more push-ups did zachary do than david?\n",
      "( 20.0 / 2.0 ) => haley has 20 marbles. in her class 2 boys love to play marbles. if she distributes her marbles equally how many will each of the boys receive?\n",
      "( ( 87.0 - 7.0 ) - 7.0 ) => winter is almost here and most animals are migrating to warmer countries. there were 87 bird families living near the mountain. if 7 bird families flew away for winter how many more bird families stayed behind than those that flew away for the winter?\n",
      "( 15.0 - 14.0 ) => there are 14 different movies and 15 different books in the ' crazy silly school ' series. if you read 11 of the books and watched 40 of the movies how many more books than movies are there in the ' crazy silly school ' series?\n",
      "( 400.0 / 40.0 ) => each pot has 40 flowers in it. there are 400 flowers in total. how many pots are there in all?\n",
      "( ( 10.0 * 6.0 ) - 11.0 ) => they decided to hold the party in their backyard. they have 10 sets of tables and each set has 6 chairs. if there are 11 people sitting on chairs how many chairs are left unoccupied?\n",
      "( 15.0 - 5.0 ) => paige raised 15 goldfish in the pond but stray cats loved eating them. 5 were eaten. how many goldfish remained?\n",
      "( 11.0 - 8.0 ) => rachel had to complete 7 pages of math homework, 11 pages of reading homework and 8 more pages of biology homework. how many more pages of reading homework than biology homework did she have?\n",
      "( ( 3.0 - 2.0 ) + 26.0 ) => winter is almost here and most animals are migrating to warmer countries. there are 3 bird families living near the mountain. 26 new bird families came to live near the mountain from the arctic while 2 bird families flew away further south for winter. how many bird families were left near the mountain?\n",
      "( 3.0 - 2.0 ) => dan has $ 5. he bought a candy bar for $ 2 and a chocolate for $ 3. how much money did he spend to buy chocolate than he did to buy candy bar?\n",
      "( 8.0 - 7.0 ) => tiffany was collecting cans for recycling. on monday she had 8 bags of cans. the next day she found 7 more bags worth of cans. how many more bags did she have on monday than she found on the next day?\n",
      "( 16.0 / 4.0 ) => 16 people can ride the ferris wheel in paradise park at the same time. if the ferris wheel has 4 seats how many people can each seat hold?\n",
      "( ( 11.0 - 3.0 ) - 3.0 ) => a waiter had 11 customers. after some left he still had 3 customers. how many more customers left than those that stayed behind?\n",
      "( ( 3.0 * 8.0 ) + 9.0 ) => rachel has 3 apple trees. she picked 8 apples from each of her trees. now the trees have a total 9 apples still on them. how many apples were there on all trees initially?\n",
      "( 48.0 - 11.0 ) => a book has 2 chapters. the first chapter is 48 pages long. the second chapter is 11 pages long. how many more pages does the first chapter have than the second chapter?\n",
      "( 24.0 / 8.0 ) => he then went to see the oranges being harvested. he found out that they harvest 8 sacks per day. how many days will it take to harvest 24 sacks of oranges?\n",
      "( 30.0 - 21.0 ) => ed had 30 more marbles than doug. ed lost 21 of his marbles at the playground. if ed had 91 marbles how many more marbles did ed have than doug then?\n",
      "( 30.0 - 11.0 ) => marco and his dad went strawberry picking. marco's dad's strawberries weighed 11 pounds. if together their strawberries weighed 30 pounds. how much did marco's strawberries weigh?\n",
      "( ( 17.0 - 7.0 ) - 8.0 ) => jake has 7 fewer peaches than steven and 8 more peaches than jill. steven has 17 peaches. how many peaches does jill have?\n",
      "( 62.0 - 35.0 ) => winter is almost here and most animals are migrating to warmer countries. there are 41 bird families living near the mountain. if 35 bird families flew away to asia and 62 bird families flew away to africa how many more bird families flew away to africa than those that flew away to asia?\n",
      "( 26.0 / 13.0 ) => in haley's class 13 boys love to play marbles and 50 boys love to play cards. if haley has 26 marbles how many will each of the boys receive?\n",
      "( 134.0 - 11.0 ) => baker made 134 pastries and 11 cakes. if he sold 140 cakes and 92 pastries how many more pastries than cakes did baker make?\n",
      "( 10.0 + 8.0 ) => there were 10 roses in the vase. jessica cut 8 more roses from her flower garden and put them in the vase. how many roses are there in the vase now?\n",
      "( 32.0 / 4.0 ) => matthew gave equal numbers of crackers and cakes to his 4 friends. if he had 32 crackers and 98 cakes initially how many crackers did each person eat?\n",
      "( 18.0 - 11.0 ) => jake has 8 fewer peaches and 10 more apples than steven. steven has 11 apples and 18 peaches. how many more peaches than apples does steven have?\n",
      "( 919.0 + 1307.0 ) => if the cave is 919 feet deep and they need to travel 1307 feet how far is the end of the cave?\n",
      "( 330.0 - 269.0 ) => because of the decision sofia asked the students to suggest specific types of food. if 269 students suggested adding bacon 330 suggested adding mashed potatoes to the menu and 76 suggested adding tomatoes how many more students suggested mashed potatoes than those that suggested bacon?\n",
      "( 26.0 - 9.0 ) => paco had 26 salty cookies and 17 sweet cookies. he ate 14 sweet cookies and 9 salty cookies. how many salty cookies did paco have left?\n",
      "( 841.0 - 34.0 ) => in a school there are 34 girls and 841 boys. how many more boys than girls does the school have?\n",
      "( 155.0 - 140.0 ) => baker made 155 cakes. if his friend bought 140 cakes from him how many cakes would baker still have?\n",
      "( 66.0 + 126.0 ) => after jessie started to go jogging everyday she lost 126 kilograms. she currently weighs 66 kilograms. how much did she weigh before starting to jog?\n",
      "( ( 3.0 + 6.0 ) - 4.0 ) => 4 birds and 3 storks were sitting on the fence. 6 more storks came to join them. how many more storks than birds are sitting on the fence?\n",
      "( 8.0 / 4.0 ) => rebecca wants to split a collection of eggs into 4 groups. rebecca has 8 eggs and 6 marbles. how many eggs will each group have?\n",
      "( ( 8.0 + 4.0 ) - 5.0 ) => jerry had 8 action figures on a shelf in his room. later he added 4 more action figures to the shelf and removed 5 old ones. how many action figures were on his shelf in all?\n",
      "( 317.0 - 295.0 ) => after eating a hearty meal they went to see the buckingham palace. there, rachel learned that 317 visitors came to the buckingham palace that day. if there were 295 visitors the previous day how many more visitors visited the buckingham palace on that day than on the previous day?\n",
      "( 10.0 + 4.0 ) => tiffany was collecting cans for recycling. on monday she had 8 bags of cans. she found 10 bags of cans on the next day and 4 bags of cans the day after that. how many bags did she find after monday?\n",
      "( 177.0 * 46.0 ) => luke played 177 rounds of a trivia game. if he gained 46 points in each round how many points did he score in the game?\n",
      "( ( 57.0 + 26.0 ) + 27.0 ) => a grocery store had 57 bottles of regular soda, 26 bottles of diet soda and 27 bottles of lite soda. how many bottles did they have total?\n",
      "( ( 12.0 - 2.0 ) - 7.0 ) => mary is baking a cake. the recipe calls for 12 cups of flour 14 cups of sugar and 7 cups of salt. she already put in 2 cups of flour. how many more cups of flour than cups of salt does she need to add now?\n",
      "( 115.0 - 78.0 ) => paul had 115 books. he sold 78 books in a garage sale. how many books does he have left with him?\n",
      "( 7.0 + 3.0 ) => there are 65 baskets of peaches. each basket has 7 red peaches and 3 green peaches. how many peaches are in each basket?\n",
      "( ( 81.0 + 92.0 ) - 46.0 ) => baker made 81 cakes. then he made 92 more cakes. he sold 46 of them. how many more cakes did baker make than those he sold?\n",
      "( ( 13.0 + 15.0 ) / 28.0 ) => matthew gave equal numbers of crackers and cakes to his 28 friends. if he had 13 crackers and 15 cakes initially how many crackers and cakes did each person eat?\n",
      "( 8.0 - 3.0 ) => jake has 3 fewer peaches than steven who has 8 more peaches than jill. steven has 5 peaches. how many more peaches does jake have than jill?\n",
      "( 53.0 + 14.0 ) => zachary did 53 push-ups and 14 crunches in gym class today. david did 17 more push-ups but 10 less crunches than zachary. how many push-ups and crunches did zachary do?\n"
     ]
    }
   ],
   "source": [
    "for i in range(50):\n",
    "    print(f'{train[i,0]} => {train[i,1]}')"
   ]
  },
  {
   "cell_type": "markdown",
   "id": "617d8854",
   "metadata": {},
   "source": [
    "the english-german-both.pkl that contains all of the train and test examples that we can use to define the parameters of the problem, such as max phrase lengths and the vocabulary, and the english-german-train.pkl and english-german-test.pkl files for the train and test dataset.\n",
    "\n",
    "We are now ready to start developing our translation model."
   ]
  },
  {
   "cell_type": "markdown",
   "id": "e2d12a56",
   "metadata": {},
   "source": [
    "# 3 Train Neural Machine Translation Model"
   ]
  },
  {
   "cell_type": "code",
   "execution_count": 12,
   "id": "fec6e73c",
   "metadata": {},
   "outputs": [],
   "source": [
    "# import necessary modules\n",
    "import tensorflow as tf\n",
    "from keras.preprocessing.text import Tokenizer\n",
    "from keras_preprocessing.sequence import pad_sequences\n",
    "from keras.utils import to_categorical\n",
    "from pickle import load\n",
    "from numpy import array\n",
    "from keras.utils.vis_utils import plot_model\n",
    "from keras.models import Sequential\n",
    "from keras.layers import LSTM\n",
    "from keras.layers import Dense\n",
    "from keras.layers import Embedding\n",
    "from keras.layers import RepeatVector\n",
    "from keras.layers import TimeDistributed\n",
    "from keras.callbacks import ModelCheckpoint"
   ]
  },
  {
   "cell_type": "code",
   "execution_count": 13,
   "id": "d4ee34a0",
   "metadata": {},
   "outputs": [],
   "source": [
    "# load datasets\n",
    "dataset = load_clean_sentences('SVAMP.pkl')\n",
    "train = load_clean_sentences('SVAMPtrain.pkl')\n",
    "test = load_clean_sentences('SVAMPtest.pkl')"
   ]
  },
  {
   "cell_type": "markdown",
   "id": "48455993",
   "metadata": {},
   "source": [
    "We will use separate tokenizer for the English sequences and the German sequences."
   ]
  },
  {
   "cell_type": "code",
   "execution_count": 14,
   "id": "24e0eeca",
   "metadata": {},
   "outputs": [],
   "source": [
    "# fit a tokenizer \n",
    "def create_tokenizer(lines):\n",
    "    tokenizer = Tokenizer()\n",
    "    tokenizer.fit_on_texts(lines)\n",
    "    return tokenizer\n",
    "\n",
    "# max sentence length\n",
    "def max_length(lines):\n",
    "    return max(len(line.split()) for line in lines)"
   ]
  },
  {
   "cell_type": "code",
   "execution_count": 27,
   "id": "94aaabb3",
   "metadata": {
    "scrolled": true
   },
   "outputs": [
    {
     "name": "stdout",
     "output_type": "stream",
     "text": [
      "MWP Vocabulary Size: 350\n",
      "MWP Max Length: 9\n",
      "Equation Vocabulary Size: 1237\n",
      "Equation Max Length: 57\n",
      "EQN VOCAB SET dict_keys(['the', 'how', 'and', 'many', 'of', 'in', 'he', 'more', 'to', 'did', 'than', 'if', 'a', 'had', 'she', 'on', 'are', 'have', 'has', 'each', 'there', 'his', 'does', 'they', 'for', 'peaches', 'some', 'cookies', 'now', 'at', '2', 'is', 'left', 'were', 'books', 'day', 'cups', 'her', '3', '4', '6', 'school', 'pages', 'much', '5', 'dollars', 'kids', 'that', 'marbles', 'total', 'cakes', 'apples', 'with', 'went', '7', '8', 'after', '10', 'bus', 'bottle', 'caps', 'oranges', 'bottles', 'pieces', 't', 'park', 'from', '12', 'flour', 'then', '14', '9', 'jake', 'candy', 'shirts', 'emails', 'was', 'them', 'bought', 'days', 'roses', 'money', 'homework', '11', 'friends', 'found', 'sold', 'students', 'crayons', 'cards', 'collection', 'soda', 'learning', 'inches', 'baker', 'made', 'balloons', '15', 'away', 'those', 'game', 'during', 'harvest', 'per', 'steven', 'shelf', 'hours', 'morning', 'got', '13', '19', 'push', 'ups', 'book', 'suggested', 'grasshopper', '16', 'lost', 'action', 'figures', 'sugar', 'games', 'afternoon', 'still', 'put', 'do', 'bird', 'families', 'buy', 'sacks', 'make', 'gave', 'need', 'vase', 'ate', 'wrappers', 'campers', 'frog', 'apps', 'it', 'monday', 'birds', 'into', 'boys', \"'\", 'people', 'new', '17', 'crackers', 'pencils', 'children', 'while', 'rowing', 'jumped', 'off', 'you', 'can', 'jack', '18', 'long', 'zachary', 'all', 'played', 'house', 'danny', 'bags', 'feet', 'will', 'reading', 'room', 'basket', 'blocks', 'received', '20', 'rachel', 'chapter', 'strawberries', 'adding', 'girls', 'green', 'allan', 'shirt', 'together', 'play', 'movies', 'read', 'pastries', 'fence', 'buckingham', 'palace', 'altogether', 'brought', 'tuesday', 'initially', 'animals', 'chocolate', 'same', 'already', 'tag', 'cut', 'david', 'sitting', 'customers', 'cake', 'today', 'week', 'trees', 'see', 'harvested', '21', 'red', 'chinese', 'give', 'complete', 'would', 'storks', 'groups', '22', 'english', 'birthday', 'orchids', 'mouse', 'files', 'first', 'paco', 'spent', 'different', 'math', 'came', 'spend', 'packs', 'collects', 'receive', 'flew', 'being', 'out', 'visitors', 'recipe', 'paul', 'sale', 'every', 'water', 'tree', 'stop', 'flower', 'ed', 'weighed', 'jill', 'potatoes', 'mary', 'baking', 'calls', 'add', 'number', 'dave', 'bar', 'pounds', 'bacon', 'go', '36', 'be', 'build', 'frank', 'ripe', 'garden', 'class', 'cans', 'seats', 'doug', 'matthew', 'diet', 'needs', 'farther', 'winter', 'near', 'mountain', 'fewer', 'crunches', 'packages', '23', 'adam', 'arkansas', 'selling', 'mom', '30', 'last', 'hold', '24', 'dad', 'eat', 'salty', 'sweet', 'eggs', 'points', 'regular', '28', 'crazy', 'silly', 'series', 'wheel', 'mashed', 'bananas', 'wax', 'julia', 'evening', '25', 'helen', 'tomatoes', 'yesterday', 'fred', 'jason', 'rebecca', 'ones', 'jackie', 'texas', 'tech', 'block', 'unripe', 'phone', 'backyard', 'chairs', 'chapters', 'friend', 'added', 'grocery', 'garage', 'spends', 'by', 'use', 'pens', 'sell', 'county', 'invitations', '44', 'next', 'ferris', 'weigh', 'old', 'store', 'rows', 'razorback', 'shop', 'camp', 'before', 'robin', 'flowers', 'seeds', 'picked', 'gym', 'their', 'second', '35', 'kilograms', '66', 'join', 'visited', '38', 'took', 'edward', 'planks', 'tickets', 'nell', 'baseball', 'wednesday', 'hair', '60', 'over', '40', '26', 'jessica', '27', 'baskets', 'bobby', 'also', 'white', 'necklaces', 'beads', 'trip', 'favorite', 'nails', 'lawrence', 'machine', 'junk', '33', 'jumping', 'contest', 'jump', 'chip', 'dan', 'equal', 'food', '34', 'jerry', 'later', '31', 'an', 'organized', 'ryan', '39', 'tower', 'year', 'having', 'mail', 'living', 'decided', 'eating', 'marco', '62', 'end', 'previous', '78', 'faye', 'placing', 'row', 'josh', 'cost', 'drums', 'g', 'large', 'john', 'box', 'home', 'rest', 'erasers', 'letters', 'jeff', '41', 'grew', '51', 'almost', 'here', 'most', 'migrating', 'countries', 'but', '32', 'because', 'decision', 'sofia', 'asked', 'suggest', 'specific', 'types', 'menu', 'him', 'find', '53', '49', 'package', 'emily', 'finish', 'earns', 'makes', '71', '58', 'typhoon', 'raisin', 'riding', 'only', 'weekend', 'warmer', 'watched', 'biology', 'seat', 'picking', '46', '57', 'salt', 'who', 'through', 'grapes', 'yellow', 'feathers', 'threw', '42', 'jersey', 'summer', 'break', '86', '54', 'not', 'ace', 'deleting', 'died', 'cars', 'haley', 'equally', 'stayed', 'tables', '91', 'strawberry', \"marco's\", \"dad's\", 'numbers', 'wants', 'group', 'less', 'supermarket', '56', 'making', '52', '29', 'could', 'wood', '63', 'bag', 'gum', 'pupils', 'baked', 'paige', 'earn', 'take', 'hearty', 'meal', 'learned', \"philip's\", '90', '61', 'lewis', 'weeks', 'pack', 'scored', 'jerseys', 'mailman', 'wide', 'ron', 'one', 'katie', 'plant', 'washed', '87', 'party', 'sets', 'goldfish', 'paradise', 'waiter', 'playground', 'far', 'jogging', 'everyday', 'split', 'amount', 'debby', 'nintendo', 'aquariums', 'saltwater', '43', 'carnival', 'planning', 'field', 'classrooms', 'buses', 'randy', 'uses', 'start', 'stay', 'minutes', 'houses', 'carpet', 'slices', 'toys', '37', 'program', '59', 'alligators', 'small', 'bed', 'ride', 'asia', 'africa', \"haley's\", '50', '92', 'deep', '81', 'size', 'when', 'drank', '154', 'bead', 'necklace', '72', '79', 'magazines', '80', 'big', '99', '67', 'industrial', 'minute', '74', 'used', 'guests', 'lesser', 'snakes', 'hiding', '95', 'skittles', 'love', 'tiffany', 'collecting', 'recycling', 'person', 'jessie', 'started', 'wallet', 'collected', 'buys', 'joined', 'bryan', 'look', 'as', 'bookshelves', 'aquarium', 'costing', \"gwen's\", 'ring', 'toss', 'dvds', '89', 'fill', 'require', 'walls', 'plank', 'secured', 'wall', 'gives', \"jesse's\", '82', 'pizza', 'arcade', 'height', 'hippo', 'preparing', 'thanksgiving', \"helen's\", 'this', 'bake', 'sack', 'square', '84', 'newspapers', '45', 'spanish', 'helping', 'planted', 'farmer', 'behind', 'set', 'time', 'apple', '48', 'cave', 'trivia', 'round', 'score', \"brenda's\", 'mother', 'remaining', 'bring', 'purchased', '144', 'kelly', 'distributed', '111', 'season', 'saved', 'checking', 'grapevines', 'told', 'pickers', 'filled', 'checklist', 'stick', 'grams', '68', 'lose', 'or', 'given', 'boxes', 'should', 'third', 'cover', 'won', 'pay', '106', 'resting', 'swim', 'depth', 'times', '75', 'takes', 'other', '47', '97', 'what', 'delete', 'pond', '140', '76', 'luke', '177', 'rounds', 'gained', '115', \"olivia's\", 'atm', 'cookie', 'yet', 'which', 'so', 'well', 'needed', 'melissa', 'work', 'shelves', 'we', 'pizzas', 'parents', 'begin', \"dean's\", 'stands', 'learns', 'dean', 'extra', '64', 'compared', 'cage', 'containes', 'delivered', 'within', 'carol', 'sending', 'balls', 'clothes', '55', 'pot', 'pots', 'raised', 'stray', 'cats', 'loved', 'worth', 'currently', 'removed', '65', 'prepared', 'throw', 'banana', 'lucy', '114', '157', 'sony', 'bookshelf', '120', '73', \"robin's\", '94', 'right', 'colors', 'paint', 'created', 'get', 'been', 'single', 'sent', 'others', 'additional', 'ordered', 'rent', '70', 'present', 'back', 'zoo', 'contains', '108', 'survived', '93', 'earning', 'attended', 'about', 'costs', 'hiking', '134', '69', 'eaten', 'live', '98', 'weighs', 'starting', 'jog', 'lite', 'items', 'pick', 'freshwater', 'able', 'prepare', 'discount', 'train', '137', '105', 'boy', '103', '102', 'sticks', 'trefoils', '100', 'flowerbeds', 'rooms', '457', 'beginning', 'fit', 'us', 'olivia', 'chef', 'pies', 'way', 'jesse', 'grown', 'mails', 'outside', 'teachers', 'either', 'shorter', 'past', 'worked', 'earned', '153', '85', '492', 'disappeared', 'whole', 'floor', '88', '178', 'classroom', \"steven's\", 'candies', '77', 'grades', '96', '403', 'ds', 'grow', 'remained', 'arctic', '126', 'groceries', '374', '128', 'participated', 'suggestion', '301', 'drink', 'across', '132', 'tyler', '392', 'works', '192', 'sells', '557', 'just', 'secure', '143', '113', \"n't\", 'want', 'shirley', 'case', 'deliver', 'cases', \"rachel's\", 'thereafter', '288', '170', 'flowerbed', 'earlier', 'cabinets', '109', 'lasted', 'paintings', '104', 'too', '242', 'both', 'guest', \"ron's\", 'taller', '309', '356', 'washing', '136', '215', 'raspberries', '146', 'until', 'reach', 'deleted', '231', 'full', '450', 'discard', 'buying', 'longer', '257', 'width', '228', 'playing', 'place', '133', '149', '110', '216', '264', 'come', 'giving', '270', '419', '535', '232', '210', '406', 'eraser', '142', 'invite', '159', '145', '169', '158', '252', 'working', '112', '214', '166', '165', 'catfish', '308', '569', 'beds', 'overtime', 'where', 'scoring', 'watch', 'delivering', 'grade', '521', '246', '167', '315', 'table', '148', '172', '495', 'arrived', 'leaving', 'showroom', '240', 'length', '180', 'bob', '171', 'distributes', '400', 'unoccupied', 'further', 'south', '919', 'travel', '1307', '269', '330', '841', '155', '317', '295', 'collect', 'change', '324', 'contain', '902', '811', 'between', 'gwen', 'such', '1357', '223', 'seasons', '384', '345', '163', 'offered', '130', '353', '402', '739', '563', '558', '332', '313473', '274865', '213', '173', '141', '666', '531', '391', '1216', '260', '183', '218', '351', 'floors', '408', '193', '660', '705', '191', '245', '732', '761', '682', '661', '600', '368', '1359', '388', '124', '458', '692', 'deeper', '266', '415', '360', '162', '122', '819058', '668278', '294', '244', '1218', '849', 'travelling', 'speed', '150', '237', '151', '697', '290', '644997', '893835', 'wtih', '724', '744', '440', '589', '571', '161', '253', '594', '607', '800059', '828521', 'tall', '512', '471', '808', '412', 'cooler', '702', 'tax', '868', '281', 'sends', 'till', 'night', '187', '491', '1181', '566', '234', '485', '573', '195', '601', '336', '527', '554', '700', 'drinks', '420', '628', '907611', '455682', '139', '147', '528', '197', '230', 'no', 'gets', '382', '249', '135', '496', '910', 'win', '204', '101', '182', '1', 'broken', '156', 'fishes', '898051', '629424', 'fully', '118', 'remove', '635', '510', 'send', '555', '220', '576', '188', '61619', '91676', '267', 'addition', 'smaller', '318', 'sit', 'altogther', '1091', '939', '4502', '4276', '706', '222', '418', '617', '523', '405', '664', '201', 'increased', 'prices', '217', 'gums', '304', '174', '703', '337', '131', 'wheels', '310', '185', 'keep', 'herself', '544', 'gardens', '772', 'order', '239', '376', '203', '438', '235', '221', '896', '517', 'scales', '196', 'bonus', '160', \"yesterday's\", '186', '551', '116', '3941', '4950', '460', 'going', '83', 'again', '202958', '777622', 'attend', '404', '659', '762', '175', '200', '256', '312', 'choices', 'participate', '466', '181', \"baker's\", '233', 'tile', 'tiles', '397', '612', '107', '610769', '590796', 'finding', '479', '489', '291', 'since', '236', '467', '632', '410', '465', '34044', '134867', '424944', '254', '484', '519', '300', '280', '359', '325', '829', '676', 'trousers', 'stops', '327', '121', '362'])\n"
     ]
    }
   ],
   "source": [
    "# prepare mwp tokenizer\n",
    "mwp_tokenizer = create_tokenizer(dataset[:, 0])\n",
    "mwp_vocab_size = len(mwp_tokenizer.word_index) + 1\n",
    "mwp_length = max_length(dataset[:, 0])\n",
    "print('MWP Vocabulary Size: %d' % mwp_vocab_size)\n",
    "print('MWP Max Length: %d' % (mwp_length))\n",
    "\n",
    "# prepare eqn tokenizer\n",
    "eqn_tokenizer = create_tokenizer(dataset[:, 1])\n",
    "eqn_vocab_size = len(eqn_tokenizer.word_index) + 1\n",
    "eqn_length = max_length(dataset[:, 1])\n",
    "print('Equation Vocabulary Size: %d' % eqn_vocab_size)\n",
    "print('Equation Max Length: %d' % (eqn_length))\n",
    "print('EQN VOCAB SET', eqn_tokenizer.word_index.keys())"
   ]
  },
  {
   "cell_type": "markdown",
   "id": "bd657824",
   "metadata": {},
   "source": [
    "We are now ready to prepare the training dataset.\n",
    "\n",
    "Each input and output sequence must be encoded to integers and padded to the maximum phrase length. This is because we will use a word embedding for the input sequences and one hot encode the output sequences The function below named encode_sequences() will perform these operations and return the result."
   ]
  },
  {
   "cell_type": "code",
   "execution_count": 16,
   "id": "6cc154bb",
   "metadata": {},
   "outputs": [],
   "source": [
    "def encode_sequences(tokenizer, length, lines):\n",
    "    # encode sequences to integers\n",
    "    X = tokenizer.texts_to_sequences(lines)\n",
    "    # pad sequence with 0's\n",
    "    X = pad_sequences(X, maxlen=length, padding='post')\n",
    "    return X"
   ]
  },
  {
   "cell_type": "markdown",
   "id": "61027883",
   "metadata": {},
   "source": [
    "Now we gotts one hot encode it: cus we'll predict prob of each word in vocab as output.\n",
    "\n",
    "https://www.tensorflow.org/api_docs/python/tf/keras/utils/to_categorical"
   ]
  },
  {
   "cell_type": "code",
   "execution_count": 17,
   "id": "8d26ff41",
   "metadata": {},
   "outputs": [],
   "source": [
    "def encode_output(sequences, vocab_size):\n",
    "    ylist = list()\n",
    "    for sequence in sequences:\n",
    "        encoded = to_categorical(sequence, num_classes=vocab_size)\n",
    "        ylist.append(encoded)\n",
    "    y = array(ylist)\n",
    "    y = y.reshape(sequences.shape[0], sequences.shape[1], vocab_size)\n",
    "    return y"
   ]
  },
  {
   "cell_type": "code",
   "execution_count": 18,
   "id": "6e432679",
   "metadata": {},
   "outputs": [],
   "source": [
    "# prepare training data\n",
    "trainX = encode_sequences(eqn_tokenizer, eqn_length, train[:, 1])\n",
    "trainY = encode_sequences(mwp_tokenizer, mwp_length, train[:, 0])\n",
    "trainY = encode_output(trainY, mwp_vocab_size)\n",
    "\n",
    "# prepare validation data\n",
    "testX = encode_sequences(eqn_tokenizer, eqn_length, test[:, 1])\n",
    "testY = encode_sequences(mwp_tokenizer, mwp_length, test[:, 0])\n",
    "testY = encode_output(testY, mwp_vocab_size)"
   ]
  },
  {
   "cell_type": "markdown",
   "id": "b3a5e2c4",
   "metadata": {},
   "source": [
    "### Let's define model.\n",
    "\n",
    "enc-dec LSTM\n",
    "\n",
    "https://machinelearningmastery.com/configure-encoder-decoder-model-neural-machine-translation/"
   ]
  },
  {
   "cell_type": "code",
   "execution_count": 19,
   "id": "6b4bf4b1",
   "metadata": {},
   "outputs": [],
   "source": [
    "# define NMT model\n",
    "def define_model(src_vocab, tar_vocab, src_timesteps, tar_timesteps, n_units):\n",
    "    model = Sequential()\n",
    "#     SOURCE EMBEDDING\n",
    "    model.add(Embedding(src_vocab, n_units, input_length=src_timesteps, mask_zero=True))\n",
    "#     N UNITS LONG LSTM\n",
    "    model.add(LSTM(n_units))\n",
    "#     REPEAT SAME VAL TAR_STEPS TIMES\n",
    "    model.add(RepeatVector(tar_timesteps))\n",
    "#     ADD DECODER N UNITS, WITH RETURNED SEQUENCES\n",
    "    model.add(LSTM(n_units, return_sequences=True))\n",
    "#     USE SOFTMAX\n",
    "    model.add(TimeDistributed(Dense(tar_vocab, activation='softmax')))\n",
    "    return model\n"
   ]
  },
  {
   "cell_type": "code",
   "execution_count": 20,
   "id": "e33892fb",
   "metadata": {},
   "outputs": [
    {
     "name": "stdout",
     "output_type": "stream",
     "text": [
      "Model: \"sequential\"\n",
      "_________________________________________________________________\n",
      " Layer (type)                Output Shape              Param #   \n",
      "=================================================================\n",
      " embedding (Embedding)       (None, 57, 256)           316672    \n",
      "                                                                 \n",
      " lstm (LSTM)                 (None, 256)               525312    \n",
      "                                                                 \n",
      " repeat_vector (RepeatVector  (None, 9, 256)           0         \n",
      " )                                                               \n",
      "                                                                 \n",
      " lstm_1 (LSTM)               (None, 9, 256)            525312    \n",
      "                                                                 \n",
      " time_distributed (TimeDistr  (None, 9, 350)           89950     \n",
      " ibuted)                                                         \n",
      "                                                                 \n",
      "=================================================================\n",
      "Total params: 1,457,246\n",
      "Trainable params: 1,457,246\n",
      "Non-trainable params: 0\n",
      "_________________________________________________________________\n",
      "None\n",
      "You must install pydot (`pip install pydot`) and install graphviz (see instructions at https://graphviz.gitlab.io/download/) for plot_model/model_to_dot to work.\n",
      "Epoch 1/30\n",
      "\n",
      "Epoch 1: val_loss improved from inf to 2.07470, saving model to svampsmodel.h5\n",
      "15/15 - 17s - loss: 3.7907 - val_loss: 2.0747 - 17s/epoch - 1s/step\n",
      "Epoch 2/30\n",
      "\n",
      "Epoch 2: val_loss improved from 2.07470 to 1.73138, saving model to svampsmodel.h5\n",
      "15/15 - 5s - loss: 1.8315 - val_loss: 1.7314 - 5s/epoch - 305ms/step\n",
      "Epoch 3/30\n",
      "\n",
      "Epoch 3: val_loss improved from 1.73138 to 1.67505, saving model to svampsmodel.h5\n",
      "15/15 - 4s - loss: 1.6564 - val_loss: 1.6750 - 4s/epoch - 297ms/step\n",
      "Epoch 4/30\n",
      "\n",
      "Epoch 4: val_loss improved from 1.67505 to 1.64641, saving model to svampsmodel.h5\n",
      "15/15 - 4s - loss: 1.6121 - val_loss: 1.6464 - 4s/epoch - 293ms/step\n",
      "Epoch 5/30\n",
      "\n",
      "Epoch 5: val_loss improved from 1.64641 to 1.64102, saving model to svampsmodel.h5\n",
      "15/15 - 4s - loss: 1.5817 - val_loss: 1.6410 - 4s/epoch - 299ms/step\n",
      "Epoch 6/30\n",
      "\n",
      "Epoch 6: val_loss did not improve from 1.64102\n",
      "15/15 - 4s - loss: 1.5715 - val_loss: 1.6435 - 4s/epoch - 285ms/step\n",
      "Epoch 7/30\n",
      "\n",
      "Epoch 7: val_loss improved from 1.64102 to 1.61122, saving model to svampsmodel.h5\n",
      "15/15 - 4s - loss: 1.5725 - val_loss: 1.6112 - 4s/epoch - 297ms/step\n",
      "Epoch 8/30\n",
      "\n",
      "Epoch 8: val_loss improved from 1.61122 to 1.59927, saving model to svampsmodel.h5\n",
      "15/15 - 4s - loss: 1.5447 - val_loss: 1.5993 - 4s/epoch - 294ms/step\n",
      "Epoch 9/30\n",
      "\n",
      "Epoch 9: val_loss improved from 1.59927 to 1.59902, saving model to svampsmodel.h5\n",
      "15/15 - 5s - loss: 1.5411 - val_loss: 1.5990 - 5s/epoch - 304ms/step\n",
      "Epoch 10/30\n",
      "\n",
      "Epoch 10: val_loss did not improve from 1.59902\n",
      "15/15 - 4s - loss: 1.5190 - val_loss: 1.6048 - 4s/epoch - 299ms/step\n",
      "Epoch 11/30\n",
      "\n",
      "Epoch 11: val_loss improved from 1.59902 to 1.57432, saving model to svampsmodel.h5\n",
      "15/15 - 5s - loss: 1.5006 - val_loss: 1.5743 - 5s/epoch - 301ms/step\n",
      "Epoch 12/30\n",
      "\n",
      "Epoch 12: val_loss improved from 1.57432 to 1.55112, saving model to svampsmodel.h5\n",
      "15/15 - 5s - loss: 1.4751 - val_loss: 1.5511 - 5s/epoch - 304ms/step\n",
      "Epoch 13/30\n",
      "\n",
      "Epoch 13: val_loss improved from 1.55112 to 1.53309, saving model to svampsmodel.h5\n",
      "15/15 - 4s - loss: 1.4566 - val_loss: 1.5331 - 4s/epoch - 299ms/step\n",
      "Epoch 14/30\n",
      "\n",
      "Epoch 14: val_loss improved from 1.53309 to 1.48310, saving model to svampsmodel.h5\n",
      "15/15 - 4s - loss: 1.4056 - val_loss: 1.4831 - 4s/epoch - 297ms/step\n",
      "Epoch 15/30\n",
      "\n",
      "Epoch 15: val_loss improved from 1.48310 to 1.43479, saving model to svampsmodel.h5\n",
      "15/15 - 4s - loss: 1.3525 - val_loss: 1.4348 - 4s/epoch - 289ms/step\n",
      "Epoch 16/30\n",
      "\n",
      "Epoch 16: val_loss improved from 1.43479 to 1.38964, saving model to svampsmodel.h5\n",
      "15/15 - 4s - loss: 1.2866 - val_loss: 1.3896 - 4s/epoch - 280ms/step\n",
      "Epoch 17/30\n",
      "\n",
      "Epoch 17: val_loss improved from 1.38964 to 1.34130, saving model to svampsmodel.h5\n",
      "15/15 - 4s - loss: 1.2426 - val_loss: 1.3413 - 4s/epoch - 299ms/step\n",
      "Epoch 18/30\n",
      "\n",
      "Epoch 18: val_loss did not improve from 1.34130\n",
      "15/15 - 4s - loss: 1.2091 - val_loss: 1.3423 - 4s/epoch - 292ms/step\n",
      "Epoch 19/30\n",
      "\n",
      "Epoch 19: val_loss did not improve from 1.34130\n",
      "15/15 - 4s - loss: 1.2422 - val_loss: 1.3938 - 4s/epoch - 291ms/step\n",
      "Epoch 20/30\n",
      "\n",
      "Epoch 20: val_loss did not improve from 1.34130\n",
      "15/15 - 4s - loss: 1.3899 - val_loss: 1.4079 - 4s/epoch - 291ms/step\n",
      "Epoch 21/30\n",
      "\n",
      "Epoch 21: val_loss did not improve from 1.34130\n",
      "15/15 - 5s - loss: 1.3592 - val_loss: 1.4250 - 5s/epoch - 314ms/step\n",
      "Epoch 22/30\n",
      "\n",
      "Epoch 22: val_loss did not improve from 1.34130\n",
      "15/15 - 4s - loss: 1.3284 - val_loss: 1.3950 - 4s/epoch - 295ms/step\n",
      "Epoch 23/30\n",
      "\n",
      "Epoch 23: val_loss did not improve from 1.34130\n",
      "15/15 - 5s - loss: 1.2635 - val_loss: 1.3646 - 5s/epoch - 329ms/step\n",
      "Epoch 24/30\n",
      "\n",
      "Epoch 24: val_loss did not improve from 1.34130\n",
      "15/15 - 6s - loss: 1.2210 - val_loss: 1.3467 - 6s/epoch - 413ms/step\n",
      "Epoch 25/30\n",
      "\n",
      "Epoch 25: val_loss improved from 1.34130 to 1.33857, saving model to svampsmodel.h5\n",
      "15/15 - 6s - loss: 1.2100 - val_loss: 1.3386 - 6s/epoch - 416ms/step\n",
      "Epoch 26/30\n",
      "\n",
      "Epoch 26: val_loss did not improve from 1.33857\n",
      "15/15 - 4s - loss: 1.1931 - val_loss: 1.3547 - 4s/epoch - 300ms/step\n",
      "Epoch 27/30\n",
      "\n",
      "Epoch 27: val_loss improved from 1.33857 to 1.33162, saving model to svampsmodel.h5\n",
      "15/15 - 5s - loss: 1.1932 - val_loss: 1.3316 - 5s/epoch - 302ms/step\n",
      "Epoch 28/30\n",
      "\n",
      "Epoch 28: val_loss did not improve from 1.33162\n",
      "15/15 - 5s - loss: 1.1775 - val_loss: 1.3632 - 5s/epoch - 325ms/step\n",
      "Epoch 29/30\n",
      "\n",
      "Epoch 29: val_loss did not improve from 1.33162\n",
      "15/15 - 5s - loss: 1.1749 - val_loss: 1.3625 - 5s/epoch - 303ms/step\n",
      "Epoch 30/30\n",
      "\n",
      "Epoch 30: val_loss did not improve from 1.33162\n",
      "15/15 - 4s - loss: 1.1568 - val_loss: 1.3544 - 4s/epoch - 290ms/step\n"
     ]
    },
    {
     "data": {
      "text/plain": [
       "<keras.callbacks.History at 0x21c8be746d0>"
      ]
     },
     "execution_count": 20,
     "metadata": {},
     "output_type": "execute_result"
    }
   ],
   "source": [
    "# define model\n",
    "model = define_model(eqn_vocab_size, mwp_vocab_size, eqn_length, mwp_length, 256)\n",
    "model.compile(optimizer='adam', loss='categorical_crossentropy')\n",
    "\n",
    "# summarize defined model\n",
    "print(model.summary())\n",
    "plot_model(model, to_file='model.png', show_shapes=True)\n",
    "\n",
    "# fit model\n",
    "filename = 'svampsmodel.h5'\n",
    "checkpoint = ModelCheckpoint(filename, monitor='val_loss', verbose=1, save_best_only=True, mode='min')\n",
    "model.fit(trainX, trainY, epochs=30, batch_size=64, validation_data=(testX, testY), callbacks=[checkpoint], verbose=2)"
   ]
  },
  {
   "cell_type": "markdown",
   "id": "360c9ee1",
   "metadata": {},
   "source": [
    "#  4 Evaluate Model"
   ]
  },
  {
   "cell_type": "code",
   "execution_count": 21,
   "id": "9d690951",
   "metadata": {},
   "outputs": [],
   "source": [
    "from pickle import load\n",
    "from numpy import array\n",
    "from numpy import argmax\n",
    "from keras.models import load_model\n",
    "from nltk.translate.bleu_score import corpus_bleu\n",
    "\n",
    "# map an integer to a word\n",
    "def word_for_id(integer, tokenizer):\n",
    "    for word, index in tokenizer.word_index.items():\n",
    "        if index == integer:\n",
    "            return word\n",
    "    return None\n",
    "\n",
    "# generate target given source sequence\n",
    "def predict_sequence(model, tokenizer, source):\n",
    "    prediction = model.predict(source, verbose=0)[0]\n",
    "    integers = [argmax(vector) for vector in prediction]\n",
    "    target = list()\n",
    "    for i in integers:\n",
    "        word = word_for_id(i, tokenizer)\n",
    "        if word is None:\n",
    "            break\n",
    "        target.append(word)\n",
    "    return ' '.join(target)"
   ]
  },
  {
   "cell_type": "code",
   "execution_count": 22,
   "id": "ae9627e4",
   "metadata": {},
   "outputs": [],
   "source": [
    "# evaluate the skill of the model\n",
    "def evaluate_model(model, tokenizer, sources, raw_dataset):\n",
    "    actual, predicted = list(), list()\n",
    "    for i, source in enumerate(sources):\n",
    "        # translate encoded source text\n",
    "        source = source.reshape((1, source.shape[0]))\n",
    "        translation = predict_sequence(model, mwp_tokenizer, source)\n",
    "        raw_target, raw_src = raw_dataset[i]\n",
    "        if i < 10:\n",
    "            print('src=[%s], target=[%s], predicted=[%s]' % (raw_src, raw_target, translation))\n",
    "        actual.append([raw_target.split()])\n",
    "        predicted.append(translation.split())\n",
    "    # calculate BLEU score\n",
    "    print('BLEU-1: %f' % corpus_bleu(actual, predicted, weights=(1.0, 0, 0, 0)))\n",
    "    print('BLEU-2: %f' % corpus_bleu(actual, predicted, weights=(0.5, 0.5, 0, 0)))\n",
    "    print('BLEU-3: %f' % corpus_bleu(actual, predicted, weights=(0.3, 0.3, 0.3, 0)))\n",
    "    print('BLEU-4: %f' % corpus_bleu(actual, predicted, weights=(0.25, 0.25, 0.25, 0.25)))"
   ]
  },
  {
   "cell_type": "code",
   "execution_count": 23,
   "id": "5ed28a76",
   "metadata": {},
   "outputs": [
    {
     "name": "stdout",
     "output_type": "stream",
     "text": [
      "train\n",
      "src=[41 children were riding on the bus. at the bus stop some children got off the bus. then there were 18 children left on the bus. how many more children were on the bus before the bus stop than there are now?], target=[( 41.0 - 18.0 )], predicted=[6 0 2 0]\n",
      "src=[robin cut off 13 inches of his hair. if his hair was 14 inches long initially how long is his hair now?], target=[( 14.0 - 13.0 )], predicted=[6 0 2 0]\n",
      "src=[paige was helping her mom plant flowers and together they planted 55 seeds. they put 15 seeds in each flower bed and only 60 seeds grew into flowers in each flower bed. how many flowers did they grow?], target=[( 60.0 * ( 55.0 / 15.0 ) )], predicted=[0 0 0 0 0]\n",
      "src=[a farmer had 171 tomatoes in his garden. if he picked 134 of them yesterday and 30 today. how many will he have left after today?], target=[( ( 171.0 - 134.0 ) - 30.0 )], predicted=[6 0 2 0]\n",
      "src=[last week fred had 19 dollars and jason had 16 dollars. they washed cars over the weekend and now fred has 40 dollars and jason has 69 dollars. how much money did fred earn over the weekend?], target=[( 40.0 - 19.0 )], predicted=[0 0 0 0]\n",
      "src=[zachary did 51 push-ups and david did 44 push-ups in gym class today. how many more push-ups did zachary do than david?], target=[( 51.0 - 44.0 )], predicted=[6 0 2 0]\n",
      "src=[haley has 20 marbles. in her class 2 boys love to play marbles. if she distributes her marbles equally how many will each of the boys receive?], target=[( 20.0 / 2.0 )], predicted=[6 0 2 0]\n",
      "src=[winter is almost here and most animals are migrating to warmer countries. there were 87 bird families living near the mountain. if 7 bird families flew away for winter how many more bird families stayed behind than those that flew away for the winter?], target=[( ( 87.0 - 7.0 ) - 7.0 )], predicted=[6 0 2 0 4 0]\n",
      "src=[there are 14 different movies and 15 different books in the ' crazy silly school ' series. if you read 11 of the books and watched 40 of the movies how many more books than movies are there in the ' crazy silly school ' series?], target=[( 15.0 - 14.0 )], predicted=[6 0 2 0]\n",
      "src=[each pot has 40 flowers in it. there are 400 flowers in total. how many pots are there in all?], target=[( 400.0 / 40.0 )], predicted=[6 0 2 0]\n",
      "BLEU-1: 0.000000\n",
      "BLEU-2: 0.000000\n",
      "BLEU-3: 0.000000\n",
      "BLEU-4: 0.000000\n",
      "test\n",
      "src=[there were 100 dollars in olivia's wallet. she collected 148 more dollars from an atm. after she visited a supermarket there were 159 dollars left. how much did she spend?], target=[( ( 100.0 + 148.0 ) - 159.0 )], predicted=[6 0 2 0]\n",
      "src=[jack received 6 emails in the morning, 3 emails in the afternoon and some more in the evening. if he received a total of 10 emails in the day how many emails did jack receive in the afternoon?], target=[( 10.0 - ( 6.0 + 3.0 ) )], predicted=[6 0 2 0]\n",
      "src=[during summer break 34044 kids from lawrence county go to camp and the other 134867 kids stay home. an additional 424944 kids from outside the county attended the camp. how many kids in total attended the camp?], target=[( 34044.0 + 424944.0 )], predicted=[6 0 2 0]\n",
      "src=[jessie weighed 71 kilograms. after she started to go jogging everyday she lost 20 kilograms. how much does she weigh now?], target=[( 71.0 - 20.0 )], predicted=[12 0 2 0]\n",
      "src=[there are 22 different books and 10 different movies in the ' crazy silly school ' series. if you read 12 of the books and watched 56 of the movies how many more books do you still have to read?], target=[( 22.0 - 12.0 )], predicted=[6 0 2 0]\n",
      "src=[there were some roses in the vase. jessica cut 16 more roses from her flower garden and put them in the vase. there are now 23 roses in the vase. how many roses were there in the vase at the beginning?], target=[( 23.0 - 16.0 )], predicted=[6 0 2 0]\n",
      "src=[mom buys 51 white t - shirts. if white t - shirts can be purchased in packages of 3 how many packages will she have?], target=[( 51.0 / 3.0 )], predicted=[6 0 2 0]\n",
      "src=[he then went to see the oranges being harvested. he found out that they harvest 67 sacks per day and that each sack containes 12 oranges. how many oranges are harvested if they harvest a total of 35 sacks of oranges?], target=[( 12.0 * 35.0 )], predicted=[6 0 2 0]\n",
      "src=[zachary did 35 push-ups and 3 crunches in gym class today. david did 58 more push-ups but 87 less crunches than zachary. how many more push-ups than crunches did zachary do?], target=[( 35.0 - 3.0 )], predicted=[6 0 2 0]\n",
      "src=[the grasshopper and the frog had a jumping contest. the grasshopper jumped 13 inches. the grasshopper jumped 2 inches farther than the grasshopper. how far did the frog jump?], target=[( 13.0 - 2.0 )], predicted=[6 0 2 0]\n",
      "BLEU-1: 0.000000\n",
      "BLEU-2: 0.000000\n",
      "BLEU-3: 0.000000\n",
      "BLEU-4: 0.000000\n"
     ]
    }
   ],
   "source": [
    "# load datasets\n",
    "dataset = load_clean_sentences('SVAMP.pkl')\n",
    "train = load_clean_sentences('SVAMPtrain.pkl')\n",
    "test = load_clean_sentences('SVAMPtest.pkl')\n",
    "# prepare mwp tokenizer\n",
    "mwp_tokenizer = create_tokenizer(dataset[:, 0])\n",
    "mwp_vocab_size = len(mwp_tokenizer.word_index) + 1\n",
    "mwp_length = max_length(dataset[:, 0])\n",
    "# prepare eqn tokenizer\n",
    "eqn_tokenizer = create_tokenizer(dataset[:, 1])\n",
    "eqn_vocab_size = len(eqn_tokenizer.word_index) + 1\n",
    "eqn_length = max_length(dataset[:, 1])\n",
    "\n",
    "# prepare data\n",
    "trainX = encode_sequences(eqn_tokenizer, eqn_length, train[:, 1])\n",
    "testX = encode_sequences(eqn_tokenizer, eqn_length, test[:, 1])\n",
    "\n",
    "# load model\n",
    "model = load_model('svampsmodel.h5')\n",
    "# test on some training sequences\n",
    "print('train')\n",
    "evaluate_model(model, mwp_tokenizer, trainX, train)\n",
    "# test on some test sequences\n",
    "print('test')\n",
    "evaluate_model(model, mwp_tokenizer, testX, test)"
   ]
  },
  {
   "cell_type": "code",
   "execution_count": null,
   "id": "70a70685",
   "metadata": {},
   "outputs": [],
   "source": []
  }
 ],
 "metadata": {
  "kernelspec": {
   "display_name": "Python 3 (ipykernel)",
   "language": "python",
   "name": "python3"
  },
  "language_info": {
   "codemirror_mode": {
    "name": "ipython",
    "version": 3
   },
   "file_extension": ".py",
   "mimetype": "text/x-python",
   "name": "python",
   "nbconvert_exporter": "python",
   "pygments_lexer": "ipython3",
   "version": "3.10.6"
  }
 },
 "nbformat": 4,
 "nbformat_minor": 5
}
