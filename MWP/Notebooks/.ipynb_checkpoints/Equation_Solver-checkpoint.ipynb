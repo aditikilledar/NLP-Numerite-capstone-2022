{
 "cells": [
  {
   "cell_type": "code",
   "execution_count": 1,
   "id": "4ccfba6f",
   "metadata": {},
   "outputs": [],
   "source": [
    "def explain(op1, op2, operator):\n",
    "    \"\"\" generates explanation \"\"\"\n",
    "    return"
   ]
  },
  {
   "cell_type": "code",
   "execution_count": 6,
   "id": "6d3f5820",
   "metadata": {},
   "outputs": [],
   "source": [
    "def parse_eqn(eqn):\n",
    "    eqn = eqn.split()\n",
    "    op1 = int(eqn[0])\n",
    "    op2 = int(eqn[2])\n",
    "    if '+' in eqn:\n",
    "        return explain(op1, op2, '+')\n",
    "    elif '-' in eqn:\n",
    "        return explain(op1, op2, '-')\n",
    "    elif '*' in eqn:\n",
    "        return explain(op1, op2, '*')\n",
    "    elif '/' in eqn:\n",
    "        return explain(op1, op2, '/')"
   ]
  },
  {
   "cell_type": "code",
   "execution_count": 9,
   "id": "46b3e2fc",
   "metadata": {},
   "outputs": [
    {
     "data": {
      "text/plain": [
       "13.5"
      ]
     },
     "execution_count": 9,
     "metadata": {},
     "output_type": "execute_result"
    }
   ],
   "source": [
    "parse_eqn('54 / 4')"
   ]
  }
 ],
 "metadata": {
  "kernelspec": {
   "display_name": "Python 3 (ipykernel)",
   "language": "python",
   "name": "python3"
  },
  "language_info": {
   "codemirror_mode": {
    "name": "ipython",
    "version": 3
   },
   "file_extension": ".py",
   "mimetype": "text/x-python",
   "name": "python",
   "nbconvert_exporter": "python",
   "pygments_lexer": "ipython3",
   "version": "3.10.6"
  }
 },
 "nbformat": 4,
 "nbformat_minor": 5
}
