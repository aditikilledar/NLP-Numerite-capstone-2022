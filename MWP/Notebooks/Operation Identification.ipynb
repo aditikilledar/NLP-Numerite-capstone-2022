{
 "cells": [
  {
   "cell_type": "markdown",
   "id": "8cb1f357",
   "metadata": {},
   "source": [
    "# Operation Identification using Deep Learning (Bi-LSTM w/ Softmax)\n",
    "Each record in our dataset, SVAMP.json will be preprocessed.\n",
    "The preprocessed records will be fed to a model which then identifies which one of the four operations is expected of the answer to that question. \n",
    "\n",
    "Since this deals only with elemnetary school level math problems, we assume that the only 4 operations are addition, subtraction, multiplication and division. There is no possibility of getting negative, decimal, fractional or profit loss questions."
   ]
  },
  {
   "cell_type": "markdown",
   "id": "e8b481c8",
   "metadata": {},
   "source": [
    "I think I need a bigger dataset to train the operation identification."
   ]
  },
  {
   "cell_type": "markdown",
   "id": "f0156932",
   "metadata": {},
   "source": [
    "## 1. Pre-Process SVAMP Dataset"
   ]
  },
  {
   "cell_type": "markdown",
   "id": "acc4185a",
   "metadata": {},
   "source": [
    "1.1 Import Statements"
   ]
  },
  {
   "cell_type": "code",
   "execution_count": 36,
   "id": "dd315219",
   "metadata": {},
   "outputs": [
    {
     "name": "stdout",
     "output_type": "stream",
     "text": [
      "Collecting plotly\n",
      "  Downloading plotly-5.10.0-py2.py3-none-any.whl (15.2 MB)\n",
      "     ---------------------------------------- 15.2/15.2 MB 8.6 MB/s eta 0:00:00\n",
      "Collecting tenacity>=6.2.0\n",
      "  Using cached tenacity-8.0.1-py3-none-any.whl (24 kB)\n",
      "Installing collected packages: tenacity, plotly\n",
      "Successfully installed plotly-5.10.0 tenacity-8.0.1\n"
     ]
    }
   ],
   "source": [
    "import pandas as pd\n",
    "from nltk.corpus import stopwords\n",
    "import string\n",
    "import re\n",
    "import nltk\n",
    "import gensim\n",
    "\n",
    "import matplotlib as plt"
   ]
  },
  {
   "cell_type": "code",
   "execution_count": 2,
   "id": "62c88348",
   "metadata": {},
   "outputs": [
    {
     "name": "stderr",
     "output_type": "stream",
     "text": [
      "[nltk_data] Downloading package stopwords to\n",
      "[nltk_data]     C:\\Users\\d3583\\AppData\\Roaming\\nltk_data...\n",
      "[nltk_data]   Package stopwords is already up-to-date!\n"
     ]
    },
    {
     "data": {
      "text/plain": [
       "True"
      ]
     },
     "execution_count": 2,
     "metadata": {},
     "output_type": "execute_result"
    }
   ],
   "source": [
    "nltk.download('stopwords')"
   ]
  },
  {
   "cell_type": "markdown",
   "id": "4d1d9137",
   "metadata": {},
   "source": [
    "1.2 Import JSON dataset into Dataframe"
   ]
  },
  {
   "cell_type": "code",
   "execution_count": 3,
   "id": "bed54e5f",
   "metadata": {},
   "outputs": [],
   "source": [
    "def readJsonToDf(path):\n",
    "    df = pd.read_json(path)\n",
    "    return df"
   ]
  },
  {
   "cell_type": "code",
   "execution_count": 4,
   "id": "f1dc7706",
   "metadata": {},
   "outputs": [
    {
     "name": "stdout",
     "output_type": "stream",
     "text": [
      "['ID', 'Body', 'Question', 'Equation', 'Answer', 'Type']\n"
     ]
    },
    {
     "data": {
      "text/html": [
       "<div>\n",
       "<style scoped>\n",
       "    .dataframe tbody tr th:only-of-type {\n",
       "        vertical-align: middle;\n",
       "    }\n",
       "\n",
       "    .dataframe tbody tr th {\n",
       "        vertical-align: top;\n",
       "    }\n",
       "\n",
       "    .dataframe thead th {\n",
       "        text-align: right;\n",
       "    }\n",
       "</style>\n",
       "<table border=\"1\" class=\"dataframe\">\n",
       "  <thead>\n",
       "    <tr style=\"text-align: right;\">\n",
       "      <th></th>\n",
       "      <th>ID</th>\n",
       "      <th>Body</th>\n",
       "      <th>Question</th>\n",
       "      <th>Equation</th>\n",
       "      <th>Answer</th>\n",
       "      <th>Type</th>\n",
       "    </tr>\n",
       "  </thead>\n",
       "  <tbody>\n",
       "    <tr>\n",
       "      <th>0</th>\n",
       "      <td>chal-1</td>\n",
       "      <td>Each pack of dvds costs 76 dollars. If there i...</td>\n",
       "      <td>How much do you have to pay to buy each pack?</td>\n",
       "      <td>( 76.0 - 25.0 )</td>\n",
       "      <td>51</td>\n",
       "      <td>Subtraction</td>\n",
       "    </tr>\n",
       "    <tr>\n",
       "      <th>1</th>\n",
       "      <td>chal-2</td>\n",
       "      <td>Dan had $ 3 left with him after he bought a ca...</td>\n",
       "      <td>How much did the candy bar cost?</td>\n",
       "      <td>( 4.0 - 3.0 )</td>\n",
       "      <td>1</td>\n",
       "      <td>Subtraction</td>\n",
       "    </tr>\n",
       "    <tr>\n",
       "      <th>2</th>\n",
       "      <td>chal-3</td>\n",
       "      <td>Paco had 26 salty cookies and 17 sweet cookies...</td>\n",
       "      <td>How many salty cookies did Paco have left?</td>\n",
       "      <td>( 26.0 - 9.0 )</td>\n",
       "      <td>17</td>\n",
       "      <td>Subtraction</td>\n",
       "    </tr>\n",
       "    <tr>\n",
       "      <th>3</th>\n",
       "      <td>chal-4</td>\n",
       "      <td>43 children were riding on the bus. At the bus...</td>\n",
       "      <td>How many children got off the bus at the bus s...</td>\n",
       "      <td>( 43.0 - 21.0 )</td>\n",
       "      <td>22</td>\n",
       "      <td>Subtraction</td>\n",
       "    </tr>\n",
       "    <tr>\n",
       "      <th>4</th>\n",
       "      <td>chal-5</td>\n",
       "      <td>28 children were riding on the bus. At the bus...</td>\n",
       "      <td>How many more children got on the bus than tho...</td>\n",
       "      <td>( 30.0 - 28.0 )</td>\n",
       "      <td>2</td>\n",
       "      <td>Subtraction</td>\n",
       "    </tr>\n",
       "  </tbody>\n",
       "</table>\n",
       "</div>"
      ],
      "text/plain": [
       "       ID                                               Body  \\\n",
       "0  chal-1  Each pack of dvds costs 76 dollars. If there i...   \n",
       "1  chal-2  Dan had $ 3 left with him after he bought a ca...   \n",
       "2  chal-3  Paco had 26 salty cookies and 17 sweet cookies...   \n",
       "3  chal-4  43 children were riding on the bus. At the bus...   \n",
       "4  chal-5  28 children were riding on the bus. At the bus...   \n",
       "\n",
       "                                            Question         Equation  Answer  \\\n",
       "0      How much do you have to pay to buy each pack?  ( 76.0 - 25.0 )      51   \n",
       "1                   How much did the candy bar cost?    ( 4.0 - 3.0 )       1   \n",
       "2         How many salty cookies did Paco have left?   ( 26.0 - 9.0 )      17   \n",
       "3  How many children got off the bus at the bus s...  ( 43.0 - 21.0 )      22   \n",
       "4  How many more children got on the bus than tho...  ( 30.0 - 28.0 )       2   \n",
       "\n",
       "          Type  \n",
       "0  Subtraction  \n",
       "1  Subtraction  \n",
       "2  Subtraction  \n",
       "3  Subtraction  \n",
       "4  Subtraction  "
      ]
     },
     "execution_count": 4,
     "metadata": {},
     "output_type": "execute_result"
    }
   ],
   "source": [
    "# dataframe of SVAMP dataset\n",
    "df = readJsonToDf('../Datasets/SVAMP.json')\n",
    "\n",
    "# columns of dataframe\n",
    "print(list(df.columns))\n",
    "df.head()"
   ]
  },
  {
   "cell_type": "code",
   "execution_count": 5,
   "id": "5df37d6d",
   "metadata": {},
   "outputs": [
    {
     "data": {
      "text/plain": [
       "'Dan had $ 3 left with him after he bought a candy bar. If he had $ 4 at the start How much did the candy bar cost?'"
      ]
     },
     "execution_count": 5,
     "metadata": {},
     "output_type": "execute_result"
    }
   ],
   "source": [
    "# Make new column combining body and question.\n",
    "df[\"BQ\"] = df[\"Body\"]+ ' ' + df[\"Question\"]\n",
    "df[\"BQ\"][1]"
   ]
  },
  {
   "cell_type": "markdown",
   "id": "25f7a395",
   "metadata": {},
   "source": [
    "1.3.1 change typo Divison to Division"
   ]
  },
  {
   "cell_type": "code",
   "execution_count": 6,
   "id": "04f25624",
   "metadata": {
    "scrolled": true
   },
   "outputs": [
    {
     "data": {
      "text/plain": [
       "array(['Subtraction', 'Addition', 'Multiplication', 'Division'],\n",
       "      dtype=object)"
      ]
     },
     "execution_count": 6,
     "metadata": {},
     "output_type": "execute_result"
    }
   ],
   "source": [
    "df.loc[ df[\"Type\"] == \"Common-Divison\", \"Type\"] = \"Common-Division\"\n",
    "df.loc[ df[\"Type\"] == \"Common-Division\", \"Type\"] = \"Division\"\n",
    "df.Type.unique()"
   ]
  },
  {
   "cell_type": "code",
   "execution_count": 37,
   "id": "3c615631",
   "metadata": {},
   "outputs": [
    {
     "data": {
      "text/plain": [
       "<AxesSubplot:>"
      ]
     },
     "execution_count": 37,
     "metadata": {},
     "output_type": "execute_result"
    },
    {
     "data": {
      "image/png": "[encoded data removed]",
      "text/plain": [
       "<Figure size 432x288 with 1 Axes>"
      ]
     },
     "metadata": {
      "needs_background": "light"
     },
     "output_type": "display_data"
    }
   ],
   "source": [
    "df.Type.value_counts().sort_values().plot(kind = 'bar')"
   ]
  },
  {
   "cell_type": "markdown",
   "id": "a5d9a21f",
   "metadata": {},
   "source": [
    "#### 1.3.2 Remove Punctuation\n",
    "\n",
    "I am removing all punctuation AND numbers from the body cuz I think it's irrelevent to my task of multi-class text classification.\n",
    "If something's not working, toggle:\n",
    "- the numbers\n",
    "- ~~Stopwords~~"
   ]
  },
  {
   "cell_type": "code",
   "execution_count": 7,
   "id": "cfb13943",
   "metadata": {},
   "outputs": [],
   "source": [
    "REPLACE_BY_SPACE_RE = re.compile('[/(){}\\[\\]\\|@,;]')\n",
    "BAD_SYMBOLS_RE = re.compile('[^0-9a-z #+_]')\n",
    "STOPWORDS = set(stopwords.words('english'))"
   ]
  },
  {
   "cell_type": "code",
   "execution_count": 23,
   "id": "861dd1e7",
   "metadata": {},
   "outputs": [],
   "source": [
    "def clean_text(text):\n",
    "    \"\"\"\n",
    "    text: a string\n",
    "\n",
    "    return: modified initial string\n",
    "    \"\"\"\n",
    "    text = text.lower() # lowercase text\n",
    "    text = REPLACE_BY_SPACE_RE.sub('', text) # replace REPLACE_BY_SPACE_RE symbols by space in text. substitute the matched string in REPLACE_BY_SPACE_RE with space.\n",
    "    text = BAD_SYMBOLS_RE.sub('', text) # remove symbols which are in BAD_SYMBOLS_RE from text. substitute the matched string in BAD_SYMBOLS_RE with nothing. \n",
    "    # text = ' '.join(word for word in text.split() if word not in STOPWORDS) # remove stopwors from text\n",
    "    return text"
   ]
  },
  {
   "cell_type": "code",
   "execution_count": 9,
   "id": "6eb28519",
   "metadata": {},
   "outputs": [],
   "source": [
    "punct_toRemove = '!\"#$%&\\'()*+,-./:;<=>@[\\\\]^_`{|}~'"
   ]
  },
  {
   "cell_type": "code",
   "execution_count": 27,
   "id": "38c31a0b",
   "metadata": {},
   "outputs": [
    {
     "name": "stderr",
     "output_type": "stream",
     "text": [
      "C:\\Users\\d3583\\AppData\\Local\\Temp\\ipykernel_10936\\262170022.py:3: FutureWarning: The default value of regex will change from True to False in a future version.\n",
      "  df['Clean'] = df['Clean'].str.replace('[0-9]+', '')\n"
     ]
    },
    {
     "data": {
      "text/plain": [
       "'dan had left with him after he bought a candy bar if he had at the start how much did the candy bar cost'"
      ]
     },
     "execution_count": 27,
     "metadata": {},
     "output_type": "execute_result"
    }
   ],
   "source": [
    "#storing the puntuation free text\n",
    "df['Clean']= df['BQ'].apply(lambda x:clean_text(x))\n",
    "df['Clean'] = df['Clean'].str.replace('[0-9]+', '')\n",
    "df['Clean'] = df['Clean'].apply(lambda x: \" \".join(x.split()))\n",
    "df['Clean'][1]"
   ]
  },
  {
   "cell_type": "code",
   "execution_count": null,
   "id": "079a79e6",
   "metadata": {},
   "outputs": [],
   "source": [
    "df['BQ'] = "
   ]
  },
  {
   "cell_type": "markdown",
   "id": "2a0a286e",
   "metadata": {},
   "source": [
    "## 2. Build Model\n",
    "4 classes are ['Subtraction', 'Addition', 'Multiplication', 'Division']"
   ]
  },
  {
   "cell_type": "code",
   "execution_count": 11,
   "id": "32286270",
   "metadata": {},
   "outputs": [],
   "source": [
    "from keras.models import Sequential\n",
    "from keras.preprocessing import sequence\n",
    "from keras.layers import Dropout\n",
    "from keras.layers import  Dense, Embedding, LSTM, Bidirectional"
   ]
  },
  {
   "cell_type": "markdown",
   "id": "f742da98",
   "metadata": {},
   "source": [
    "2.1 Define the Classes of the Multi-class Text Classification"
   ]
  },
  {
   "cell_type": "code",
   "execution_count": 28,
   "id": "d6e7a0b6",
   "metadata": {},
   "outputs": [],
   "source": [
    "operations = ['Subtraction', 'Addition', 'Multiplication', 'Division']"
   ]
  },
  {
   "cell_type": "markdown",
   "id": "27f10611",
   "metadata": {},
   "source": [
    "### 2.2 Vectorize our MWP"
   ]
  },
  {
   "cell_type": "markdown",
   "id": "a58a9554",
   "metadata": {},
   "source": [
    "### 2.3 Set Parameters of the Model"
   ]
  },
  {
   "cell_type": "code",
   "execution_count": null,
   "id": "2bc4a176",
   "metadata": {},
   "outputs": [],
   "source": []
  }
 ],
 "metadata": {
  "kernelspec": {
   "display_name": "Python 3 (ipykernel)",
   "language": "python",
   "name": "python3"
  },
  "language_info": {
   "codemirror_mode": {
    "name": "ipython",
    "version": 3
   },
   "file_extension": ".py",
   "mimetype": "text/x-python",
   "name": "python",
   "nbconvert_exporter": "python",
   "pygments_lexer": "ipython3",
   "version": "3.10.6"
  }
 },
 "nbformat": 4,
 "nbformat_minor": 5
}
