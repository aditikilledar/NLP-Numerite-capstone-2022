{
 "cells": [
  {
   "cell_type": "markdown",
   "id": "8cb1f357",
   "metadata": {},
   "source": [
    "# Operation Identification using Deep Learning (Bi-LSTM w/ Softmax)\n",
    "Each record in our dataset, SVAMP.json will be preprocessed.\n",
    "The preprocessed records will be fed to a model which then identifies which one of the four operations is expected of the answer to that question. \n",
    "\n",
    "Since this deals only with elemnetary school level math problems, we assume that the only 4 operations are (ASMD) addition, subtraction, multiplication and division. There is no possibility of getting negative, decimal, fractional or profit loss questions."
   ]
  },
  {
   "cell_type": "markdown",
   "id": "c2b7ebc3",
   "metadata": {},
   "source": [
    "I think I need a bigger dataset to train the operation identification."
   ]
  },
  {
   "cell_type": "markdown",
   "id": "f0156932",
   "metadata": {},
   "source": [
    "## 1. Pre-Process SVAMP Dataset"
   ]
  },
  {
   "cell_type": "markdown",
   "id": "acc4185a",
   "metadata": {},
   "source": [
    "1.1 Import Statements"
   ]
  },
  {
   "cell_type": "code",
   "execution_count": 34,
   "id": "dd315219",
   "metadata": {},
   "outputs": [],
   "source": [
    "import pandas as pd\n",
    "import numpy as np\n",
    "from nltk.corpus import stopwords\n",
    "import string\n",
    "import re\n",
    "import nltk\n",
    "import gensim\n",
    "\n",
    "import matplotlib.pyplot as plt"
   ]
  },
  {
   "cell_type": "code",
   "execution_count": 2,
   "id": "fc00ca6d",
   "metadata": {},
   "outputs": [
    {
     "name": "stderr",
     "output_type": "stream",
     "text": [
      "[nltk_data] Downloading package stopwords to\n",
      "[nltk_data]     C:\\Users\\d3583\\AppData\\Roaming\\nltk_data...\n",
      "[nltk_data]   Package stopwords is already up-to-date!\n"
     ]
    },
    {
     "data": {
      "text/plain": [
       "True"
      ]
     },
     "execution_count": 2,
     "metadata": {},
     "output_type": "execute_result"
    }
   ],
   "source": [
    "nltk.download('stopwords')"
   ]
  },
  {
   "cell_type": "markdown",
   "id": "4d1d9137",
   "metadata": {},
   "source": [
    "1.2 Import JSON dataset into Dataframe"
   ]
  },
  {
   "cell_type": "code",
   "execution_count": 3,
   "id": "bed54e5f",
   "metadata": {},
   "outputs": [],
   "source": [
    "def readJsonToDf(path):\n",
    "    df = pd.read_json(path)\n",
    "    return df"
   ]
  },
  {
   "cell_type": "code",
   "execution_count": 4,
   "id": "f1dc7706",
   "metadata": {},
   "outputs": [
    {
     "name": "stdout",
     "output_type": "stream",
     "text": [
      "['ID', 'Body', 'Question', 'Equation', 'Answer', 'Type']\n"
     ]
    },
    {
     "data": {
      "text/html": [
       "<div>\n",
       "<style scoped>\n",
       "    .dataframe tbody tr th:only-of-type {\n",
       "        vertical-align: middle;\n",
       "    }\n",
       "\n",
       "    .dataframe tbody tr th {\n",
       "        vertical-align: top;\n",
       "    }\n",
       "\n",
       "    .dataframe thead th {\n",
       "        text-align: right;\n",
       "    }\n",
       "</style>\n",
       "<table border=\"1\" class=\"dataframe\">\n",
       "  <thead>\n",
       "    <tr style=\"text-align: right;\">\n",
       "      <th></th>\n",
       "      <th>ID</th>\n",
       "      <th>Body</th>\n",
       "      <th>Question</th>\n",
       "      <th>Equation</th>\n",
       "      <th>Answer</th>\n",
       "      <th>Type</th>\n",
       "    </tr>\n",
       "  </thead>\n",
       "  <tbody>\n",
       "    <tr>\n",
       "      <th>0</th>\n",
       "      <td>chal-1</td>\n",
       "      <td>Each pack of dvds costs 76 dollars. If there i...</td>\n",
       "      <td>How much do you have to pay to buy each pack?</td>\n",
       "      <td>( 76.0 - 25.0 )</td>\n",
       "      <td>51</td>\n",
       "      <td>Subtraction</td>\n",
       "    </tr>\n",
       "    <tr>\n",
       "      <th>1</th>\n",
       "      <td>chal-2</td>\n",
       "      <td>Dan had $ 3 left with him after he bought a ca...</td>\n",
       "      <td>How much did the candy bar cost?</td>\n",
       "      <td>( 4.0 - 3.0 )</td>\n",
       "      <td>1</td>\n",
       "      <td>Subtraction</td>\n",
       "    </tr>\n",
       "    <tr>\n",
       "      <th>2</th>\n",
       "      <td>chal-3</td>\n",
       "      <td>Paco had 26 salty cookies and 17 sweet cookies...</td>\n",
       "      <td>How many salty cookies did Paco have left?</td>\n",
       "      <td>( 26.0 - 9.0 )</td>\n",
       "      <td>17</td>\n",
       "      <td>Subtraction</td>\n",
       "    </tr>\n",
       "    <tr>\n",
       "      <th>3</th>\n",
       "      <td>chal-4</td>\n",
       "      <td>43 children were riding on the bus. At the bus...</td>\n",
       "      <td>How many children got off the bus at the bus s...</td>\n",
       "      <td>( 43.0 - 21.0 )</td>\n",
       "      <td>22</td>\n",
       "      <td>Subtraction</td>\n",
       "    </tr>\n",
       "    <tr>\n",
       "      <th>4</th>\n",
       "      <td>chal-5</td>\n",
       "      <td>28 children were riding on the bus. At the bus...</td>\n",
       "      <td>How many more children got on the bus than tho...</td>\n",
       "      <td>( 30.0 - 28.0 )</td>\n",
       "      <td>2</td>\n",
       "      <td>Subtraction</td>\n",
       "    </tr>\n",
       "  </tbody>\n",
       "</table>\n",
       "</div>"
      ],
      "text/plain": [
       "       ID                                               Body  \\\n",
       "0  chal-1  Each pack of dvds costs 76 dollars. If there i...   \n",
       "1  chal-2  Dan had $ 3 left with him after he bought a ca...   \n",
       "2  chal-3  Paco had 26 salty cookies and 17 sweet cookies...   \n",
       "3  chal-4  43 children were riding on the bus. At the bus...   \n",
       "4  chal-5  28 children were riding on the bus. At the bus...   \n",
       "\n",
       "                                            Question         Equation  Answer  \\\n",
       "0      How much do you have to pay to buy each pack?  ( 76.0 - 25.0 )      51   \n",
       "1                   How much did the candy bar cost?    ( 4.0 - 3.0 )       1   \n",
       "2         How many salty cookies did Paco have left?   ( 26.0 - 9.0 )      17   \n",
       "3  How many children got off the bus at the bus s...  ( 43.0 - 21.0 )      22   \n",
       "4  How many more children got on the bus than tho...  ( 30.0 - 28.0 )       2   \n",
       "\n",
       "          Type  \n",
       "0  Subtraction  \n",
       "1  Subtraction  \n",
       "2  Subtraction  \n",
       "3  Subtraction  \n",
       "4  Subtraction  "
      ]
     },
     "execution_count": 4,
     "metadata": {},
     "output_type": "execute_result"
    }
   ],
   "source": [
    "# dataframe of SVAMP dataset\n",
    "df = readJsonToDf('../Datasets/SVAMP.json')\n",
    "\n",
    "# columns of dataframe\n",
    "print(list(df.columns))\n",
    "df.head()"
   ]
  },
  {
   "cell_type": "code",
   "execution_count": 46,
   "id": "5df37d6d",
   "metadata": {},
   "outputs": [
    {
     "data": {
      "text/plain": [
       "'Each pack of dvds costs 76 dollars. If there is a discount of 25 dollars on each pack How much do you have to pay to buy each pack?'"
      ]
     },
     "execution_count": 46,
     "metadata": {},
     "output_type": "execute_result"
    }
   ],
   "source": [
    "# Make new column combining body and question.\n",
    "df[\"BQ\"] = df[\"Body\"]+ ' ' + df[\"Question\"]\n",
    "df[\"BQ\"][0]"
   ]
  },
  {
   "cell_type": "markdown",
   "id": "25f7a395",
   "metadata": {},
   "source": [
    "1.3.1 change typo Divison to Division"
   ]
  },
  {
   "cell_type": "code",
   "execution_count": 6,
   "id": "04f25624",
   "metadata": {
    "scrolled": true
   },
   "outputs": [
    {
     "data": {
      "text/plain": [
       "array(['Subtraction', 'Addition', 'Multiplication', 'Division'],\n",
       "      dtype=object)"
      ]
     },
     "execution_count": 6,
     "metadata": {},
     "output_type": "execute_result"
    }
   ],
   "source": [
    "df.loc[ df[\"Type\"] == \"Common-Divison\", \"Type\"] = \"Common-Division\"\n",
    "df.loc[ df[\"Type\"] == \"Common-Division\", \"Type\"] = \"Division\"\n",
    "df.Type.unique()"
   ]
  },
  {
   "cell_type": "code",
   "execution_count": 7,
   "id": "dcd9baab",
   "metadata": {},
   "outputs": [
    {
     "data": {
      "text/plain": [
       "<AxesSubplot:>"
      ]
     },
     "execution_count": 7,
     "metadata": {},
     "output_type": "execute_result"
    },
    {
     "data": {
      "image/png": "[encoded data removed]",
      "text/plain": [
       "<Figure size 432x288 with 1 Axes>"
      ]
     },
     "metadata": {
      "needs_background": "light"
     },
     "output_type": "display_data"
    }
   ],
   "source": [
    "df.Type.value_counts().sort_values().plot(kind = 'bar')"
   ]
  },
  {
   "cell_type": "markdown",
   "id": "a5d9a21f",
   "metadata": {},
   "source": [
    "#### 1.3.2 Remove Punctuation\n",
    "\n",
    "I am removing all punctuation AND numbers from the body cuz I think it's irrelevent to my task of multi-class text classification.\n",
    "If something's not working, toggle:\n",
    "- the numbers\n",
    "- ~~Stopwords~~"
   ]
  },
  {
   "cell_type": "code",
   "execution_count": 8,
   "id": "015af03a",
   "metadata": {},
   "outputs": [],
   "source": [
    "REPLACE_BY_SPACE_RE = re.compile('[/(){}\\[\\]\\|@,;]')\n",
    "BAD_SYMBOLS_RE = re.compile('[^0-9a-z #+_]')\n",
    "STOPWORDS = set(stopwords.words('english'))"
   ]
  },
  {
   "cell_type": "code",
   "execution_count": 9,
   "id": "c16b51db",
   "metadata": {},
   "outputs": [],
   "source": [
    "def clean_text(text):\n",
    "    \"\"\"\n",
    "    text: a string\n",
    "\n",
    "    return: modified initial string\n",
    "    \"\"\"\n",
    "    text = text.lower() # lowercase text\n",
    "    text = REPLACE_BY_SPACE_RE.sub('', text) # replace REPLACE_BY_SPACE_RE symbols by space in text. substitute the matched string in REPLACE_BY_SPACE_RE with space.\n",
    "    text = BAD_SYMBOLS_RE.sub('', text) # remove symbols which are in BAD_SYMBOLS_RE from text. substitute the matched string in BAD_SYMBOLS_RE with nothing. \n",
    "    # text = ' '.join(word for word in text.split() if word not in STOPWORDS) # remove stopwors from text\n",
    "    return text"
   ]
  },
  {
   "cell_type": "code",
   "execution_count": 10,
   "id": "6eb28519",
   "metadata": {},
   "outputs": [],
   "source": [
    "punct_toRemove = '!\"#$%&\\'()*+,-./:;<=>@[\\\\]^_`{|}~'"
   ]
  },
  {
   "cell_type": "code",
   "execution_count": 11,
   "id": "38c31a0b",
   "metadata": {},
   "outputs": [
    {
     "name": "stderr",
     "output_type": "stream",
     "text": [
      "C:\\Users\\d3583\\AppData\\Local\\Temp\\ipykernel_1048\\262170022.py:3: FutureWarning: The default value of regex will change from True to False in a future version.\n",
      "  df['Clean'] = df['Clean'].str.replace('[0-9]+', '')\n"
     ]
    },
    {
     "data": {
      "text/plain": [
       "'dan had left with him after he bought a candy bar if he had at the start how much did the candy bar cost'"
      ]
     },
     "execution_count": 11,
     "metadata": {},
     "output_type": "execute_result"
    }
   ],
   "source": [
    "#storing the puntuation free text\n",
    "df['Clean']= df['BQ'].apply(lambda x:clean_text(x))\n",
    "df['Clean'] = df['Clean'].str.replace('[0-9]+', '')\n",
    "df['Clean'] = df['Clean'].apply(lambda x: \" \".join(x.split()))\n",
    "df['Clean'][1]"
   ]
  },
  {
   "cell_type": "code",
   "execution_count": 48,
   "id": "4ee04dcd",
   "metadata": {},
   "outputs": [],
   "source": [
    "df['BQ'] = df['Clean']"
   ]
  },
  {
   "cell_type": "code",
   "execution_count": 49,
   "id": "b46038e7",
   "metadata": {},
   "outputs": [
    {
     "data": {
      "text/plain": [
       "'each pack of dvds costs dollars if there is a discount of dollars on each pack how much do you have to pay to buy each pack'"
      ]
     },
     "execution_count": 49,
     "metadata": {},
     "output_type": "execute_result"
    }
   ],
   "source": [
    "df['BQ'][0]"
   ]
  },
  {
   "cell_type": "markdown",
   "id": "2a0a286e",
   "metadata": {},
   "source": [
    "## 2. Build Model\n",
    "4 classes are ['Subtraction', 'Addition', 'Multiplication', 'Division']"
   ]
  },
  {
   "cell_type": "code",
   "execution_count": 13,
   "id": "512b3023",
   "metadata": {},
   "outputs": [],
   "source": [
    "from keras.models import Sequential\n",
    "from keras.preprocessing import sequence\n",
    "from keras.layers import Dropout\n",
    "from keras.layers import  Dense, Embedding, LSTM, Bidirectional\n",
    "\n",
    "from keras.preprocessing.text import Tokenizer\n",
    "from keras.utils import pad_sequences\n",
    "from keras.models import Sequential\n",
    "from keras.layers import Dense, Embedding, LSTM, SpatialDropout1D\n",
    "from sklearn.model_selection import train_test_split\n",
    "from keras.utils.np_utils import to_categorical\n",
    "from keras.callbacks import EarlyStopping\n",
    "from keras.layers import Dropout\n",
    "import re\n",
    "from bs4 import BeautifulSoup"
   ]
  },
  {
   "cell_type": "markdown",
   "id": "8c142aa9",
   "metadata": {},
   "source": [
    "2.1 Define the Classes of the Multi-class Text Classification"
   ]
  },
  {
   "cell_type": "code",
   "execution_count": 42,
   "id": "94bb1904",
   "metadata": {},
   "outputs": [],
   "source": [
    "# df['Type'].values"
   ]
  },
  {
   "cell_type": "code",
   "execution_count": 51,
   "id": "21e541df",
   "metadata": {},
   "outputs": [],
   "source": [
    "#  in order of # times they appear in svamp\n",
    "operations = ['Subtraction', 'Addition','Division', 'Multiplication']"
   ]
  },
  {
   "cell_type": "markdown",
   "id": "db6deb5d",
   "metadata": {},
   "source": [
    "### 2.2 Vectorize our MWP"
   ]
  },
  {
   "cell_type": "code",
   "execution_count": 16,
   "id": "6de229e3",
   "metadata": {},
   "outputs": [
    {
     "name": "stdout",
     "output_type": "stream",
     "text": [
      "Found 845 unique tokens.\n"
     ]
    }
   ],
   "source": [
    "# The maximum number of words to be used. (most frequent)\n",
    "MAX_NB_WORDS = 800\n",
    "# Max number of words in each complaint.\n",
    "MAX_SEQUENCE_LENGTH = 250\n",
    "# This is fixed.\n",
    "\n",
    "EMBEDDING_DIM = 100\n",
    "tokenizer = Tokenizer(num_words=MAX_NB_WORDS, filters='!\"#$%&()*+,-./:;<=>?@[\\]^_`{|}~', lower=True)\n",
    "tokenizer.fit_on_texts(df['BQ'].values)\n",
    "word_index = tokenizer.word_index\n",
    "print('Found %s unique tokens.' % len(word_index))"
   ]
  },
  {
   "cell_type": "code",
   "execution_count": 17,
   "id": "235e91f1",
   "metadata": {
    "scrolled": true
   },
   "outputs": [
    {
     "name": "stdout",
     "output_type": "stream",
     "text": [
      "Shape of data tensor: (1000, 250)\n"
     ]
    }
   ],
   "source": [
    "# Truncate and pad the input sequences so that they \n",
    "# are all in the same length for modeling.\n",
    "\n",
    "X = tokenizer.texts_to_sequences(df['BQ'].values)\n",
    "X = pad_sequences(X, maxlen=MAX_SEQUENCE_LENGTH)\n",
    "print('Shape of data tensor:', X.shape)"
   ]
  },
  {
   "cell_type": "markdown",
   "id": "639bc2f9",
   "metadata": {},
   "source": [
    "Convert Categorical Labels to Numbers"
   ]
  },
  {
   "cell_type": "code",
   "execution_count": 54,
   "id": "740a6e28",
   "metadata": {
    "scrolled": true
   },
   "outputs": [
    {
     "data": {
      "text/html": [
       "<div>\n",
       "<style scoped>\n",
       "    .dataframe tbody tr th:only-of-type {\n",
       "        vertical-align: middle;\n",
       "    }\n",
       "\n",
       "    .dataframe tbody tr th {\n",
       "        vertical-align: top;\n",
       "    }\n",
       "\n",
       "    .dataframe thead th {\n",
       "        text-align: right;\n",
       "    }\n",
       "</style>\n",
       "<table border=\"1\" class=\"dataframe\">\n",
       "  <thead>\n",
       "    <tr style=\"text-align: right;\">\n",
       "      <th></th>\n",
       "      <th>Addition</th>\n",
       "      <th>Division</th>\n",
       "      <th>Multiplication</th>\n",
       "      <th>Subtraction</th>\n",
       "    </tr>\n",
       "  </thead>\n",
       "  <tbody>\n",
       "    <tr>\n",
       "      <th>0</th>\n",
       "      <td>0</td>\n",
       "      <td>0</td>\n",
       "      <td>0</td>\n",
       "      <td>1</td>\n",
       "    </tr>\n",
       "    <tr>\n",
       "      <th>1</th>\n",
       "      <td>1</td>\n",
       "      <td>0</td>\n",
       "      <td>0</td>\n",
       "      <td>0</td>\n",
       "    </tr>\n",
       "    <tr>\n",
       "      <th>2</th>\n",
       "      <td>0</td>\n",
       "      <td>1</td>\n",
       "      <td>0</td>\n",
       "      <td>0</td>\n",
       "    </tr>\n",
       "    <tr>\n",
       "      <th>3</th>\n",
       "      <td>0</td>\n",
       "      <td>0</td>\n",
       "      <td>1</td>\n",
       "      <td>0</td>\n",
       "    </tr>\n",
       "  </tbody>\n",
       "</table>\n",
       "</div>"
      ],
      "text/plain": [
       "   Addition  Division  Multiplication  Subtraction\n",
       "0         0         0               0            1\n",
       "1         1         0               0            0\n",
       "2         0         1               0            0\n",
       "3         0         0               1            0"
      ]
     },
     "execution_count": 54,
     "metadata": {},
     "output_type": "execute_result"
    }
   ],
   "source": [
    "pd.get_dummies(operations)"
   ]
  },
  {
   "cell_type": "code",
   "execution_count": 55,
   "id": "5d2ebac0",
   "metadata": {},
   "outputs": [
    {
     "data": {
      "text/html": [
       "<div>\n",
       "<style scoped>\n",
       "    .dataframe tbody tr th:only-of-type {\n",
       "        vertical-align: middle;\n",
       "    }\n",
       "\n",
       "    .dataframe tbody tr th {\n",
       "        vertical-align: top;\n",
       "    }\n",
       "\n",
       "    .dataframe thead th {\n",
       "        text-align: right;\n",
       "    }\n",
       "</style>\n",
       "<table border=\"1\" class=\"dataframe\">\n",
       "  <thead>\n",
       "    <tr style=\"text-align: right;\">\n",
       "      <th></th>\n",
       "      <th>Addition</th>\n",
       "      <th>Division</th>\n",
       "      <th>Multiplication</th>\n",
       "      <th>Subtraction</th>\n",
       "    </tr>\n",
       "  </thead>\n",
       "  <tbody>\n",
       "    <tr>\n",
       "      <th>0</th>\n",
       "      <td>0</td>\n",
       "      <td>0</td>\n",
       "      <td>0</td>\n",
       "      <td>1</td>\n",
       "    </tr>\n",
       "    <tr>\n",
       "      <th>1</th>\n",
       "      <td>1</td>\n",
       "      <td>0</td>\n",
       "      <td>0</td>\n",
       "      <td>0</td>\n",
       "    </tr>\n",
       "    <tr>\n",
       "      <th>2</th>\n",
       "      <td>0</td>\n",
       "      <td>0</td>\n",
       "      <td>1</td>\n",
       "      <td>0</td>\n",
       "    </tr>\n",
       "    <tr>\n",
       "      <th>3</th>\n",
       "      <td>0</td>\n",
       "      <td>1</td>\n",
       "      <td>0</td>\n",
       "      <td>0</td>\n",
       "    </tr>\n",
       "  </tbody>\n",
       "</table>\n",
       "</div>"
      ],
      "text/plain": [
       "   Addition  Division  Multiplication  Subtraction\n",
       "0         0         0               0            1\n",
       "1         1         0               0            0\n",
       "2         0         0               1            0\n",
       "3         0         1               0            0"
      ]
     },
     "execution_count": 55,
     "metadata": {},
     "output_type": "execute_result"
    }
   ],
   "source": [
    "c = ['Subtraction', 'Addition', 'Multiplication', 'Division']\n",
    "pd.get_dummies(c)"
   ]
  },
  {
   "cell_type": "markdown",
   "id": "603e5a38",
   "metadata": {},
   "source": [
    "Looks like get_dummies doesn't same OHE to category always. ORDER MATTERS."
   ]
  },
  {
   "cell_type": "code",
   "execution_count": 56,
   "id": "9a4bd616",
   "metadata": {},
   "outputs": [
    {
     "name": "stdout",
     "output_type": "stream",
     "text": [
      "     Addition  Division  Multiplication  Subtraction\n",
      "0           0         0               0            1\n",
      "1           0         0               0            1\n",
      "2           0         0               0            1\n",
      "3           0         0               0            1\n",
      "4           0         0               0            1\n",
      "..        ...       ...             ...          ...\n",
      "995         0         1               0            0\n",
      "996         0         0               0            1\n",
      "997         0         0               1            0\n",
      "998         0         0               0            1\n",
      "999         0         0               0            1\n",
      "\n",
      "[1000 rows x 4 columns]\n"
     ]
    }
   ],
   "source": [
    "print(pd.get_dummies(df['Type']))"
   ]
  },
  {
   "cell_type": "code",
   "execution_count": null,
   "id": "2db96f1a",
   "metadata": {},
   "outputs": [],
   "source": [
    "['Subtraction', ]"
   ]
  },
  {
   "cell_type": "code",
   "execution_count": 52,
   "id": "63531670",
   "metadata": {},
   "outputs": [
    {
     "name": "stdout",
     "output_type": "stream",
     "text": [
      "Shape of label tensor: (1000, 4)\n"
     ]
    },
    {
     "data": {
      "text/plain": [
       "array([[0, 0, 0, 1],\n",
       "       [0, 0, 0, 1],\n",
       "       [0, 0, 0, 1],\n",
       "       ...,\n",
       "       [0, 0, 1, 0],\n",
       "       [0, 0, 0, 1],\n",
       "       [0, 0, 0, 1]], dtype=uint8)"
      ]
     },
     "execution_count": 52,
     "metadata": {},
     "output_type": "execute_result"
    }
   ],
   "source": [
    "Y = pd.get_dummies(df['Type']).values\n",
    "print('Shape of label tensor:', Y.shape)\n",
    "Y"
   ]
  },
  {
   "cell_type": "markdown",
   "id": "fa937834",
   "metadata": {},
   "source": [
    "### 2.3 Train-Test Split"
   ]
  },
  {
   "cell_type": "code",
   "execution_count": 19,
   "id": "0560b588",
   "metadata": {},
   "outputs": [
    {
     "name": "stdout",
     "output_type": "stream",
     "text": [
      "(900, 250) (900, 4)\n",
      "(100, 250) (100, 4)\n"
     ]
    }
   ],
   "source": [
    "X_train, X_test, Y_train, Y_test = train_test_split(X,Y, test_size = 0.10, random_state = 42)\n",
    "print(X_train.shape,Y_train.shape)\n",
    "print(X_test.shape,Y_test.shape)"
   ]
  },
  {
   "cell_type": "markdown",
   "id": "270fac15",
   "metadata": {},
   "source": [
    "### 2.4 Model\n",
    "\n",
    "The first layer is the embedded layer that uses 100 length vectors to represent each word.\n",
    "SpatialDropout1D performs variational dropout in NLP models.\n",
    "The next layer is the LSTM layer with 100 memory units.\n",
    "The output layer must create 4 output values, one for each class.\n",
    "Activation function is softmax for multi-class classification.\n",
    "Because it is a multi-class classification problem, categorical_crossentropy is used as the loss function."
   ]
  },
  {
   "cell_type": "code",
   "execution_count": 23,
   "id": "be0b6cc8",
   "metadata": {},
   "outputs": [],
   "source": [
    "model = Sequential()\n",
    "model.add(Embedding(MAX_NB_WORDS, EMBEDDING_DIM, input_length=X.shape[1]))\n",
    "model.add(SpatialDropout1D(0.2))\n",
    "model.add(LSTM(100, dropout=0.2, recurrent_dropout=0.2))\n",
    "model.add(Dense(4, activation='softmax'))\n",
    "model.compile(loss='categorical_crossentropy', optimizer='adam', metrics=['accuracy'])"
   ]
  },
  {
   "cell_type": "code",
   "execution_count": 25,
   "id": "a1bb0890",
   "metadata": {
    "scrolled": true
   },
   "outputs": [
    {
     "name": "stdout",
     "output_type": "stream",
     "text": [
      "Epoch 1/5\n",
      "13/13 [==============================] - 9s 485ms/step - loss: 1.3136 - accuracy: 0.5099 - val_loss: 1.1787 - val_accuracy: 0.5222\n",
      "Epoch 2/5\n",
      "13/13 [==============================] - 6s 469ms/step - loss: 1.1368 - accuracy: 0.5346 - val_loss: 1.1089 - val_accuracy: 0.5222\n",
      "Epoch 3/5\n",
      "13/13 [==============================] - 6s 487ms/step - loss: 0.9752 - accuracy: 0.5481 - val_loss: 0.8967 - val_accuracy: 0.6000\n",
      "Epoch 4/5\n",
      "13/13 [==============================] - 7s 574ms/step - loss: 0.7634 - accuracy: 0.6963 - val_loss: 0.7386 - val_accuracy: 0.6889\n",
      "Epoch 5/5\n",
      "13/13 [==============================] - 8s 605ms/step - loss: 0.7176 - accuracy: 0.7235 - val_loss: 0.6653 - val_accuracy: 0.6889\n"
     ]
    }
   ],
   "source": [
    "epochs = 5\n",
    "batch_size = 64\n",
    "\n",
    "history = model.fit(X_train, Y_train, epochs=epochs, batch_size=batch_size,validation_split=0.1,callbacks=[EarlyStopping(monitor='val_loss', patience=3, min_delta=0.0001)])"
   ]
  },
  {
   "cell_type": "markdown",
   "id": "434b2c70",
   "metadata": {},
   "source": [
    "## 3. Evaluate Results\n",
    "\n",
    "https://towardsdatascience.com/useful-plots-to-diagnose-your-neural-network-521907fa2f45"
   ]
  },
  {
   "cell_type": "markdown",
   "id": "980b6558",
   "metadata": {},
   "source": [
    "### 3.1 Accuracy on Test Data"
   ]
  },
  {
   "cell_type": "code",
   "execution_count": 26,
   "id": "a10130f8",
   "metadata": {
    "scrolled": true
   },
   "outputs": [
    {
     "name": "stdout",
     "output_type": "stream",
     "text": [
      "4/4 [==============================] - 0s 39ms/step - loss: 0.6764 - accuracy: 0.7100\n",
      "Test set\n",
      "  Loss: 0.676\n",
      "  Accuracy: 0.710\n"
     ]
    }
   ],
   "source": [
    "accuracy = model.evaluate(X_test,Y_test)\n",
    "print('Test set\\n  Loss: {:0.3f}\\n  Accuracy: {:0.3f}'.format(accuracy[0],accuracy[1]))"
   ]
  },
  {
   "cell_type": "markdown",
   "id": "1a77f8da",
   "metadata": {},
   "source": [
    "### 3.2 Plots for Diagnosis"
   ]
  },
  {
   "cell_type": "code",
   "execution_count": 29,
   "id": "9d343e59",
   "metadata": {
    "scrolled": true
   },
   "outputs": [
    {
     "data": {
      "image/png": "[encoded data removed]",
      "text/plain": [
       "<Figure size 432x288 with 1 Axes>"
      ]
     },
     "metadata": {
      "needs_background": "light"
     },
     "output_type": "display_data"
    }
   ],
   "source": [
    "plt.title('Loss')\n",
    "plt.plot(history.history['loss'], label='train')\n",
    "plt.plot(history.history['val_loss'], label='test')\n",
    "plt.legend()\n",
    "plt.show();"
   ]
  },
  {
   "cell_type": "code",
   "execution_count": 32,
   "id": "8cb5e3c3",
   "metadata": {
    "scrolled": true
   },
   "outputs": [
    {
     "data": {
      "image/png": "[encoded data removed]",
      "text/plain": [
       "<Figure size 432x288 with 1 Axes>"
      ]
     },
     "metadata": {
      "needs_background": "light"
     },
     "output_type": "display_data"
    }
   ],
   "source": [
    "plt.title('Accuracy')\n",
    "plt.plot(history.history['accuracy'], label='train')\n",
    "plt.plot(history.history['val_accuracy'], label='test')\n",
    "plt.legend()\n",
    "plt.show();"
   ]
  },
  {
   "cell_type": "markdown",
   "id": "a20d14f5",
   "metadata": {},
   "source": [
    "### 3.3 Test on Custom Data"
   ]
  },
  {
   "cell_type": "code",
   "execution_count": 35,
   "id": "befacae7",
   "metadata": {},
   "outputs": [
    {
     "name": "stdout",
     "output_type": "stream",
     "text": [
      "1/1 [==============================] - 0s 39ms/step\n",
      "[[0.28272846 0.11830186 0.08915944 0.5098102 ]] Division\n"
     ]
    }
   ],
   "source": [
    "new_mwp = ['Aditi had 4 apples. She gave 2 of the apples to Sam. How many apples does she have?']\n",
    "\n",
    "seq = tokenizer.texts_to_sequences(new_mwp)\n",
    "padded = pad_sequences(seq, maxlen=MAX_SEQUENCE_LENGTH)\n",
    "\n",
    "pred = model.predict(padded)\n",
    "\n",
    "print(pred, operations[np.argmax(pred)])"
   ]
  },
  {
   "cell_type": "markdown",
   "id": "c6865fd2",
   "metadata": {},
   "source": [
    "yuck, my model is biased toward division"
   ]
  },
  {
   "cell_type": "code",
   "execution_count": 50,
   "id": "a09a349f",
   "metadata": {},
   "outputs": [
    {
     "name": "stdout",
     "output_type": "stream",
     "text": [
      "1/1 [==============================] - 0s 40ms/step\n",
      "[[0.19514577 0.34984306 0.21473494 0.24027628]] Subtraction\n"
     ]
    }
   ],
   "source": [
    "new_mwp = ['each pack of dvds costs dollars if there is a discount of dollars on each pack how much do you have to pay to buy each pack']\n",
    "\n",
    "seq = tokenizer.texts_to_sequences(new_mwp)\n",
    "padded = pad_sequences(seq, maxlen=MAX_SEQUENCE_LENGTH)\n",
    "\n",
    "pred = model.predict(padded)\n",
    "\n",
    "print(pred, operations[np.argmax(pred)])"
   ]
  }
 ],
 "metadata": {
  "kernelspec": {
   "display_name": "Python 3 (ipykernel)",
   "language": "python",
   "name": "python3"
  },
  "language_info": {
   "codemirror_mode": {
    "name": "ipython",
    "version": 3
   },
   "file_extension": ".py",
   "mimetype": "text/x-python",
   "name": "python",
   "nbconvert_exporter": "python",
   "pygments_lexer": "ipython3",
   "version": "3.10.6"
  }
 },
 "nbformat": 4,
 "nbformat_minor": 5
}
