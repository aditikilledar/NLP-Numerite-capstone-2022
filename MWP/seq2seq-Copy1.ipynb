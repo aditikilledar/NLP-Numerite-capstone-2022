{
 "cells": [
  {
   "cell_type": "code",
   "execution_count": 2,
   "metadata": {},
   "outputs": [
    {
     "name": "stderr",
     "output_type": "stream",
     "text": [
      "Using TensorFlow backend.\n",
      "C:\\Users\\Naveeta\\Anaconda3\\lib\\site-packages\\tensorflow\\python\\framework\\dtypes.py:526: FutureWarning: Passing (type, 1) or '1type' as a synonym of type is deprecated; in a future version of numpy, it will be understood as (type, (1,)) / '(1,)type'.\n",
      "  _np_qint8 = np.dtype([(\"qint8\", np.int8, 1)])\n",
      "C:\\Users\\Naveeta\\Anaconda3\\lib\\site-packages\\tensorflow\\python\\framework\\dtypes.py:527: FutureWarning: Passing (type, 1) or '1type' as a synonym of type is deprecated; in a future version of numpy, it will be understood as (type, (1,)) / '(1,)type'.\n",
      "  _np_quint8 = np.dtype([(\"quint8\", np.uint8, 1)])\n",
      "C:\\Users\\Naveeta\\Anaconda3\\lib\\site-packages\\tensorflow\\python\\framework\\dtypes.py:528: FutureWarning: Passing (type, 1) or '1type' as a synonym of type is deprecated; in a future version of numpy, it will be understood as (type, (1,)) / '(1,)type'.\n",
      "  _np_qint16 = np.dtype([(\"qint16\", np.int16, 1)])\n",
      "C:\\Users\\Naveeta\\Anaconda3\\lib\\site-packages\\tensorflow\\python\\framework\\dtypes.py:529: FutureWarning: Passing (type, 1) or '1type' as a synonym of type is deprecated; in a future version of numpy, it will be understood as (type, (1,)) / '(1,)type'.\n",
      "  _np_quint16 = np.dtype([(\"quint16\", np.uint16, 1)])\n",
      "C:\\Users\\Naveeta\\Anaconda3\\lib\\site-packages\\tensorflow\\python\\framework\\dtypes.py:530: FutureWarning: Passing (type, 1) or '1type' as a synonym of type is deprecated; in a future version of numpy, it will be understood as (type, (1,)) / '(1,)type'.\n",
      "  _np_qint32 = np.dtype([(\"qint32\", np.int32, 1)])\n",
      "C:\\Users\\Naveeta\\Anaconda3\\lib\\site-packages\\tensorflow\\python\\framework\\dtypes.py:535: FutureWarning: Passing (type, 1) or '1type' as a synonym of type is deprecated; in a future version of numpy, it will be understood as (type, (1,)) / '(1,)type'.\n",
      "  np_resource = np.dtype([(\"resource\", np.ubyte, 1)])\n"
     ]
    }
   ],
   "source": [
    "import pandas as pd\n",
    "import json\n",
    "from keras.preprocessing.text import text_to_word_sequence\n",
    "import random\n",
    "import re"
   ]
  },
  {
   "cell_type": "code",
   "execution_count": 3,
   "metadata": {},
   "outputs": [],
   "source": [
    "with open('SVAMP.json', 'r') as data_file:\n",
    "    json_data = data_file.read()"
   ]
  },
  {
   "cell_type": "code",
   "execution_count": 4,
   "metadata": {},
   "outputs": [],
   "source": [
    "train_df = pd.read_json(json_data, orient='records')"
   ]
  },
  {
   "cell_type": "code",
   "execution_count": 5,
   "metadata": {},
   "outputs": [
    {
     "data": {
      "text/html": [
       "<div>\n",
       "<style scoped>\n",
       "    .dataframe tbody tr th:only-of-type {\n",
       "        vertical-align: middle;\n",
       "    }\n",
       "\n",
       "    .dataframe tbody tr th {\n",
       "        vertical-align: top;\n",
       "    }\n",
       "\n",
       "    .dataframe thead th {\n",
       "        text-align: right;\n",
       "    }\n",
       "</style>\n",
       "<table border=\"1\" class=\"dataframe\">\n",
       "  <thead>\n",
       "    <tr style=\"text-align: right;\">\n",
       "      <th></th>\n",
       "      <th>ID</th>\n",
       "      <th>Body</th>\n",
       "      <th>Question</th>\n",
       "      <th>Equation</th>\n",
       "      <th>Answer</th>\n",
       "      <th>Type</th>\n",
       "    </tr>\n",
       "  </thead>\n",
       "  <tbody>\n",
       "    <tr>\n",
       "      <th>0</th>\n",
       "      <td>chal-1</td>\n",
       "      <td>Each pack of dvds costs 76 dollars. If there i...</td>\n",
       "      <td>How much do you have to pay to buy each pack?</td>\n",
       "      <td>( 76.0 - 25.0 )</td>\n",
       "      <td>51</td>\n",
       "      <td>Subtraction</td>\n",
       "    </tr>\n",
       "    <tr>\n",
       "      <th>1</th>\n",
       "      <td>chal-2</td>\n",
       "      <td>Dan had $ 3 left with him after he bought a ca...</td>\n",
       "      <td>How much did the candy bar cost?</td>\n",
       "      <td>( 4.0 - 3.0 )</td>\n",
       "      <td>1</td>\n",
       "      <td>Subtraction</td>\n",
       "    </tr>\n",
       "    <tr>\n",
       "      <th>2</th>\n",
       "      <td>chal-3</td>\n",
       "      <td>Paco had 26 salty cookies and 17 sweet cookies...</td>\n",
       "      <td>How many salty cookies did Paco have left?</td>\n",
       "      <td>( 26.0 - 9.0 )</td>\n",
       "      <td>17</td>\n",
       "      <td>Subtraction</td>\n",
       "    </tr>\n",
       "    <tr>\n",
       "      <th>3</th>\n",
       "      <td>chal-4</td>\n",
       "      <td>43 children were riding on the bus. At the bus...</td>\n",
       "      <td>How many children got off the bus at the bus s...</td>\n",
       "      <td>( 43.0 - 21.0 )</td>\n",
       "      <td>22</td>\n",
       "      <td>Subtraction</td>\n",
       "    </tr>\n",
       "    <tr>\n",
       "      <th>4</th>\n",
       "      <td>chal-5</td>\n",
       "      <td>28 children were riding on the bus. At the bus...</td>\n",
       "      <td>How many more children got on the bus than tho...</td>\n",
       "      <td>( 30.0 - 28.0 )</td>\n",
       "      <td>2</td>\n",
       "      <td>Subtraction</td>\n",
       "    </tr>\n",
       "  </tbody>\n",
       "</table>\n",
       "</div>"
      ],
      "text/plain": [
       "       ID                                               Body  \\\n",
       "0  chal-1  Each pack of dvds costs 76 dollars. If there i...   \n",
       "1  chal-2  Dan had $ 3 left with him after he bought a ca...   \n",
       "2  chal-3  Paco had 26 salty cookies and 17 sweet cookies...   \n",
       "3  chal-4  43 children were riding on the bus. At the bus...   \n",
       "4  chal-5  28 children were riding on the bus. At the bus...   \n",
       "\n",
       "                                            Question         Equation  Answer  \\\n",
       "0      How much do you have to pay to buy each pack?  ( 76.0 - 25.0 )      51   \n",
       "1                   How much did the candy bar cost?    ( 4.0 - 3.0 )       1   \n",
       "2         How many salty cookies did Paco have left?   ( 26.0 - 9.0 )      17   \n",
       "3  How many children got off the bus at the bus s...  ( 43.0 - 21.0 )      22   \n",
       "4  How many more children got on the bus than tho...  ( 30.0 - 28.0 )       2   \n",
       "\n",
       "          Type  \n",
       "0  Subtraction  \n",
       "1  Subtraction  \n",
       "2  Subtraction  \n",
       "3  Subtraction  \n",
       "4  Subtraction  "
      ]
     },
     "execution_count": 5,
     "metadata": {},
     "output_type": "execute_result"
    }
   ],
   "source": [
    "train_df.head(5)"
   ]
  },
  {
   "cell_type": "code",
   "execution_count": 6,
   "metadata": {},
   "outputs": [
    {
     "data": {
      "text/plain": [
       "(1000, 6)"
      ]
     },
     "execution_count": 6,
     "metadata": {},
     "output_type": "execute_result"
    }
   ],
   "source": [
    "train_df.shape"
   ]
  },
  {
   "cell_type": "code",
   "execution_count": 7,
   "metadata": {},
   "outputs": [],
   "source": [
    "train_df[\"q\"] = train_df[\"Body\"] +\" \"+train_df[\"Question\"]"
   ]
  },
  {
   "cell_type": "code",
   "execution_count": 8,
   "metadata": {},
   "outputs": [
    {
     "data": {
      "text/plain": [
       "'Each pack of dvds costs 76 dollars. If there is a discount of 25 dollars on each pack How much do you have to pay to buy each pack?'"
      ]
     },
     "execution_count": 8,
     "metadata": {},
     "output_type": "execute_result"
    }
   ],
   "source": [
    "train_df['q'][0]"
   ]
  },
  {
   "cell_type": "code",
   "execution_count": 9,
   "metadata": {},
   "outputs": [],
   "source": [
    "lines = list(train_df.q)\n",
    "lines2 = list(train_df.Equation)"
   ]
  },
  {
   "cell_type": "code",
   "execution_count": 10,
   "metadata": {},
   "outputs": [],
   "source": [
    "pairs = list(zip(lines, lines2))\n",
    "random.shuffle(pairs)"
   ]
  },
  {
   "cell_type": "code",
   "execution_count": 11,
   "metadata": {},
   "outputs": [],
   "source": [
    "import numpy as np\n",
    "input_docs = []\n",
    "target_docs = []\n",
    "input_tokens = set()\n",
    "target_tokens = set()\n",
    "for line in pairs:\n",
    "    input_doc, target_doc = line[0], line[1]\n",
    "  # Appending each input sentence to input_docs\n",
    "    input_docs.append(input_doc)\n",
    "  # Splitting words from punctuation  \n",
    "    target_doc = \" \".join(re.findall(r\"[\\w']+|[^\\s\\w]\", target_doc))\n",
    "  # Redefine target_doc below and append it to target_docs\n",
    "    target_doc = '<START> ' + target_doc + ' <END>'\n",
    "    target_docs.append(target_doc)\n",
    "  # Now we split up each sentence into words and add each unique word to our vocabulary set\n",
    "    for token in re.findall(r\"[\\w']+|[^\\s\\w]\", input_doc):\n",
    "        if token not in input_tokens:\n",
    "            input_tokens.add(token)\n",
    "    for token in target_doc.split():\n",
    "        if token not in target_tokens:\n",
    "            target_tokens.add(token)\n",
    "input_tokens = sorted(list(input_tokens))\n",
    "target_tokens = sorted(list(target_tokens))\n",
    "num_encoder_tokens = len(input_tokens)\n",
    "num_decoder_tokens = len(target_tokens)"
   ]
  },
  {
   "cell_type": "code",
   "execution_count": 12,
   "metadata": {},
   "outputs": [],
   "source": [
    "input_features_dict = dict(\n",
    "    [(token, i) for i, token in enumerate(input_tokens)])\n",
    "target_features_dict = dict(\n",
    "    [(token, i) for i, token in enumerate(target_tokens)])\n",
    "reverse_input_features_dict = dict(\n",
    "    (i, token) for token, i in input_features_dict.items())\n",
    "reverse_target_features_dict = dict(\n",
    "    (i, token) for token, i in target_features_dict.items())"
   ]
  },
  {
   "cell_type": "code",
   "execution_count": 13,
   "metadata": {},
   "outputs": [],
   "source": [
    "#Maximum length of sentences in input and target documents\n",
    "max_encoder_seq_length = max([len(re.findall(r\"[\\w']+|[^\\s\\w]\", input_doc)) for input_doc in input_docs])\n",
    "max_decoder_seq_length = max([len(re.findall(r\"[\\w']+|[^\\s\\w]\", target_doc)) for target_doc in target_docs])\n",
    "encoder_input_data = np.zeros(\n",
    "(len(input_docs), max_encoder_seq_length, num_encoder_tokens), dtype='float32')\n",
    "decoder_input_data = np.zeros(\n",
    "(len(input_docs), max_decoder_seq_length, num_decoder_tokens),\n",
    "dtype='float32')\n",
    "decoder_target_data = np.zeros(\n",
    "(len(input_docs), max_decoder_seq_length, num_decoder_tokens), dtype='float32')\n",
    "for line, (input_doc, target_doc) in enumerate(zip(input_docs, target_docs)):\n",
    "    for timestep, token in enumerate(re.findall(r\"[\\w']+|[^\\s\\w]\", input_doc)):\n",
    "    #Assign 1. for the current line, timestep, & word in encoder_input_data\n",
    "        encoder_input_data[line, timestep, input_features_dict[token]] = 1.\n",
    "    for timestep, token in enumerate(target_doc.split()):\n",
    "        decoder_input_data[line, timestep, target_features_dict[token]] = 1.\n",
    "        if timestep > 0:\n",
    "            decoder_target_data[line, timestep - 1, target_features_dict[token]] = 1."
   ]
  },
  {
   "cell_type": "code",
   "execution_count": 15,
   "metadata": {},
   "outputs": [],
   "source": [
    "from tensorflow import keras\n",
    "from keras.layers import Input, LSTM, Dense\n",
    "from keras.models import Model\n",
    "#Dimensionality\n",
    "dimensionality = 256\n",
    "#The batch size and number of epochs\n",
    "batch_size = 256\n",
    "epochs = 100\n",
    "#Encoder\n",
    "encoder_inputs = Input(shape=(None, num_encoder_tokens))\n",
    "encoder_lstm = LSTM(dimensionality, return_state=True)\n",
    "encoder_outputs, state_hidden, state_cell = encoder_lstm(encoder_inputs)\n",
    "encoder_states = [state_hidden, state_cell]#Decoder\n",
    "decoder_inputs = Input(shape=(None, num_decoder_tokens))\n",
    "decoder_lstm = LSTM(dimensionality, return_sequences=True, return_state=True)\n",
    "decoder_outputs, decoder_state_hidden, decoder_state_cell = decoder_lstm(decoder_inputs, initial_state=encoder_states)\n",
    "decoder_dense = Dense(num_decoder_tokens, activation='softmax')\n",
    "decoder_outputs = decoder_dense(decoder_outputs)"
   ]
  },
  {
   "cell_type": "code",
   "execution_count": 15,
   "metadata": {},
   "outputs": [
    {
     "name": "stdout",
     "output_type": "stream",
     "text": [
      "WARNING:tensorflow:From C:\\Users\\Naveeta\\Anaconda3\\lib\\site-packages\\tensorflow\\python\\ops\\math_ops.py:3066: to_int32 (from tensorflow.python.ops.math_ops) is deprecated and will be removed in a future version.\n",
      "Instructions for updating:\n",
      "Use tf.cast instead.\n",
      "WARNING:tensorflow:From C:\\Users\\Naveeta\\Anaconda3\\lib\\site-packages\\tensorflow\\python\\ops\\math_grad.py:102: div (from tensorflow.python.ops.math_ops) is deprecated and will be removed in a future version.\n",
      "Instructions for updating:\n",
      "Deprecated in favor of operator or tf.math.divide.\n",
      "Train on 800 samples, validate on 200 samples\n",
      "Epoch 1/100\n",
      "800/800 [==============================] - 24s 30ms/step - loss: 3.1855 - accuracy: 0.0653 - val_loss: 3.1420 - val_accuracy: 0.1540\n",
      "Epoch 2/100\n",
      "800/800 [==============================] - 21s 26ms/step - loss: 3.0945 - accuracy: 0.1251 - val_loss: 2.3164 - val_accuracy: 0.1140\n",
      "Epoch 3/100\n",
      "800/800 [==============================] - 21s 26ms/step - loss: 2.0320 - accuracy: 0.1302 - val_loss: 1.6082 - val_accuracy: 0.2000\n",
      "Epoch 4/100\n",
      "800/800 [==============================] - 21s 27ms/step - loss: 1.5331 - accuracy: 0.1690 - val_loss: 1.4094 - val_accuracy: 0.1736\n",
      "Epoch 5/100\n",
      "800/800 [==============================] - 21s 26ms/step - loss: 1.3743 - accuracy: 0.1858 - val_loss: 1.3615 - val_accuracy: 0.2440\n",
      "Epoch 6/100\n",
      "800/800 [==============================] - 21s 26ms/step - loss: 1.3380 - accuracy: 0.2396 - val_loss: 1.3353 - val_accuracy: 0.2269\n",
      "Epoch 7/100\n",
      "800/800 [==============================] - 21s 26ms/step - loss: 1.3012 - accuracy: 0.2432 - val_loss: 1.3079 - val_accuracy: 0.2438\n",
      "Epoch 8/100\n",
      "800/800 [==============================] - 19s 23ms/step - loss: 1.2683 - accuracy: 0.2362 - val_loss: 1.2848 - val_accuracy: 0.2860\n",
      "Epoch 9/100\n",
      "800/800 [==============================] - 18s 23ms/step - loss: 1.2432 - accuracy: 0.2779 - val_loss: 1.2671 - val_accuracy: 0.2850\n",
      "Epoch 10/100\n",
      "800/800 [==============================] - 21s 27ms/step - loss: 1.2215 - accuracy: 0.2879 - val_loss: 1.2464 - val_accuracy: 0.3190\n",
      "Epoch 11/100\n",
      "800/800 [==============================] - 21s 27ms/step - loss: 1.2009 - accuracy: 0.3221 - val_loss: 1.2317 - val_accuracy: 0.2767\n",
      "Epoch 12/100\n",
      "800/800 [==============================] - 21s 26ms/step - loss: 1.1817 - accuracy: 0.2863 - val_loss: 1.2099 - val_accuracy: 0.2979\n",
      "Epoch 13/100\n",
      "800/800 [==============================] - 21s 26ms/step - loss: 1.1610 - accuracy: 0.2965 - val_loss: 1.1921 - val_accuracy: 0.3081\n",
      "Epoch 14/100\n",
      "800/800 [==============================] - 21s 26ms/step - loss: 1.1427 - accuracy: 0.3084 - val_loss: 1.1774 - val_accuracy: 0.3238\n",
      "Epoch 15/100\n",
      "800/800 [==============================] - 21s 26ms/step - loss: 1.1216 - accuracy: 0.3138 - val_loss: 1.1539 - val_accuracy: 0.3190\n",
      "Epoch 16/100\n",
      "800/800 [==============================] - 21s 26ms/step - loss: 1.0993 - accuracy: 0.3029 - val_loss: 1.1373 - val_accuracy: 0.3193\n",
      "Epoch 17/100\n",
      "800/800 [==============================] - 21s 26ms/step - loss: 1.0772 - accuracy: 0.3203 - val_loss: 1.1145 - val_accuracy: 0.3207\n",
      "Epoch 18/100\n",
      "800/800 [==============================] - 21s 26ms/step - loss: 1.0569 - accuracy: 0.3262 - val_loss: 1.1074 - val_accuracy: 0.2948\n",
      "Epoch 19/100\n",
      "800/800 [==============================] - 21s 26ms/step - loss: 1.0412 - accuracy: 0.3116 - val_loss: 1.0786 - val_accuracy: 0.3326\n",
      "Epoch 20/100\n",
      "800/800 [==============================] - 21s 26ms/step - loss: 1.0167 - accuracy: 0.3326 - val_loss: 1.0544 - val_accuracy: 0.3252\n",
      "Epoch 21/100\n",
      "800/800 [==============================] - 22s 27ms/step - loss: 0.9948 - accuracy: 0.3240 - val_loss: 1.0577 - val_accuracy: 0.2979\n",
      "Epoch 22/100\n",
      "800/800 [==============================] - 20s 25ms/step - loss: 0.9758 - accuracy: 0.3289 - val_loss: 1.0110 - val_accuracy: 0.3343\n",
      "Epoch 23/100\n",
      "800/800 [==============================] - 21s 26ms/step - loss: 0.9511 - accuracy: 0.3460 - val_loss: 0.9874 - val_accuracy: 0.3429\n",
      "Epoch 24/100\n",
      "800/800 [==============================] - 21s 26ms/step - loss: 0.9245 - accuracy: 0.3429 - val_loss: 0.9770 - val_accuracy: 0.3652\n",
      "Epoch 25/100\n",
      "800/800 [==============================] - 21s 27ms/step - loss: 0.9054 - accuracy: 0.3623 - val_loss: 0.9466 - val_accuracy: 0.3605\n",
      "Epoch 26/100\n",
      "800/800 [==============================] - 21s 26ms/step - loss: 0.8841 - accuracy: 0.3790 - val_loss: 0.9325 - val_accuracy: 0.3517\n",
      "Epoch 27/100\n",
      "800/800 [==============================] - 20s 25ms/step - loss: 0.8627 - accuracy: 0.3636 - val_loss: 0.9079 - val_accuracy: 0.3805\n",
      "Epoch 28/100\n",
      "800/800 [==============================] - 21s 26ms/step - loss: 0.8351 - accuracy: 0.3815 - val_loss: 0.8889 - val_accuracy: 0.3824\n",
      "Epoch 29/100\n",
      "800/800 [==============================] - 21s 26ms/step - loss: 0.8382 - accuracy: 0.3843 - val_loss: 0.9329 - val_accuracy: 0.3483\n",
      "Epoch 30/100\n",
      "800/800 [==============================] - 21s 26ms/step - loss: 0.8628 - accuracy: 0.3666 - val_loss: 0.9186 - val_accuracy: 0.3864\n",
      "Epoch 31/100\n",
      "800/800 [==============================] - 21s 26ms/step - loss: 0.8784 - accuracy: 0.3678 - val_loss: 1.0401 - val_accuracy: 0.3657\n",
      "Epoch 32/100\n",
      "800/800 [==============================] - 21s 27ms/step - loss: 0.9333 - accuracy: 0.3746 - val_loss: 1.0814 - val_accuracy: 0.3417\n",
      "Epoch 33/100\n",
      "800/800 [==============================] - 20s 25ms/step - loss: 0.9474 - accuracy: 0.3626 - val_loss: 1.0970 - val_accuracy: 0.3540\n",
      "Epoch 34/100\n",
      "800/800 [==============================] - 12s 15ms/step - loss: 1.0087 - accuracy: 0.3582 - val_loss: 1.0784 - val_accuracy: 0.3479\n",
      "Epoch 35/100\n",
      "800/800 [==============================] - 11s 14ms/step - loss: 0.9973 - accuracy: 0.3577 - val_loss: 1.0427 - val_accuracy: 0.3445\n",
      "Epoch 36/100\n",
      "800/800 [==============================] - 12s 14ms/step - loss: 0.9825 - accuracy: 0.3521 - val_loss: 0.9805 - val_accuracy: 0.3593\n",
      "Epoch 37/100\n",
      "800/800 [==============================] - 12s 15ms/step - loss: 0.8673 - accuracy: 0.3648 - val_loss: 0.8896 - val_accuracy: 0.3636\n",
      "Epoch 38/100\n",
      "800/800 [==============================] - 11s 14ms/step - loss: 0.8255 - accuracy: 0.3680 - val_loss: 0.8514 - val_accuracy: 0.3771\n",
      "Epoch 39/100\n",
      "800/800 [==============================] - 11s 14ms/step - loss: 0.7629 - accuracy: 0.3862 - val_loss: 0.8150 - val_accuracy: 0.3864\n",
      "Epoch 40/100\n",
      "800/800 [==============================] - 11s 14ms/step - loss: 0.7020 - accuracy: 0.3953 - val_loss: 0.7616 - val_accuracy: 0.3857\n",
      "Epoch 41/100\n",
      "800/800 [==============================] - 11s 14ms/step - loss: 0.6771 - accuracy: 0.3961 - val_loss: 0.7511 - val_accuracy: 0.3893\n",
      "Epoch 42/100\n",
      "800/800 [==============================] - 12s 15ms/step - loss: 0.6688 - accuracy: 0.3981 - val_loss: 0.7464 - val_accuracy: 0.3898\n",
      "Epoch 43/100\n",
      "800/800 [==============================] - 11s 14ms/step - loss: 0.6630 - accuracy: 0.3987 - val_loss: 0.7427 - val_accuracy: 0.3867\n",
      "Epoch 44/100\n",
      "800/800 [==============================] - 11s 14ms/step - loss: 0.6592 - accuracy: 0.3951 - val_loss: 0.7379 - val_accuracy: 0.3907\n",
      "Epoch 45/100\n",
      "800/800 [==============================] - 11s 14ms/step - loss: 0.6539 - accuracy: 0.3974 - val_loss: 0.7348 - val_accuracy: 0.3960\n",
      "Epoch 46/100\n",
      "800/800 [==============================] - 11s 14ms/step - loss: 0.6487 - accuracy: 0.4003 - val_loss: 0.7318 - val_accuracy: 0.3981\n",
      "Epoch 47/100\n",
      "800/800 [==============================] - 11s 14ms/step - loss: 0.6438 - accuracy: 0.4010 - val_loss: 0.7295 - val_accuracy: 0.3981\n",
      "Epoch 48/100\n",
      "800/800 [==============================] - 11s 14ms/step - loss: 0.6396 - accuracy: 0.4013 - val_loss: 0.7312 - val_accuracy: 0.4005\n",
      "Epoch 49/100\n",
      "800/800 [==============================] - 12s 15ms/step - loss: 0.6382 - accuracy: 0.4013 - val_loss: 0.7255 - val_accuracy: 0.3957\n",
      "Epoch 50/100\n",
      "800/800 [==============================] - 12s 14ms/step - loss: 0.6328 - accuracy: 0.4024 - val_loss: 0.7324 - val_accuracy: 0.3886\n",
      "Epoch 51/100\n",
      "800/800 [==============================] - 11s 14ms/step - loss: 0.6324 - accuracy: 0.4000 - val_loss: 0.7229 - val_accuracy: 0.3960\n",
      "Epoch 52/100\n",
      "800/800 [==============================] - 12s 14ms/step - loss: 0.6305 - accuracy: 0.4000 - val_loss: 0.7254 - val_accuracy: 0.4002\n",
      "Epoch 53/100\n",
      "800/800 [==============================] - 12s 15ms/step - loss: 0.6295 - accuracy: 0.4002 - val_loss: 0.7392 - val_accuracy: 0.3988\n",
      "Epoch 54/100\n",
      "800/800 [==============================] - 12s 15ms/step - loss: 0.6316 - accuracy: 0.4002 - val_loss: 0.7185 - val_accuracy: 0.3971\n",
      "Epoch 55/100\n",
      "800/800 [==============================] - 11s 14ms/step - loss: 0.6220 - accuracy: 0.4045 - val_loss: 0.7167 - val_accuracy: 0.3983\n",
      "Epoch 56/100\n",
      "800/800 [==============================] - 11s 14ms/step - loss: 0.6240 - accuracy: 0.4015 - val_loss: 0.7212 - val_accuracy: 0.3981\n",
      "Epoch 57/100\n",
      "800/800 [==============================] - 11s 14ms/step - loss: 0.6249 - accuracy: 0.4026 - val_loss: 0.7136 - val_accuracy: 0.3936\n",
      "Epoch 58/100\n",
      "800/800 [==============================] - 12s 15ms/step - loss: 0.6201 - accuracy: 0.4016 - val_loss: 0.7115 - val_accuracy: 0.4010\n",
      "Epoch 59/100\n",
      "800/800 [==============================] - 12s 15ms/step - loss: 0.6161 - accuracy: 0.4029 - val_loss: 0.7097 - val_accuracy: 0.4043\n",
      "Epoch 60/100\n",
      "800/800 [==============================] - 12s 15ms/step - loss: 0.6136 - accuracy: 0.4051 - val_loss: 0.7075 - val_accuracy: 0.4057\n",
      "Epoch 61/100\n",
      "800/800 [==============================] - 12s 15ms/step - loss: 0.6111 - accuracy: 0.4058 - val_loss: 0.7077 - val_accuracy: 0.4021\n",
      "Epoch 62/100\n",
      "800/800 [==============================] - 12s 14ms/step - loss: 0.6090 - accuracy: 0.4057 - val_loss: 0.7047 - val_accuracy: 0.4048\n",
      "Epoch 63/100\n",
      "800/800 [==============================] - 11s 14ms/step - loss: 0.6071 - accuracy: 0.4086 - val_loss: 0.7105 - val_accuracy: 0.4040\n",
      "Epoch 64/100\n",
      "800/800 [==============================] - 11s 14ms/step - loss: 0.6069 - accuracy: 0.4070 - val_loss: 0.7089 - val_accuracy: 0.4036\n",
      "Epoch 65/100\n",
      "800/800 [==============================] - 11s 14ms/step - loss: 0.6057 - accuracy: 0.4073 - val_loss: 0.7015 - val_accuracy: 0.4093\n",
      "Epoch 66/100\n",
      "800/800 [==============================] - 11s 14ms/step - loss: 0.6036 - accuracy: 0.4084 - val_loss: 0.7025 - val_accuracy: 0.4071\n",
      "Epoch 67/100\n",
      "800/800 [==============================] - 11s 14ms/step - loss: 0.6008 - accuracy: 0.4090 - val_loss: 0.7024 - val_accuracy: 0.4062\n",
      "Epoch 68/100\n",
      "800/800 [==============================] - 11s 14ms/step - loss: 0.5987 - accuracy: 0.4090 - val_loss: 0.7006 - val_accuracy: 0.4052\n",
      "Epoch 69/100\n",
      "800/800 [==============================] - 11s 14ms/step - loss: 0.5970 - accuracy: 0.4093 - val_loss: 0.6991 - val_accuracy: 0.4062\n",
      "Epoch 70/100\n",
      "800/800 [==============================] - 11s 14ms/step - loss: 0.5952 - accuracy: 0.4092 - val_loss: 0.6983 - val_accuracy: 0.4064\n",
      "Epoch 71/100\n",
      "800/800 [==============================] - 11s 14ms/step - loss: 0.5936 - accuracy: 0.4093 - val_loss: 0.6994 - val_accuracy: 0.4090\n",
      "Epoch 72/100\n",
      "800/800 [==============================] - 11s 14ms/step - loss: 0.5927 - accuracy: 0.4102 - val_loss: 0.6986 - val_accuracy: 0.4107\n",
      "Epoch 73/100\n",
      "800/800 [==============================] - 11s 14ms/step - loss: 0.5915 - accuracy: 0.4104 - val_loss: 0.6983 - val_accuracy: 0.4086\n",
      "Epoch 74/100\n",
      "800/800 [==============================] - 11s 14ms/step - loss: 0.5900 - accuracy: 0.4103 - val_loss: 0.6964 - val_accuracy: 0.4100\n",
      "Epoch 75/100\n",
      "800/800 [==============================] - 11s 14ms/step - loss: 0.5894 - accuracy: 0.4101 - val_loss: 0.6951 - val_accuracy: 0.4102\n",
      "Epoch 76/100\n",
      "800/800 [==============================] - 11s 14ms/step - loss: 0.5876 - accuracy: 0.4103 - val_loss: 0.6948 - val_accuracy: 0.4100\n",
      "Epoch 77/100\n",
      "800/800 [==============================] - 12s 15ms/step - loss: 0.5867 - accuracy: 0.4099 - val_loss: 0.6941 - val_accuracy: 0.4095\n",
      "Epoch 78/100\n",
      "800/800 [==============================] - 11s 14ms/step - loss: 0.5856 - accuracy: 0.4101 - val_loss: 0.6945 - val_accuracy: 0.4107\n",
      "Epoch 79/100\n",
      "800/800 [==============================] - 11s 14ms/step - loss: 0.5843 - accuracy: 0.4104 - val_loss: 0.6940 - val_accuracy: 0.4098\n",
      "Epoch 80/100\n",
      "800/800 [==============================] - 11s 14ms/step - loss: 0.5832 - accuracy: 0.4101 - val_loss: 0.6932 - val_accuracy: 0.4090\n",
      "Epoch 81/100\n",
      "800/800 [==============================] - 11s 14ms/step - loss: 0.5827 - accuracy: 0.4096 - val_loss: 0.6929 - val_accuracy: 0.4081\n",
      "Epoch 82/100\n",
      "800/800 [==============================] - 11s 14ms/step - loss: 0.5818 - accuracy: 0.4096 - val_loss: 0.6922 - val_accuracy: 0.4100\n",
      "Epoch 83/100\n",
      "800/800 [==============================] - 11s 14ms/step - loss: 0.5808 - accuracy: 0.4104 - val_loss: 0.6913 - val_accuracy: 0.4114\n",
      "Epoch 84/100\n",
      "800/800 [==============================] - 12s 15ms/step - loss: 0.5796 - accuracy: 0.4105 - val_loss: 0.6904 - val_accuracy: 0.4114\n",
      "Epoch 85/100\n",
      "800/800 [==============================] - 11s 14ms/step - loss: 0.5787 - accuracy: 0.4106 - val_loss: 0.6898 - val_accuracy: 0.4112\n",
      "Epoch 86/100\n",
      "800/800 [==============================] - 12s 15ms/step - loss: 0.5782 - accuracy: 0.4105 - val_loss: 0.6894 - val_accuracy: 0.4112\n",
      "Epoch 87/100\n",
      "800/800 [==============================] - 11s 14ms/step - loss: 0.5774 - accuracy: 0.4104 - val_loss: 0.6898 - val_accuracy: 0.4112\n",
      "Epoch 88/100\n",
      "800/800 [==============================] - 11s 14ms/step - loss: 0.5767 - accuracy: 0.4111 - val_loss: 0.6899 - val_accuracy: 0.4114\n",
      "Epoch 89/100\n",
      "800/800 [==============================] - 11s 14ms/step - loss: 0.5767 - accuracy: 0.4105 - val_loss: 0.6892 - val_accuracy: 0.4117\n",
      "Epoch 90/100\n",
      "800/800 [==============================] - 11s 14ms/step - loss: 0.5754 - accuracy: 0.4109 - val_loss: 0.6909 - val_accuracy: 0.4112\n",
      "Epoch 91/100\n",
      "800/800 [==============================] - 11s 14ms/step - loss: 0.5752 - accuracy: 0.4115 - val_loss: 0.6918 - val_accuracy: 0.4090\n",
      "Epoch 92/100\n",
      "800/800 [==============================] - 11s 14ms/step - loss: 0.5749 - accuracy: 0.4093 - val_loss: 0.6926 - val_accuracy: 0.4107\n",
      "Epoch 93/100\n",
      "800/800 [==============================] - 11s 14ms/step - loss: 0.5742 - accuracy: 0.4111 - val_loss: 0.6918 - val_accuracy: 0.4079\n",
      "Epoch 94/100\n",
      "800/800 [==============================] - 11s 14ms/step - loss: 0.5730 - accuracy: 0.4104 - val_loss: 0.6897 - val_accuracy: 0.4117\n",
      "Epoch 95/100\n",
      "800/800 [==============================] - 11s 14ms/step - loss: 0.5722 - accuracy: 0.4117 - val_loss: 0.6889 - val_accuracy: 0.4117\n",
      "Epoch 96/100\n",
      "800/800 [==============================] - 11s 14ms/step - loss: 0.5713 - accuracy: 0.4116 - val_loss: 0.6894 - val_accuracy: 0.4112\n",
      "Epoch 97/100\n",
      "800/800 [==============================] - 11s 14ms/step - loss: 0.5708 - accuracy: 0.4095 - val_loss: 0.6892 - val_accuracy: 0.4093\n",
      "Epoch 98/100\n",
      "800/800 [==============================] - 11s 14ms/step - loss: 0.5702 - accuracy: 0.4111 - val_loss: 0.6886 - val_accuracy: 0.4114\n",
      "Epoch 99/100\n",
      "800/800 [==============================] - 11s 14ms/step - loss: 0.5694 - accuracy: 0.4113 - val_loss: 0.6883 - val_accuracy: 0.4121\n",
      "Epoch 100/100\n",
      "800/800 [==============================] - 11s 14ms/step - loss: 0.5686 - accuracy: 0.4120 - val_loss: 0.6893 - val_accuracy: 0.4114\n"
     ]
    },
    {
     "data": {
      "text/plain": [
       "<keras.callbacks.callbacks.History at 0x1ca546ebf08>"
      ]
     },
     "execution_count": 15,
     "metadata": {},
     "output_type": "execute_result"
    }
   ],
   "source": [
    "#Model\n",
    "training_model = Model([encoder_inputs, decoder_inputs], decoder_outputs)\n",
    "#Compiling\n",
    "training_model.compile(optimizer='adam', loss='categorical_crossentropy', metrics=['accuracy'], sample_weight_mode='temporal')\n",
    "#Training\n",
    "training_model.fit([encoder_input_data, decoder_input_data], decoder_target_data, batch_size = batch_size, epochs = epochs, validation_split = 0.2)"
   ]
  },
  {
   "cell_type": "code",
   "execution_count": 16,
   "metadata": {},
   "outputs": [],
   "source": [
    "training_model.save('training_model.h5')"
   ]
  },
  {
   "cell_type": "code",
   "execution_count": 16,
   "metadata": {},
   "outputs": [],
   "source": [
    "from keras.models import load_model\n",
    "training_model = load_model('training_model.h5')\n",
    "encoder_inputs = training_model.input[0]\n",
    "encoder_outputs, state_h_enc, state_c_enc = training_model.layers[2].output\n",
    "encoder_states = [state_h_enc, state_c_enc]\n",
    "encoder_model = Model(encoder_inputs, encoder_states)"
   ]
  },
  {
   "cell_type": "code",
   "execution_count": 17,
   "metadata": {},
   "outputs": [],
   "source": [
    "latent_dim = 256\n",
    "decoder_state_input_hidden = Input(shape=(latent_dim,))\n",
    "decoder_state_input_cell = Input(shape=(latent_dim,))\n",
    "decoder_states_inputs = [decoder_state_input_hidden, decoder_state_input_cell]"
   ]
  },
  {
   "cell_type": "code",
   "execution_count": 18,
   "metadata": {},
   "outputs": [],
   "source": [
    "decoder_outputs, state_hidden, state_cell = decoder_lstm(decoder_inputs, initial_state=decoder_states_inputs)\n",
    "decoder_states = [state_hidden, state_cell]\n",
    "decoder_outputs = decoder_dense(decoder_outputs)"
   ]
  },
  {
   "cell_type": "code",
   "execution_count": 19,
   "metadata": {},
   "outputs": [],
   "source": [
    "decoder_model = Model([decoder_inputs] + decoder_states_inputs, [decoder_outputs] + decoder_states)"
   ]
  },
  {
   "cell_type": "code",
   "execution_count": 20,
   "metadata": {},
   "outputs": [],
   "source": [
    "def decode_response(test_input):\n",
    "    #Getting the output states to pass into the decoder\n",
    "    states_value = encoder_model.predict(test_input)\n",
    "    #Generating empty target sequence of length 1\n",
    "    target_seq = np.zeros((1, 1, num_decoder_tokens))\n",
    "    #Setting the first token of target sequence with the start token\n",
    "    target_seq[0, 0, target_features_dict['<START>']] = 1.\n",
    "    \n",
    "    #A variable to store our response word by word\n",
    "    decoded_sentence = ''\n",
    "    \n",
    "    stop_condition = False\n",
    "    while not stop_condition:\n",
    "      #Predicting output tokens with probabilities and states\n",
    "        output_tokens, hidden_state, cell_state = decoder_model.predict([target_seq] + states_value)\n",
    "      #Choosing the one with highest probability\n",
    "        sampled_token_index = np.argmax(output_tokens[0, -1, :])\n",
    "        sampled_token = reverse_target_features_dict[sampled_token_index]\n",
    "        decoded_sentence += \" \" + sampled_token#Stop if hit max length or found the stop token\n",
    "        if (sampled_token == '<END>' or len(decoded_sentence) > max_decoder_seq_length):\n",
    "            stop_condition = True\n",
    "      #Update the target sequence\n",
    "        target_seq = np.zeros((1, 1, num_decoder_tokens))\n",
    "        target_seq[0, 0, sampled_token_index] = 1.\n",
    "      #Update states\n",
    "        states_value = [hidden_state, cell_state]\n",
    "    return decoded_sentence"
   ]
  },
  {
   "cell_type": "code",
   "execution_count": 21,
   "metadata": {},
   "outputs": [],
   "source": [
    "class Translator:\n",
    "    exit_commands = (\"quit\", \"pause\", \"exit\", \"goodbye\", \"bye\", \"later\", \"stop\")\n",
    "  \n",
    "  #Method to start the translator\n",
    "    def start(self):\n",
    "        user_response = input(\"Give in an English sentence. :) \\n\")\n",
    "        self.translate(user_response)\n",
    "        \n",
    "  \n",
    "  #Method to handle the conversation\n",
    "    def translate(self, reply):\n",
    "        while not self.make_exit(reply):\n",
    "            reply = input(self.generate_response(reply)+\"\\n\")\n",
    "#Method to convert user input into a matrix\n",
    "    def string_to_matrix(self, user_input):\n",
    "        tokens = re.findall(r\"[\\w']+|[^\\s\\w]\", user_input)\n",
    "        user_input_matrix = np.zeros((1, max_encoder_seq_length, num_encoder_tokens),dtype='float32')\n",
    "        for timestep, token in enumerate(tokens):\n",
    "            if token in input_features_dict:\n",
    "                user_input_matrix[0, timestep, input_features_dict[token]] = 1.\n",
    "        return user_input_matrix\n",
    "  \n",
    "  #Method that will create a response using seq2seq model we built\n",
    "    def generate_response(self, user_input):\n",
    "        input_matrix = self.string_to_matrix(user_input)\n",
    "        chatbot_response = decode_response(input_matrix)\n",
    "        #Remove <START> and <END> tokens from chatbot_response\n",
    "        chatbot_response = chatbot_response.replace(\"<START>\",'')\n",
    "        chatbot_response = chatbot_response.replace(\"<END>\",'')\n",
    "        return chatbot_response\n",
    "  \n",
    "  #Method to check for exit commands\n",
    "    def make_exit(self, reply):\n",
    "        for exit_command in self.exit_commands:\n",
    "            if exit_command in reply:\n",
    "                print(\"Ok, have a great day!\")\n",
    "                return True\n",
    "        return False\n",
    "  \n",
    "translator = Translator()"
   ]
  },
  {
   "cell_type": "code",
   "execution_count": 22,
   "metadata": {},
   "outputs": [
    {
     "name": "stdout",
     "output_type": "stream",
     "text": [
      "Give in an English sentence. :) \n",
      "Dan has 5 pencils. He gives 2 to Roy. How many pencils does Dan have left?\n",
      " 180 180 180 180 180 180\n",
      "quit\n",
      "Ok, have a great day!\n"
     ]
    }
   ],
   "source": [
    "translator.start()"
   ]
  },
  {
   "cell_type": "code",
   "execution_count": null,
   "metadata": {},
   "outputs": [],
   "source": []
  }
 ],
 "metadata": {
  "kernelspec": {
   "display_name": "Python 3",
   "language": "python",
   "name": "python3"
  },
  "language_info": {
   "codemirror_mode": {
    "name": "ipython",
    "version": 3
   },
   "file_extension": ".py",
   "mimetype": "text/x-python",
   "name": "python",
   "nbconvert_exporter": "python",
   "pygments_lexer": "ipython3",
   "version": "3.7.4"
  }
 },
 "nbformat": 4,
 "nbformat_minor": 2
}
