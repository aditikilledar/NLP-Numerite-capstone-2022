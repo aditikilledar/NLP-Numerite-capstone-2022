{
  "nbformat": 4,
  "nbformat_minor": 0,
  "metadata": {
    "colab": {
      "name": "Entity.ipynb",
      "provenance": [],
      "collapsed_sections": []
    },
    "kernelspec": {
      "name": "python3",
      "display_name": "Python 3"
    },
    "language_info": {
      "name": "python"
    }
  },
  "cells": [
    {
      "cell_type": "code",
      "execution_count": 1,
      "metadata": {
        "id": "4IQV5FnF3igB"
      },
      "outputs": [],
      "source": [
        "# entity recognition of sentences\n",
        "# need to be able to identify entities like People or Organisations or Objects\n",
        "# need to figure out relationships bw entities\n",
        "\n",
        "import spacy\n",
        "from spacy import displacy\n",
        "NER = spacy.load(\"en_core_web_sm\")\n",
        "\n",
        "import pandas as pd\n",
        "import numpy as np\n"
      ]
    },
    {
      "cell_type": "code",
      "source": [
        "pd.set_option('display.max_columns', None)"
      ],
      "metadata": {
        "id": "eHu1oAGnRGp5"
      },
      "execution_count": 2,
      "outputs": []
    },
    {
      "cell_type": "code",
      "source": [
        "# raw_text = \"There are 67 bird families living near the mountain. If 32 bird families flew away for winter, how many bird families were left near the mountain?\"\n",
        "raw_text = \"If there are 7 bottle caps in a box and Linda puts 7 more bottle caps inside, how many bottle caps are in the box?\"\n",
        "text1 = NER(raw_text)\n",
        "for word in text1.ents:\n",
        "    print(word.text,word.label_)\n"
      ],
      "metadata": {
        "colab": {
          "base_uri": "https://localhost:8080/"
        },
        "id": "Tu8kLWgP_0Aw",
        "outputId": "44286d00-b660-4c13-fecd-835d9da2a352"
      },
      "execution_count": 3,
      "outputs": [
        {
          "output_type": "stream",
          "name": "stdout",
          "text": [
            "7 CARDINAL\n",
            "Linda PERSON\n",
            "7 CARDINAL\n"
          ]
        }
      ]
    },
    {
      "cell_type": "code",
      "source": [
        "# challenge: identifies people correctly, but couldn;t identify with birds or \"the box\""
      ],
      "metadata": {
        "id": "fsmErYGZAASY"
      },
      "execution_count": 4,
      "outputs": []
    },
    {
      "cell_type": "code",
      "source": [
        "raw_text = \"Ram had 3 balloons. Aditi gave him 2 more. How many does he have now?\"\n",
        "text1 = NER(raw_text)\n",
        "for word in text1.ents:\n",
        "    print(word.text,word.label_)\n"
      ],
      "metadata": {
        "colab": {
          "base_uri": "https://localhost:8080/"
        },
        "id": "IANSK49-BvxG",
        "outputId": "22264931-99d5-4c86-b599-49920e48e575"
      },
      "execution_count": 5,
      "outputs": [
        {
          "output_type": "stream",
          "name": "stdout",
          "text": [
            "3 CARDINAL\n",
            "2 CARDINAL\n"
          ]
        }
      ]
    },
    {
      "cell_type": "markdown",
      "source": [
        "Try with Dataset (single Operation)"
      ],
      "metadata": {
        "id": "xGhKG-VsNDCp"
      }
    },
    {
      "cell_type": "code",
      "source": [
        "from google.colab import files\n",
        "uploaded = files.upload()"
      ],
      "metadata": {
        "colab": {
          "resources": {
            "http://localhost:8080/nbextensions/google.colab/files.js": {
              "data": "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",
              "ok": true,
              "headers": [
                [
                  "content-type",
                  "application/javascript"
                ]
              ],
              "status": 200,
              "status_text": ""
            }
          },
          "base_uri": "https://localhost:8080/",
          "height": 73
        },
        "id": "ew01-DNzNGKx",
        "outputId": "b9344b1d-9a7b-4aef-f4ee-03abc12fbc84"
      },
      "execution_count": 6,
      "outputs": [
        {
          "output_type": "display_data",
          "data": {
            "text/html": [
              "\n",
              "     <input type=\"file\" id=\"files-956af5d9-57f2-4f50-96c4-e944aa4feb2b\" name=\"files[]\" multiple disabled\n",
              "        style=\"border:none\" />\n",
              "     <output id=\"result-956af5d9-57f2-4f50-96c4-e944aa4feb2b\">\n",
              "      Upload widget is only available when the cell has been executed in the\n",
              "      current browser session. Please rerun this cell to enable.\n",
              "      </output>\n",
              "      <script src=\"/nbextensions/google.colab/files.js\"></script> "
            ],
            "text/plain": [
              "<IPython.core.display.HTML object>"
            ]
          },
          "metadata": {}
        },
        {
          "output_type": "stream",
          "name": "stdout",
          "text": [
            "Saving singleop.json to singleop (1).json\n"
          ]
        }
      ]
    },
    {
      "cell_type": "code",
      "source": [
        "dset = pd.read_json('/content/singleop.json')\n",
        "print(dset.columns)\n",
        "\n",
        "# make dataframe with just questions\n",
        "dquest = dset['sQuestion'].head(15)\n",
        "# print(dquest)\n",
        "dquest = dquest.to_frame()\n",
        "dquest.rename(columns={'sQuestion': 'questions'}, inplace=True)\n",
        "\n",
        "print(dquest)"
      ],
      "metadata": {
        "colab": {
          "base_uri": "https://localhost:8080/"
        },
        "id": "mOvjSR_uNR8v",
        "outputId": "710be9e8-d40f-460b-a1e1-c40937ad3db5"
      },
      "execution_count": 13,
      "outputs": [
        {
          "output_type": "stream",
          "name": "stdout",
          "text": [
            "Index(['iIndex', 'lAlignments', 'lEquations', 'lSolutions', 'sQuestion'], dtype='object')\n",
            "                                            questions\n",
            "0   If there are 7 bottle caps in a box and Linda ...\n",
            "1   Jose starts with 7 bottle caps. He gets 2 more...\n",
            "2   Bridget has 4 Skittles. Henry has 4 Skittles. ...\n",
            "3   Brenda starts with 7 Skittles. She buys 8 more...\n",
            "4   There are 4 cards. 3 cards more are added. How...\n",
            "5   There are 4 marbles. 7 marbles more are added....\n",
            "6   There are 8 oranges. 8 oranges more are added....\n",
            "7   Carol collects 2 peanuts. Carol's father gives...\n",
            "8   There are 9 cards. 4 cards more are added. How...\n",
            "9   If there are 7 bottle caps in a box and Linda ...\n",
            "10  Bobby collects 2 blocks. Bobby's father gives ...\n",
            "11  Peter starts with 8 erasers. Bridget gives Pet...\n",
            "12  If there are 7 crayons in a box and Gerald put...\n",
            "13  Michelle has 2 crayons. Janet has 2 crayons. I...\n",
            "14  Anna collects 6 blocks. Anna's father gives An...\n"
          ]
        }
      ]
    },
    {
      "cell_type": "code",
      "source": [
        "# function to do NER for a raw_text\n",
        "def ner(raw_text):  \n",
        "  text1 = NER(raw_text)\n",
        "  l = []\n",
        "  for word in text1.ents:\n",
        "      l.append([word.text,word.label_])\n",
        "  return l"
      ],
      "metadata": {
        "id": "8WkQ5i0YN87S"
      },
      "execution_count": 8,
      "outputs": []
    },
    {
      "cell_type": "code",
      "source": [
        "dquest['NER_TAG'] = dquest['questions'].apply(lambda q: ner(q))"
      ],
      "metadata": {
        "id": "4QvxkYUXOrC8"
      },
      "execution_count": 14,
      "outputs": []
    },
    {
      "cell_type": "code",
      "source": [
        "print(dquest)"
      ],
      "metadata": {
        "colab": {
          "base_uri": "https://localhost:8080/"
        },
        "id": "uhuxsKH9QxLA",
        "outputId": "d086a09c-dd63-4145-a42f-b9691138a087"
      },
      "execution_count": 15,
      "outputs": [
        {
          "output_type": "stream",
          "name": "stdout",
          "text": [
            "                                            questions  \\\n",
            "0   If there are 7 bottle caps in a box and Linda ...   \n",
            "1   Jose starts with 7 bottle caps. He gets 2 more...   \n",
            "2   Bridget has 4 Skittles. Henry has 4 Skittles. ...   \n",
            "3   Brenda starts with 7 Skittles. She buys 8 more...   \n",
            "4   There are 4 cards. 3 cards more are added. How...   \n",
            "5   There are 4 marbles. 7 marbles more are added....   \n",
            "6   There are 8 oranges. 8 oranges more are added....   \n",
            "7   Carol collects 2 peanuts. Carol's father gives...   \n",
            "8   There are 9 cards. 4 cards more are added. How...   \n",
            "9   If there are 7 bottle caps in a box and Linda ...   \n",
            "10  Bobby collects 2 blocks. Bobby's father gives ...   \n",
            "11  Peter starts with 8 erasers. Bridget gives Pet...   \n",
            "12  If there are 7 crayons in a box and Gerald put...   \n",
            "13  Michelle has 2 crayons. Janet has 2 crayons. I...   \n",
            "14  Anna collects 6 blocks. Anna's father gives An...   \n",
            "\n",
            "                                              NER_TAG  \n",
            "0     [[7, CARDINAL], [Linda, PERSON], [7, CARDINAL]]  \n",
            "1   [[Jose, PERSON], [7, CARDINAL], [2, CARDINAL],...  \n",
            "2   [[Bridget, ORG], [4, CARDINAL], [Henry, PERSON...  \n",
            "3   [[Brenda, PERSON], [7, CARDINAL], [8, CARDINAL...  \n",
            "4                      [[4, CARDINAL], [3, CARDINAL]]  \n",
            "5         [[4 marbles, MONEY], [7 marbles, QUANTITY]]  \n",
            "6                      [[8, CARDINAL], [8, CARDINAL]]  \n",
            "7   [[2, CARDINAL], [Carol, PERSON], [Carol 5, PRO...  \n",
            "8                      [[9, CARDINAL], [4, CARDINAL]]  \n",
            "9     [[7, CARDINAL], [Linda, PERSON], [7, CARDINAL]]  \n",
            "10  [[Bobby, PERSON], [2, CARDINAL], [Bobby, PERSO...  \n",
            "11  [[Peter, PERSON], [8, CARDINAL], [Bridget, ORG...  \n",
            "12   [[7, CARDINAL], [Gerald, PERSON], [6, CARDINAL]]  \n",
            "13  [[Michelle, ORG], [2, CARDINAL], [Janet, ORG],...  \n",
            "14  [[6, CARDINAL], [Anna, ORG], [Anna 8, PERSON],...  \n"
          ]
        }
      ]
    },
    {
      "cell_type": "code",
      "source": [
        "dquest['NUM_PERSON'] = dquest['NER_TAG'].map(lambda a: len([word[1] for word in a if word[1] == \"PERSON\"]))\n",
        "dquest['NUM_NUMBERS'] = dquest['NER_TAG'].map(lambda a: len([word[1] for word in a if word[1] == \"CARDINAL\"]))\n",
        "dquest['NUM_ORGS'] = dquest['NER_TAG'].map(lambda a: len([word[1] for word in a if word[1] == \"ORG\"]))\n"
      ],
      "metadata": {
        "id": "N5RSH_F7R34R"
      },
      "execution_count": 16,
      "outputs": []
    },
    {
      "cell_type": "code",
      "source": [
        "dquest"
      ],
      "metadata": {
        "colab": {
          "base_uri": "https://localhost:8080/",
          "height": 520
        },
        "id": "u7KDYSwKQypC",
        "outputId": "70b33d06-fd50-44e2-9d55-4805f98778cb"
      },
      "execution_count": 17,
      "outputs": [
        {
          "output_type": "execute_result",
          "data": {
            "text/html": [
              "\n",
              "  <div id=\"df-c95f0608-5d70-4479-a96f-9b88e07a20e7\">\n",
              "    <div class=\"colab-df-container\">\n",
              "      <div>\n",
              "<style scoped>\n",
              "    .dataframe tbody tr th:only-of-type {\n",
              "        vertical-align: middle;\n",
              "    }\n",
              "\n",
              "    .dataframe tbody tr th {\n",
              "        vertical-align: top;\n",
              "    }\n",
              "\n",
              "    .dataframe thead th {\n",
              "        text-align: right;\n",
              "    }\n",
              "</style>\n",
              "<table border=\"1\" class=\"dataframe\">\n",
              "  <thead>\n",
              "    <tr style=\"text-align: right;\">\n",
              "      <th></th>\n",
              "      <th>questions</th>\n",
              "      <th>NER_TAG</th>\n",
              "      <th>NUM_PERSON</th>\n",
              "      <th>NUM_NUMBERS</th>\n",
              "      <th>NUM_ORGS</th>\n",
              "    </tr>\n",
              "  </thead>\n",
              "  <tbody>\n",
              "    <tr>\n",
              "      <th>0</th>\n",
              "      <td>If there are 7 bottle caps in a box and Linda ...</td>\n",
              "      <td>[[7, CARDINAL], [Linda, PERSON], [7, CARDINAL]]</td>\n",
              "      <td>1</td>\n",
              "      <td>2</td>\n",
              "      <td>0</td>\n",
              "    </tr>\n",
              "    <tr>\n",
              "      <th>1</th>\n",
              "      <td>Jose starts with 7 bottle caps. He gets 2 more...</td>\n",
              "      <td>[[Jose, PERSON], [7, CARDINAL], [2, CARDINAL],...</td>\n",
              "      <td>3</td>\n",
              "      <td>2</td>\n",
              "      <td>0</td>\n",
              "    </tr>\n",
              "    <tr>\n",
              "      <th>2</th>\n",
              "      <td>Bridget has 4 Skittles. Henry has 4 Skittles. ...</td>\n",
              "      <td>[[Bridget, ORG], [4, CARDINAL], [Henry, PERSON...</td>\n",
              "      <td>2</td>\n",
              "      <td>2</td>\n",
              "      <td>2</td>\n",
              "    </tr>\n",
              "    <tr>\n",
              "      <th>3</th>\n",
              "      <td>Brenda starts with 7 Skittles. She buys 8 more...</td>\n",
              "      <td>[[Brenda, PERSON], [7, CARDINAL], [8, CARDINAL...</td>\n",
              "      <td>2</td>\n",
              "      <td>2</td>\n",
              "      <td>0</td>\n",
              "    </tr>\n",
              "    <tr>\n",
              "      <th>4</th>\n",
              "      <td>There are 4 cards. 3 cards more are added. How...</td>\n",
              "      <td>[[4, CARDINAL], [3, CARDINAL]]</td>\n",
              "      <td>0</td>\n",
              "      <td>2</td>\n",
              "      <td>0</td>\n",
              "    </tr>\n",
              "    <tr>\n",
              "      <th>5</th>\n",
              "      <td>There are 4 marbles. 7 marbles more are added....</td>\n",
              "      <td>[[4 marbles, MONEY], [7 marbles, QUANTITY]]</td>\n",
              "      <td>0</td>\n",
              "      <td>0</td>\n",
              "      <td>0</td>\n",
              "    </tr>\n",
              "    <tr>\n",
              "      <th>6</th>\n",
              "      <td>There are 8 oranges. 8 oranges more are added....</td>\n",
              "      <td>[[8, CARDINAL], [8, CARDINAL]]</td>\n",
              "      <td>0</td>\n",
              "      <td>2</td>\n",
              "      <td>0</td>\n",
              "    </tr>\n",
              "    <tr>\n",
              "      <th>7</th>\n",
              "      <td>Carol collects 2 peanuts. Carol's father gives...</td>\n",
              "      <td>[[2, CARDINAL], [Carol, PERSON], [Carol 5, PRO...</td>\n",
              "      <td>2</td>\n",
              "      <td>1</td>\n",
              "      <td>0</td>\n",
              "    </tr>\n",
              "    <tr>\n",
              "      <th>8</th>\n",
              "      <td>There are 9 cards. 4 cards more are added. How...</td>\n",
              "      <td>[[9, CARDINAL], [4, CARDINAL]]</td>\n",
              "      <td>0</td>\n",
              "      <td>2</td>\n",
              "      <td>0</td>\n",
              "    </tr>\n",
              "    <tr>\n",
              "      <th>9</th>\n",
              "      <td>If there are 7 bottle caps in a box and Linda ...</td>\n",
              "      <td>[[7, CARDINAL], [Linda, PERSON], [7, CARDINAL]]</td>\n",
              "      <td>1</td>\n",
              "      <td>2</td>\n",
              "      <td>0</td>\n",
              "    </tr>\n",
              "    <tr>\n",
              "      <th>10</th>\n",
              "      <td>Bobby collects 2 blocks. Bobby's father gives ...</td>\n",
              "      <td>[[Bobby, PERSON], [2, CARDINAL], [Bobby, PERSO...</td>\n",
              "      <td>4</td>\n",
              "      <td>1</td>\n",
              "      <td>0</td>\n",
              "    </tr>\n",
              "    <tr>\n",
              "      <th>11</th>\n",
              "      <td>Peter starts with 8 erasers. Bridget gives Pet...</td>\n",
              "      <td>[[Peter, PERSON], [8, CARDINAL], [Bridget, ORG...</td>\n",
              "      <td>3</td>\n",
              "      <td>2</td>\n",
              "      <td>1</td>\n",
              "    </tr>\n",
              "    <tr>\n",
              "      <th>12</th>\n",
              "      <td>If there are 7 crayons in a box and Gerald put...</td>\n",
              "      <td>[[7, CARDINAL], [Gerald, PERSON], [6, CARDINAL]]</td>\n",
              "      <td>1</td>\n",
              "      <td>2</td>\n",
              "      <td>0</td>\n",
              "    </tr>\n",
              "    <tr>\n",
              "      <th>13</th>\n",
              "      <td>Michelle has 2 crayons. Janet has 2 crayons. I...</td>\n",
              "      <td>[[Michelle, ORG], [2, CARDINAL], [Janet, ORG],...</td>\n",
              "      <td>3</td>\n",
              "      <td>2</td>\n",
              "      <td>2</td>\n",
              "    </tr>\n",
              "    <tr>\n",
              "      <th>14</th>\n",
              "      <td>Anna collects 6 blocks. Anna's father gives An...</td>\n",
              "      <td>[[6, CARDINAL], [Anna, ORG], [Anna 8, PERSON],...</td>\n",
              "      <td>2</td>\n",
              "      <td>1</td>\n",
              "      <td>1</td>\n",
              "    </tr>\n",
              "  </tbody>\n",
              "</table>\n",
              "</div>\n",
              "      <button class=\"colab-df-convert\" onclick=\"convertToInteractive('df-c95f0608-5d70-4479-a96f-9b88e07a20e7')\"\n",
              "              title=\"Convert this dataframe to an interactive table.\"\n",
              "              style=\"display:none;\">\n",
              "        \n",
              "  <svg xmlns=\"http://www.w3.org/2000/svg\" height=\"24px\"viewBox=\"0 0 24 24\"\n",
              "       width=\"24px\">\n",
              "    <path d=\"M0 0h24v24H0V0z\" fill=\"none\"/>\n",
              "    <path d=\"M18.56 5.44l.94 2.06.94-2.06 2.06-.94-2.06-.94-.94-2.06-.94 2.06-2.06.94zm-11 1L8.5 8.5l.94-2.06 2.06-.94-2.06-.94L8.5 2.5l-.94 2.06-2.06.94zm10 10l.94 2.06.94-2.06 2.06-.94-2.06-.94-.94-2.06-.94 2.06-2.06.94z\"/><path d=\"M17.41 7.96l-1.37-1.37c-.4-.4-.92-.59-1.43-.59-.52 0-1.04.2-1.43.59L10.3 9.45l-7.72 7.72c-.78.78-.78 2.05 0 2.83L4 21.41c.39.39.9.59 1.41.59.51 0 1.02-.2 1.41-.59l7.78-7.78 2.81-2.81c.8-.78.8-2.07 0-2.86zM5.41 20L4 18.59l7.72-7.72 1.47 1.35L5.41 20z\"/>\n",
              "  </svg>\n",
              "      </button>\n",
              "      \n",
              "  <style>\n",
              "    .colab-df-container {\n",
              "      display:flex;\n",
              "      flex-wrap:wrap;\n",
              "      gap: 12px;\n",
              "    }\n",
              "\n",
              "    .colab-df-convert {\n",
              "      background-color: #E8F0FE;\n",
              "      border: none;\n",
              "      border-radius: 50%;\n",
              "      cursor: pointer;\n",
              "      display: none;\n",
              "      fill: #1967D2;\n",
              "      height: 32px;\n",
              "      padding: 0 0 0 0;\n",
              "      width: 32px;\n",
              "    }\n",
              "\n",
              "    .colab-df-convert:hover {\n",
              "      background-color: #E2EBFA;\n",
              "      box-shadow: 0px 1px 2px rgba(60, 64, 67, 0.3), 0px 1px 3px 1px rgba(60, 64, 67, 0.15);\n",
              "      fill: #174EA6;\n",
              "    }\n",
              "\n",
              "    [theme=dark] .colab-df-convert {\n",
              "      background-color: #3B4455;\n",
              "      fill: #D2E3FC;\n",
              "    }\n",
              "\n",
              "    [theme=dark] .colab-df-convert:hover {\n",
              "      background-color: #434B5C;\n",
              "      box-shadow: 0px 1px 3px 1px rgba(0, 0, 0, 0.15);\n",
              "      filter: drop-shadow(0px 1px 2px rgba(0, 0, 0, 0.3));\n",
              "      fill: #FFFFFF;\n",
              "    }\n",
              "  </style>\n",
              "\n",
              "      <script>\n",
              "        const buttonEl =\n",
              "          document.querySelector('#df-c95f0608-5d70-4479-a96f-9b88e07a20e7 button.colab-df-convert');\n",
              "        buttonEl.style.display =\n",
              "          google.colab.kernel.accessAllowed ? 'block' : 'none';\n",
              "\n",
              "        async function convertToInteractive(key) {\n",
              "          const element = document.querySelector('#df-c95f0608-5d70-4479-a96f-9b88e07a20e7');\n",
              "          const dataTable =\n",
              "            await google.colab.kernel.invokeFunction('convertToInteractive',\n",
              "                                                     [key], {});\n",
              "          if (!dataTable) return;\n",
              "\n",
              "          const docLinkHtml = 'Like what you see? Visit the ' +\n",
              "            '<a target=\"_blank\" href=https://colab.research.google.com/notebooks/data_table.ipynb>data table notebook</a>'\n",
              "            + ' to learn more about interactive tables.';\n",
              "          element.innerHTML = '';\n",
              "          dataTable['output_type'] = 'display_data';\n",
              "          await google.colab.output.renderOutput(dataTable, element);\n",
              "          const docLink = document.createElement('div');\n",
              "          docLink.innerHTML = docLinkHtml;\n",
              "          element.appendChild(docLink);\n",
              "        }\n",
              "      </script>\n",
              "    </div>\n",
              "  </div>\n",
              "  "
            ],
            "text/plain": [
              "                                            questions  \\\n",
              "0   If there are 7 bottle caps in a box and Linda ...   \n",
              "1   Jose starts with 7 bottle caps. He gets 2 more...   \n",
              "2   Bridget has 4 Skittles. Henry has 4 Skittles. ...   \n",
              "3   Brenda starts with 7 Skittles. She buys 8 more...   \n",
              "4   There are 4 cards. 3 cards more are added. How...   \n",
              "5   There are 4 marbles. 7 marbles more are added....   \n",
              "6   There are 8 oranges. 8 oranges more are added....   \n",
              "7   Carol collects 2 peanuts. Carol's father gives...   \n",
              "8   There are 9 cards. 4 cards more are added. How...   \n",
              "9   If there are 7 bottle caps in a box and Linda ...   \n",
              "10  Bobby collects 2 blocks. Bobby's father gives ...   \n",
              "11  Peter starts with 8 erasers. Bridget gives Pet...   \n",
              "12  If there are 7 crayons in a box and Gerald put...   \n",
              "13  Michelle has 2 crayons. Janet has 2 crayons. I...   \n",
              "14  Anna collects 6 blocks. Anna's father gives An...   \n",
              "\n",
              "                                              NER_TAG  NUM_PERSON  \\\n",
              "0     [[7, CARDINAL], [Linda, PERSON], [7, CARDINAL]]           1   \n",
              "1   [[Jose, PERSON], [7, CARDINAL], [2, CARDINAL],...           3   \n",
              "2   [[Bridget, ORG], [4, CARDINAL], [Henry, PERSON...           2   \n",
              "3   [[Brenda, PERSON], [7, CARDINAL], [8, CARDINAL...           2   \n",
              "4                      [[4, CARDINAL], [3, CARDINAL]]           0   \n",
              "5         [[4 marbles, MONEY], [7 marbles, QUANTITY]]           0   \n",
              "6                      [[8, CARDINAL], [8, CARDINAL]]           0   \n",
              "7   [[2, CARDINAL], [Carol, PERSON], [Carol 5, PRO...           2   \n",
              "8                      [[9, CARDINAL], [4, CARDINAL]]           0   \n",
              "9     [[7, CARDINAL], [Linda, PERSON], [7, CARDINAL]]           1   \n",
              "10  [[Bobby, PERSON], [2, CARDINAL], [Bobby, PERSO...           4   \n",
              "11  [[Peter, PERSON], [8, CARDINAL], [Bridget, ORG...           3   \n",
              "12   [[7, CARDINAL], [Gerald, PERSON], [6, CARDINAL]]           1   \n",
              "13  [[Michelle, ORG], [2, CARDINAL], [Janet, ORG],...           3   \n",
              "14  [[6, CARDINAL], [Anna, ORG], [Anna 8, PERSON],...           2   \n",
              "\n",
              "    NUM_NUMBERS  NUM_ORGS  \n",
              "0             2         0  \n",
              "1             2         0  \n",
              "2             2         2  \n",
              "3             2         0  \n",
              "4             2         0  \n",
              "5             0         0  \n",
              "6             2         0  \n",
              "7             1         0  \n",
              "8             2         0  \n",
              "9             2         0  \n",
              "10            1         0  \n",
              "11            2         1  \n",
              "12            2         0  \n",
              "13            2         2  \n",
              "14            1         1  "
            ]
          },
          "metadata": {},
          "execution_count": 17
        }
      ]
    },
    {
      "cell_type": "markdown",
      "source": [
        "# Problem in above things!\n",
        "Need to build model that can identify PEOPLE + OBJECTS\n",
        "\n",
        "NER is mis-classifying people as orgs, and objects as people.\n",
        "\n",
        "HOW TO DO THAT T_T"
      ],
      "metadata": {
        "id": "uGZeBg8WSbNg"
      }
    },
    {
      "cell_type": "code",
      "source": [
        ""
      ],
      "metadata": {
        "id": "Tb--cf6ESddI"
      },
      "execution_count": 12,
      "outputs": []
    }
  ]
}