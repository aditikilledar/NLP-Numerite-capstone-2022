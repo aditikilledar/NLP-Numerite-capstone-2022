{
 "cells": [
  {
   "cell_type": "code",
   "execution_count": 2,
   "id": "4cd8a074",
   "metadata": {},
   "outputs": [
    {
     "data": {
      "text/plain": [
       "'2.9.1'"
      ]
     },
     "execution_count": 2,
     "metadata": {},
     "output_type": "execute_result"
    }
   ],
   "source": [
    "import tensorflow as tf\n",
    "tf.__version__"
   ]
  },
  {
   "cell_type": "markdown",
   "id": "7a2aee31",
   "metadata": {},
   "source": [
    "# 1 Import Dataset"
   ]
  },
  {
   "cell_type": "code",
   "execution_count": 4,
   "id": "cb32c65e",
   "metadata": {},
   "outputs": [],
   "source": [
    "mnist = tf.keras.datasets.mnist\n",
    "# 28x28 images of handwritten numbers"
   ]
  },
  {
   "cell_type": "code",
   "execution_count": 12,
   "id": "cd790761",
   "metadata": {},
   "outputs": [],
   "source": [
    "(x_train, y_train), (x_test, y_test) =  mnist.load_data()\n",
    "\n",
    "# scale the data / matrix numbers\n",
    "x_train = tf.keras.utils.normalize(x_train, axis=1)\n",
    "x_test = tf.keras.utils.normalize(x_test, axis=1)\n",
    "\n"
   ]
  },
  {
   "cell_type": "code",
   "execution_count": 14,
   "id": "45b3033b",
   "metadata": {},
   "outputs": [
    {
     "data": {
      "image/png": "[encoded data removed]",
      "text/plain": [
       "<Figure size 432x288 with 1 Axes>"
      ]
     },
     "metadata": {
      "needs_background": "light"
     },
     "output_type": "display_data"
    }
   ],
   "source": [
    "import matplotlib.pyplot as plt\n",
    "\n",
    "plt.imshow(x_train[0], cmap = plt.cm.binary)\n",
    "plt.show()\n",
    "\n",
    "# print(x_train[0])"
   ]
  },
  {
   "cell_type": "markdown",
   "id": "d13096af",
   "metadata": {},
   "source": [
    "# 2 Build Model\n"
   ]
  },
  {
   "cell_type": "code",
   "execution_count": 19,
   "id": "d21abbfd",
   "metadata": {},
   "outputs": [],
   "source": [
    "# Sequential Model (Feed-Forward)\n",
    "model = tf.keras.models.Sequential()\n",
    "\n",
    "# add layers\n",
    "# 1. input layer\n",
    "model.add(tf.keras.layers.Flatten())\n",
    "\n",
    "# 2. TWO Dense Layers -> ReLU activation\n",
    "model.add(tf.keras.layers.Dense(128, activation=tf.nn.relu))\n",
    "model.add(tf.keras.layers.Dense(128, activation=tf.nn.relu))\n",
    "\n",
    "# 3. Final Layer with 10 outputs, activations is softmax\n",
    "model.add(tf.keras.layers.Dense(10, activation=tf.nn.softmax))"
   ]
  },
  {
   "cell_type": "markdown",
   "id": "de0ef190",
   "metadata": {},
   "source": [
    "# 3 Train and Compile\n",
    "Models usually try to reduce what we got wrong (minimise loss), rather than optimising to accuracy.\n",
    "Optimisers are (Complex!): SGD, Adam"
   ]
  },
  {
   "cell_type": "code",
   "execution_count": 21,
   "id": "a5e416e2",
   "metadata": {},
   "outputs": [],
   "source": [
    "model.compile(optimizer='adam',\n",
    "              loss='sparse_categorical_crossentropy',\n",
    "              metrics=['accuracy'])"
   ]
  },
  {
   "cell_type": "markdown",
   "id": "4bda1eb9",
   "metadata": {},
   "source": [
    "# 4 Train (fit)"
   ]
  },
  {
   "cell_type": "code",
   "execution_count": 22,
   "id": "ece9cd7e",
   "metadata": {},
   "outputs": [
    {
     "name": "stdout",
     "output_type": "stream",
     "text": [
      "Epoch 1/4\n",
      "1875/1875 [==============================] - 4s 2ms/step - loss: 0.2577 - accuracy: 0.9249\n",
      "Epoch 2/4\n",
      "1875/1875 [==============================] - 3s 2ms/step - loss: 0.1060 - accuracy: 0.9677\n",
      "Epoch 3/4\n",
      "1875/1875 [==============================] - 3s 2ms/step - loss: 0.0727 - accuracy: 0.9772\n",
      "Epoch 4/4\n",
      "1875/1875 [==============================] - 3s 2ms/step - loss: 0.0538 - accuracy: 0.9828\n"
     ]
    },
    {
     "data": {
      "text/plain": [
       "<keras.callbacks.History at 0x17074257b80>"
      ]
     },
     "execution_count": 22,
     "metadata": {},
     "output_type": "execute_result"
    }
   ],
   "source": [
    "model.fit(x_train, y_train, epochs=4)"
   ]
  },
  {
   "cell_type": "markdown",
   "id": "784efef2",
   "metadata": {},
   "source": [
    "# 5  Validation \n",
    "Loss and Accuracy validation. To detect overfitting."
   ]
  },
  {
   "cell_type": "code",
   "execution_count": 23,
   "id": "1b96778f",
   "metadata": {},
   "outputs": [
    {
     "name": "stdout",
     "output_type": "stream",
     "text": [
      "313/313 [==============================] - 1s 1ms/step - loss: 0.0995 - accuracy: 0.9702\n"
     ]
    }
   ],
   "source": [
    "val_loss, val_acc = model.evaluate(x_test, y_test)"
   ]
  },
  {
   "cell_type": "markdown",
   "id": "32e7d599",
   "metadata": {},
   "source": [
    "# 6 Predict! :)"
   ]
  },
  {
   "cell_type": "code",
   "execution_count": 24,
   "id": "a329ddd5",
   "metadata": {},
   "outputs": [
    {
     "name": "stdout",
     "output_type": "stream",
     "text": [
      "WARNING:tensorflow:Layers in a Sequential model should only have a single input tensor. Received: inputs=(<tf.Tensor 'IteratorGetNext:0' shape=(None, 28, 28) dtype=float32>,). Consider rewriting this model with the Functional API.\n",
      "313/313 [==============================] - 0s 1ms/step\n"
     ]
    }
   ],
   "source": [
    "predictions = model.predict([x_test])"
   ]
  },
  {
   "cell_type": "code",
   "execution_count": 25,
   "id": "66e8acbd",
   "metadata": {},
   "outputs": [
    {
     "name": "stdout",
     "output_type": "stream",
     "text": [
      "[[7.4102569e-10 7.3722013e-08 1.0166353e-07 ... 9.9996722e-01\n",
      "  6.6812316e-09 1.0927729e-05]\n",
      " [2.0167457e-07 1.7528118e-04 9.9933475e-01 ... 6.5159047e-09\n",
      "  2.6093778e-05 2.6217407e-08]\n",
      " [7.6001008e-08 9.9987006e-01 3.3771687e-06 ... 2.3740615e-05\n",
      "  6.8944821e-05 7.1717932e-07]\n",
      " ...\n",
      " [1.4935067e-09 1.0435684e-06 4.2734952e-10 ... 3.6156398e-05\n",
      "  9.4326026e-07 4.4925098e-04]\n",
      " [3.2713178e-08 6.5555010e-09 1.7718953e-10 ... 1.8532949e-08\n",
      "  1.4475997e-05 1.1563778e-09]\n",
      " [8.6884189e-09 4.5303199e-11 1.1599060e-11 ... 7.2143829e-15\n",
      "  1.0803469e-08 3.0471563e-11]]\n"
     ]
    }
   ],
   "source": [
    "print(predictions)"
   ]
  },
  {
   "cell_type": "code",
   "execution_count": 31,
   "id": "4a1959c9",
   "metadata": {},
   "outputs": [
    {
     "name": "stdout",
     "output_type": "stream",
     "text": [
      "2\n"
     ]
    }
   ],
   "source": [
    "import numpy as np\n",
    "\n",
    "print(np.argmax(predictions[1]))"
   ]
  },
  {
   "cell_type": "code",
   "execution_count": 32,
   "id": "bc66e60f",
   "metadata": {},
   "outputs": [
    {
     "data": {
      "image/png": "[encoded data removed]",
      "text/plain": [
       "<Figure size 432x288 with 1 Axes>"
      ]
     },
     "metadata": {
      "needs_background": "light"
     },
     "output_type": "display_data"
    }
   ],
   "source": [
    "plt.imshow(x_test[1])\n",
    "plt.show()"
   ]
  }
 ],
 "metadata": {
  "kernelspec": {
   "display_name": "Python 3 (ipykernel)",
   "language": "python",
   "name": "python3"
  },
  "language_info": {
   "codemirror_mode": {
    "name": "ipython",
    "version": 3
   },
   "file_extension": ".py",
   "mimetype": "text/x-python",
   "name": "python",
   "nbconvert_exporter": "python",
   "pygments_lexer": "ipython3",
   "version": "3.10.6"
  }
 },
 "nbformat": 4,
 "nbformat_minor": 5
}
